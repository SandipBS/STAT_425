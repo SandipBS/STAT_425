{
 "cells": [
  {
   "cell_type": "markdown",
   "id": "divided-stupid",
   "metadata": {},
   "source": [
    "<b>Problem 1: The aatemp data come from the U.S. Historical Climatological Network. They\n",
    "are the annual mean temperatures (in degrees F) in Ann Arbor Michigan, going back about\n",
    "150 years.\n",
    "    \n",
    "(a) Fit a linear trend model. Is there a significant linear trend? Interpret your results.\n",
    "\n",
    "    \n",
    "(b) Observations in successive years may be correlated. Fit the model that estimates this correlation. Does this change your opinion about the significance of the trend?\n",
    "    \n",
    "    \n",
    "(c) Fit a polynomial model with degree 10 and use backward elimination to reduce the degree of the model. Plot the fitted model on the top of the data. Use this model to predict the temperature in 2001.\n",
    "\n",
    "    \n",
    "(d) Make a cubic spline fit with six basis functions evenly spaced on the data range. Plot the fit in comparison with the previous fit. Does this model fit better than the selected polynomial model?"
   ]
  },
  {
   "cell_type": "code",
   "execution_count": 382,
   "id": "efficient-candidate",
   "metadata": {
    "scrolled": false
   },
   "outputs": [
    {
     "data": {
      "text/html": [
       "<table>\n",
       "<thead><tr><th scope=col>year</th><th scope=col>temp</th></tr></thead>\n",
       "<tbody>\n",
       "\t<tr><td>1854 </td><td>49.15</td></tr>\n",
       "\t<tr><td>1855 </td><td>46.52</td></tr>\n",
       "\t<tr><td>1871 </td><td>48.80</td></tr>\n",
       "</tbody>\n",
       "</table>\n"
      ],
      "text/latex": [
       "\\begin{tabular}{r|ll}\n",
       " year & temp\\\\\n",
       "\\hline\n",
       "\t 1854  & 49.15\\\\\n",
       "\t 1855  & 46.52\\\\\n",
       "\t 1871  & 48.80\\\\\n",
       "\\end{tabular}\n"
      ],
      "text/markdown": [
       "\n",
       "| year | temp |\n",
       "|---|---|\n",
       "| 1854  | 49.15 |\n",
       "| 1855  | 46.52 |\n",
       "| 1871  | 48.80 |\n",
       "\n"
      ],
      "text/plain": [
       "  year temp \n",
       "1 1854 49.15\n",
       "2 1855 46.52\n",
       "3 1871 48.80"
      ]
     },
     "metadata": {},
     "output_type": "display_data"
    }
   ],
   "source": [
    "# install.packages('gridExtra')\n",
    "library('faraway')\n",
    "data(aatemp)\n",
    "library(ggplot2)\n",
    "options(repr.plot.width=12, repr.plot.height=4)\n",
    "head(aatemp, 3)"
   ]
  },
  {
   "cell_type": "markdown",
   "id": "political-individual",
   "metadata": {},
   "source": [
    "<b>(a) Fit a linear trend model. Is there a significant linear trend? Interpret your results."
   ]
  },
  {
   "cell_type": "code",
   "execution_count": 383,
   "id": "cutting-stable",
   "metadata": {},
   "outputs": [],
   "source": [
    "mod = lm(temp ~ year, data = aatemp)\n",
    "pred = predict(mod, aatemp)"
   ]
  },
  {
   "cell_type": "code",
   "execution_count": 384,
   "id": "chinese-snapshot",
   "metadata": {
    "scrolled": false
   },
   "outputs": [
    {
     "data": {
      "image/png": "[encoded data removed]",
      "text/plain": [
       "plot without title"
      ]
     },
     "metadata": {},
     "output_type": "display_data"
    }
   ],
   "source": [
    "ggplot(data = aatemp, aes(x = year, y = temp))+\n",
    "    geom_point()+\n",
    "    theme_update(plot.title = element_text(hjust = 0.5))+\n",
    "    theme_set(theme_bw())+\n",
    "    geom_point(color='red')+\n",
    "    labs(title='Annual Mean Temp', x='year', y = 'temp')+\n",
    "    geom_line(aes(x = year, y = pred), color = 'dodgerblue', size = 1)"
   ]
  },
  {
   "cell_type": "code",
   "execution_count": 385,
   "id": "fleet-thirty",
   "metadata": {
    "scrolled": false
   },
   "outputs": [
    {
     "data": {
      "text/plain": [
       "\n",
       "Call:\n",
       "lm(formula = temp ~ year, data = aatemp)\n",
       "\n",
       "Residuals:\n",
       "    Min      1Q  Median      3Q     Max \n",
       "-3.9843 -0.9113 -0.0820  0.9946  3.5343 \n",
       "\n",
       "Coefficients:\n",
       "             Estimate Std. Error t value Pr(>|t|)   \n",
       "(Intercept) 24.005510   7.310781   3.284  0.00136 **\n",
       "year         0.012237   0.003768   3.247  0.00153 **\n",
       "---\n",
       "Signif. codes:  0 '***' 0.001 '**' 0.01 '*' 0.05 '.' 0.1 ' ' 1\n",
       "\n",
       "Residual standard error: 1.466 on 113 degrees of freedom\n",
       "Multiple R-squared:  0.08536,\tAdjusted R-squared:  0.07727 \n",
       "F-statistic: 10.55 on 1 and 113 DF,  p-value: 0.001533\n"
      ]
     },
     "metadata": {},
     "output_type": "display_data"
    }
   ],
   "source": [
    "summary(mod)"
   ]
  },
  {
   "cell_type": "code",
   "execution_count": 386,
   "id": "accredited-church",
   "metadata": {},
   "outputs": [
    {
     "data": {
      "text/html": [
       "<table>\n",
       "<thead><tr><th></th><th scope=col>2.5 %</th><th scope=col>97.5 %</th></tr></thead>\n",
       "<tbody>\n",
       "\t<tr><th scope=row>(Intercept)</th><td>9.521535277</td><td>38.48948531</td></tr>\n",
       "\t<tr><th scope=row>year</th><td>0.004771599</td><td> 0.01970293</td></tr>\n",
       "</tbody>\n",
       "</table>\n"
      ],
      "text/latex": [
       "\\begin{tabular}{r|ll}\n",
       "  & 2.5 \\% & 97.5 \\%\\\\\n",
       "\\hline\n",
       "\t(Intercept) & 9.521535277 & 38.48948531\\\\\n",
       "\tyear & 0.004771599 &  0.01970293\\\\\n",
       "\\end{tabular}\n"
      ],
      "text/markdown": [
       "\n",
       "| <!--/--> | 2.5 % | 97.5 % |\n",
       "|---|---|---|\n",
       "| (Intercept) | 9.521535277 | 38.48948531 |\n",
       "| year | 0.004771599 |  0.01970293 |\n",
       "\n"
      ],
      "text/plain": [
       "            2.5 %       97.5 %     \n",
       "(Intercept) 9.521535277 38.48948531\n",
       "year        0.004771599  0.01970293"
      ]
     },
     "metadata": {},
     "output_type": "display_data"
    }
   ],
   "source": [
    "confint(mod)"
   ]
  },
  {
   "cell_type": "markdown",
   "id": "bulgarian-privacy",
   "metadata": {},
   "source": [
    "* Since $\\beta$ coefficient for year is very low, there seems to be a very small linear trend between year and temp."
   ]
  },
  {
   "cell_type": "markdown",
   "id": "excited-insured",
   "metadata": {},
   "source": [
    "<b>(b) Observations in successive years may be correlated. Fit the model that estimates this correlation. Does this change your opinion about the significance of the trend?"
   ]
  },
  {
   "cell_type": "code",
   "execution_count": 387,
   "id": "threatened-title",
   "metadata": {},
   "outputs": [
    {
     "data": {
      "image/png": "[encoded data removed]",
      "text/plain": [
       "plot without title"
      ]
     },
     "metadata": {},
     "output_type": "display_data"
    }
   ],
   "source": [
    "ggplot(data = aatemp, aes(x = year, y = mod$res))+\n",
    "    geom_point()+\n",
    "    geom_hline(yintercept = 0, color = 'blue') +\n",
    "    theme_update(plot.title = element_text(hjust = 0.5))+\n",
    "    theme_set(theme_bw())+\n",
    "    labs(title='Residual plot', x='year', y = 'residuals')+\n",
    "    geom_point(color='red')+\n",
    "    geom_line()"
   ]
  },
  {
   "cell_type": "markdown",
   "id": "macro-keyboard",
   "metadata": {},
   "source": [
    "* The residuals look like auto correlated with time. The value of a residual at a particular point depend upon value of preceding residual.\n",
    "* Lets confirm it by Derbin-Watson test"
   ]
  },
  {
   "cell_type": "code",
   "execution_count": 388,
   "id": "explicit-constraint",
   "metadata": {},
   "outputs": [
    {
     "data": {
      "text/plain": [
       "\n",
       "\tDurbin-Watson test\n",
       "\n",
       "data:  mod\n",
       "DW = 1.6177, p-value = 0.01524\n",
       "alternative hypothesis: true autocorrelation is greater than 0\n"
      ]
     },
     "metadata": {},
     "output_type": "display_data"
    }
   ],
   "source": [
    "dwtest(mod)"
   ]
  },
  {
   "cell_type": "markdown",
   "id": "random-dover",
   "metadata": {},
   "source": [
    "* The low p value of Durbin-Watson test indicates that residuals are correlated. The value of a residual depend upon value of preceding residual.\n",
    "* Here, we can interpret that, if annual mean temperature of a given year is low, the mean temperature for succeding year changes with respect to the year given. Basically, shift in mean temperature happens gradually rather than sudden spikes.\n",
    "* Since the null hypothesis of no autocorrelation is failed from Durbin-Watson test, we can fit generalized linear model."
   ]
  },
  {
   "cell_type": "code",
   "execution_count": 389,
   "id": "tight-darkness",
   "metadata": {},
   "outputs": [
    {
     "data": {
      "text/plain": [
       "Generalized least squares fit by REML\n",
       "  Model: temp ~ year \n",
       "  Data: aatemp \n",
       "       AIC     BIC    logLik\n",
       "  427.2854 438.195 -209.6427\n",
       "\n",
       "Correlation Structure: AR(1)\n",
       " Formula: ~1 \n",
       " Parameter estimate(s):\n",
       "      Phi \n",
       "0.2029313 \n",
       "\n",
       "Coefficients:\n",
       "                Value Std.Error  t-value p-value\n",
       "(Intercept) 24.604907  8.935293 2.753677  0.0069\n",
       "year         0.011931  0.004606 2.590398  0.0108\n",
       "\n",
       " Correlation: \n",
       "     (Intr)\n",
       "year -1    \n",
       "\n",
       "Standardized residuals:\n",
       "        Min          Q1         Med          Q3         Max \n",
       "-2.71297226 -0.62233530 -0.04994469  0.67429317  2.39436044 \n",
       "\n",
       "Residual standard error: 1.472974 \n",
       "Degrees of freedom: 115 total; 113 residual"
      ]
     },
     "metadata": {},
     "output_type": "display_data"
    }
   ],
   "source": [
    "library(nlme)\n",
    "mod_b = gls(temp ~ year, correlation = corARMA(p=1), data = aatemp)\n",
    "summary(mod_b)"
   ]
  },
  {
   "cell_type": "code",
   "execution_count": 390,
   "id": "signal-czech",
   "metadata": {},
   "outputs": [
    {
     "data": {
      "text/plain": [
       "Approximate 95% confidence intervals\n",
       "\n",
       " Coefficients:\n",
       "                  lower        est.       upper\n",
       "(Intercept) 6.902479671 24.60490705 42.30733442\n",
       "year        0.002805908  0.01193074  0.02105558\n",
       "attr(,\"label\")\n",
       "[1] \"Coefficients:\"\n",
       "\n",
       " Correlation structure:\n",
       "         lower      est.     upper\n",
       "Phi 0.01264178 0.2029313 0.3790359\n",
       "attr(,\"label\")\n",
       "[1] \"Correlation structure:\"\n",
       "\n",
       " Residual standard error:\n",
       "   lower     est.    upper \n",
       "1.284087 1.472974 1.689647 "
      ]
     },
     "metadata": {},
     "output_type": "display_data"
    }
   ],
   "source": [
    "intervals(mod_b)"
   ]
  },
  {
   "cell_type": "code",
   "execution_count": 391,
   "id": "dried-milwaukee",
   "metadata": {},
   "outputs": [
    {
     "data": {
      "image/png": "[encoded data removed]",
      "text/plain": [
       "plot without title"
      ]
     },
     "metadata": {},
     "output_type": "display_data"
    }
   ],
   "source": [
    "pred = predict(mod_b, aatemp)\n",
    "ggplot(data = aatemp, aes(x = year, y = temp))+\n",
    "    geom_point()+\n",
    "    theme_update(plot.title = element_text(hjust = 0.5))+\n",
    "    theme_set(theme_bw())+\n",
    "    geom_point(color='red')+\n",
    "    labs(title='Annual Mean Temp mod_b', x='year', y = 'temp')+\n",
    "    geom_line(aes(x = year, y = pred), color = 'dodgerblue', size = 1)"
   ]
  },
  {
   "cell_type": "markdown",
   "id": "duplicate-employment",
   "metadata": {},
   "source": [
    "* 95% confidence interval for $\\beta$ coefficient of year does not include zero. Hence, there is a very small linear relationship with year and temp."
   ]
  },
  {
   "cell_type": "markdown",
   "id": "swedish-exclusive",
   "metadata": {},
   "source": [
    "<b>(c) Fit a polynomial model with degree 10 and use backward elimination to reduce the degree of the model. Plot the fitted model on the top of the data. Use this model to predict the temperature in 2001."
   ]
  },
  {
   "cell_type": "code",
   "execution_count": 392,
   "id": "frequent-remains",
   "metadata": {},
   "outputs": [
    {
     "data": {
      "text/plain": [
       "\n",
       "Call:\n",
       "lm(formula = temp ~ year + I(year^2) + I(year^3) + I(year^4) + \n",
       "    I(year^5) + I(year^6) + I(year^7) + I(year^8) + I(year^9) + \n",
       "    I(year^10), data = aatemp)\n",
       "\n",
       "Residuals:\n",
       "    Min      1Q  Median      3Q     Max \n",
       "-3.7126 -0.9175 -0.1441  0.9905  3.2313 \n",
       "\n",
       "Coefficients: (5 not defined because of singularities)\n",
       "              Estimate Std. Error t value Pr(>|t|)  \n",
       "(Intercept) -7.049e+07  2.972e+07  -2.372   0.0194 *\n",
       "year         1.676e+05  7.047e+04   2.379   0.0191 *\n",
       "I(year^2)   -1.526e+02  6.396e+01  -2.385   0.0188 *\n",
       "I(year^3)    6.347e-02  2.653e-02   2.392   0.0185 *\n",
       "I(year^4)   -1.031e-05  4.299e-06  -2.399   0.0182 *\n",
       "I(year^5)           NA         NA      NA       NA  \n",
       "I(year^6)           NA         NA      NA       NA  \n",
       "I(year^7)           NA         NA      NA       NA  \n",
       "I(year^8)    1.074e-20  4.432e-21   2.423   0.0170 *\n",
       "I(year^9)           NA         NA      NA       NA  \n",
       "I(year^10)          NA         NA      NA       NA  \n",
       "---\n",
       "Signif. codes:  0 '***' 0.001 '**' 0.01 '*' 0.05 '.' 0.1 ' ' 1\n",
       "\n",
       "Residual standard error: 1.4 on 109 degrees of freedom\n",
       "Multiple R-squared:  0.1955,\tAdjusted R-squared:  0.1586 \n",
       "F-statistic: 5.298 on 5 and 109 DF,  p-value: 0.0002141\n"
      ]
     },
     "metadata": {},
     "output_type": "display_data"
    }
   ],
   "source": [
    "mod_c = lm(temp ~ year + I(year^2) + I(year^3) + I(year^4)+ I(year^5)+ I(year^6) +I(year^7)+\n",
    "           I(year^8)+I(year^9) + I(year^10), data = aatemp)\n",
    "# mod_c = lm(temp ~ year + I(year)^2)\n",
    "# round(summary(mod_c)$coef,3)\n",
    "summary(mod_c)"
   ]
  },
  {
   "cell_type": "markdown",
   "id": "lyric-steps",
   "metadata": {},
   "source": [
    "* we can see, from polynomial degree 5 to 10, the coefficients are not significant. Hence, we can eliminate those and fit the lm model upto degree 4."
   ]
  },
  {
   "cell_type": "code",
   "execution_count": 393,
   "id": "upset-colon",
   "metadata": {},
   "outputs": [
    {
     "data": {
      "text/html": [
       "<table>\n",
       "<thead><tr><th></th><th scope=col>Estimate</th><th scope=col>Std. Error</th><th scope=col>t value</th><th scope=col>Pr(&gt;|t|)</th></tr></thead>\n",
       "<tbody>\n",
       "\t<tr><th scope=row>(Intercept)</th><td>1496861.307</td><td>855298.314 </td><td> 1.750     </td><td>0.083      </td></tr>\n",
       "\t<tr><th scope=row>year</th><td>  -3085.571</td><td>  1774.669 </td><td>-1.739     </td><td>0.085      </td></tr>\n",
       "\t<tr><th scope=row>I(year^2)</th><td>      2.385</td><td>     1.381 </td><td> 1.727     </td><td>0.087      </td></tr>\n",
       "\t<tr><th scope=row>I(year^3)</th><td>     -0.001</td><td>     0.000 </td><td>-1.716     </td><td>0.089      </td></tr>\n",
       "\t<tr><th scope=row>I(year^4)</th><td>      0.000</td><td>     0.000 </td><td> 1.704     </td><td>0.091      </td></tr>\n",
       "</tbody>\n",
       "</table>\n"
      ],
      "text/latex": [
       "\\begin{tabular}{r|llll}\n",
       "  & Estimate & Std. Error & t value & Pr(>\\textbar{}t\\textbar{})\\\\\n",
       "\\hline\n",
       "\t(Intercept) & 1496861.307 & 855298.314  &  1.750      & 0.083      \\\\\n",
       "\tyear &   -3085.571 &   1774.669  & -1.739      & 0.085      \\\\\n",
       "\tI(year\\textasciicircum{}2) &       2.385 &      1.381  &  1.727      & 0.087      \\\\\n",
       "\tI(year\\textasciicircum{}3) &      -0.001 &      0.000  & -1.716      & 0.089      \\\\\n",
       "\tI(year\\textasciicircum{}4) &       0.000 &      0.000  &  1.704      & 0.091      \\\\\n",
       "\\end{tabular}\n"
      ],
      "text/markdown": [
       "\n",
       "| <!--/--> | Estimate | Std. Error | t value | Pr(>|t|) |\n",
       "|---|---|---|---|---|\n",
       "| (Intercept) | 1496861.307 | 855298.314  |  1.750      | 0.083       |\n",
       "| year |   -3085.571 |   1774.669  | -1.739      | 0.085       |\n",
       "| I(year^2) |       2.385 |      1.381  |  1.727      | 0.087       |\n",
       "| I(year^3) |      -0.001 |      0.000  | -1.716      | 0.089       |\n",
       "| I(year^4) |       0.000 |      0.000  |  1.704      | 0.091       |\n",
       "\n"
      ],
      "text/plain": [
       "            Estimate    Std. Error t value Pr(>|t|)\n",
       "(Intercept) 1496861.307 855298.314  1.750  0.083   \n",
       "year          -3085.571   1774.669 -1.739  0.085   \n",
       "I(year^2)         2.385      1.381  1.727  0.087   \n",
       "I(year^3)        -0.001      0.000 -1.716  0.089   \n",
       "I(year^4)         0.000      0.000  1.704  0.091   "
      ]
     },
     "metadata": {},
     "output_type": "display_data"
    },
    {
     "data": {
      "text/plain": [
       "\n",
       "Call:\n",
       "lm(formula = temp ~ year + I(year^2) + I(year^3) + I(year^4), \n",
       "    data = aatemp)\n",
       "\n",
       "Residuals:\n",
       "    Min      1Q  Median      3Q     Max \n",
       "-4.0085 -0.9618 -0.0913  0.9926  3.7370 \n",
       "\n",
       "Coefficients:\n",
       "              Estimate Std. Error t value Pr(>|t|)  \n",
       "(Intercept)  1.497e+06  8.553e+05   1.750   0.0829 .\n",
       "year        -3.086e+03  1.775e+03  -1.739   0.0849 .\n",
       "I(year^2)    2.385e+00  1.381e+00   1.727   0.0869 .\n",
       "I(year^3)   -8.189e-04  4.773e-04  -1.716   0.0890 .\n",
       "I(year^4)    1.054e-07  6.186e-08   1.704   0.0912 .\n",
       "---\n",
       "Signif. codes:  0 '***' 0.001 '**' 0.01 '*' 0.05 '.' 0.1 ' ' 1\n",
       "\n",
       "Residual standard error: 1.431 on 110 degrees of freedom\n",
       "Multiple R-squared:  0.1522,\tAdjusted R-squared:  0.1213 \n",
       "F-statistic: 4.936 on 4 and 110 DF,  p-value: 0.001068\n"
      ]
     },
     "metadata": {},
     "output_type": "display_data"
    }
   ],
   "source": [
    "mod_d = lm(temp ~ year + I(year^2) + I(year^3) + I(year^4), data = aatemp)\n",
    "round(summary(mod_d)$coef,3)\n",
    "summary(mod_d)"
   ]
  },
  {
   "cell_type": "markdown",
   "id": "popular-pontiac",
   "metadata": {},
   "source": [
    "* We can see, none of the coefficients for polynomial model upto 4 are significant at 5% $\\alpha$ level. So, lets remove 4th level polynomial term."
   ]
  },
  {
   "cell_type": "code",
   "execution_count": 394,
   "id": "convenient-holder",
   "metadata": {},
   "outputs": [
    {
     "data": {
      "text/html": [
       "<table>\n",
       "<thead><tr><th></th><th scope=col>Estimate</th><th scope=col>Std. Error</th><th scope=col>t value</th><th scope=col>Pr(&gt;|t|)</th></tr></thead>\n",
       "<tbody>\n",
       "\t<tr><th scope=row>(Intercept)</th><td>39590.477</td><td>17339.743</td><td> 2.283   </td><td>0.024    </td></tr>\n",
       "\t<tr><th scope=row>year</th><td>  -61.594</td><td>   26.941</td><td>-2.286   </td><td>0.024    </td></tr>\n",
       "\t<tr><th scope=row>I(year^2)</th><td>    0.032</td><td>    0.014</td><td> 2.291   </td><td>0.024    </td></tr>\n",
       "\t<tr><th scope=row>I(year^3)</th><td>    0.000</td><td>    0.000</td><td>-2.296   </td><td>0.024    </td></tr>\n",
       "</tbody>\n",
       "</table>\n"
      ],
      "text/latex": [
       "\\begin{tabular}{r|llll}\n",
       "  & Estimate & Std. Error & t value & Pr(>\\textbar{}t\\textbar{})\\\\\n",
       "\\hline\n",
       "\t(Intercept) & 39590.477 & 17339.743 &  2.283    & 0.024    \\\\\n",
       "\tyear &   -61.594 &    26.941 & -2.286    & 0.024    \\\\\n",
       "\tI(year\\textasciicircum{}2) &     0.032 &     0.014 &  2.291    & 0.024    \\\\\n",
       "\tI(year\\textasciicircum{}3) &     0.000 &     0.000 & -2.296    & 0.024    \\\\\n",
       "\\end{tabular}\n"
      ],
      "text/markdown": [
       "\n",
       "| <!--/--> | Estimate | Std. Error | t value | Pr(>|t|) |\n",
       "|---|---|---|---|---|\n",
       "| (Intercept) | 39590.477 | 17339.743 |  2.283    | 0.024     |\n",
       "| year |   -61.594 |    26.941 | -2.286    | 0.024     |\n",
       "| I(year^2) |     0.032 |     0.014 |  2.291    | 0.024     |\n",
       "| I(year^3) |     0.000 |     0.000 | -2.296    | 0.024     |\n",
       "\n"
      ],
      "text/plain": [
       "            Estimate  Std. Error t value Pr(>|t|)\n",
       "(Intercept) 39590.477 17339.743   2.283  0.024   \n",
       "year          -61.594    26.941  -2.286  0.024   \n",
       "I(year^2)       0.032     0.014   2.291  0.024   \n",
       "I(year^3)       0.000     0.000  -2.296  0.024   "
      ]
     },
     "metadata": {},
     "output_type": "display_data"
    },
    {
     "data": {
      "text/plain": [
       "\n",
       "Call:\n",
       "lm(formula = temp ~ year + I(year^2) + I(year^3), data = aatemp)\n",
       "\n",
       "Residuals:\n",
       "    Min      1Q  Median      3Q     Max \n",
       "-3.8557 -0.9646 -0.1552  1.0485  4.1538 \n",
       "\n",
       "Coefficients:\n",
       "              Estimate Std. Error t value Pr(>|t|)  \n",
       "(Intercept)  3.959e+04  1.734e+04   2.283   0.0243 *\n",
       "year        -6.159e+01  2.694e+01  -2.286   0.0241 *\n",
       "I(year^2)    3.197e-02  1.395e-02   2.291   0.0238 *\n",
       "I(year^3)   -5.527e-06  2.407e-06  -2.296   0.0236 *\n",
       "---\n",
       "Signif. codes:  0 '***' 0.001 '**' 0.01 '*' 0.05 '.' 0.1 ' ' 1\n",
       "\n",
       "Residual standard error: 1.443 on 111 degrees of freedom\n",
       "Multiple R-squared:  0.1298,\tAdjusted R-squared:  0.1063 \n",
       "F-statistic: 5.518 on 3 and 111 DF,  p-value: 0.001436\n"
      ]
     },
     "metadata": {},
     "output_type": "display_data"
    }
   ],
   "source": [
    "mod_e = lm(temp ~ year + I(year^2) + I(year^3), data = aatemp)\n",
    "round(summary(mod_e)$coef,3)\n",
    "summary(mod_e)"
   ]
  },
  {
   "cell_type": "markdown",
   "id": "center-standard",
   "metadata": {},
   "source": [
    "* Now, we can see all $\\beta$ coefficients are significant at 5% $\\alpha$ level."
   ]
  },
  {
   "cell_type": "code",
   "execution_count": 404,
   "id": "musical-birthday",
   "metadata": {},
   "outputs": [
    {
     "data": {
      "text/html": [
       "231.129639"
      ],
      "text/latex": [
       "231.129639"
      ],
      "text/markdown": [
       "231.129639"
      ],
      "text/plain": [
       "[1] 231.1296"
      ]
     },
     "metadata": {},
     "output_type": "display_data"
    }
   ],
   "source": [
    "RSS = 1.443**2*111\n",
    "RSS"
   ]
  },
  {
   "cell_type": "code",
   "execution_count": 395,
   "id": "traditional-damage",
   "metadata": {},
   "outputs": [
    {
     "data": {
      "text/html": [
       "<strong>1:</strong> 47.5662932193882"
      ],
      "text/latex": [
       "\\textbf{1:} 47.5662932193882"
      ],
      "text/markdown": [
       "**1:** 47.5662932193882"
      ],
      "text/plain": [
       "       1 \n",
       "47.56629 "
      ]
     },
     "metadata": {},
     "output_type": "display_data"
    }
   ],
   "source": [
    "predict(mod_e, data.frame(year = 2001))"
   ]
  },
  {
   "cell_type": "code",
   "execution_count": 396,
   "id": "ecological-brake",
   "metadata": {},
   "outputs": [
    {
     "data": {
      "image/png": "[encoded data removed]",
      "text/plain": [
       "plot without title"
      ]
     },
     "metadata": {},
     "output_type": "display_data"
    }
   ],
   "source": [
    "pred = predict(mod_e, aatemp)\n",
    "ggplot(data = aatemp, aes(x = year, y = temp))+\n",
    "    geom_point()+\n",
    "    theme_update(plot.title = element_text(hjust = 0.5))+\n",
    "    theme_set(theme_bw())+\n",
    "    geom_point(color='red')+\n",
    "    labs(title='Annual Mean Temp', x='year', y = 'temp')+\n",
    "    geom_line(aes(x = year, y = pred), color = 'dodgerblue', size = 0.75)+\n",
    "    geom_point(x = 2001, y = predict(mod_e, data.frame(year = 2001)), color = 'darkgreen', size = 3)"
   ]
  },
  {
   "cell_type": "markdown",
   "id": "familiar-coast",
   "metadata": {},
   "source": [
    "<b>(d) Make a cubic spline fit with six basis functions evenly spaced on the data range. Plot the fit in comparison with the previous fit. Does this model fit better than the selected polynomial model?"
   ]
  },
  {
   "cell_type": "markdown",
   "id": "complex-steps",
   "metadata": {},
   "source": [
    "* number of basis functions = df = 6\n",
    "* number of knots(m) = 6 - 4 = 2"
   ]
  },
  {
   "cell_type": "code",
   "execution_count": 426,
   "id": "chronic-vermont",
   "metadata": {
    "scrolled": false
   },
   "outputs": [
    {
     "data": {
      "text/plain": [
       "\n",
       "Call:\n",
       "lm(formula = temp ~ bs(year, df = 5, intercept = FALSE), data = aatemp)\n",
       "\n",
       "Residuals:\n",
       "    Min      1Q  Median      3Q     Max \n",
       "-3.6461 -0.9101 -0.2006  0.9427  3.3248 \n",
       "\n",
       "Coefficients:\n",
       "                                     Estimate Std. Error t value Pr(>|t|)    \n",
       "(Intercept)                           47.9406     0.9832  48.760   <2e-16 ***\n",
       "bs(year, df = 5, intercept = FALSE)1  -0.8898     1.6369  -0.544   0.5878    \n",
       "bs(year, df = 5, intercept = FALSE)2  -2.1812     1.2069  -1.807   0.0735 .  \n",
       "bs(year, df = 5, intercept = FALSE)3   2.5074     1.3252   1.892   0.0611 .  \n",
       "bs(year, df = 5, intercept = FALSE)4  -1.8368     1.1956  -1.536   0.1273    \n",
       "bs(year, df = 5, intercept = FALSE)5   1.2750     1.2123   1.052   0.2953    \n",
       "---\n",
       "Signif. codes:  0 '***' 0.001 '**' 0.01 '*' 0.05 '.' 0.1 ' ' 1\n",
       "\n",
       "Residual standard error: 1.392 on 109 degrees of freedom\n",
       "Multiple R-squared:  0.2045,\tAdjusted R-squared:  0.168 \n",
       "F-statistic: 5.604 on 5 and 109 DF,  p-value: 0.0001234\n"
      ]
     },
     "metadata": {},
     "output_type": "display_data"
    }
   ],
   "source": [
    "library(splines)\n",
    "mod_f = lm(temp ~ bs(year, df = 5, intercept = FALSE), data = aatemp)\n",
    "summary(mod_f)"
   ]
  },
  {
   "cell_type": "code",
   "execution_count": 427,
   "id": "russian-blake",
   "metadata": {},
   "outputs": [
    {
     "data": {
      "text/html": [
       "211.205376"
      ],
      "text/latex": [
       "211.205376"
      ],
      "text/markdown": [
       "211.205376"
      ],
      "text/plain": [
       "[1] 211.2054"
      ]
     },
     "metadata": {},
     "output_type": "display_data"
    }
   ],
   "source": [
    "RSS = 1.392**2*109\n",
    "RSS"
   ]
  },
  {
   "cell_type": "code",
   "execution_count": 401,
   "id": "little-investor",
   "metadata": {},
   "outputs": [
    {
     "data": {
      "image/png": "[encoded data removed]",
      "text/plain": [
       "plot without title"
      ]
     },
     "metadata": {},
     "output_type": "display_data"
    }
   ],
   "source": [
    "pred = predict(mod_e, aatemp)\n",
    "pred1 = predict(mod_f, aatemp)\n",
    "ggplot(data = aatemp, aes(x = year, y = temp))+\n",
    "    geom_point()+\n",
    "    theme_update(plot.title = element_text(hjust = 0.5))+\n",
    "    theme_set(theme_bw())+\n",
    "    geom_point(color='red')+\n",
    "    labs(title='Annual Mean Temp', x='year', y = 'temp')+\n",
    "    geom_line(aes(x = year, y = pred), color = 'dodgerblue', size = 0.75)+\n",
    "    geom_line(aes(x = year, y = pred1), color = 'darkgreen', size = 0.75)\n"
   ]
  },
  {
   "cell_type": "markdown",
   "id": "sexual-tourist",
   "metadata": {},
   "source": [
    "* Since RSS for cubic spline model is less and $R^2$ value is higher, cubic spline model fits better."
   ]
  },
  {
   "cell_type": "markdown",
   "id": "historic-midwest",
   "metadata": {},
   "source": [
    "<b> Problem 2: Consider the infmort data set from the faraway library.\n",
    "\n",
    "(a) Plot the data and make a brief summary. Which variables are categorical? Which variables are numerical?\n",
    "\n",
    "(b) Fit a model for the infant mortality in terms of the other variables using the main effects\n",
    "and up to second order interactions. Comment on your results. \n",
    "\n",
    "(c) Check for unsual observations and potential transformations. Re-fit your model if necessary.\n",
    "\n",
    "(d) Interpret your model by explaining what the regression parameter estimates mean.\n",
    "\n"
   ]
  },
  {
   "cell_type": "code",
   "execution_count": 604,
   "id": "responsible-operation",
   "metadata": {},
   "outputs": [],
   "source": [
    "library(faraway)\n",
    "data(infmort)"
   ]
  },
  {
   "cell_type": "markdown",
   "id": "intelligent-oxygen",
   "metadata": {},
   "source": [
    "<b>(a) Plot the data and make a brief summary. Which variables are categorical? Which variables are numerical?"
   ]
  },
  {
   "cell_type": "code",
   "execution_count": 605,
   "id": "designed-disease",
   "metadata": {},
   "outputs": [
    {
     "data": {
      "text/html": [
       "<table>\n",
       "<thead><tr><th></th><th scope=col>region</th><th scope=col>income</th><th scope=col>mortality</th><th scope=col>oil</th></tr></thead>\n",
       "<tbody>\n",
       "\t<tr><th scope=row>Australia          </th><td>Asia          </td><td>3426          </td><td>26.7          </td><td>no oil exports</td></tr>\n",
       "\t<tr><th scope=row>Austria            </th><td>Europe        </td><td>3350          </td><td>23.7          </td><td>no oil exports</td></tr>\n",
       "\t<tr><th scope=row>Belgium            </th><td>Europe        </td><td>3346          </td><td>17.0          </td><td>no oil exports</td></tr>\n",
       "\t<tr><th scope=row>Canada             </th><td>Americas      </td><td>4751          </td><td>16.8          </td><td>no oil exports</td></tr>\n",
       "\t<tr><th scope=row>Denmark            </th><td>Europe        </td><td>5029          </td><td>13.5          </td><td>no oil exports</td></tr>\n",
       "\t<tr><th scope=row>Finland            </th><td>Europe        </td><td>3312          </td><td>10.1          </td><td>no oil exports</td></tr>\n",
       "</tbody>\n",
       "</table>\n"
      ],
      "text/latex": [
       "\\begin{tabular}{r|llll}\n",
       "  & region & income & mortality & oil\\\\\n",
       "\\hline\n",
       "\tAustralia           & Asia           & 3426           & 26.7           & no oil exports\\\\\n",
       "\tAustria             & Europe         & 3350           & 23.7           & no oil exports\\\\\n",
       "\tBelgium             & Europe         & 3346           & 17.0           & no oil exports\\\\\n",
       "\tCanada              & Americas       & 4751           & 16.8           & no oil exports\\\\\n",
       "\tDenmark             & Europe         & 5029           & 13.5           & no oil exports\\\\\n",
       "\tFinland             & Europe         & 3312           & 10.1           & no oil exports\\\\\n",
       "\\end{tabular}\n"
      ],
      "text/markdown": [
       "\n",
       "| <!--/--> | region | income | mortality | oil |\n",
       "|---|---|---|---|---|\n",
       "| Australia           | Asia           | 3426           | 26.7           | no oil exports |\n",
       "| Austria             | Europe         | 3350           | 23.7           | no oil exports |\n",
       "| Belgium             | Europe         | 3346           | 17.0           | no oil exports |\n",
       "| Canada              | Americas       | 4751           | 16.8           | no oil exports |\n",
       "| Denmark             | Europe         | 5029           | 13.5           | no oil exports |\n",
       "| Finland             | Europe         | 3312           | 10.1           | no oil exports |\n",
       "\n"
      ],
      "text/plain": [
       "                    region   income mortality oil           \n",
       "Australia           Asia     3426   26.7      no oil exports\n",
       "Austria             Europe   3350   23.7      no oil exports\n",
       "Belgium             Europe   3346   17.0      no oil exports\n",
       "Canada              Americas 4751   16.8      no oil exports\n",
       "Denmark             Europe   5029   13.5      no oil exports\n",
       "Finland             Europe   3312   10.1      no oil exports"
      ]
     },
     "metadata": {},
     "output_type": "display_data"
    }
   ],
   "source": [
    "head(infmort)"
   ]
  },
  {
   "cell_type": "markdown",
   "id": "timely-slovak",
   "metadata": {},
   "source": [
    "* There are four data points where mortality values missing, hence lets drop them."
   ]
  },
  {
   "cell_type": "code",
   "execution_count": 606,
   "id": "dominant-indonesia",
   "metadata": {
    "scrolled": false
   },
   "outputs": [],
   "source": [
    "infmort = na.omit(infmort)"
   ]
  },
  {
   "cell_type": "code",
   "execution_count": 607,
   "id": "divine-pride",
   "metadata": {},
   "outputs": [
    {
     "name": "stdout",
     "output_type": "stream",
     "text": [
      "'data.frame':\t101 obs. of  4 variables:\n",
      " $ region   : Factor w/ 4 levels \"Africa\",\"Europe\",..: 3 2 2 4 2 2 2 2 2 2 ...\n",
      " $ income   : num  3426 3350 3346 4751 5029 ...\n",
      " $ mortality: num  26.7 23.7 17 16.8 13.5 10.1 12.9 20.4 17.8 25.7 ...\n",
      " $ oil      : Factor w/ 2 levels \"oil exports\",..: 2 2 2 2 2 2 2 2 2 2 ...\n",
      " - attr(*, \"na.action\")= 'omit' Named int  24 83 86 91\n",
      "  ..- attr(*, \"names\")= chr  \"Iran               \" \"Haiti              \" \"Laos               \" \"Nepal              \"\n"
     ]
    }
   ],
   "source": [
    "str(infmort)"
   ]
  },
  {
   "cell_type": "code",
   "execution_count": 608,
   "id": "southeast-donna",
   "metadata": {},
   "outputs": [
    {
     "data": {
      "text/plain": [
       "      region       income       mortality                  oil    \n",
       " Africa  :34   Min.   :  50   Min.   :  9.60   oil exports   : 8  \n",
       " Europe  :18   1st Qu.: 130   1st Qu.: 26.20   no oil exports:93  \n",
       " Asia    :27   Median : 334   Median : 60.60                      \n",
       " Americas:22   Mean   :1022   Mean   : 89.05                      \n",
       "               3rd Qu.:1191   3rd Qu.:129.40                      \n",
       "               Max.   :5596   Max.   :650.00                      "
      ]
     },
     "metadata": {},
     "output_type": "display_data"
    }
   ],
   "source": [
    "summary(infmort)"
   ]
  },
  {
   "cell_type": "code",
   "execution_count": 609,
   "id": "critical-walker",
   "metadata": {},
   "outputs": [
    {
     "data": {
      "image/png": "[encoded data removed]",
      "text/plain": [
       "plot without title"
      ]
     },
     "metadata": {},
     "output_type": "display_data"
    }
   ],
   "source": [
    "library(gridExtra)\n",
    "options(repr.plot.width=12, repr.plot.height=4)\n",
    "\n",
    "plot1 <- ggplot(data = infmort, aes(x = income, y = mortality, color = region))+\n",
    "    geom_point()+\n",
    "    theme_update(plot.title = element_text(hjust = 0.5))+\n",
    "    theme_set(theme_bw())+\n",
    "    geom_point()+\n",
    "    labs(title='Income vs Mortality', x='income', y = 'mortality')+\n",
    "    geom_text(aes(label=ifelse(mortality>250,as.character(row.names(infmort)),'')),hjust=-0.1,vjust=0.2)\n",
    "\n",
    "plot2 <- ggplot(data = infmort, aes(x = income, y = mortality, color = oil))+\n",
    "    geom_point()+\n",
    "    theme_update(plot.title = element_text(hjust = 0.5))+\n",
    "    theme_set(theme_bw())+\n",
    "    geom_point()+\n",
    "    labs(title='Income vs Mortality', x='income', y = 'mortality')+\n",
    "    geom_text(aes(label=ifelse(mortality>250,as.character(row.names(infmort)),'')),hjust=-0.1,vjust=0.2)\n",
    "grid.arrange(plot1, plot2, nrow = 1)"
   ]
  },
  {
   "cell_type": "code",
   "execution_count": 610,
   "id": "sharing-variance",
   "metadata": {
    "scrolled": false
   },
   "outputs": [
    {
     "data": {
      "image/png": "[encoded data removed]",
      "text/plain": [
       "plot without title"
      ]
     },
     "metadata": {},
     "output_type": "display_data"
    }
   ],
   "source": [
    "options(repr.plot.width=6, repr.plot.height=4)\n",
    "ggplot(infmort, aes(x = region, y = mortality, fill=region)) + \n",
    "  geom_boxplot()"
   ]
  },
  {
   "cell_type": "code",
   "execution_count": 611,
   "id": "everyday-cycling",
   "metadata": {},
   "outputs": [
    {
     "data": {
      "image/png": "[encoded data removed]",
      "text/plain": [
       "plot without title"
      ]
     },
     "metadata": {},
     "output_type": "display_data"
    }
   ],
   "source": [
    "ggplot(infmort, aes(x = region, y = income, fill=region)) + \n",
    "  geom_boxplot()"
   ]
  },
  {
   "cell_type": "markdown",
   "id": "regular-backup",
   "metadata": {},
   "source": [
    "* Variables Region and Oil are categorical variables\n",
    "* Variables Income and Mortality are numerical variables\n",
    "* We can see, as the income increases, mortality decreases. There are however two datapoints which come from oil producing countries that looks like outliers.\n",
    "* Africa is having highest mortality and lowest income.\n",
    "* Europe is having lowest mortality and highest income."
   ]
  },
  {
   "cell_type": "markdown",
   "id": "designed-classic",
   "metadata": {},
   "source": [
    "<b>(b) Fit a model for the infant mortality in terms of the other variables using the main effects and up to second order interactions. Comment on your results."
   ]
  },
  {
   "cell_type": "code",
   "execution_count": 612,
   "id": "elder-cooper",
   "metadata": {},
   "outputs": [
    {
     "data": {
      "text/html": [
       "<ol class=list-inline>\n",
       "\t<li>'region'</li>\n",
       "\t<li>'income'</li>\n",
       "\t<li>'mortality'</li>\n",
       "\t<li>'oil'</li>\n",
       "</ol>\n"
      ],
      "text/latex": [
       "\\begin{enumerate*}\n",
       "\\item 'region'\n",
       "\\item 'income'\n",
       "\\item 'mortality'\n",
       "\\item 'oil'\n",
       "\\end{enumerate*}\n"
      ],
      "text/markdown": [
       "1. 'region'\n",
       "2. 'income'\n",
       "3. 'mortality'\n",
       "4. 'oil'\n",
       "\n",
       "\n"
      ],
      "text/plain": [
       "[1] \"region\"    \"income\"    \"mortality\" \"oil\"      "
      ]
     },
     "metadata": {},
     "output_type": "display_data"
    }
   ],
   "source": [
    "names(infmort)"
   ]
  },
  {
   "cell_type": "code",
   "execution_count": 613,
   "id": "occupational-mirror",
   "metadata": {},
   "outputs": [],
   "source": [
    "mod = lm(mortality ~ income + region + oil + income:region + income:oil + region:oil, data = infmort)"
   ]
  },
  {
   "cell_type": "code",
   "execution_count": 614,
   "id": "german-management",
   "metadata": {},
   "outputs": [
    {
     "name": "stderr",
     "output_type": "stream",
     "text": [
      "Warning message in predict.lm(mod, infmort):\n",
      "\"prediction from a rank-deficient fit may be misleading\""
     ]
    },
    {
     "data": {
      "image/png": "[encoded data removed]",
      "text/plain": [
       "plot without title"
      ]
     },
     "metadata": {},
     "output_type": "display_data"
    }
   ],
   "source": [
    "pred = predict(mod, infmort)\n",
    "plot1 <- ggplot(data = infmort, aes(x = income, y = mortality, color = region))+\n",
    "    geom_point()+\n",
    "    theme_update(plot.title = element_text(hjust = 0.5))+\n",
    "    theme_set(theme_bw())+\n",
    "    geom_point()+\n",
    "    labs(title='Income vs Mortality mod', x='income', y = 'mortality')+\n",
    "    geom_line(aes(x = income, y = pred), color = 'dodgerblue', size = 0.75)\n",
    "plot1"
   ]
  },
  {
   "cell_type": "code",
   "execution_count": 615,
   "id": "provincial-proposition",
   "metadata": {
    "scrolled": false
   },
   "outputs": [
    {
     "data": {
      "text/plain": [
       "\n",
       "Call:\n",
       "lm(formula = mortality ~ income + region + oil + income:region + \n",
       "    income:oil + region:oil, data = infmort)\n",
       "\n",
       "Residuals:\n",
       "     Min       1Q   Median       3Q      Max \n",
       "-200.606  -23.858   -2.578   15.676  314.797 \n",
       "\n",
       "Coefficients: (1 not defined because of singularities)\n",
       "                                   Estimate Std. Error t value Pr(>|t|)    \n",
       "(Intercept)                        27.88469   48.70131   0.573 0.568383    \n",
       "income                              0.09935    0.02687   3.697 0.000376 ***\n",
       "regionEurope                     -133.35340   37.99857  -3.509 0.000707 ***\n",
       "regionAsia                         74.83990   64.29758   1.164 0.247550    \n",
       "regionAmericas                   -134.64863   69.44359  -1.939 0.055674 .  \n",
       "oilno oil exports                 140.12320   48.65760   2.880 0.004984 ** \n",
       "income:regionEurope                 0.13887    0.04451   3.120 0.002441 ** \n",
       "income:regionAsia                   0.12561    0.04368   2.876 0.005041 ** \n",
       "income:regionAmericas               0.13134    0.04397   2.987 0.003641 ** \n",
       "income:oilno oil exports           -0.24328    0.04140  -5.876 7.17e-08 ***\n",
       "regionEurope:oilno oil exports           NA         NA      NA       NA    \n",
       "regionAsia:oilno oil exports     -156.27099   62.28212  -2.509 0.013915 *  \n",
       "regionAmericas:oilno oil exports   33.37454   67.81541   0.492 0.623834    \n",
       "---\n",
       "Signif. codes:  0 '***' 0.001 '**' 0.01 '*' 0.05 '.' 0.1 ' ' 1\n",
       "\n",
       "Residual standard error: 62.8 on 89 degrees of freedom\n",
       "Multiple R-squared:  0.5742,\tAdjusted R-squared:  0.5216 \n",
       "F-statistic: 10.91 on 11 and 89 DF,  p-value: 1.825e-12\n"
      ]
     },
     "metadata": {},
     "output_type": "display_data"
    }
   ],
   "source": [
    "summary(mod)"
   ]
  },
  {
   "cell_type": "code",
   "execution_count": 618,
   "id": "lasting-constant",
   "metadata": {},
   "outputs": [
    {
     "data": {
      "text/html": [
       "<table>\n",
       "<thead><tr><th></th><th scope=col>Df</th><th scope=col>Sum Sq</th><th scope=col>Mean Sq</th><th scope=col>F value</th><th scope=col>Pr(&gt;F)</th></tr></thead>\n",
       "<tbody>\n",
       "\t<tr><th scope=row>income</th><td> 1        </td><td> 90086.162</td><td> 90086.162</td><td>22.8401   </td><td>0.0000    </td></tr>\n",
       "\t<tr><th scope=row>region</th><td> 3        </td><td>121982.055</td><td> 40660.685</td><td>10.3090   </td><td>0.0000    </td></tr>\n",
       "\t<tr><th scope=row>oil</th><td> 1        </td><td> 43936.012</td><td> 43936.012</td><td>11.1394   </td><td>0.0012    </td></tr>\n",
       "\t<tr><th scope=row>income:region</th><td> 3        </td><td>  5338.328</td><td>  1779.443</td><td> 0.4512   </td><td>0.7171    </td></tr>\n",
       "\t<tr><th scope=row>income:oil</th><td> 1        </td><td>165627.542</td><td>165627.542</td><td>41.9926   </td><td>0.0000    </td></tr>\n",
       "\t<tr><th scope=row>region:oil</th><td> 2        </td><td> 46490.523</td><td> 23245.261</td><td> 5.8935   </td><td>0.0039    </td></tr>\n",
       "\t<tr><th scope=row>Residuals</th><td>89        </td><td>351034.371</td><td>  3944.206</td><td>     NA   </td><td>    NA    </td></tr>\n",
       "</tbody>\n",
       "</table>\n"
      ],
      "text/latex": [
       "\\begin{tabular}{r|lllll}\n",
       "  & Df & Sum Sq & Mean Sq & F value & Pr(>F)\\\\\n",
       "\\hline\n",
       "\tincome &  1         &  90086.162 &  90086.162 & 22.8401    & 0.0000    \\\\\n",
       "\tregion &  3         & 121982.055 &  40660.685 & 10.3090    & 0.0000    \\\\\n",
       "\toil &  1         &  43936.012 &  43936.012 & 11.1394    & 0.0012    \\\\\n",
       "\tincome:region &  3         &   5338.328 &   1779.443 &  0.4512    & 0.7171    \\\\\n",
       "\tincome:oil &  1         & 165627.542 & 165627.542 & 41.9926    & 0.0000    \\\\\n",
       "\tregion:oil &  2         &  46490.523 &  23245.261 &  5.8935    & 0.0039    \\\\\n",
       "\tResiduals & 89         & 351034.371 &   3944.206 &      NA    &     NA    \\\\\n",
       "\\end{tabular}\n"
      ],
      "text/markdown": [
       "\n",
       "| <!--/--> | Df | Sum Sq | Mean Sq | F value | Pr(>F) |\n",
       "|---|---|---|---|---|---|\n",
       "| income |  1         |  90086.162 |  90086.162 | 22.8401    | 0.0000     |\n",
       "| region |  3         | 121982.055 |  40660.685 | 10.3090    | 0.0000     |\n",
       "| oil |  1         |  43936.012 |  43936.012 | 11.1394    | 0.0012     |\n",
       "| income:region |  3         |   5338.328 |   1779.443 |  0.4512    | 0.7171     |\n",
       "| income:oil |  1         | 165627.542 | 165627.542 | 41.9926    | 0.0000     |\n",
       "| region:oil |  2         |  46490.523 |  23245.261 |  5.8935    | 0.0039     |\n",
       "| Residuals | 89         | 351034.371 |   3944.206 |      NA    |     NA     |\n",
       "\n"
      ],
      "text/plain": [
       "              Df Sum Sq     Mean Sq    F value Pr(>F)\n",
       "income         1  90086.162  90086.162 22.8401 0.0000\n",
       "region         3 121982.055  40660.685 10.3090 0.0000\n",
       "oil            1  43936.012  43936.012 11.1394 0.0012\n",
       "income:region  3   5338.328   1779.443  0.4512 0.7171\n",
       "income:oil     1 165627.542 165627.542 41.9926 0.0000\n",
       "region:oil     2  46490.523  23245.261  5.8935 0.0039\n",
       "Residuals     89 351034.371   3944.206      NA     NA"
      ]
     },
     "metadata": {},
     "output_type": "display_data"
    }
   ],
   "source": [
    "round(anova(mod),4)"
   ]
  },
  {
   "cell_type": "markdown",
   "id": "tropical-skirt",
   "metadata": {},
   "source": [
    "* We can see income:region is not significant at 5% significance level. Lets drop it."
   ]
  },
  {
   "cell_type": "code",
   "execution_count": 621,
   "id": "selective-plant",
   "metadata": {},
   "outputs": [
    {
     "data": {
      "text/plain": [
       "\n",
       "Call:\n",
       "lm(formula = mortality ~ income + region + oil + income:oil + \n",
       "    region:oil, data = infmort)\n",
       "\n",
       "Residuals:\n",
       "    Min      1Q  Median      3Q     Max \n",
       "-217.07  -27.38   -4.37   18.65  318.04 \n",
       "\n",
       "Coefficients: (1 not defined because of singularities)\n",
       "                                   Estimate Std. Error t value Pr(>|t|)    \n",
       "(Intercept)                        -9.18489   48.75605  -0.188  0.85099    \n",
       "income                              0.12999    0.02568   5.061 2.12e-06 ***\n",
       "regionEurope                      -86.34203   26.74772  -3.228  0.00173 ** \n",
       "regionAsia                        181.56071   54.52280   3.330  0.00125 ** \n",
       "regionAmericas                    -22.55581   60.59049  -0.372  0.71055    \n",
       "oilno oil exports                 153.22243   50.15122   3.055  0.00294 ** \n",
       "income:oilno oil exports           -0.14263    0.02649  -5.385 5.53e-07 ***\n",
       "regionEurope:oilno oil exports           NA         NA      NA       NA    \n",
       "regionAsia:oilno oil exports     -242.69014   57.40058  -4.228 5.55e-05 ***\n",
       "regionAmericas:oilno oil exports  -54.69587   63.62170  -0.860  0.39219    \n",
       "---\n",
       "Signif. codes:  0 '***' 0.001 '**' 0.01 '*' 0.05 '.' 0.1 ' ' 1\n",
       "\n",
       "Residual standard error: 65.07 on 92 degrees of freedom\n",
       "Multiple R-squared:  0.5275,\tAdjusted R-squared:  0.4864 \n",
       "F-statistic: 12.84 on 8 and 92 DF,  p-value: 3.011e-12\n"
      ]
     },
     "metadata": {},
     "output_type": "display_data"
    },
    {
     "data": {
      "text/html": [
       "<table>\n",
       "<thead><tr><th></th><th scope=col>Df</th><th scope=col>Sum Sq</th><th scope=col>Mean Sq</th><th scope=col>F value</th><th scope=col>Pr(&gt;F)</th></tr></thead>\n",
       "<tbody>\n",
       "\t<tr><th scope=row>income</th><td> 1       </td><td> 90086.16</td><td>90086.162</td><td>21.2753  </td><td>0.0000   </td></tr>\n",
       "\t<tr><th scope=row>region</th><td> 3       </td><td>121982.05</td><td>40660.685</td><td> 9.6027  </td><td>0.0000   </td></tr>\n",
       "\t<tr><th scope=row>oil</th><td> 1       </td><td> 43936.01</td><td>43936.012</td><td>10.3762  </td><td>0.0018   </td></tr>\n",
       "\t<tr><th scope=row>income:oil</th><td> 1       </td><td> 96435.06</td><td>96435.058</td><td>22.7747  </td><td>0.0000   </td></tr>\n",
       "\t<tr><th scope=row>region:oil</th><td> 2       </td><td> 82499.89</td><td>41249.947</td><td> 9.7419  </td><td>0.0001   </td></tr>\n",
       "\t<tr><th scope=row>Residuals</th><td>92       </td><td>389555.81</td><td> 4234.302</td><td>     NA  </td><td>    NA   </td></tr>\n",
       "</tbody>\n",
       "</table>\n"
      ],
      "text/latex": [
       "\\begin{tabular}{r|lllll}\n",
       "  & Df & Sum Sq & Mean Sq & F value & Pr(>F)\\\\\n",
       "\\hline\n",
       "\tincome &  1        &  90086.16 & 90086.162 & 21.2753   & 0.0000   \\\\\n",
       "\tregion &  3        & 121982.05 & 40660.685 &  9.6027   & 0.0000   \\\\\n",
       "\toil &  1        &  43936.01 & 43936.012 & 10.3762   & 0.0018   \\\\\n",
       "\tincome:oil &  1        &  96435.06 & 96435.058 & 22.7747   & 0.0000   \\\\\n",
       "\tregion:oil &  2        &  82499.89 & 41249.947 &  9.7419   & 0.0001   \\\\\n",
       "\tResiduals & 92        & 389555.81 &  4234.302 &      NA   &     NA   \\\\\n",
       "\\end{tabular}\n"
      ],
      "text/markdown": [
       "\n",
       "| <!--/--> | Df | Sum Sq | Mean Sq | F value | Pr(>F) |\n",
       "|---|---|---|---|---|---|\n",
       "| income |  1        |  90086.16 | 90086.162 | 21.2753   | 0.0000    |\n",
       "| region |  3        | 121982.05 | 40660.685 |  9.6027   | 0.0000    |\n",
       "| oil |  1        |  43936.01 | 43936.012 | 10.3762   | 0.0018    |\n",
       "| income:oil |  1        |  96435.06 | 96435.058 | 22.7747   | 0.0000    |\n",
       "| region:oil |  2        |  82499.89 | 41249.947 |  9.7419   | 0.0001    |\n",
       "| Residuals | 92        | 389555.81 |  4234.302 |      NA   |     NA    |\n",
       "\n"
      ],
      "text/plain": [
       "           Df Sum Sq    Mean Sq   F value Pr(>F)\n",
       "income      1  90086.16 90086.162 21.2753 0.0000\n",
       "region      3 121982.05 40660.685  9.6027 0.0000\n",
       "oil         1  43936.01 43936.012 10.3762 0.0018\n",
       "income:oil  1  96435.06 96435.058 22.7747 0.0000\n",
       "region:oil  2  82499.89 41249.947  9.7419 0.0001\n",
       "Residuals  92 389555.81  4234.302      NA     NA"
      ]
     },
     "metadata": {},
     "output_type": "display_data"
    }
   ],
   "source": [
    "mod = lm(mortality ~ income + region + oil + income:oil + region:oil, data = infmort)\n",
    "summary(mod)\n",
    "round(anova(mod),4)"
   ]
  },
  {
   "cell_type": "markdown",
   "id": "driving-speed",
   "metadata": {},
   "source": [
    "* We can see, not much of the variation in mortality is explained by the model. It is having $R^2$ value of 0.5275 with large residual standard error of 65.07. "
   ]
  },
  {
   "cell_type": "markdown",
   "id": "nuclear-surname",
   "metadata": {},
   "source": [
    "<b>(c) Check for unsual observations and potential transformations. Re-fit your model if necessary."
   ]
  },
  {
   "cell_type": "markdown",
   "id": "recognized-guess",
   "metadata": {},
   "source": [
    "We will apply log transformation to income as well as mortality"
   ]
  },
  {
   "cell_type": "code",
   "execution_count": 295,
   "id": "compatible-robinson",
   "metadata": {},
   "outputs": [
    {
     "data": {
      "image/png": "[encoded data removed]",
      "text/plain": [
       "plot without title"
      ]
     },
     "metadata": {},
     "output_type": "display_data"
    }
   ],
   "source": [
    "options(repr.plot.width=12, repr.plot.height=4)\n",
    "\n",
    "plot1 <- ggplot(data = infmort, aes(x = log(income), y = log(mortality), color = region))+\n",
    "    geom_point()+\n",
    "    theme_update(plot.title = element_text(hjust = 0.5))+\n",
    "    theme_set(theme_bw())+\n",
    "    geom_point()+\n",
    "    labs(title='Income vs Mortality', x='income', y = 'mortality')+\n",
    "    geom_text(aes(label=ifelse(mortality>250,as.character(row.names(infmort)),'')),hjust=-0.1,vjust=0)\n",
    "\n",
    "plot2 <- ggplot(data = infmort, aes(x = log(income), y = log(mortality), color = oil))+\n",
    "    geom_point()+\n",
    "    theme_update(plot.title = element_text(hjust = 0.5))+\n",
    "    theme_set(theme_bw())+\n",
    "    geom_point()+\n",
    "    labs(title='Income vs Mortality', x='income', y = 'mortality')+\n",
    "    geom_text(aes(label=ifelse(mortality>250,as.character(row.names(infmort)),'')),hjust=-0.1,vjust=0)\n",
    "grid.arrange(plot1, plot2, nrow = 1)"
   ]
  },
  {
   "cell_type": "code",
   "execution_count": 623,
   "id": "powerful-formation",
   "metadata": {},
   "outputs": [
    {
     "data": {
      "text/plain": [
       "\n",
       "Call:\n",
       "lm(formula = log(mortality) ~ log(income) + region + oil + log(income):region + \n",
       "    log(income):oil + region:oil, data = infmort)\n",
       "\n",
       "Residuals:\n",
       "     Min       1Q   Median       3Q      Max \n",
       "-1.60045 -0.28092 -0.00656  0.29879  1.45482 \n",
       "\n",
       "Coefficients: (1 not defined because of singularities)\n",
       "                                 Estimate Std. Error t value Pr(>|t|)    \n",
       "(Intercept)                        0.6752     1.3167   0.513 0.609348    \n",
       "log(income)                        0.6288     0.1982   3.173 0.002071 ** \n",
       "regionEurope                       1.3934     1.6641   0.837 0.404648    \n",
       "regionAsia                         2.5569     1.0756   2.377 0.019586 *  \n",
       "regionAmericas                     1.5482     1.2925   1.198 0.234146    \n",
       "oilno oil exports                  4.9580     1.2508   3.964 0.000149 ***\n",
       "log(income):regionEurope          -0.3825     0.2352  -1.627 0.107364    \n",
       "log(income):regionAsia            -0.3596     0.1563  -2.301 0.023743 *  \n",
       "log(income):regionAmericas        -0.3234     0.1883  -1.718 0.089325 .  \n",
       "log(income):oilno oil exports     -0.7780     0.1948  -3.994 0.000133 ***\n",
       "regionEurope:oilno oil exports         NA         NA      NA       NA    \n",
       "regionAsia:oilno oil exports      -1.4571     0.4939  -2.950 0.004054 ** \n",
       "regionAmericas:oilno oil exports  -0.2917     0.5406  -0.540 0.590789    \n",
       "---\n",
       "Signif. codes:  0 '***' 0.001 '**' 0.01 '*' 0.05 '.' 0.1 ' ' 1\n",
       "\n",
       "Residual standard error: 0.5258 on 89 degrees of freedom\n",
       "Multiple R-squared:  0.7376,\tAdjusted R-squared:  0.7051 \n",
       "F-statistic: 22.74 on 11 and 89 DF,  p-value: < 2.2e-16\n"
      ]
     },
     "metadata": {},
     "output_type": "display_data"
    },
    {
     "data": {
      "text/html": [
       "<table>\n",
       "<thead><tr><th></th><th scope=col>Df</th><th scope=col>Sum Sq</th><th scope=col>Mean Sq</th><th scope=col>F value</th><th scope=col>Pr(&gt;F)</th></tr></thead>\n",
       "<tbody>\n",
       "\t<tr><th scope=row>log(income)</th><td> 1      </td><td>47.0835 </td><td>47.0835 </td><td>170.2772</td><td>0.0000  </td></tr>\n",
       "\t<tr><th scope=row>region</th><td> 3      </td><td>10.7053 </td><td> 3.5684 </td><td> 12.9052</td><td>0.0000  </td></tr>\n",
       "\t<tr><th scope=row>oil</th><td> 1      </td><td> 2.8243 </td><td> 2.8243 </td><td> 10.2142</td><td>0.0019  </td></tr>\n",
       "\t<tr><th scope=row>log(income):region</th><td> 3      </td><td> 1.7052 </td><td> 0.5684 </td><td>  2.0556</td><td>0.1118  </td></tr>\n",
       "\t<tr><th scope=row>log(income):oil</th><td> 1      </td><td> 4.0678 </td><td> 4.0678 </td><td> 14.7110</td><td>0.0002  </td></tr>\n",
       "\t<tr><th scope=row>region:oil</th><td> 2      </td><td> 2.7732 </td><td> 1.3866 </td><td>  5.0147</td><td>0.0086  </td></tr>\n",
       "\t<tr><th scope=row>Residuals</th><td>89      </td><td>24.6094 </td><td> 0.2765 </td><td>      NA</td><td>    NA  </td></tr>\n",
       "</tbody>\n",
       "</table>\n"
      ],
      "text/latex": [
       "\\begin{tabular}{r|lllll}\n",
       "  & Df & Sum Sq & Mean Sq & F value & Pr(>F)\\\\\n",
       "\\hline\n",
       "\tlog(income) &  1       & 47.0835  & 47.0835  & 170.2772 & 0.0000  \\\\\n",
       "\tregion &  3       & 10.7053  &  3.5684  &  12.9052 & 0.0000  \\\\\n",
       "\toil &  1       &  2.8243  &  2.8243  &  10.2142 & 0.0019  \\\\\n",
       "\tlog(income):region &  3       &  1.7052  &  0.5684  &   2.0556 & 0.1118  \\\\\n",
       "\tlog(income):oil &  1       &  4.0678  &  4.0678  &  14.7110 & 0.0002  \\\\\n",
       "\tregion:oil &  2       &  2.7732  &  1.3866  &   5.0147 & 0.0086  \\\\\n",
       "\tResiduals & 89       & 24.6094  &  0.2765  &       NA &     NA  \\\\\n",
       "\\end{tabular}\n"
      ],
      "text/markdown": [
       "\n",
       "| <!--/--> | Df | Sum Sq | Mean Sq | F value | Pr(>F) |\n",
       "|---|---|---|---|---|---|\n",
       "| log(income) |  1       | 47.0835  | 47.0835  | 170.2772 | 0.0000   |\n",
       "| region |  3       | 10.7053  |  3.5684  |  12.9052 | 0.0000   |\n",
       "| oil |  1       |  2.8243  |  2.8243  |  10.2142 | 0.0019   |\n",
       "| log(income):region |  3       |  1.7052  |  0.5684  |   2.0556 | 0.1118   |\n",
       "| log(income):oil |  1       |  4.0678  |  4.0678  |  14.7110 | 0.0002   |\n",
       "| region:oil |  2       |  2.7732  |  1.3866  |   5.0147 | 0.0086   |\n",
       "| Residuals | 89       | 24.6094  |  0.2765  |       NA |     NA   |\n",
       "\n"
      ],
      "text/plain": [
       "                   Df Sum Sq  Mean Sq F value  Pr(>F)\n",
       "log(income)         1 47.0835 47.0835 170.2772 0.0000\n",
       "region              3 10.7053  3.5684  12.9052 0.0000\n",
       "oil                 1  2.8243  2.8243  10.2142 0.0019\n",
       "log(income):region  3  1.7052  0.5684   2.0556 0.1118\n",
       "log(income):oil     1  4.0678  4.0678  14.7110 0.0002\n",
       "region:oil          2  2.7732  1.3866   5.0147 0.0086\n",
       "Residuals          89 24.6094  0.2765       NA     NA"
      ]
     },
     "metadata": {},
     "output_type": "display_data"
    }
   ],
   "source": [
    "mod_b = lm(log(mortality) ~ log(income) + region + oil + log(income):region + log(income):oil + region:oil, data = infmort)\n",
    "summary(mod_b)\n",
    "round(anova(mod_b),4)"
   ]
  },
  {
   "cell_type": "code",
   "execution_count": 624,
   "id": "regular-oracle",
   "metadata": {
    "scrolled": false
   },
   "outputs": [
    {
     "data": {
      "image/png": "[encoded data removed]",
      "text/plain": [
       "plot without title"
      ]
     },
     "metadata": {},
     "output_type": "display_data"
    }
   ],
   "source": [
    "options(repr.plot.width=12, repr.plot.height=4)\n",
    "cook = cooks.distance(mod_b)\n",
    "halfnorm(cook, labs=row.names(infmort), ylab=\"Cook's distances\")"
   ]
  },
  {
   "cell_type": "markdown",
   "id": "seventh-handy",
   "metadata": {},
   "source": [
    "* Although there not significant outliers, values of cook's distance for Iraq and Saudi_Arabia are significantly higher than rest of the other datapoints. So, lets remove them and see what effect it will have on our model performance."
   ]
  },
  {
   "cell_type": "code",
   "execution_count": 242,
   "id": "spatial-paraguay",
   "metadata": {},
   "outputs": [],
   "source": [
    "new_infmort = infmort\n",
    "# new_infmort = new_infmort[row.names(new_infmort) != 'Libya              ',]\n",
    "new_infmort = new_infmort[row.names(new_infmort) != 'Iraq               ',]\n",
    "new_infmort = new_infmort[row.names(new_infmort) != 'Saudi_Arabia       ',]"
   ]
  },
  {
   "cell_type": "code",
   "execution_count": 243,
   "id": "continued-regular",
   "metadata": {},
   "outputs": [
    {
     "data": {
      "text/html": [
       "<ol class=list-inline>\n",
       "\t<li><span style=white-space:pre-wrap>'Australia          '</span></li>\n",
       "\t<li><span style=white-space:pre-wrap>'Austria            '</span></li>\n",
       "\t<li><span style=white-space:pre-wrap>'Belgium            '</span></li>\n",
       "\t<li><span style=white-space:pre-wrap>'Canada             '</span></li>\n",
       "\t<li><span style=white-space:pre-wrap>'Denmark            '</span></li>\n",
       "\t<li><span style=white-space:pre-wrap>'Finland            '</span></li>\n",
       "\t<li><span style=white-space:pre-wrap>'France             '</span></li>\n",
       "\t<li><span style=white-space:pre-wrap>'West_Germany       '</span></li>\n",
       "\t<li><span style=white-space:pre-wrap>'Ireland            '</span></li>\n",
       "\t<li><span style=white-space:pre-wrap>'Italy              '</span></li>\n",
       "\t<li><span style=white-space:pre-wrap>'Japan              '</span></li>\n",
       "\t<li><span style=white-space:pre-wrap>'Netherlands        '</span></li>\n",
       "\t<li><span style=white-space:pre-wrap>'New_Zealand        '</span></li>\n",
       "\t<li><span style=white-space:pre-wrap>'Norway             '</span></li>\n",
       "\t<li><span style=white-space:pre-wrap>'Portugal           '</span></li>\n",
       "\t<li><span style=white-space:pre-wrap>'South_Africa       '</span></li>\n",
       "\t<li><span style=white-space:pre-wrap>'Sweden             '</span></li>\n",
       "\t<li><span style=white-space:pre-wrap>'Switzerland        '</span></li>\n",
       "\t<li><span style=white-space:pre-wrap>'Britain            '</span></li>\n",
       "\t<li><span style=white-space:pre-wrap>'United_States      '</span></li>\n",
       "\t<li><span style=white-space:pre-wrap>'Algeria            '</span></li>\n",
       "\t<li><span style=white-space:pre-wrap>'Ecuador            '</span></li>\n",
       "\t<li><span style=white-space:pre-wrap>'Indonesia          '</span></li>\n",
       "\t<li><span style=white-space:pre-wrap>'Libya              '</span></li>\n",
       "\t<li><span style=white-space:pre-wrap>'Nigeria            '</span></li>\n",
       "\t<li><span style=white-space:pre-wrap>'Venezuela          '</span></li>\n",
       "\t<li><span style=white-space:pre-wrap>'Argentina          '</span></li>\n",
       "\t<li><span style=white-space:pre-wrap>'Brazil             '</span></li>\n",
       "\t<li><span style=white-space:pre-wrap>'Chile              '</span></li>\n",
       "\t<li><span style=white-space:pre-wrap>'Colombia           '</span></li>\n",
       "\t<li><span style=white-space:pre-wrap>'Costa_Rica         '</span></li>\n",
       "\t<li>'Dominican_Republic '</li>\n",
       "\t<li><span style=white-space:pre-wrap>'Greece             '</span></li>\n",
       "\t<li><span style=white-space:pre-wrap>'Guatemala          '</span></li>\n",
       "\t<li><span style=white-space:pre-wrap>'Israel             '</span></li>\n",
       "\t<li><span style=white-space:pre-wrap>'Jamaica            '</span></li>\n",
       "\t<li><span style=white-space:pre-wrap>'Lebanon            '</span></li>\n",
       "\t<li><span style=white-space:pre-wrap>'Malaysia           '</span></li>\n",
       "\t<li><span style=white-space:pre-wrap>'Mexico             '</span></li>\n",
       "\t<li><span style=white-space:pre-wrap>'Nicaragua          '</span></li>\n",
       "\t<li><span style=white-space:pre-wrap>'Panama             '</span></li>\n",
       "\t<li><span style=white-space:pre-wrap>'Peru               '</span></li>\n",
       "\t<li><span style=white-space:pre-wrap>'Singapore          '</span></li>\n",
       "\t<li><span style=white-space:pre-wrap>'Spain              '</span></li>\n",
       "\t<li><span style=white-space:pre-wrap>'Taiwan             '</span></li>\n",
       "\t<li>'Trinidad_and_Tobago'</li>\n",
       "\t<li><span style=white-space:pre-wrap>'Tunisia            '</span></li>\n",
       "\t<li><span style=white-space:pre-wrap>'Uruguay            '</span></li>\n",
       "\t<li><span style=white-space:pre-wrap>'Yugoslavia         '</span></li>\n",
       "\t<li><span style=white-space:pre-wrap>'Zambia             '</span></li>\n",
       "\t<li><span style=white-space:pre-wrap>'Bolivia            '</span></li>\n",
       "\t<li><span style=white-space:pre-wrap>'Cameroon           '</span></li>\n",
       "\t<li><span style=white-space:pre-wrap>'Congo              '</span></li>\n",
       "\t<li><span style=white-space:pre-wrap>'Egypt              '</span></li>\n",
       "\t<li><span style=white-space:pre-wrap>'El_Salvador        '</span></li>\n",
       "\t<li><span style=white-space:pre-wrap>'Ghana              '</span></li>\n",
       "\t<li><span style=white-space:pre-wrap>'Honduras           '</span></li>\n",
       "\t<li><span style=white-space:pre-wrap>'Ivory_Coast        '</span></li>\n",
       "\t<li><span style=white-space:pre-wrap>'Jordan             '</span></li>\n",
       "\t<li><span style=white-space:pre-wrap>'South_Korea        '</span></li>\n",
       "\t<li><span style=white-space:pre-wrap>'Liberia            '</span></li>\n",
       "\t<li><span style=white-space:pre-wrap>'Moroco             '</span></li>\n",
       "\t<li><span style=white-space:pre-wrap>'Papua_New_Guinea   '</span></li>\n",
       "\t<li><span style=white-space:pre-wrap>'Paraguay           '</span></li>\n",
       "\t<li><span style=white-space:pre-wrap>'Philippines        '</span></li>\n",
       "\t<li><span style=white-space:pre-wrap>'Syria              '</span></li>\n",
       "\t<li><span style=white-space:pre-wrap>'Thailand           '</span></li>\n",
       "\t<li><span style=white-space:pre-wrap>'Turkey             '</span></li>\n",
       "\t<li><span style=white-space:pre-wrap>'South_Vietnam      '</span></li>\n",
       "\t<li><span style=white-space:pre-wrap>'Afganistan         '</span></li>\n",
       "\t<li><span style=white-space:pre-wrap>'Bangladesh         '</span></li>\n",
       "\t<li><span style=white-space:pre-wrap>'Burma              '</span></li>\n",
       "\t<li><span style=white-space:pre-wrap>'Burundi            '</span></li>\n",
       "\t<li><span style=white-space:pre-wrap>'Cambodia           '</span></li>\n",
       "\t<li>'Central_African_Rep'</li>\n",
       "\t<li><span style=white-space:pre-wrap>'Chad               '</span></li>\n",
       "\t<li><span style=white-space:pre-wrap>'Dahomey            '</span></li>\n",
       "\t<li><span style=white-space:pre-wrap>'Ethiopia           '</span></li>\n",
       "\t<li><span style=white-space:pre-wrap>'Guinea             '</span></li>\n",
       "\t<li><span style=white-space:pre-wrap>'India              '</span></li>\n",
       "\t<li><span style=white-space:pre-wrap>'Kenya              '</span></li>\n",
       "\t<li><span style=white-space:pre-wrap>'Madagascar         '</span></li>\n",
       "\t<li><span style=white-space:pre-wrap>'Malawi             '</span></li>\n",
       "\t<li><span style=white-space:pre-wrap>'Mali               '</span></li>\n",
       "\t<li><span style=white-space:pre-wrap>'Mauritania         '</span></li>\n",
       "\t<li><span style=white-space:pre-wrap>'Niger              '</span></li>\n",
       "\t<li><span style=white-space:pre-wrap>'Pakistan           '</span></li>\n",
       "\t<li><span style=white-space:pre-wrap>'Rwanda             '</span></li>\n",
       "\t<li><span style=white-space:pre-wrap>'Sierra_Leone       '</span></li>\n",
       "\t<li><span style=white-space:pre-wrap>'Somalia            '</span></li>\n",
       "\t<li><span style=white-space:pre-wrap>'Sri_Lanka          '</span></li>\n",
       "\t<li><span style=white-space:pre-wrap>'Sudan              '</span></li>\n",
       "\t<li><span style=white-space:pre-wrap>'Tanzania           '</span></li>\n",
       "\t<li><span style=white-space:pre-wrap>'Togo               '</span></li>\n",
       "\t<li><span style=white-space:pre-wrap>'Uganda             '</span></li>\n",
       "\t<li><span style=white-space:pre-wrap>'Upper_Volta        '</span></li>\n",
       "\t<li><span style=white-space:pre-wrap>'Southern_Yemen     '</span></li>\n",
       "\t<li><span style=white-space:pre-wrap>'Yemen              '</span></li>\n",
       "\t<li><span style=white-space:pre-wrap>'Zaire              '</span></li>\n",
       "</ol>\n"
      ],
      "text/latex": [
       "\\begin{enumerate*}\n",
       "\\item 'Australia          '\n",
       "\\item 'Austria            '\n",
       "\\item 'Belgium            '\n",
       "\\item 'Canada             '\n",
       "\\item 'Denmark            '\n",
       "\\item 'Finland            '\n",
       "\\item 'France             '\n",
       "\\item 'West\\_Germany       '\n",
       "\\item 'Ireland            '\n",
       "\\item 'Italy              '\n",
       "\\item 'Japan              '\n",
       "\\item 'Netherlands        '\n",
       "\\item 'New\\_Zealand        '\n",
       "\\item 'Norway             '\n",
       "\\item 'Portugal           '\n",
       "\\item 'South\\_Africa       '\n",
       "\\item 'Sweden             '\n",
       "\\item 'Switzerland        '\n",
       "\\item 'Britain            '\n",
       "\\item 'United\\_States      '\n",
       "\\item 'Algeria            '\n",
       "\\item 'Ecuador            '\n",
       "\\item 'Indonesia          '\n",
       "\\item 'Libya              '\n",
       "\\item 'Nigeria            '\n",
       "\\item 'Venezuela          '\n",
       "\\item 'Argentina          '\n",
       "\\item 'Brazil             '\n",
       "\\item 'Chile              '\n",
       "\\item 'Colombia           '\n",
       "\\item 'Costa\\_Rica         '\n",
       "\\item 'Dominican\\_Republic '\n",
       "\\item 'Greece             '\n",
       "\\item 'Guatemala          '\n",
       "\\item 'Israel             '\n",
       "\\item 'Jamaica            '\n",
       "\\item 'Lebanon            '\n",
       "\\item 'Malaysia           '\n",
       "\\item 'Mexico             '\n",
       "\\item 'Nicaragua          '\n",
       "\\item 'Panama             '\n",
       "\\item 'Peru               '\n",
       "\\item 'Singapore          '\n",
       "\\item 'Spain              '\n",
       "\\item 'Taiwan             '\n",
       "\\item 'Trinidad\\_and\\_Tobago'\n",
       "\\item 'Tunisia            '\n",
       "\\item 'Uruguay            '\n",
       "\\item 'Yugoslavia         '\n",
       "\\item 'Zambia             '\n",
       "\\item 'Bolivia            '\n",
       "\\item 'Cameroon           '\n",
       "\\item 'Congo              '\n",
       "\\item 'Egypt              '\n",
       "\\item 'El\\_Salvador        '\n",
       "\\item 'Ghana              '\n",
       "\\item 'Honduras           '\n",
       "\\item 'Ivory\\_Coast        '\n",
       "\\item 'Jordan             '\n",
       "\\item 'South\\_Korea        '\n",
       "\\item 'Liberia            '\n",
       "\\item 'Moroco             '\n",
       "\\item 'Papua\\_New\\_Guinea   '\n",
       "\\item 'Paraguay           '\n",
       "\\item 'Philippines        '\n",
       "\\item 'Syria              '\n",
       "\\item 'Thailand           '\n",
       "\\item 'Turkey             '\n",
       "\\item 'South\\_Vietnam      '\n",
       "\\item 'Afganistan         '\n",
       "\\item 'Bangladesh         '\n",
       "\\item 'Burma              '\n",
       "\\item 'Burundi            '\n",
       "\\item 'Cambodia           '\n",
       "\\item 'Central\\_African\\_Rep'\n",
       "\\item 'Chad               '\n",
       "\\item 'Dahomey            '\n",
       "\\item 'Ethiopia           '\n",
       "\\item 'Guinea             '\n",
       "\\item 'India              '\n",
       "\\item 'Kenya              '\n",
       "\\item 'Madagascar         '\n",
       "\\item 'Malawi             '\n",
       "\\item 'Mali               '\n",
       "\\item 'Mauritania         '\n",
       "\\item 'Niger              '\n",
       "\\item 'Pakistan           '\n",
       "\\item 'Rwanda             '\n",
       "\\item 'Sierra\\_Leone       '\n",
       "\\item 'Somalia            '\n",
       "\\item 'Sri\\_Lanka          '\n",
       "\\item 'Sudan              '\n",
       "\\item 'Tanzania           '\n",
       "\\item 'Togo               '\n",
       "\\item 'Uganda             '\n",
       "\\item 'Upper\\_Volta        '\n",
       "\\item 'Southern\\_Yemen     '\n",
       "\\item 'Yemen              '\n",
       "\\item 'Zaire              '\n",
       "\\end{enumerate*}\n"
      ],
      "text/markdown": [
       "1. <span style=white-space:pre-wrap>'Australia          '</span>\n",
       "2. <span style=white-space:pre-wrap>'Austria            '</span>\n",
       "3. <span style=white-space:pre-wrap>'Belgium            '</span>\n",
       "4. <span style=white-space:pre-wrap>'Canada             '</span>\n",
       "5. <span style=white-space:pre-wrap>'Denmark            '</span>\n",
       "6. <span style=white-space:pre-wrap>'Finland            '</span>\n",
       "7. <span style=white-space:pre-wrap>'France             '</span>\n",
       "8. <span style=white-space:pre-wrap>'West_Germany       '</span>\n",
       "9. <span style=white-space:pre-wrap>'Ireland            '</span>\n",
       "10. <span style=white-space:pre-wrap>'Italy              '</span>\n",
       "11. <span style=white-space:pre-wrap>'Japan              '</span>\n",
       "12. <span style=white-space:pre-wrap>'Netherlands        '</span>\n",
       "13. <span style=white-space:pre-wrap>'New_Zealand        '</span>\n",
       "14. <span style=white-space:pre-wrap>'Norway             '</span>\n",
       "15. <span style=white-space:pre-wrap>'Portugal           '</span>\n",
       "16. <span style=white-space:pre-wrap>'South_Africa       '</span>\n",
       "17. <span style=white-space:pre-wrap>'Sweden             '</span>\n",
       "18. <span style=white-space:pre-wrap>'Switzerland        '</span>\n",
       "19. <span style=white-space:pre-wrap>'Britain            '</span>\n",
       "20. <span style=white-space:pre-wrap>'United_States      '</span>\n",
       "21. <span style=white-space:pre-wrap>'Algeria            '</span>\n",
       "22. <span style=white-space:pre-wrap>'Ecuador            '</span>\n",
       "23. <span style=white-space:pre-wrap>'Indonesia          '</span>\n",
       "24. <span style=white-space:pre-wrap>'Libya              '</span>\n",
       "25. <span style=white-space:pre-wrap>'Nigeria            '</span>\n",
       "26. <span style=white-space:pre-wrap>'Venezuela          '</span>\n",
       "27. <span style=white-space:pre-wrap>'Argentina          '</span>\n",
       "28. <span style=white-space:pre-wrap>'Brazil             '</span>\n",
       "29. <span style=white-space:pre-wrap>'Chile              '</span>\n",
       "30. <span style=white-space:pre-wrap>'Colombia           '</span>\n",
       "31. <span style=white-space:pre-wrap>'Costa_Rica         '</span>\n",
       "32. 'Dominican_Republic '\n",
       "33. <span style=white-space:pre-wrap>'Greece             '</span>\n",
       "34. <span style=white-space:pre-wrap>'Guatemala          '</span>\n",
       "35. <span style=white-space:pre-wrap>'Israel             '</span>\n",
       "36. <span style=white-space:pre-wrap>'Jamaica            '</span>\n",
       "37. <span style=white-space:pre-wrap>'Lebanon            '</span>\n",
       "38. <span style=white-space:pre-wrap>'Malaysia           '</span>\n",
       "39. <span style=white-space:pre-wrap>'Mexico             '</span>\n",
       "40. <span style=white-space:pre-wrap>'Nicaragua          '</span>\n",
       "41. <span style=white-space:pre-wrap>'Panama             '</span>\n",
       "42. <span style=white-space:pre-wrap>'Peru               '</span>\n",
       "43. <span style=white-space:pre-wrap>'Singapore          '</span>\n",
       "44. <span style=white-space:pre-wrap>'Spain              '</span>\n",
       "45. <span style=white-space:pre-wrap>'Taiwan             '</span>\n",
       "46. 'Trinidad_and_Tobago'\n",
       "47. <span style=white-space:pre-wrap>'Tunisia            '</span>\n",
       "48. <span style=white-space:pre-wrap>'Uruguay            '</span>\n",
       "49. <span style=white-space:pre-wrap>'Yugoslavia         '</span>\n",
       "50. <span style=white-space:pre-wrap>'Zambia             '</span>\n",
       "51. <span style=white-space:pre-wrap>'Bolivia            '</span>\n",
       "52. <span style=white-space:pre-wrap>'Cameroon           '</span>\n",
       "53. <span style=white-space:pre-wrap>'Congo              '</span>\n",
       "54. <span style=white-space:pre-wrap>'Egypt              '</span>\n",
       "55. <span style=white-space:pre-wrap>'El_Salvador        '</span>\n",
       "56. <span style=white-space:pre-wrap>'Ghana              '</span>\n",
       "57. <span style=white-space:pre-wrap>'Honduras           '</span>\n",
       "58. <span style=white-space:pre-wrap>'Ivory_Coast        '</span>\n",
       "59. <span style=white-space:pre-wrap>'Jordan             '</span>\n",
       "60. <span style=white-space:pre-wrap>'South_Korea        '</span>\n",
       "61. <span style=white-space:pre-wrap>'Liberia            '</span>\n",
       "62. <span style=white-space:pre-wrap>'Moroco             '</span>\n",
       "63. <span style=white-space:pre-wrap>'Papua_New_Guinea   '</span>\n",
       "64. <span style=white-space:pre-wrap>'Paraguay           '</span>\n",
       "65. <span style=white-space:pre-wrap>'Philippines        '</span>\n",
       "66. <span style=white-space:pre-wrap>'Syria              '</span>\n",
       "67. <span style=white-space:pre-wrap>'Thailand           '</span>\n",
       "68. <span style=white-space:pre-wrap>'Turkey             '</span>\n",
       "69. <span style=white-space:pre-wrap>'South_Vietnam      '</span>\n",
       "70. <span style=white-space:pre-wrap>'Afganistan         '</span>\n",
       "71. <span style=white-space:pre-wrap>'Bangladesh         '</span>\n",
       "72. <span style=white-space:pre-wrap>'Burma              '</span>\n",
       "73. <span style=white-space:pre-wrap>'Burundi            '</span>\n",
       "74. <span style=white-space:pre-wrap>'Cambodia           '</span>\n",
       "75. 'Central_African_Rep'\n",
       "76. <span style=white-space:pre-wrap>'Chad               '</span>\n",
       "77. <span style=white-space:pre-wrap>'Dahomey            '</span>\n",
       "78. <span style=white-space:pre-wrap>'Ethiopia           '</span>\n",
       "79. <span style=white-space:pre-wrap>'Guinea             '</span>\n",
       "80. <span style=white-space:pre-wrap>'India              '</span>\n",
       "81. <span style=white-space:pre-wrap>'Kenya              '</span>\n",
       "82. <span style=white-space:pre-wrap>'Madagascar         '</span>\n",
       "83. <span style=white-space:pre-wrap>'Malawi             '</span>\n",
       "84. <span style=white-space:pre-wrap>'Mali               '</span>\n",
       "85. <span style=white-space:pre-wrap>'Mauritania         '</span>\n",
       "86. <span style=white-space:pre-wrap>'Niger              '</span>\n",
       "87. <span style=white-space:pre-wrap>'Pakistan           '</span>\n",
       "88. <span style=white-space:pre-wrap>'Rwanda             '</span>\n",
       "89. <span style=white-space:pre-wrap>'Sierra_Leone       '</span>\n",
       "90. <span style=white-space:pre-wrap>'Somalia            '</span>\n",
       "91. <span style=white-space:pre-wrap>'Sri_Lanka          '</span>\n",
       "92. <span style=white-space:pre-wrap>'Sudan              '</span>\n",
       "93. <span style=white-space:pre-wrap>'Tanzania           '</span>\n",
       "94. <span style=white-space:pre-wrap>'Togo               '</span>\n",
       "95. <span style=white-space:pre-wrap>'Uganda             '</span>\n",
       "96. <span style=white-space:pre-wrap>'Upper_Volta        '</span>\n",
       "97. <span style=white-space:pre-wrap>'Southern_Yemen     '</span>\n",
       "98. <span style=white-space:pre-wrap>'Yemen              '</span>\n",
       "99. <span style=white-space:pre-wrap>'Zaire              '</span>\n",
       "\n",
       "\n"
      ],
      "text/plain": [
       " [1] \"Australia          \" \"Austria            \" \"Belgium            \"\n",
       " [4] \"Canada             \" \"Denmark            \" \"Finland            \"\n",
       " [7] \"France             \" \"West_Germany       \" \"Ireland            \"\n",
       "[10] \"Italy              \" \"Japan              \" \"Netherlands        \"\n",
       "[13] \"New_Zealand        \" \"Norway             \" \"Portugal           \"\n",
       "[16] \"South_Africa       \" \"Sweden             \" \"Switzerland        \"\n",
       "[19] \"Britain            \" \"United_States      \" \"Algeria            \"\n",
       "[22] \"Ecuador            \" \"Indonesia          \" \"Libya              \"\n",
       "[25] \"Nigeria            \" \"Venezuela          \" \"Argentina          \"\n",
       "[28] \"Brazil             \" \"Chile              \" \"Colombia           \"\n",
       "[31] \"Costa_Rica         \" \"Dominican_Republic \" \"Greece             \"\n",
       "[34] \"Guatemala          \" \"Israel             \" \"Jamaica            \"\n",
       "[37] \"Lebanon            \" \"Malaysia           \" \"Mexico             \"\n",
       "[40] \"Nicaragua          \" \"Panama             \" \"Peru               \"\n",
       "[43] \"Singapore          \" \"Spain              \" \"Taiwan             \"\n",
       "[46] \"Trinidad_and_Tobago\" \"Tunisia            \" \"Uruguay            \"\n",
       "[49] \"Yugoslavia         \" \"Zambia             \" \"Bolivia            \"\n",
       "[52] \"Cameroon           \" \"Congo              \" \"Egypt              \"\n",
       "[55] \"El_Salvador        \" \"Ghana              \" \"Honduras           \"\n",
       "[58] \"Ivory_Coast        \" \"Jordan             \" \"South_Korea        \"\n",
       "[61] \"Liberia            \" \"Moroco             \" \"Papua_New_Guinea   \"\n",
       "[64] \"Paraguay           \" \"Philippines        \" \"Syria              \"\n",
       "[67] \"Thailand           \" \"Turkey             \" \"South_Vietnam      \"\n",
       "[70] \"Afganistan         \" \"Bangladesh         \" \"Burma              \"\n",
       "[73] \"Burundi            \" \"Cambodia           \" \"Central_African_Rep\"\n",
       "[76] \"Chad               \" \"Dahomey            \" \"Ethiopia           \"\n",
       "[79] \"Guinea             \" \"India              \" \"Kenya              \"\n",
       "[82] \"Madagascar         \" \"Malawi             \" \"Mali               \"\n",
       "[85] \"Mauritania         \" \"Niger              \" \"Pakistan           \"\n",
       "[88] \"Rwanda             \" \"Sierra_Leone       \" \"Somalia            \"\n",
       "[91] \"Sri_Lanka          \" \"Sudan              \" \"Tanzania           \"\n",
       "[94] \"Togo               \" \"Uganda             \" \"Upper_Volta        \"\n",
       "[97] \"Southern_Yemen     \" \"Yemen              \" \"Zaire              \""
      ]
     },
     "metadata": {},
     "output_type": "display_data"
    }
   ],
   "source": [
    "row.names(new_infmort)"
   ]
  },
  {
   "cell_type": "code",
   "execution_count": 625,
   "id": "vital-silver",
   "metadata": {},
   "outputs": [
    {
     "data": {
      "text/plain": [
       "\n",
       "Call:\n",
       "lm(formula = log(mortality) ~ log(income) + region + oil + log(income) * \n",
       "    region + log(income) * oil + region * oil, data = new_infmort)\n",
       "\n",
       "Residuals:\n",
       "     Min       1Q   Median       3Q      Max \n",
       "-1.26138 -0.26401 -0.01274  0.29714  1.42471 \n",
       "\n",
       "Coefficients: (1 not defined because of singularities)\n",
       "                                 Estimate Std. Error t value Pr(>|t|)   \n",
       "(Intercept)                        1.5832     1.4429   1.097  0.27557   \n",
       "log(income)                        0.4884     0.2190   2.230  0.02831 * \n",
       "regionEurope                       1.5898     1.5336   1.037  0.30278   \n",
       "regionAsia                         2.9323     1.0202   2.874  0.00509 **\n",
       "regionAmericas                     1.6810     1.1893   1.413  0.16108   \n",
       "oilno oil exports                  3.8537     1.4970   2.574  0.01174 * \n",
       "log(income):regionEurope          -0.4222     0.2181  -1.936  0.05617 . \n",
       "log(income):regionAsia            -0.4219     0.1531  -2.755  0.00714 **\n",
       "log(income):regionAmericas        -0.3476     0.1737  -2.001  0.04851 * \n",
       "log(income):oilno oil exports     -0.5979     0.2378  -2.515  0.01376 * \n",
       "regionEurope:oilno oil exports         NA         NA      NA       NA   \n",
       "regionAsia:oilno oil exports      -1.5084     0.6926  -2.178  0.03212 * \n",
       "regionAmericas:oilno oil exports  -0.3279     0.4961  -0.661  0.51040   \n",
       "---\n",
       "Signif. codes:  0 '***' 0.001 '**' 0.01 '*' 0.05 '.' 0.1 ' ' 1\n",
       "\n",
       "Residual standard error: 0.4816 on 87 degrees of freedom\n",
       "Multiple R-squared:  0.7691,\tAdjusted R-squared:  0.7399 \n",
       "F-statistic: 26.34 on 11 and 87 DF,  p-value: < 2.2e-16\n"
      ]
     },
     "metadata": {},
     "output_type": "display_data"
    },
    {
     "data": {
      "text/html": [
       "<table>\n",
       "<thead><tr><th></th><th scope=col>Df</th><th scope=col>Sum Sq</th><th scope=col>Mean Sq</th><th scope=col>F value</th><th scope=col>Pr(&gt;F)</th></tr></thead>\n",
       "<tbody>\n",
       "\t<tr><th scope=row>log(income)</th><td> 1      </td><td>50.6662 </td><td>50.6662 </td><td>218.4763</td><td>0.0000  </td></tr>\n",
       "\t<tr><th scope=row>region</th><td> 3      </td><td>10.4303 </td><td> 3.4768 </td><td> 14.9920</td><td>0.0000  </td></tr>\n",
       "\t<tr><th scope=row>oil</th><td> 1      </td><td> 0.8610 </td><td> 0.8610 </td><td>  3.7127</td><td>0.0573  </td></tr>\n",
       "\t<tr><th scope=row>log(income):region</th><td> 3      </td><td> 3.4286 </td><td> 1.1429 </td><td>  4.9281</td><td>0.0033  </td></tr>\n",
       "\t<tr><th scope=row>log(income):oil</th><td> 1      </td><td> 0.7023 </td><td> 0.7023 </td><td>  3.0285</td><td>0.0854  </td></tr>\n",
       "\t<tr><th scope=row>region:oil</th><td> 2      </td><td> 1.1002 </td><td> 0.5501 </td><td>  2.3722</td><td>0.0993  </td></tr>\n",
       "\t<tr><th scope=row>Residuals</th><td>87      </td><td>20.1759 </td><td> 0.2319 </td><td>      NA</td><td>    NA  </td></tr>\n",
       "</tbody>\n",
       "</table>\n"
      ],
      "text/latex": [
       "\\begin{tabular}{r|lllll}\n",
       "  & Df & Sum Sq & Mean Sq & F value & Pr(>F)\\\\\n",
       "\\hline\n",
       "\tlog(income) &  1       & 50.6662  & 50.6662  & 218.4763 & 0.0000  \\\\\n",
       "\tregion &  3       & 10.4303  &  3.4768  &  14.9920 & 0.0000  \\\\\n",
       "\toil &  1       &  0.8610  &  0.8610  &   3.7127 & 0.0573  \\\\\n",
       "\tlog(income):region &  3       &  3.4286  &  1.1429  &   4.9281 & 0.0033  \\\\\n",
       "\tlog(income):oil &  1       &  0.7023  &  0.7023  &   3.0285 & 0.0854  \\\\\n",
       "\tregion:oil &  2       &  1.1002  &  0.5501  &   2.3722 & 0.0993  \\\\\n",
       "\tResiduals & 87       & 20.1759  &  0.2319  &       NA &     NA  \\\\\n",
       "\\end{tabular}\n"
      ],
      "text/markdown": [
       "\n",
       "| <!--/--> | Df | Sum Sq | Mean Sq | F value | Pr(>F) |\n",
       "|---|---|---|---|---|---|\n",
       "| log(income) |  1       | 50.6662  | 50.6662  | 218.4763 | 0.0000   |\n",
       "| region |  3       | 10.4303  |  3.4768  |  14.9920 | 0.0000   |\n",
       "| oil |  1       |  0.8610  |  0.8610  |   3.7127 | 0.0573   |\n",
       "| log(income):region |  3       |  3.4286  |  1.1429  |   4.9281 | 0.0033   |\n",
       "| log(income):oil |  1       |  0.7023  |  0.7023  |   3.0285 | 0.0854   |\n",
       "| region:oil |  2       |  1.1002  |  0.5501  |   2.3722 | 0.0993   |\n",
       "| Residuals | 87       | 20.1759  |  0.2319  |       NA |     NA   |\n",
       "\n"
      ],
      "text/plain": [
       "                   Df Sum Sq  Mean Sq F value  Pr(>F)\n",
       "log(income)         1 50.6662 50.6662 218.4763 0.0000\n",
       "region              3 10.4303  3.4768  14.9920 0.0000\n",
       "oil                 1  0.8610  0.8610   3.7127 0.0573\n",
       "log(income):region  3  3.4286  1.1429   4.9281 0.0033\n",
       "log(income):oil     1  0.7023  0.7023   3.0285 0.0854\n",
       "region:oil          2  1.1002  0.5501   2.3722 0.0993\n",
       "Residuals          87 20.1759  0.2319       NA     NA"
      ]
     },
     "metadata": {},
     "output_type": "display_data"
    }
   ],
   "source": [
    "mod_c = lm(log(mortality) ~ log(income) + region + oil + log(income)*region + log(income)*oil + region*oil, data = new_infmort)\n",
    "# mod_c = lm(log(mortality) ~ log(income)*region*oil, data = new_infmort)\n",
    "summary(mod_c)\n",
    "round(anova(mod_c),4)"
   ]
  },
  {
   "cell_type": "markdown",
   "id": "stuffed-rebate",
   "metadata": {},
   "source": [
    "* After removing these two datapoints, residual standard error has reduced from 0.7376 to 0.7691 and $R^2$ value increased from 0.5258 to 0.7691."
   ]
  },
  {
   "cell_type": "code",
   "execution_count": 298,
   "id": "mexican-aquarium",
   "metadata": {},
   "outputs": [
    {
     "name": "stderr",
     "output_type": "stream",
     "text": [
      "Warning message in predict.lm(mod_c, new_infmort):\n",
      "\"prediction from a rank-deficient fit may be misleading\""
     ]
    },
    {
     "data": {
      "image/png": "[encoded data removed]",
      "text/plain": [
       "plot without title"
      ]
     },
     "metadata": {},
     "output_type": "display_data"
    }
   ],
   "source": [
    "pred = exp(predict(mod_c, new_infmort))\n",
    "plot1 <- ggplot(data = new_infmort, aes(x = income, y = mortality, color = region))+\n",
    "    geom_point()+\n",
    "    theme_update(plot.title = element_text(hjust = 0.5))+\n",
    "    theme_set(theme_bw())+\n",
    "    geom_point()+\n",
    "    labs(title='Income vs Mortality mod_c', x='income', y = 'mortality')+\n",
    "    geom_line(aes(x = income, y = pred), color = 'dodgerblue', size = 0.75)\n",
    "plot1"
   ]
  },
  {
   "cell_type": "markdown",
   "id": "bored-hostel",
   "metadata": {},
   "source": [
    "<b>(d) Interpret your model by explaining what the regression parameter estimates mean."
   ]
  },
  {
   "cell_type": "markdown",
   "id": "satisfactory-psychiatry",
   "metadata": {},
   "source": [
    "* Interaction is created by product of any two variables.\n",
    "\n",
    "$\\hat{y}= \\beta_0 + \\beta_1 x_1 + \\beta_2 x_2 + \\beta_3 x_1*x_2$\n",
    "\n",
    "* $\\beta_0$ is intecept\n",
    "* $\\beta_1$ is slope when $x_2$ is zero\n",
    "* $\\beta_2$ is the slope when $x_1$ is zero\n",
    "* $\\beta_3$ is the interaction term; change in slope of $x_1$ when $x_2$ changes by unity and vice versa\n",
    "* In the similar way, we can interpret the $\\beta$ values estimated by our model for different interactions.\n",
    "* The interactions region-Europe and oil-no oil exports, region-America and oil-no oil exports, and log(income) and region-Europe are not significant at 5% $\\alpha$ level.\n",
    "* The residual standard error is 0.4816. 76.91% of the variation in mortality is explained by the model."
   ]
  },
  {
   "cell_type": "markdown",
   "id": "veterinary-abraham",
   "metadata": {},
   "source": [
    "<b> Problem 3: Generate 100 observations from the model $y = \\sin^3(2πx^3) + ε$, with $ε ∼N(0,(0.1)^2)$. (The model is described in section 9.5 of the textbook).\n",
    "    \n",
    "(a) Fit regression splines with 12 evenly-spaced knots using $y ∼ bs(x, knots = . . .)$. You need to load the splines package. Display the fit on top of the data.\n",
    "    \n",
    "(b) Compute the AIC for this model.\n",
    "    \n",
    "(c) Compute the Adjusted $R^2$\n",
    "    \n",
    "(d) Compute the AIC for all models with a number of knots between 3 and 20 inclusive.\n",
    "Plot the AIC as a function of the number of degrees of freedom. Which model is the\n",
    "best?\n",
    "    \n",
    "(e) Plot the fit for your selected model on top of the data."
   ]
  },
  {
   "cell_type": "markdown",
   "id": "consistent-leisure",
   "metadata": {},
   "source": [
    "Generate 100 observations"
   ]
  },
  {
   "cell_type": "code",
   "execution_count": 111,
   "id": "otherwise-austin",
   "metadata": {},
   "outputs": [],
   "source": [
    "set.seed(42)\n",
    "e = rnorm(n = 100, mean = 0, sd = 0.1)\n",
    "x = seq(0, 0.99, by = 0.01)\n",
    "y = sin(2*pi*x^3)^3 + e\n",
    "data = data.frame(x, y)"
   ]
  },
  {
   "cell_type": "code",
   "execution_count": 112,
   "id": "regular-faith",
   "metadata": {},
   "outputs": [
    {
     "data": {
      "image/png": "[encoded data removed]",
      "text/plain": [
       "plot without title"
      ]
     },
     "metadata": {},
     "output_type": "display_data"
    }
   ],
   "source": [
    "options(repr.plot.width=12, repr.plot.height=4)\n",
    "\n",
    "plot1 <- ggplot(data = data, aes(x = x, y = y))+\n",
    "    geom_point()+\n",
    "    theme_update(plot.title = element_text(hjust = 0.5))+\n",
    "    theme_set(theme_bw())+\n",
    "    geom_point(color = 'dodgerblue')+\n",
    "    labs(title='Simulated Data', x='x', y = 'y')\n",
    "plot1"
   ]
  },
  {
   "cell_type": "markdown",
   "id": "living-ladder",
   "metadata": {},
   "source": [
    "<b>(a) Fit regression splines with 12 evenly-spaced knots using  𝑦∼𝑏𝑠(𝑥,𝑘𝑛𝑜𝑡𝑠=...) . You need to load the splines package. Display the fit on top of the data."
   ]
  },
  {
   "cell_type": "code",
   "execution_count": 113,
   "id": "silent-constitutional",
   "metadata": {},
   "outputs": [],
   "source": [
    "library(splines)"
   ]
  },
  {
   "cell_type": "code",
   "execution_count": 114,
   "id": "interesting-retreat",
   "metadata": {},
   "outputs": [
    {
     "data": {
      "text/html": [
       "<ol class=list-inline>\n",
       "\t<li>0.153846153846154</li>\n",
       "\t<li>0.307692307692308</li>\n",
       "\t<li>0.461538461538462</li>\n",
       "\t<li>0.615384615384615</li>\n",
       "\t<li>0.769230769230769</li>\n",
       "\t<li>0.923076923076923</li>\n",
       "\t<li>1.07692307692308</li>\n",
       "\t<li>1.23076923076923</li>\n",
       "\t<li>1.38461538461538</li>\n",
       "\t<li>1.53846153846154</li>\n",
       "\t<li>1.69230769230769</li>\n",
       "\t<li>1.84615384615385</li>\n",
       "</ol>\n"
      ],
      "text/latex": [
       "\\begin{enumerate*}\n",
       "\\item 0.153846153846154\n",
       "\\item 0.307692307692308\n",
       "\\item 0.461538461538462\n",
       "\\item 0.615384615384615\n",
       "\\item 0.769230769230769\n",
       "\\item 0.923076923076923\n",
       "\\item 1.07692307692308\n",
       "\\item 1.23076923076923\n",
       "\\item 1.38461538461538\n",
       "\\item 1.53846153846154\n",
       "\\item 1.69230769230769\n",
       "\\item 1.84615384615385\n",
       "\\end{enumerate*}\n"
      ],
      "text/markdown": [
       "1. 0.153846153846154\n",
       "2. 0.307692307692308\n",
       "3. 0.461538461538462\n",
       "4. 0.615384615384615\n",
       "5. 0.769230769230769\n",
       "6. 0.923076923076923\n",
       "7. 1.07692307692308\n",
       "8. 1.23076923076923\n",
       "9. 1.38461538461538\n",
       "10. 1.53846153846154\n",
       "11. 1.69230769230769\n",
       "12. 1.84615384615385\n",
       "\n",
       "\n"
      ],
      "text/plain": [
       " [1] 0.1538462 0.3076923 0.4615385 0.6153846 0.7692308 0.9230769 1.0769231\n",
       " [8] 1.2307692 1.3846154 1.5384615 1.6923077 1.8461538"
      ]
     },
     "metadata": {},
     "output_type": "display_data"
    }
   ],
   "source": [
    "m=12;\n",
    "myknots= 2*(1:m)/(m+1)\n",
    "myknots"
   ]
  },
  {
   "cell_type": "code",
   "execution_count": 115,
   "id": "separated-catering",
   "metadata": {
    "scrolled": true
   },
   "outputs": [
    {
     "data": {
      "text/html": [
       "<ol class=list-inline>\n",
       "\t<li>100</li>\n",
       "\t<li>16</li>\n",
       "</ol>\n"
      ],
      "text/latex": [
       "\\begin{enumerate*}\n",
       "\\item 100\n",
       "\\item 16\n",
       "\\end{enumerate*}\n"
      ],
      "text/markdown": [
       "1. 100\n",
       "2. 16\n",
       "\n",
       "\n"
      ],
      "text/plain": [
       "[1] 100  16"
      ]
     },
     "metadata": {},
     "output_type": "display_data"
    }
   ],
   "source": [
    "F = bs(x,knots=myknots, intercept=TRUE) #Using the Intercept option\n",
    "dim(F)"
   ]
  },
  {
   "cell_type": "code",
   "execution_count": 116,
   "id": "racial-consideration",
   "metadata": {
    "scrolled": true
   },
   "outputs": [
    {
     "data": {
      "image/png": "[encoded data removed]",
      "text/plain": [
       "plot without title"
      ]
     },
     "metadata": {},
     "output_type": "display_data"
    }
   ],
   "source": [
    "mydf = m+4\n",
    "n = length(x)\n",
    "tmpdata = data.frame(t = rep(1:n, mydf),\n",
    "                     basisfunc=as.vector(F), \n",
    "                     type=as.factor(rep(1:mydf, each=n)))\n",
    "ggplot(tmpdata, aes(x=t, y=basisfunc, color=type)) + \n",
    "  geom_path(size = 1)\n",
    "#   geom_point(data = data, aes(x = x, y = y),color = 'dodgerblue')"
   ]
  },
  {
   "cell_type": "code",
   "execution_count": 117,
   "id": "favorite-proxy",
   "metadata": {},
   "outputs": [
    {
     "data": {
      "text/plain": [
       "\n",
       "Call:\n",
       "lm(formula = y ~ bs(x, knots = myknots, intercept = TRUE))\n",
       "\n",
       "Residuals:\n",
       "     Min       1Q   Median       3Q      Max \n",
       "-0.33482 -0.06863 -0.00407  0.08639  0.26544 \n",
       "\n",
       "Coefficients: (6 not defined because of singularities)\n",
       "                                           Estimate Std. Error t value Pr(>|t|)\n",
       "(Intercept)                                 0.05893    0.13222   0.446    0.657\n",
       "bs(x, knots = myknots, intercept = TRUE)1  -0.04326    0.16158  -0.268    0.790\n",
       "bs(x, knots = myknots, intercept = TRUE)2   0.10771    0.17240   0.625    0.534\n",
       "bs(x, knots = myknots, intercept = TRUE)3  -0.20294    0.16962  -1.196    0.235\n",
       "bs(x, knots = myknots, intercept = TRUE)4   0.01653    0.15682   0.105    0.916\n",
       "bs(x, knots = myknots, intercept = TRUE)5  -0.19558    0.15424  -1.268    0.208\n",
       "bs(x, knots = myknots, intercept = TRUE)6   1.39757    0.15554   8.985 4.03e-14\n",
       "bs(x, knots = myknots, intercept = TRUE)7  -0.01946    0.16373  -0.119    0.906\n",
       "bs(x, knots = myknots, intercept = TRUE)8  -0.80570    0.17536  -4.594 1.42e-05\n",
       "bs(x, knots = myknots, intercept = TRUE)9  -0.90676    0.18300  -4.955 3.42e-06\n",
       "bs(x, knots = myknots, intercept = TRUE)10  0.55441    0.26040   2.129    0.036\n",
       "bs(x, knots = myknots, intercept = TRUE)11       NA         NA      NA       NA\n",
       "bs(x, knots = myknots, intercept = TRUE)12       NA         NA      NA       NA\n",
       "bs(x, knots = myknots, intercept = TRUE)13       NA         NA      NA       NA\n",
       "bs(x, knots = myknots, intercept = TRUE)14       NA         NA      NA       NA\n",
       "bs(x, knots = myknots, intercept = TRUE)15       NA         NA      NA       NA\n",
       "bs(x, knots = myknots, intercept = TRUE)16       NA         NA      NA       NA\n",
       "                                              \n",
       "(Intercept)                                   \n",
       "bs(x, knots = myknots, intercept = TRUE)1     \n",
       "bs(x, knots = myknots, intercept = TRUE)2     \n",
       "bs(x, knots = myknots, intercept = TRUE)3     \n",
       "bs(x, knots = myknots, intercept = TRUE)4     \n",
       "bs(x, knots = myknots, intercept = TRUE)5     \n",
       "bs(x, knots = myknots, intercept = TRUE)6  ***\n",
       "bs(x, knots = myknots, intercept = TRUE)7     \n",
       "bs(x, knots = myknots, intercept = TRUE)8  ***\n",
       "bs(x, knots = myknots, intercept = TRUE)9  ***\n",
       "bs(x, knots = myknots, intercept = TRUE)10 *  \n",
       "bs(x, knots = myknots, intercept = TRUE)11    \n",
       "bs(x, knots = myknots, intercept = TRUE)12    \n",
       "bs(x, knots = myknots, intercept = TRUE)13    \n",
       "bs(x, knots = myknots, intercept = TRUE)14    \n",
       "bs(x, knots = myknots, intercept = TRUE)15    \n",
       "bs(x, knots = myknots, intercept = TRUE)16    \n",
       "---\n",
       "Signif. codes:  0 '***' 0.001 '**' 0.01 '*' 0.05 '.' 0.1 ' ' 1\n",
       "\n",
       "Residual standard error: 0.1322 on 89 degrees of freedom\n",
       "Multiple R-squared:  0.9226,\tAdjusted R-squared:  0.9139 \n",
       "F-statistic: 106.1 on 10 and 89 DF,  p-value: < 2.2e-16\n"
      ]
     },
     "metadata": {},
     "output_type": "display_data"
    }
   ],
   "source": [
    "mod_using_knots = lm(y ~ bs(x, knots = myknots, intercept = TRUE))\n",
    "summary(mod_using_knots)"
   ]
  },
  {
   "cell_type": "code",
   "execution_count": 118,
   "id": "pending-timeline",
   "metadata": {
    "scrolled": false
   },
   "outputs": [
    {
     "data": {
      "text/plain": [
       "\n",
       "Call:\n",
       "lm(formula = y ~ bs(x, df = 15, intercept = FALSE), data = data)\n",
       "\n",
       "Residuals:\n",
       "     Min       1Q   Median       3Q      Max \n",
       "-0.30926 -0.06214  0.01633  0.05692  0.20160 \n",
       "\n",
       "Coefficients:\n",
       "                                    Estimate Std. Error t value Pr(>|t|)    \n",
       "(Intercept)                          0.09976    0.08783   1.136  0.25923    \n",
       "bs(x, df = 15, intercept = FALSE)1  -0.21117    0.17296  -1.221  0.22553    \n",
       "bs(x, df = 15, intercept = FALSE)2   0.19561    0.12645   1.547  0.12563    \n",
       "bs(x, df = 15, intercept = FALSE)3  -0.28894    0.13450  -2.148  0.03457 *  \n",
       "bs(x, df = 15, intercept = FALSE)4  -0.06883    0.11729  -0.587  0.55893    \n",
       "bs(x, df = 15, intercept = FALSE)5  -0.06679    0.12295  -0.543  0.58840    \n",
       "bs(x, df = 15, intercept = FALSE)6  -0.21186    0.11894  -1.781  0.07848 .  \n",
       "bs(x, df = 15, intercept = FALSE)7   0.09149    0.12081   0.757  0.45100    \n",
       "bs(x, df = 15, intercept = FALSE)8   0.40649    0.11976   3.394  0.00105 ** \n",
       "bs(x, df = 15, intercept = FALSE)9   0.99570    0.12042   8.269 1.76e-12 ***\n",
       "bs(x, df = 15, intercept = FALSE)10  0.85697    0.12048   7.113 3.49e-10 ***\n",
       "bs(x, df = 15, intercept = FALSE)11 -0.35700    0.12190  -2.929  0.00438 ** \n",
       "bs(x, df = 15, intercept = FALSE)12  0.14626    0.12632   1.158  0.25023    \n",
       "bs(x, df = 15, intercept = FALSE)13 -1.67488    0.14393 -11.637  < 2e-16 ***\n",
       "bs(x, df = 15, intercept = FALSE)14 -0.32860    0.14528  -2.262  0.02629 *  \n",
       "bs(x, df = 15, intercept = FALSE)15 -0.04345    0.12421  -0.350  0.72734    \n",
       "---\n",
       "Signif. codes:  0 '***' 0.001 '**' 0.01 '*' 0.05 '.' 0.1 ' ' 1\n",
       "\n",
       "Residual standard error: 0.1014 on 84 degrees of freedom\n",
       "Multiple R-squared:  0.957,\tAdjusted R-squared:  0.9494 \n",
       "F-statistic: 124.7 on 15 and 84 DF,  p-value: < 2.2e-16\n"
      ]
     },
     "metadata": {},
     "output_type": "display_data"
    }
   ],
   "source": [
    "mod_a = lm(y ~ bs(x, df = 15, intercept = FALSE), data = data)\n",
    "summary(mod_a)"
   ]
  },
  {
   "cell_type": "code",
   "execution_count": 119,
   "id": "opponent-primary",
   "metadata": {},
   "outputs": [
    {
     "data": {
      "image/png": "[encoded data removed]",
      "text/plain": [
       "plot without title"
      ]
     },
     "metadata": {},
     "output_type": "display_data"
    }
   ],
   "source": [
    "pred = predict(mod_a, data)\n",
    "plot1 <- ggplot(data = data, aes(x = x, y = y))+\n",
    "    geom_point()+\n",
    "    theme_update(plot.title = element_text(hjust = 0.5))+\n",
    "    theme_set(theme_bw())+\n",
    "    geom_point(color = 'dodgerblue')+\n",
    "    labs(title='Simulated Data', x='x', y = 'y')+\n",
    "    geom_line(aes(x = x, y = pred), color = 'red', size = 0.75)\n",
    "plot1"
   ]
  },
  {
   "cell_type": "markdown",
   "id": "suffering-witness",
   "metadata": {},
   "source": [
    "<b>(b) Compute the AIC for this model."
   ]
  },
  {
   "attachments": {
    "image.png": {
     "image/png": "[encoded data removed]"
    }
   },
   "cell_type": "markdown",
   "id": "random-andrews",
   "metadata": {},
   "source": [
    "![image.png](attachment:image.png)"
   ]
  },
  {
   "cell_type": "markdown",
   "id": "perfect-california",
   "metadata": {},
   "source": [
    "$p_\\gamma$ is number of parameters"
   ]
  },
  {
   "cell_type": "code",
   "execution_count": 120,
   "id": "fixed-chemistry",
   "metadata": {},
   "outputs": [
    {
     "data": {
      "text/html": [
       "-443.158229993163"
      ],
      "text/latex": [
       "-443.158229993163"
      ],
      "text/markdown": [
       "-443.158229993163"
      ],
      "text/plain": [
       "[1] -443.1582"
      ]
     },
     "metadata": {},
     "output_type": "display_data"
    }
   ],
   "source": [
    "AIC_mod_a = n*log(sum(mod_a$residuals**2)/n) + 2*16\n",
    "AIC_mod_a"
   ]
  },
  {
   "cell_type": "markdown",
   "id": "unlike-joint",
   "metadata": {},
   "source": [
    "<b>(c) Compute the Adjusted  𝑅2"
   ]
  },
  {
   "cell_type": "markdown",
   "id": "improved-moscow",
   "metadata": {},
   "source": [
    "<img src = \"https://wikimedia.org/api/rest_v1/media/math/render/svg/16a082d105dfbb4339e40cf7898950ce748743e8\">\n",
    "\n",
    "image source: https://en.wikipedia.org/wiki/Coefficient_of_determination\n",
    "\n",
    "$\\bar{R}^2$ is adjusted $R^2$"
   ]
  },
  {
   "cell_type": "code",
   "execution_count": 122,
   "id": "accompanied-filter",
   "metadata": {},
   "outputs": [
    {
     "data": {
      "text/html": [
       "0.949321428571429"
      ],
      "text/latex": [
       "0.949321428571429"
      ],
      "text/markdown": [
       "0.949321428571429"
      ],
      "text/plain": [
       "[1] 0.9493214"
      ]
     },
     "metadata": {},
     "output_type": "display_data"
    }
   ],
   "source": [
    "Adj_R_squared_for_model_with_df = 1 - ((1 - 0.957)*(100-1))/(100-15-1)\n",
    "Adj_R_squared_for_model_with_df"
   ]
  },
  {
   "cell_type": "code",
   "execution_count": 129,
   "id": "individual-merit",
   "metadata": {},
   "outputs": [
    {
     "data": {
      "text/html": [
       "0.913903370786517"
      ],
      "text/latex": [
       "0.913903370786517"
      ],
      "text/markdown": [
       "0.913903370786517"
      ],
      "text/plain": [
       "[1] 0.9139034"
      ]
     },
     "metadata": {},
     "output_type": "display_data"
    }
   ],
   "source": [
    "Adj_R_squared_for_model_with_knots = 1 - ((1 - 0.9226)*(100-1))/(100-10-1)\n",
    "Adj_R_squared_for_model_with_knots"
   ]
  },
  {
   "cell_type": "markdown",
   "id": "female-needle",
   "metadata": {},
   "source": [
    "<b>(d) Compute the AIC for all models with a number of knots between 3 and 20 inclusive. Plot the AIC as a function of the number of degrees of freedom. Which model is the best?"
   ]
  },
  {
   "cell_type": "markdown",
   "id": "operating-franchise",
   "metadata": {},
   "source": [
    "* We need to use knots between 3 and 20. Hence degrees of freedom for the models without intercept = false, will be between 6 to 23."
   ]
  },
  {
   "cell_type": "code",
   "execution_count": 130,
   "id": "printable-elder",
   "metadata": {},
   "outputs": [],
   "source": [
    "DoFs = 6:23\n",
    "# DoFs = 7:24"
   ]
  },
  {
   "cell_type": "code",
   "execution_count": 131,
   "id": "neither-wonder",
   "metadata": {},
   "outputs": [],
   "source": [
    "create_models = function(df){\n",
    "    mod = lm(y ~ bs(x, df = df, intercept = FALSE), data = data)\n",
    "    rss = sum(mod$residuals**2)\n",
    "}"
   ]
  },
  {
   "cell_type": "code",
   "execution_count": 132,
   "id": "willing-mission",
   "metadata": {},
   "outputs": [
    {
     "data": {
      "text/html": [
       "<ol class=list-inline>\n",
       "\t<li>2.42252336150288</li>\n",
       "\t<li>1.97140662667587</li>\n",
       "\t<li>1.87710971960585</li>\n",
       "\t<li>1.62166380836979</li>\n",
       "\t<li>1.3026093689183</li>\n",
       "\t<li>1.42139085977314</li>\n",
       "\t<li>1.50104631710189</li>\n",
       "\t<li>1.09512048176152</li>\n",
       "\t<li>0.822432124785787</li>\n",
       "\t<li>0.863801645119028</li>\n",
       "\t<li>0.867236719929665</li>\n",
       "\t<li>0.83481528199784</li>\n",
       "\t<li>0.839077674403963</li>\n",
       "\t<li>0.809722840684115</li>\n",
       "\t<li>0.796934121570797</li>\n",
       "\t<li>0.779250964512705</li>\n",
       "\t<li>0.80608287436758</li>\n",
       "\t<li>0.769918597800584</li>\n",
       "</ol>\n"
      ],
      "text/latex": [
       "\\begin{enumerate*}\n",
       "\\item 2.42252336150288\n",
       "\\item 1.97140662667587\n",
       "\\item 1.87710971960585\n",
       "\\item 1.62166380836979\n",
       "\\item 1.3026093689183\n",
       "\\item 1.42139085977314\n",
       "\\item 1.50104631710189\n",
       "\\item 1.09512048176152\n",
       "\\item 0.822432124785787\n",
       "\\item 0.863801645119028\n",
       "\\item 0.867236719929665\n",
       "\\item 0.83481528199784\n",
       "\\item 0.839077674403963\n",
       "\\item 0.809722840684115\n",
       "\\item 0.796934121570797\n",
       "\\item 0.779250964512705\n",
       "\\item 0.80608287436758\n",
       "\\item 0.769918597800584\n",
       "\\end{enumerate*}\n"
      ],
      "text/markdown": [
       "1. 2.42252336150288\n",
       "2. 1.97140662667587\n",
       "3. 1.87710971960585\n",
       "4. 1.62166380836979\n",
       "5. 1.3026093689183\n",
       "6. 1.42139085977314\n",
       "7. 1.50104631710189\n",
       "8. 1.09512048176152\n",
       "9. 0.822432124785787\n",
       "10. 0.863801645119028\n",
       "11. 0.867236719929665\n",
       "12. 0.83481528199784\n",
       "13. 0.839077674403963\n",
       "14. 0.809722840684115\n",
       "15. 0.796934121570797\n",
       "16. 0.779250964512705\n",
       "17. 0.80608287436758\n",
       "18. 0.769918597800584\n",
       "\n",
       "\n"
      ],
      "text/plain": [
       " [1] 2.4225234 1.9714066 1.8771097 1.6216638 1.3026094 1.4213909 1.5010463\n",
       " [8] 1.0951205 0.8224321 0.8638016 0.8672367 0.8348153 0.8390777 0.8097228\n",
       "[15] 0.7969341 0.7792510 0.8060829 0.7699186"
      ]
     },
     "metadata": {},
     "output_type": "display_data"
    }
   ],
   "source": [
    "models_RSS = sapply(DoFs, create_models)\n",
    "models_RSS"
   ]
  },
  {
   "cell_type": "code",
   "execution_count": 133,
   "id": "previous-dollar",
   "metadata": {},
   "outputs": [],
   "source": [
    "Calc_AIC_first_term = function(models_RSS){\n",
    "    n*log(sum(models_RSS)/n)\n",
    "}"
   ]
  },
  {
   "cell_type": "code",
   "execution_count": 134,
   "id": "express-batch",
   "metadata": {},
   "outputs": [
    {
     "data": {
      "text/html": [
       "<ol class=list-inline>\n",
       "\t<li>-358.036047770056</li>\n",
       "\t<li>-376.64228743385</li>\n",
       "\t<li>-379.543697532077</li>\n",
       "\t<li>-392.171752158724</li>\n",
       "\t<li>-412.080072640852</li>\n",
       "\t<li>-401.353431503772</li>\n",
       "\t<li>-393.900777631659</li>\n",
       "\t<li>-423.430579976642</li>\n",
       "\t<li>-450.065950879271</li>\n",
       "\t<li>-443.158229993163</li>\n",
       "\t<li>-440.761349208896</li>\n",
       "\t<li>-442.57149837562</li>\n",
       "\t<li>-440.062218304576</li>\n",
       "\t<li>-441.623344785286</li>\n",
       "\t<li>-441.215344760039</li>\n",
       "\t<li>-441.459230857866</li>\n",
       "\t<li>-436.073890595339</li>\n",
       "\t<li>-438.664067285305</li>\n",
       "</ol>\n"
      ],
      "text/latex": [
       "\\begin{enumerate*}\n",
       "\\item -358.036047770056\n",
       "\\item -376.64228743385\n",
       "\\item -379.543697532077\n",
       "\\item -392.171752158724\n",
       "\\item -412.080072640852\n",
       "\\item -401.353431503772\n",
       "\\item -393.900777631659\n",
       "\\item -423.430579976642\n",
       "\\item -450.065950879271\n",
       "\\item -443.158229993163\n",
       "\\item -440.761349208896\n",
       "\\item -442.57149837562\n",
       "\\item -440.062218304576\n",
       "\\item -441.623344785286\n",
       "\\item -441.215344760039\n",
       "\\item -441.459230857866\n",
       "\\item -436.073890595339\n",
       "\\item -438.664067285305\n",
       "\\end{enumerate*}\n"
      ],
      "text/markdown": [
       "1. -358.036047770056\n",
       "2. -376.64228743385\n",
       "3. -379.543697532077\n",
       "4. -392.171752158724\n",
       "5. -412.080072640852\n",
       "6. -401.353431503772\n",
       "7. -393.900777631659\n",
       "8. -423.430579976642\n",
       "9. -450.065950879271\n",
       "10. -443.158229993163\n",
       "11. -440.761349208896\n",
       "12. -442.57149837562\n",
       "13. -440.062218304576\n",
       "14. -441.623344785286\n",
       "15. -441.215344760039\n",
       "16. -441.459230857866\n",
       "17. -436.073890595339\n",
       "18. -438.664067285305\n",
       "\n",
       "\n"
      ],
      "text/plain": [
       " [1] -358.0360 -376.6423 -379.5437 -392.1718 -412.0801 -401.3534 -393.9008\n",
       " [8] -423.4306 -450.0660 -443.1582 -440.7613 -442.5715 -440.0622 -441.6233\n",
       "[15] -441.2153 -441.4592 -436.0739 -438.6641"
      ]
     },
     "metadata": {},
     "output_type": "display_data"
    }
   ],
   "source": [
    "AICs = sapply(models_RSS, Calc_AIC_first_term) + 2*(DoFs+1)\n",
    "AICs"
   ]
  },
  {
   "cell_type": "code",
   "execution_count": 135,
   "id": "local-tiger",
   "metadata": {},
   "outputs": [
    {
     "data": {
      "text/html": [
       "9"
      ],
      "text/latex": [
       "9"
      ],
      "text/markdown": [
       "9"
      ],
      "text/plain": [
       "[1] 9"
      ]
     },
     "metadata": {},
     "output_type": "display_data"
    }
   ],
   "source": [
    "which.min(AICs)"
   ]
  },
  {
   "cell_type": "code",
   "execution_count": 136,
   "id": "pacific-correction",
   "metadata": {},
   "outputs": [
    {
     "data": {
      "text/html": [
       "14"
      ],
      "text/latex": [
       "14"
      ],
      "text/markdown": [
       "14"
      ],
      "text/plain": [
       "[1] 14"
      ]
     },
     "metadata": {},
     "output_type": "display_data"
    }
   ],
   "source": [
    "DoFs[9]"
   ]
  },
  {
   "cell_type": "code",
   "execution_count": 137,
   "id": "compatible-locking",
   "metadata": {},
   "outputs": [
    {
     "data": {
      "image/png": "[encoded data removed]",
      "text/plain": [
       "plot without title"
      ]
     },
     "metadata": {},
     "output_type": "display_data"
    }
   ],
   "source": [
    "options(repr.plot.width=8, repr.plot.height=4)\n",
    "\n",
    "plot1 <- ggplot(data = data.frame(DoFs, AICs), aes(x = DoFs, y = AICs, size = AICs))+\n",
    "    geom_point()+\n",
    "    theme_update(plot.title = element_text(hjust = 0.5))+\n",
    "    theme_set(theme_bw())+\n",
    "    geom_point(color = 'dodgerblue')+\n",
    "    labs(title='Simulated Data', x='Degree of Freedom', y = 'AIC')\n",
    "plot1"
   ]
  },
  {
   "cell_type": "markdown",
   "id": "circular-upgrade",
   "metadata": {},
   "source": [
    "* Model with 14 Degrees of freedom (11 knots) has lowest AIC."
   ]
  },
  {
   "cell_type": "markdown",
   "id": "charged-shell",
   "metadata": {},
   "source": [
    "<b>(e) Plot the fit for your selected model on top of the data."
   ]
  },
  {
   "cell_type": "code",
   "execution_count": 138,
   "id": "sacred-tourism",
   "metadata": {},
   "outputs": [
    {
     "data": {
      "text/plain": [
       "\n",
       "Call:\n",
       "lm(formula = y ~ bs(x, df = 14, intercept = FALSE), data = data)\n",
       "\n",
       "Residuals:\n",
       "     Min       1Q   Median       3Q      Max \n",
       "-0.26586 -0.05829  0.01427  0.05113  0.21274 \n",
       "\n",
       "Coefficients:\n",
       "                                     Estimate Std. Error t value Pr(>|t|)    \n",
       "(Intercept)                          0.090284   0.083543   1.081 0.282893    \n",
       "bs(x, df = 14, intercept = FALSE)1  -0.174700   0.163641  -1.068 0.288732    \n",
       "bs(x, df = 14, intercept = FALSE)2   0.188217   0.118269   1.591 0.115226    \n",
       "bs(x, df = 14, intercept = FALSE)3  -0.311307   0.126884  -2.453 0.016190 *  \n",
       "bs(x, df = 14, intercept = FALSE)4   0.006656   0.110363   0.060 0.952049    \n",
       "bs(x, df = 14, intercept = FALSE)5  -0.130496   0.115917  -1.126 0.263432    \n",
       "bs(x, df = 14, intercept = FALSE)6  -0.151316   0.112041  -1.351 0.180425    \n",
       "bs(x, df = 14, intercept = FALSE)7   0.308877   0.113888   2.712 0.008090 ** \n",
       "bs(x, df = 14, intercept = FALSE)8   0.643346   0.112934   5.697 1.71e-07 ***\n",
       "bs(x, df = 14, intercept = FALSE)9   1.286963   0.113811  11.308  < 2e-16 ***\n",
       "bs(x, df = 14, intercept = FALSE)10 -0.325317   0.114682  -2.837 0.005697 ** \n",
       "bs(x, df = 14, intercept = FALSE)11  0.238733   0.119036   2.006 0.048085 *  \n",
       "bs(x, df = 14, intercept = FALSE)12 -1.547986   0.135259 -11.445  < 2e-16 ***\n",
       "bs(x, df = 14, intercept = FALSE)13 -0.483215   0.136930  -3.529 0.000676 ***\n",
       "bs(x, df = 14, intercept = FALSE)14 -0.003007   0.118141  -0.025 0.979750    \n",
       "---\n",
       "Signif. codes:  0 '***' 0.001 '**' 0.01 '*' 0.05 '.' 0.1 ' ' 1\n",
       "\n",
       "Residual standard error: 0.09836 on 85 degrees of freedom\n",
       "Multiple R-squared:  0.9591,\tAdjusted R-squared:  0.9523 \n",
       "F-statistic: 142.3 on 14 and 85 DF,  p-value: < 2.2e-16\n"
      ]
     },
     "metadata": {},
     "output_type": "display_data"
    }
   ],
   "source": [
    "final_model = lm(y ~ bs(x, df = 14, intercept = FALSE), data = data)\n",
    "summary(final_model)"
   ]
  },
  {
   "cell_type": "code",
   "execution_count": 139,
   "id": "crazy-virtue",
   "metadata": {},
   "outputs": [
    {
     "data": {
      "image/png": "[encoded data removed]",
      "text/plain": [
       "plot without title"
      ]
     },
     "metadata": {},
     "output_type": "display_data"
    }
   ],
   "source": [
    "options(repr.plot.width=12, repr.plot.height=4)\n",
    "\n",
    "pred = predict(final_model, data)\n",
    "plot1 <- ggplot(data = data, aes(x = x, y = y))+\n",
    "    geom_point()+\n",
    "    theme_update(plot.title = element_text(hjust = 0.5))+\n",
    "    theme_set(theme_bw())+\n",
    "    geom_point(color = 'dodgerblue')+\n",
    "    labs(title='Simulated Data', x='x', y = 'y')+\n",
    "    geom_line(aes(x = x, y = pred), color = 'red', size = 0.75)\n",
    "plot1"
   ]
  },
  {
   "cell_type": "code",
   "execution_count": 140,
   "id": "documentary-entity",
   "metadata": {},
   "outputs": [
    {
     "data": {
      "text/html": [
       "-450.065950879271"
      ],
      "text/latex": [
       "-450.065950879271"
      ],
      "text/markdown": [
       "-450.065950879271"
      ],
      "text/plain": [
       "[1] -450.066"
      ]
     },
     "metadata": {},
     "output_type": "display_data"
    }
   ],
   "source": [
    "AIC_final_model = n*log(sum(final_model$residuals**2)/n) + 2*15\n",
    "AIC_final_model"
   ]
  }
 ],
 "metadata": {
  "kernelspec": {
   "display_name": "R",
   "language": "R",
   "name": "ir"
  },
  "language_info": {
   "codemirror_mode": "r",
   "file_extension": ".r",
   "mimetype": "text/x-r-source",
   "name": "R",
   "pygments_lexer": "r",
   "version": "3.6.1"
  }
 },
 "nbformat": 4,
 "nbformat_minor": 5
}
