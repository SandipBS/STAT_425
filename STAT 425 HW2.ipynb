{
 "cells": [
  {
   "cell_type": "markdown",
   "id": "coordinate-petroleum",
   "metadata": {},
   "source": [
    "<b> Problem 1: A story by James R. Hagerty entitled With Buyers Sidelined, Home Prices Slide\n",
    "published in the Thursday October 25, 2007 edition of the Wall Street Journal contained data\n",
    "on so-called fundamental housing indicators in major real estate markets across the US. The\n",
    "author argues that prices are generally falling and overdue loan payments are piling up. Thus,\n",
    "we shall consider data presented in the article on: \n",
    "\n",
    "\n",
    "Y = Percentage change in average price from July 2006 to July 2007 (based on the S& P/Case-\n",
    "Shiller national housing index); and\n",
    "\n",
    "x = Percentage of mortgage loans 30 days or more overdue in latest quarter (based on data\n",
    "from Equifax and Moodys).\n",
    "\n",
    "The data are available in the file indicators.txt. Fit the following model to the data: Y =\n",
    "$\\beta 0$ + $\\beta x$ + e. Complete the following tasks:\n",
    "\n",
    "<ul>\n",
    "    <li>(a) Calculate the R2 and adjusted R2 for the SLR model1. Provide an interpretation of\n",
    "both quantities.</li>\n",
    "    \n",
    "<li>(b) Find a 95% confidence interval for the slope of the regression model, Beta1. On the basis of\n",
    "this confidence interval decide whether there is evidence of a significant negative linear\n",
    "association.</li>\n",
    "\n",
    "<li>(c) Use the fitted regression model to estimate E(Y|X = 4). Find a 95% confidence interval\n",
    "for E(Y|X = 4). Is 0% a feasible value for E(Y|X = 4)? Give a reason to support your\n",
    "answer.</li>\n",
    "</ul>\n",
    "    </b>"
   ]
  },
  {
   "cell_type": "markdown",
   "id": "aerial-virginia",
   "metadata": {},
   "source": [
    "<b>(a) Calculate the R2 and adjusted R2 for the SLR model1. Provide an interpretation of both quantities."
   ]
  },
  {
   "cell_type": "markdown",
   "id": "excess-cooking",
   "metadata": {},
   "source": [
    "### Read data"
   ]
  },
  {
   "cell_type": "code",
   "execution_count": 442,
   "id": "enhanced-significance",
   "metadata": {
    "scrolled": true
   },
   "outputs": [],
   "source": [
    "# install.packages(\"readxl\")\n",
    "# install.packages(\"ggrepel\")"
   ]
  },
  {
   "cell_type": "code",
   "execution_count": 4,
   "id": "vital-nature",
   "metadata": {},
   "outputs": [],
   "source": [
    "library(\"readxl\")\n",
    "library(\"ggplot2\")\n",
    "library(\"ggrepel\")\n",
    "library(repr)\n",
    "options(repr.plot.width=6, repr.plot.height=4)\n",
    "df = read_excel(\"indicators.xlsx\")"
   ]
  },
  {
   "cell_type": "code",
   "execution_count": 5,
   "id": "general-spanking",
   "metadata": {
    "scrolled": false
   },
   "outputs": [
    {
     "data": {
      "text/html": [
       "<table>\n",
       "<thead><tr><th scope=col>MetroArea</th><th scope=col>PriceChange</th><th scope=col>LoanPaymentsOverdue</th></tr></thead>\n",
       "<tbody>\n",
       "\t<tr><td>Atlanta</td><td> 1.2   </td><td>4.55   </td></tr>\n",
       "\t<tr><td>Boston </td><td>-3.4   </td><td>3.31   </td></tr>\n",
       "\t<tr><td>Chicago</td><td>-0.9   </td><td>2.99   </td></tr>\n",
       "</tbody>\n",
       "</table>\n"
      ],
      "text/latex": [
       "\\begin{tabular}{r|lll}\n",
       " MetroArea & PriceChange & LoanPaymentsOverdue\\\\\n",
       "\\hline\n",
       "\t Atlanta &  1.2    & 4.55   \\\\\n",
       "\t Boston  & -3.4    & 3.31   \\\\\n",
       "\t Chicago & -0.9    & 2.99   \\\\\n",
       "\\end{tabular}\n"
      ],
      "text/markdown": [
       "\n",
       "| MetroArea | PriceChange | LoanPaymentsOverdue |\n",
       "|---|---|---|\n",
       "| Atlanta |  1.2    | 4.55    |\n",
       "| Boston  | -3.4    | 3.31    |\n",
       "| Chicago | -0.9    | 2.99    |\n",
       "\n"
      ],
      "text/plain": [
       "  MetroArea PriceChange LoanPaymentsOverdue\n",
       "1 Atlanta    1.2        4.55               \n",
       "2 Boston    -3.4        3.31               \n",
       "3 Chicago   -0.9        2.99               "
      ]
     },
     "metadata": {},
     "output_type": "display_data"
    }
   ],
   "source": [
    "head(df,3)"
   ]
  },
  {
   "cell_type": "code",
   "execution_count": 6,
   "id": "scheduled-stamp",
   "metadata": {},
   "outputs": [
    {
     "data": {
      "image/png": "[encoded data removed]",
      "text/plain": [
       "plot without title"
      ]
     },
     "metadata": {},
     "output_type": "display_data"
    }
   ],
   "source": [
    "ggplot(data = df, aes(LoanPaymentsOverdue, PriceChange))+\n",
    "    theme_minimal()+\n",
    "    theme_update(plot.title = element_text(hjust = 0.5))+\n",
    "    theme_set(theme_bw())+\n",
    "    geom_point(color='red')+\n",
    "    geom_label_repel(aes(label = MetroArea),\n",
    "                  box.padding   = 0.1, \n",
    "                  point.padding = 0.5,\n",
    "                  segment.color = 'blue') +\n",
    "    labs(title='Home Prices and loan payments')+\n",
    "    geom_smooth(method = lm, color='navyblue')"
   ]
  },
  {
   "cell_type": "code",
   "execution_count": 66,
   "id": "falling-manitoba",
   "metadata": {},
   "outputs": [
    {
     "data": {
      "text/plain": [
       "\n",
       "Call:\n",
       "lm(formula = PriceChange ~ LoanPaymentsOverdue, data = df)\n",
       "\n",
       "Residuals:\n",
       "    Min      1Q  Median      3Q     Max \n",
       "-4.6541 -3.3419 -0.6944  2.5288  6.9163 \n",
       "\n",
       "Coefficients:\n",
       "                    Estimate Std. Error t value Pr(>|t|)  \n",
       "(Intercept)           4.5145     3.3240   1.358   0.1933  \n",
       "LoanPaymentsOverdue  -2.2485     0.9033  -2.489   0.0242 *\n",
       "---\n",
       "Signif. codes:  0 '***' 0.001 '**' 0.01 '*' 0.05 '.' 0.1 ' ' 1\n",
       "\n",
       "Residual standard error: 3.954 on 16 degrees of freedom\n",
       "Multiple R-squared:  0.2792,\tAdjusted R-squared:  0.2341 \n",
       "F-statistic: 6.196 on 1 and 16 DF,  p-value: 0.02419\n"
      ]
     },
     "metadata": {},
     "output_type": "display_data"
    }
   ],
   "source": [
    "model = lm(PriceChange~LoanPaymentsOverdue, data = df)\n",
    "summary(model)"
   ]
  },
  {
   "cell_type": "markdown",
   "id": "threaded-holly",
   "metadata": {},
   "source": [
    "* The multiple R-squared value is <b>0.2792</b> and adjusted R-squared is <b>0.2341</b>. This means <b>27.92 %</b> of the variation in price change in explained by load payments overdue.\n",
    "* Residual standard error is <b>3.954 </b>"
   ]
  },
  {
   "cell_type": "markdown",
   "id": "cheap-geneva",
   "metadata": {},
   "source": [
    "* Adjusted R-square: R-sq = 1 - RSS/TSS; Adjusted R-square is defined similarly except that RSS is normalized by its df and TSS is normalized by its df."
   ]
  },
  {
   "cell_type": "code",
   "execution_count": 76,
   "id": "provincial-cassette",
   "metadata": {
    "scrolled": true
   },
   "outputs": [
    {
     "data": {
      "text/html": [
       "0.234099728809603"
      ],
      "text/latex": [
       "0.234099728809603"
      ],
      "text/markdown": [
       "0.234099728809603"
      ],
      "text/plain": [
       "[1] 0.2340997"
      ]
     },
     "metadata": {},
     "output_type": "display_data"
    }
   ],
   "source": [
    "adjusted_R_sq = 1 - sum(model$res^2)/(length(df$MetroArea)-2)/(sum((df$PriceChange-mean(df$PriceChange))^2)/(length(df$MetroArea)-1))\n",
    "adjusted_R_sq"
   ]
  },
  {
   "cell_type": "markdown",
   "id": "specified-james",
   "metadata": {},
   "source": [
    "<b>(b) Find a 95% confidence interval for the slope of the regression model, Beta1. On the basis of this confidence interval decide whether there is evidence of a significant negative linear association."
   ]
  },
  {
   "cell_type": "code",
   "execution_count": 80,
   "id": "novel-toyota",
   "metadata": {
    "scrolled": false
   },
   "outputs": [
    {
     "data": {
      "text/html": [
       "<table>\n",
       "<thead><tr><th></th><th scope=col>2.5 %</th><th scope=col>97.5 %</th></tr></thead>\n",
       "<tbody>\n",
       "\t<tr><th scope=row>LoanPaymentsOverdue</th><td>-4.163454 </td><td>-0.3335853</td></tr>\n",
       "</tbody>\n",
       "</table>\n"
      ],
      "text/latex": [
       "\\begin{tabular}{r|ll}\n",
       "  & 2.5 \\% & 97.5 \\%\\\\\n",
       "\\hline\n",
       "\tLoanPaymentsOverdue & -4.163454  & -0.3335853\\\\\n",
       "\\end{tabular}\n"
      ],
      "text/markdown": [
       "\n",
       "| <!--/--> | 2.5 % | 97.5 % |\n",
       "|---|---|---|\n",
       "| LoanPaymentsOverdue | -4.163454  | -0.3335853 |\n",
       "\n"
      ],
      "text/plain": [
       "                    2.5 %     97.5 %    \n",
       "LoanPaymentsOverdue -4.163454 -0.3335853"
      ]
     },
     "metadata": {},
     "output_type": "display_data"
    }
   ],
   "source": [
    "confint(model,'LoanPaymentsOverdue',level=0.95)"
   ]
  },
  {
   "cell_type": "markdown",
   "id": "known-death",
   "metadata": {},
   "source": [
    "* From 95% confidence interval for slope it is clear that we have significant negative correlation between LoanPaymentsOverdue and price change "
   ]
  },
  {
   "cell_type": "markdown",
   "id": "difficult-welsh",
   "metadata": {},
   "source": [
    "<b>(c) Use the fitted regression model to estimate E(Y|X = 4). Find a 95% confidence interval for E(Y|X = 4). Is 0% a feasible value for E(Y|X = 4)? Give a reason to support your answer."
   ]
  },
  {
   "cell_type": "code",
   "execution_count": 84,
   "id": "center-moderator",
   "metadata": {},
   "outputs": [
    {
     "data": {
      "text/html": [
       "<strong>1:</strong> -4.47958536542933"
      ],
      "text/latex": [
       "\\textbf{1:} -4.47958536542933"
      ],
      "text/markdown": [
       "**1:** -4.47958536542933"
      ],
      "text/plain": [
       "        1 \n",
       "-4.479585 "
      ]
     },
     "metadata": {},
     "output_type": "display_data"
    }
   ],
   "source": [
    "predict(model, data.frame(LoanPaymentsOverdue = 4))"
   ]
  },
  {
   "cell_type": "code",
   "execution_count": 87,
   "id": "minor-machinery",
   "metadata": {},
   "outputs": [
    {
     "data": {
      "text/html": [
       "<table>\n",
       "<thead><tr><th scope=col>fit</th><th scope=col>lwr</th><th scope=col>upr</th></tr></thead>\n",
       "<tbody>\n",
       "\t<tr><td>-4.479585</td><td>-6.648849</td><td>-2.310322</td></tr>\n",
       "</tbody>\n",
       "</table>\n"
      ],
      "text/latex": [
       "\\begin{tabular}{r|lll}\n",
       " fit & lwr & upr\\\\\n",
       "\\hline\n",
       "\t -4.479585 & -6.648849 & -2.310322\\\\\n",
       "\\end{tabular}\n"
      ],
      "text/markdown": [
       "\n",
       "| fit | lwr | upr |\n",
       "|---|---|---|\n",
       "| -4.479585 | -6.648849 | -2.310322 |\n",
       "\n"
      ],
      "text/plain": [
       "  fit       lwr       upr      \n",
       "1 -4.479585 -6.648849 -2.310322"
      ]
     },
     "metadata": {},
     "output_type": "display_data"
    }
   ],
   "source": [
    "predict(model, newdata=data.frame(LoanPaymentsOverdue = 4), se=TRUE, interval=\"confidence\")$fit"
   ]
  },
  {
   "cell_type": "markdown",
   "id": "adapted-finger",
   "metadata": {},
   "source": [
    "* 6.648849-2.310322 = 4.338527; 95% confidence interval when LoadPaymentsOverdue is 4 is 4.338527.\n",
    "* Since 95% confidence interval for price change when loan payments overdue is 4 is between -6.648849 and -2.310322, value of 0 is not feasible. Value 0 is outside the confidence interval of 95% confidence."
   ]
  },
  {
   "cell_type": "markdown",
   "id": "intermediate-forum",
   "metadata": {},
   "source": [
    "________________________________________________"
   ]
  },
  {
   "cell_type": "markdown",
   "id": "diverse-productivity",
   "metadata": {},
   "source": [
    "<b>Problem 2: Using the sat data from the faraway library:\n",
    "<ul><li>(a) Fit a model with total sat score as the response and expend, ratio and salary as predic-\n",
    "tors.</li>\n",
    "<li>(b) Test the hypothesis that Betasalary = 0.</li>\n",
    "<li>(c) Test the hypothesis that Betasalary = Betaratio = Betaexpend = 0. Do any of these predictors have\n",
    "an effect on the response?.</li>\n",
    "<li>(d) Now add takers to the model. Test the hypothesis that Betatakers = 0. Compare this model\n",
    "to the previous one using an F-test. Demonstrate that the F-test is equivalent to the\n",
    "t-test.</li></ul></b>"
   ]
  },
  {
   "cell_type": "code",
   "execution_count": 3,
   "id": "mobile-ethics",
   "metadata": {},
   "outputs": [],
   "source": [
    "# install.packages('faraway')\n",
    "library(\"faraway\")"
   ]
  },
  {
   "cell_type": "code",
   "execution_count": 4,
   "id": "sophisticated-reducing",
   "metadata": {},
   "outputs": [],
   "source": [
    "data(sat)"
   ]
  },
  {
   "cell_type": "code",
   "execution_count": 400,
   "id": "white-drink",
   "metadata": {
    "scrolled": false
   },
   "outputs": [
    {
     "data": {
      "text/html": [
       "<table>\n",
       "<thead><tr><th></th><th scope=col>expend</th><th scope=col>ratio</th><th scope=col>salary</th><th scope=col>takers</th><th scope=col>verbal</th><th scope=col>math</th><th scope=col>total</th></tr></thead>\n",
       "<tbody>\n",
       "\t<tr><th scope=row>Alabama</th><td>4.405 </td><td>17.2  </td><td>31.144</td><td> 8    </td><td>491   </td><td>538   </td><td>1029  </td></tr>\n",
       "\t<tr><th scope=row>Alaska</th><td>8.963 </td><td>17.6  </td><td>47.951</td><td>47    </td><td>445   </td><td>489   </td><td> 934  </td></tr>\n",
       "\t<tr><th scope=row>Arizona</th><td>4.778 </td><td>19.3  </td><td>32.175</td><td>27    </td><td>448   </td><td>496   </td><td> 944  </td></tr>\n",
       "</tbody>\n",
       "</table>\n"
      ],
      "text/latex": [
       "\\begin{tabular}{r|lllllll}\n",
       "  & expend & ratio & salary & takers & verbal & math & total\\\\\n",
       "\\hline\n",
       "\tAlabama & 4.405  & 17.2   & 31.144 &  8     & 491    & 538    & 1029  \\\\\n",
       "\tAlaska & 8.963  & 17.6   & 47.951 & 47     & 445    & 489    &  934  \\\\\n",
       "\tArizona & 4.778  & 19.3   & 32.175 & 27     & 448    & 496    &  944  \\\\\n",
       "\\end{tabular}\n"
      ],
      "text/markdown": [
       "\n",
       "| <!--/--> | expend | ratio | salary | takers | verbal | math | total |\n",
       "|---|---|---|---|---|---|---|---|\n",
       "| Alabama | 4.405  | 17.2   | 31.144 |  8     | 491    | 538    | 1029   |\n",
       "| Alaska | 8.963  | 17.6   | 47.951 | 47     | 445    | 489    |  934   |\n",
       "| Arizona | 4.778  | 19.3   | 32.175 | 27     | 448    | 496    |  944   |\n",
       "\n"
      ],
      "text/plain": [
       "        expend ratio salary takers verbal math total\n",
       "Alabama 4.405  17.2  31.144  8     491    538  1029 \n",
       "Alaska  8.963  17.6  47.951 47     445    489   934 \n",
       "Arizona 4.778  19.3  32.175 27     448    496   944 "
      ]
     },
     "metadata": {},
     "output_type": "display_data"
    }
   ],
   "source": [
    "head(sat, 3)"
   ]
  },
  {
   "cell_type": "code",
   "execution_count": 401,
   "id": "waiting-employer",
   "metadata": {},
   "outputs": [
    {
     "data": {
      "text/html": [
       "<table>\n",
       "<thead><tr><th></th><th scope=col>expend</th><th scope=col>ratio</th><th scope=col>salary</th><th scope=col>takers</th><th scope=col>verbal</th><th scope=col>math</th><th scope=col>total</th></tr></thead>\n",
       "<tbody>\n",
       "\t<tr><th scope=row>expend</th><td> 1.0000000  </td><td>-0.371025386</td><td> 0.869801513</td><td> 0.5926274  </td><td>-0.41004987 </td><td>-0.34941409 </td><td>-0.38053700 </td></tr>\n",
       "\t<tr><th scope=row>ratio</th><td>-0.3710254  </td><td> 1.000000000</td><td>-0.001146081</td><td>-0.2130536  </td><td> 0.06376664 </td><td> 0.09542173 </td><td> 0.08125382 </td></tr>\n",
       "\t<tr><th scope=row>salary</th><td> 0.8698015  </td><td>-0.001146081</td><td> 1.000000000</td><td> 0.6167799  </td><td>-0.47696364 </td><td>-0.40131282 </td><td>-0.43988338 </td></tr>\n",
       "\t<tr><th scope=row>takers</th><td> 0.5926274  </td><td>-0.213053607</td><td> 0.616779867</td><td> 1.0000000  </td><td>-0.89326296 </td><td>-0.86938393 </td><td>-0.88711868 </td></tr>\n",
       "\t<tr><th scope=row>verbal</th><td>-0.4100499  </td><td> 0.063766636</td><td>-0.476963635</td><td>-0.8932630  </td><td> 1.00000000 </td><td> 0.97025604 </td><td> 0.99150325 </td></tr>\n",
       "\t<tr><th scope=row>math</th><td>-0.3494141  </td><td> 0.095421730</td><td>-0.401312817</td><td>-0.8693839  </td><td> 0.97025604 </td><td> 1.00000000 </td><td> 0.99350238 </td></tr>\n",
       "\t<tr><th scope=row>total</th><td>-0.3805370  </td><td> 0.081253823</td><td>-0.439883381</td><td>-0.8871187  </td><td> 0.99150325 </td><td> 0.99350238 </td><td> 1.00000000 </td></tr>\n",
       "</tbody>\n",
       "</table>\n"
      ],
      "text/latex": [
       "\\begin{tabular}{r|lllllll}\n",
       "  & expend & ratio & salary & takers & verbal & math & total\\\\\n",
       "\\hline\n",
       "\texpend &  1.0000000   & -0.371025386 &  0.869801513 &  0.5926274   & -0.41004987  & -0.34941409  & -0.38053700 \\\\\n",
       "\tratio & -0.3710254   &  1.000000000 & -0.001146081 & -0.2130536   &  0.06376664  &  0.09542173  &  0.08125382 \\\\\n",
       "\tsalary &  0.8698015   & -0.001146081 &  1.000000000 &  0.6167799   & -0.47696364  & -0.40131282  & -0.43988338 \\\\\n",
       "\ttakers &  0.5926274   & -0.213053607 &  0.616779867 &  1.0000000   & -0.89326296  & -0.86938393  & -0.88711868 \\\\\n",
       "\tverbal & -0.4100499   &  0.063766636 & -0.476963635 & -0.8932630   &  1.00000000  &  0.97025604  &  0.99150325 \\\\\n",
       "\tmath & -0.3494141   &  0.095421730 & -0.401312817 & -0.8693839   &  0.97025604  &  1.00000000  &  0.99350238 \\\\\n",
       "\ttotal & -0.3805370   &  0.081253823 & -0.439883381 & -0.8871187   &  0.99150325  &  0.99350238  &  1.00000000 \\\\\n",
       "\\end{tabular}\n"
      ],
      "text/markdown": [
       "\n",
       "| <!--/--> | expend | ratio | salary | takers | verbal | math | total |\n",
       "|---|---|---|---|---|---|---|---|\n",
       "| expend |  1.0000000   | -0.371025386 |  0.869801513 |  0.5926274   | -0.41004987  | -0.34941409  | -0.38053700  |\n",
       "| ratio | -0.3710254   |  1.000000000 | -0.001146081 | -0.2130536   |  0.06376664  |  0.09542173  |  0.08125382  |\n",
       "| salary |  0.8698015   | -0.001146081 |  1.000000000 |  0.6167799   | -0.47696364  | -0.40131282  | -0.43988338  |\n",
       "| takers |  0.5926274   | -0.213053607 |  0.616779867 |  1.0000000   | -0.89326296  | -0.86938393  | -0.88711868  |\n",
       "| verbal | -0.4100499   |  0.063766636 | -0.476963635 | -0.8932630   |  1.00000000  |  0.97025604  |  0.99150325  |\n",
       "| math | -0.3494141   |  0.095421730 | -0.401312817 | -0.8693839   |  0.97025604  |  1.00000000  |  0.99350238  |\n",
       "| total | -0.3805370   |  0.081253823 | -0.439883381 | -0.8871187   |  0.99150325  |  0.99350238  |  1.00000000  |\n",
       "\n"
      ],
      "text/plain": [
       "       expend     ratio        salary       takers     verbal      math       \n",
       "expend  1.0000000 -0.371025386  0.869801513  0.5926274 -0.41004987 -0.34941409\n",
       "ratio  -0.3710254  1.000000000 -0.001146081 -0.2130536  0.06376664  0.09542173\n",
       "salary  0.8698015 -0.001146081  1.000000000  0.6167799 -0.47696364 -0.40131282\n",
       "takers  0.5926274 -0.213053607  0.616779867  1.0000000 -0.89326296 -0.86938393\n",
       "verbal -0.4100499  0.063766636 -0.476963635 -0.8932630  1.00000000  0.97025604\n",
       "math   -0.3494141  0.095421730 -0.401312817 -0.8693839  0.97025604  1.00000000\n",
       "total  -0.3805370  0.081253823 -0.439883381 -0.8871187  0.99150325  0.99350238\n",
       "       total      \n",
       "expend -0.38053700\n",
       "ratio   0.08125382\n",
       "salary -0.43988338\n",
       "takers -0.88711868\n",
       "verbal  0.99150325\n",
       "math    0.99350238\n",
       "total   1.00000000"
      ]
     },
     "metadata": {},
     "output_type": "display_data"
    }
   ],
   "source": [
    "cor(sat)"
   ]
  },
  {
   "cell_type": "markdown",
   "id": "anonymous-chess",
   "metadata": {},
   "source": [
    "<b>2.a) Fit a model with total sat score as the response and expend, ratio and salary as predictors."
   ]
  },
  {
   "cell_type": "code",
   "execution_count": 402,
   "id": "broke-warning",
   "metadata": {},
   "outputs": [
    {
     "data": {
      "text/plain": [
       "\n",
       "Call:\n",
       "lm(formula = total ~ expend + ratio + salary, data = sat)\n",
       "\n",
       "Residuals:\n",
       "     Min       1Q   Median       3Q      Max \n",
       "-140.911  -46.740   -7.535   47.966  123.329 \n",
       "\n",
       "Coefficients:\n",
       "            Estimate Std. Error t value Pr(>|t|)    \n",
       "(Intercept) 1069.234    110.925   9.639 1.29e-12 ***\n",
       "expend        16.469     22.050   0.747   0.4589    \n",
       "ratio          6.330      6.542   0.968   0.3383    \n",
       "salary        -8.823      4.697  -1.878   0.0667 .  \n",
       "---\n",
       "Signif. codes:  0 '***' 0.001 '**' 0.01 '*' 0.05 '.' 0.1 ' ' 1\n",
       "\n",
       "Residual standard error: 68.65 on 46 degrees of freedom\n",
       "Multiple R-squared:  0.2096,\tAdjusted R-squared:  0.1581 \n",
       "F-statistic: 4.066 on 3 and 46 DF,  p-value: 0.01209\n"
      ]
     },
     "metadata": {},
     "output_type": "display_data"
    }
   ],
   "source": [
    "model2.a = lm(total~expend+ratio+salary, data = sat)\n",
    "summary(model2.a)"
   ]
  },
  {
   "cell_type": "markdown",
   "id": "united-agreement",
   "metadata": {},
   "source": [
    "<b>(b) Test the hypothesis that Betasalary = 0. </b> </font>"
   ]
  },
  {
   "cell_type": "markdown",
   "id": "framed-recruitment",
   "metadata": {},
   "source": [
    "to test this hypothesis, we have below null and alternate hypothesis:\n",
    "* Null Hypothesis: $\\beta salary$ = 0 \n",
    "* Alternate Hypothesis: $\\beta salary$ $\\not=$ 0"
   ]
  },
  {
   "cell_type": "code",
   "execution_count": 409,
   "id": "handed-description",
   "metadata": {},
   "outputs": [],
   "source": [
    "model2.a_salary_reduced= lm(total ~ expend + ratio, data = sat)"
   ]
  },
  {
   "cell_type": "code",
   "execution_count": 410,
   "id": "hawaiian-parks",
   "metadata": {
    "scrolled": false
   },
   "outputs": [
    {
     "data": {
      "text/plain": [
       "\n",
       "Call:\n",
       "lm(formula = total ~ expend + ratio, data = sat)\n",
       "\n",
       "Residuals:\n",
       "     Min       1Q   Median       3Q      Max \n",
       "-147.694  -51.816    6.258   37.756  127.742 \n",
       "\n",
       "Coefficients:\n",
       "            Estimate Std. Error t value Pr(>|t|)    \n",
       "(Intercept) 1136.336    107.803  10.541 5.69e-14 ***\n",
       "expend       -22.308      7.956  -2.804  0.00731 ** \n",
       "ratio         -2.295      4.784  -0.480  0.63370    \n",
       "---\n",
       "Signif. codes:  0 '***' 0.001 '**' 0.01 '*' 0.05 '.' 0.1 ' ' 1\n",
       "\n",
       "Residual standard error: 70.48 on 47 degrees of freedom\n",
       "Multiple R-squared:  0.149,\tAdjusted R-squared:  0.1128 \n",
       "F-statistic: 4.114 on 2 and 47 DF,  p-value: 0.02258\n"
      ]
     },
     "metadata": {},
     "output_type": "display_data"
    }
   ],
   "source": [
    "summary(model2.a_salary_reduced)"
   ]
  },
  {
   "cell_type": "code",
   "execution_count": 411,
   "id": "honey-pressing",
   "metadata": {
    "scrolled": false
   },
   "outputs": [
    {
     "data": {
      "text/html": [
       "<table>\n",
       "<thead><tr><th scope=col>Res.Df</th><th scope=col>RSS</th><th scope=col>Df</th><th scope=col>Sum of Sq</th><th scope=col>F</th><th scope=col>Pr(&gt;F)</th></tr></thead>\n",
       "<tbody>\n",
       "\t<tr><td>47        </td><td>233442.9  </td><td>NA        </td><td>      NA  </td><td>      NA  </td><td>        NA</td></tr>\n",
       "\t<tr><td>46        </td><td>216811.9  </td><td> 1        </td><td>16631.01  </td><td>3.528526  </td><td>0.06666771</td></tr>\n",
       "</tbody>\n",
       "</table>\n"
      ],
      "text/latex": [
       "\\begin{tabular}{r|llllll}\n",
       " Res.Df & RSS & Df & Sum of Sq & F & Pr(>F)\\\\\n",
       "\\hline\n",
       "\t 47         & 233442.9   & NA         &       NA   &       NA   &         NA\\\\\n",
       "\t 46         & 216811.9   &  1         & 16631.01   & 3.528526   & 0.06666771\\\\\n",
       "\\end{tabular}\n"
      ],
      "text/markdown": [
       "\n",
       "| Res.Df | RSS | Df | Sum of Sq | F | Pr(>F) |\n",
       "|---|---|---|---|---|---|\n",
       "| 47         | 233442.9   | NA         |       NA   |       NA   |         NA |\n",
       "| 46         | 216811.9   |  1         | 16631.01   | 3.528526   | 0.06666771 |\n",
       "\n"
      ],
      "text/plain": [
       "  Res.Df RSS      Df Sum of Sq F        Pr(>F)    \n",
       "1 47     233442.9 NA       NA        NA         NA\n",
       "2 46     216811.9  1 16631.01  3.528526 0.06666771"
      ]
     },
     "metadata": {},
     "output_type": "display_data"
    }
   ],
   "source": [
    "anova(model2.a_salary_reduced, model2.a)"
   ]
  },
  {
   "cell_type": "markdown",
   "id": "characteristic-observation",
   "metadata": {},
   "source": [
    "* since p value is greater than significance level 0.05, we accept null hypothesis. i.e. $\\beta Salary$ is zero."
   ]
  },
  {
   "cell_type": "markdown",
   "id": "handmade-needle",
   "metadata": {},
   "source": [
    "<b>(c) Test the hypothesis that Betasalary = Betaratio = Betaexpend = 0. Do any of these predictors have an effect on the response?</b>"
   ]
  },
  {
   "cell_type": "code",
   "execution_count": 403,
   "id": "owned-scroll",
   "metadata": {},
   "outputs": [
    {
     "data": {
      "text/plain": [
       "\n",
       "Call:\n",
       "lm(formula = total ~ expend + ratio + salary, data = sat)\n",
       "\n",
       "Residuals:\n",
       "     Min       1Q   Median       3Q      Max \n",
       "-140.911  -46.740   -7.535   47.966  123.329 \n",
       "\n",
       "Coefficients:\n",
       "            Estimate Std. Error t value Pr(>|t|)    \n",
       "(Intercept) 1069.234    110.925   9.639 1.29e-12 ***\n",
       "expend        16.469     22.050   0.747   0.4589    \n",
       "ratio          6.330      6.542   0.968   0.3383    \n",
       "salary        -8.823      4.697  -1.878   0.0667 .  \n",
       "---\n",
       "Signif. codes:  0 '***' 0.001 '**' 0.01 '*' 0.05 '.' 0.1 ' ' 1\n",
       "\n",
       "Residual standard error: 68.65 on 46 degrees of freedom\n",
       "Multiple R-squared:  0.2096,\tAdjusted R-squared:  0.1581 \n",
       "F-statistic: 4.066 on 3 and 46 DF,  p-value: 0.01209\n"
      ]
     },
     "metadata": {},
     "output_type": "display_data"
    }
   ],
   "source": [
    "summary(model2.a)"
   ]
  },
  {
   "cell_type": "code",
   "execution_count": 404,
   "id": "velvet-berkeley",
   "metadata": {},
   "outputs": [],
   "source": [
    "model2.a_reduced = lm(total ~ 1, data = sat)"
   ]
  },
  {
   "cell_type": "markdown",
   "id": "vocational-documentary",
   "metadata": {},
   "source": [
    "for F test using anova for testing all predictors;\n",
    "* Null hypothesis: $\\beta $ associated with all predictors is zero and intercept only model is good (reduced model)\n",
    "* Alternate hypothesis: atleast one of the predictors do not have $\\beta $ equal to zero."
   ]
  },
  {
   "cell_type": "code",
   "execution_count": 405,
   "id": "spectacular-individual",
   "metadata": {
    "scrolled": false
   },
   "outputs": [
    {
     "data": {
      "text/html": [
       "<table>\n",
       "<thead><tr><th scope=col>Res.Df</th><th scope=col>RSS</th><th scope=col>Df</th><th scope=col>Sum of Sq</th><th scope=col>F</th><th scope=col>Pr(&gt;F)</th></tr></thead>\n",
       "<tbody>\n",
       "\t<tr><td>49        </td><td>274307.7  </td><td>NA        </td><td>      NA  </td><td>      NA  </td><td>        NA</td></tr>\n",
       "\t<tr><td>46        </td><td>216811.9  </td><td> 3        </td><td>57495.74  </td><td>4.066203  </td><td>0.01208607</td></tr>\n",
       "</tbody>\n",
       "</table>\n"
      ],
      "text/latex": [
       "\\begin{tabular}{r|llllll}\n",
       " Res.Df & RSS & Df & Sum of Sq & F & Pr(>F)\\\\\n",
       "\\hline\n",
       "\t 49         & 274307.7   & NA         &       NA   &       NA   &         NA\\\\\n",
       "\t 46         & 216811.9   &  3         & 57495.74   & 4.066203   & 0.01208607\\\\\n",
       "\\end{tabular}\n"
      ],
      "text/markdown": [
       "\n",
       "| Res.Df | RSS | Df | Sum of Sq | F | Pr(>F) |\n",
       "|---|---|---|---|---|---|\n",
       "| 49         | 274307.7   | NA         |       NA   |       NA   |         NA |\n",
       "| 46         | 216811.9   |  3         | 57495.74   | 4.066203   | 0.01208607 |\n",
       "\n"
      ],
      "text/plain": [
       "  Res.Df RSS      Df Sum of Sq F        Pr(>F)    \n",
       "1 49     274307.7 NA       NA        NA         NA\n",
       "2 46     216811.9  3 57495.74  4.066203 0.01208607"
      ]
     },
     "metadata": {},
     "output_type": "display_data"
    }
   ],
   "source": [
    "anova(model2.a_reduced, model2.a)"
   ]
  },
  {
   "cell_type": "markdown",
   "id": "medieval-bracelet",
   "metadata": {},
   "source": [
    "* As shown in the summary output of lm function or in the anova table, p value is lower than 0.05 hence we accept alternate hypothesis. i.e. atleast one of the $\\beta$ of predictors is not equal to zero."
   ]
  },
  {
   "cell_type": "markdown",
   "id": "chubby-window",
   "metadata": {},
   "source": [
    "<b>(d) Now add takers to the model. Test the hypothesis that Betatakers = 0. Compare this model to the previous one using an F-test. Demonstrate that the F-test is equivalent to the t-test."
   ]
  },
  {
   "cell_type": "code",
   "execution_count": 6,
   "id": "curious-memorial",
   "metadata": {
    "scrolled": false
   },
   "outputs": [
    {
     "data": {
      "text/plain": [
       "\n",
       "Call:\n",
       "lm(formula = total ~ expend + ratio + salary + takers, data = sat)\n",
       "\n",
       "Residuals:\n",
       "    Min      1Q  Median      3Q     Max \n",
       "-90.531 -20.855  -1.746  15.979  66.571 \n",
       "\n",
       "Coefficients:\n",
       "             Estimate Std. Error t value Pr(>|t|)    \n",
       "(Intercept) 1045.9715    52.8698  19.784  < 2e-16 ***\n",
       "expend         4.4626    10.5465   0.423    0.674    \n",
       "ratio         -3.6242     3.2154  -1.127    0.266    \n",
       "salary         1.6379     2.3872   0.686    0.496    \n",
       "takers        -2.9045     0.2313 -12.559 2.61e-16 ***\n",
       "---\n",
       "Signif. codes:  0 '***' 0.001 '**' 0.01 '*' 0.05 '.' 0.1 ' ' 1\n",
       "\n",
       "Residual standard error: 32.7 on 45 degrees of freedom\n",
       "Multiple R-squared:  0.8246,\tAdjusted R-squared:  0.809 \n",
       "F-statistic: 52.88 on 4 and 45 DF,  p-value: < 2.2e-16\n"
      ]
     },
     "metadata": {},
     "output_type": "display_data"
    }
   ],
   "source": [
    "model2.b = lm(total~expend+ratio+salary+takers, data = sat)\n",
    "summary(model2.b)"
   ]
  },
  {
   "cell_type": "code",
   "execution_count": 8,
   "id": "vanilla-singing",
   "metadata": {},
   "outputs": [
    {
     "data": {
      "text/html": [
       "157.741852070065"
      ],
      "text/latex": [
       "157.741852070065"
      ],
      "text/markdown": [
       "157.741852070065"
      ],
      "text/plain": [
       "[1] 157.7419"
      ]
     },
     "metadata": {},
     "output_type": "display_data"
    }
   ],
   "source": [
    "((68.65**2*46) - (32.7**2*45))/(32.7**2)"
   ]
  },
  {
   "cell_type": "code",
   "execution_count": 191,
   "id": "selected-teaching",
   "metadata": {
    "scrolled": true
   },
   "outputs": [
    {
     "data": {
      "text/html": [
       "<table>\n",
       "<thead><tr><th></th><th scope=col>Estimate</th><th scope=col>Std. Error</th><th scope=col>t value</th><th scope=col>Pr(&gt;|t|)</th></tr></thead>\n",
       "<tbody>\n",
       "\t<tr><th scope=row>(Intercept)</th><td>1045.971536 </td><td>52.869760   </td><td> 19.7839283 </td><td>7.857530e-24</td></tr>\n",
       "\t<tr><th scope=row>expend</th><td>   4.462594 </td><td>10.546528   </td><td>  0.4231339 </td><td>6.742130e-01</td></tr>\n",
       "\t<tr><th scope=row>ratio</th><td>  -3.624232 </td><td> 3.215418   </td><td> -1.1271418 </td><td>2.656570e-01</td></tr>\n",
       "\t<tr><th scope=row>salary</th><td>   1.637917 </td><td> 2.387248   </td><td>  0.6861110 </td><td>4.961632e-01</td></tr>\n",
       "\t<tr><th scope=row>takers</th><td>  -2.904481 </td><td> 0.231260   </td><td>-12.5593745 </td><td>2.606559e-16</td></tr>\n",
       "</tbody>\n",
       "</table>\n"
      ],
      "text/latex": [
       "\\begin{tabular}{r|llll}\n",
       "  & Estimate & Std. Error & t value & Pr(>\\textbar{}t\\textbar{})\\\\\n",
       "\\hline\n",
       "\t(Intercept) & 1045.971536  & 52.869760    &  19.7839283  & 7.857530e-24\\\\\n",
       "\texpend &    4.462594  & 10.546528    &   0.4231339  & 6.742130e-01\\\\\n",
       "\tratio &   -3.624232  &  3.215418    &  -1.1271418  & 2.656570e-01\\\\\n",
       "\tsalary &    1.637917  &  2.387248    &   0.6861110  & 4.961632e-01\\\\\n",
       "\ttakers &   -2.904481  &  0.231260    & -12.5593745  & 2.606559e-16\\\\\n",
       "\\end{tabular}\n"
      ],
      "text/markdown": [
       "\n",
       "| <!--/--> | Estimate | Std. Error | t value | Pr(>|t|) |\n",
       "|---|---|---|---|---|\n",
       "| (Intercept) | 1045.971536  | 52.869760    |  19.7839283  | 7.857530e-24 |\n",
       "| expend |    4.462594  | 10.546528    |   0.4231339  | 6.742130e-01 |\n",
       "| ratio |   -3.624232  |  3.215418    |  -1.1271418  | 2.656570e-01 |\n",
       "| salary |    1.637917  |  2.387248    |   0.6861110  | 4.961632e-01 |\n",
       "| takers |   -2.904481  |  0.231260    | -12.5593745  | 2.606559e-16 |\n",
       "\n"
      ],
      "text/plain": [
       "            Estimate    Std. Error t value     Pr(>|t|)    \n",
       "(Intercept) 1045.971536 52.869760   19.7839283 7.857530e-24\n",
       "expend         4.462594 10.546528    0.4231339 6.742130e-01\n",
       "ratio         -3.624232  3.215418   -1.1271418 2.656570e-01\n",
       "salary         1.637917  2.387248    0.6861110 4.961632e-01\n",
       "takers        -2.904481  0.231260  -12.5593745 2.606559e-16"
      ]
     },
     "metadata": {},
     "output_type": "display_data"
    }
   ],
   "source": [
    "summary(model2.b)$coef"
   ]
  },
  {
   "cell_type": "code",
   "execution_count": 413,
   "id": "placed-thunder",
   "metadata": {
    "scrolled": false
   },
   "outputs": [
    {
     "data": {
      "text/html": [
       "<table>\n",
       "<thead><tr><th scope=col>Res.Df</th><th scope=col>RSS</th><th scope=col>Df</th><th scope=col>Sum of Sq</th><th scope=col>F</th><th scope=col>Pr(&gt;F)</th></tr></thead>\n",
       "<tbody>\n",
       "\t<tr><td>46          </td><td>216811.9    </td><td>NA          </td><td>    NA      </td><td>      NA    </td><td>          NA</td></tr>\n",
       "\t<tr><td>45          </td><td> 48123.9    </td><td> 1          </td><td>168688      </td><td>157.7379    </td><td>2.606559e-16</td></tr>\n",
       "</tbody>\n",
       "</table>\n"
      ],
      "text/latex": [
       "\\begin{tabular}{r|llllll}\n",
       " Res.Df & RSS & Df & Sum of Sq & F & Pr(>F)\\\\\n",
       "\\hline\n",
       "\t 46           & 216811.9     & NA           &     NA       &       NA     &           NA\\\\\n",
       "\t 45           &  48123.9     &  1           & 168688       & 157.7379     & 2.606559e-16\\\\\n",
       "\\end{tabular}\n"
      ],
      "text/markdown": [
       "\n",
       "| Res.Df | RSS | Df | Sum of Sq | F | Pr(>F) |\n",
       "|---|---|---|---|---|---|\n",
       "| 46           | 216811.9     | NA           |     NA       |       NA     |           NA |\n",
       "| 45           |  48123.9     |  1           | 168688       | 157.7379     | 2.606559e-16 |\n",
       "\n"
      ],
      "text/plain": [
       "  Res.Df RSS      Df Sum of Sq F        Pr(>F)      \n",
       "1 46     216811.9 NA     NA          NA           NA\n",
       "2 45      48123.9  1 168688    157.7379 2.606559e-16"
      ]
     },
     "metadata": {},
     "output_type": "display_data"
    }
   ],
   "source": [
    "anova(model2.a, model2.b)"
   ]
  },
  {
   "cell_type": "markdown",
   "id": "genetic-workplace",
   "metadata": {},
   "source": [
    "P value associated with t test of Beta Takers=0, is very low, hence we conclude that Betatakers is not equal to zero.\n",
    "\n",
    "Here,\n",
    "\n",
    "* null hypothesis: reduced model i.e. model2.a and full model i.e. model2.b do not differ significantly.\n",
    "\n",
    "* alternative hypothesis: full model is significantly better.\n",
    "\n",
    "* Since P value associated with the F test is very low, we reject the null hypothesis and accept the alternative hypothesis i.e. full model is significantly better."
   ]
  },
  {
   "cell_type": "code",
   "execution_count": 412,
   "id": "suspected-roberts",
   "metadata": {
    "scrolled": true
   },
   "outputs": [
    {
     "data": {
      "text/html": [
       "157.737888511006"
      ],
      "text/latex": [
       "157.737888511006"
      ],
      "text/markdown": [
       "157.737888511006"
      ],
      "text/plain": [
       "[1] 157.7379"
      ]
     },
     "metadata": {},
     "output_type": "display_data"
    }
   ],
   "source": [
    "summary(model2.b)$coef[5,3]**2"
   ]
  },
  {
   "cell_type": "markdown",
   "id": "northern-korea",
   "metadata": {},
   "source": [
    "We can see, Square of t-test = F-test"
   ]
  },
  {
   "cell_type": "markdown",
   "id": "mineral-favor",
   "metadata": {},
   "source": [
    "__________"
   ]
  },
  {
   "cell_type": "markdown",
   "id": "czech-handbook",
   "metadata": {},
   "source": [
    "<b> Problem 3: For the prostate data from the faraway library, fit a model with lpsa as the\n",
    "response and the other variables as predictors:\n",
    "<ul>\n",
    "<li> (a) Compare 90% and 95% CIs for the parameter associated with age. Comment on your results.</li>\n",
    "<li> (b) Remove all predictors that are not significant at the 5% level. Test this model against the original model. Which model is preferred?</li>\n",
    "<li> (c) Compute and display a 95% joint confidence region for the parameters associated with age and lbph. Plot the origin on this display. The location of the origin on the display tell us the outcome of a certain hypothesis test. State that test and its outcome.</li>\n",
    "<li> (d) In a video class we discussed a permutation test corresponding to the F - test for the significance of a set of predictors. Execute the permutation test corresponding to the t-test for age in this model. (Hint: summary(g)$coef[4; 3] gets you the t-statistic you need if the model is called g.)</li>\n",
    "</ul>\n",
    "</b>"
   ]
  },
  {
   "cell_type": "markdown",
   "id": "stone-destination",
   "metadata": {},
   "source": [
    "<b>(a) Compare 90% and 95% CIs for the parameter associated with age. Comment on your results."
   ]
  },
  {
   "cell_type": "code",
   "execution_count": 201,
   "id": "monetary-horizon",
   "metadata": {},
   "outputs": [],
   "source": [
    "data(prostate)"
   ]
  },
  {
   "cell_type": "markdown",
   "id": "judicial-horizon",
   "metadata": {},
   "source": [
    "Explaination of column headings: \n",
    "<ol>\n",
    "    <li>\n",
    "lcavol\n",
    "log(cancer volume)</li>\n",
    "<li>\n",
    "lweight\n",
    "log(prostate weight)</li>\n",
    "<li>\n",
    "age\n",
    "age</li>\n",
    "<li>\n",
    "lbph\n",
    "log(benign prostatic hyperplasia amount)</li>\n",
    "<li>\n",
    "svi\n",
    "seminal vesicle invasion</li>\n",
    "<li>\n",
    "lcp\n",
    "log(capsular penetration)</li>\n",
    "<li>\n",
    "gleason\n",
    "Gleason score</li>\n",
    "<li>\n",
    "pgg45\n",
    "percentage Gleason scores 4 or 5</li>\n",
    "<li>\n",
    "lpsa\n",
    "log(prostate specific antigen)</li>\n",
    "    </ol>"
   ]
  },
  {
   "cell_type": "code",
   "execution_count": 158,
   "id": "informal-sally",
   "metadata": {},
   "outputs": [
    {
     "data": {
      "text/html": [
       "<table>\n",
       "<thead><tr><th scope=col>lcavol</th><th scope=col>lweight</th><th scope=col>age</th><th scope=col>lbph</th><th scope=col>svi</th><th scope=col>lcp</th><th scope=col>gleason</th><th scope=col>pgg45</th><th scope=col>lpsa</th></tr></thead>\n",
       "<tbody>\n",
       "\t<tr><td>-0.5798185</td><td>2.7695    </td><td>50        </td><td>-1.386294 </td><td>0         </td><td>-1.38629  </td><td>6         </td><td>0         </td><td>-0.43078  </td></tr>\n",
       "\t<tr><td>-0.9942523</td><td>3.3196    </td><td>58        </td><td>-1.386294 </td><td>0         </td><td>-1.38629  </td><td>6         </td><td>0         </td><td>-0.16252  </td></tr>\n",
       "</tbody>\n",
       "</table>\n"
      ],
      "text/latex": [
       "\\begin{tabular}{r|lllllllll}\n",
       " lcavol & lweight & age & lbph & svi & lcp & gleason & pgg45 & lpsa\\\\\n",
       "\\hline\n",
       "\t -0.5798185 & 2.7695     & 50         & -1.386294  & 0          & -1.38629   & 6          & 0          & -0.43078  \\\\\n",
       "\t -0.9942523 & 3.3196     & 58         & -1.386294  & 0          & -1.38629   & 6          & 0          & -0.16252  \\\\\n",
       "\\end{tabular}\n"
      ],
      "text/markdown": [
       "\n",
       "| lcavol | lweight | age | lbph | svi | lcp | gleason | pgg45 | lpsa |\n",
       "|---|---|---|---|---|---|---|---|---|\n",
       "| -0.5798185 | 2.7695     | 50         | -1.386294  | 0          | -1.38629   | 6          | 0          | -0.43078   |\n",
       "| -0.9942523 | 3.3196     | 58         | -1.386294  | 0          | -1.38629   | 6          | 0          | -0.16252   |\n",
       "\n"
      ],
      "text/plain": [
       "  lcavol     lweight age lbph      svi lcp      gleason pgg45 lpsa    \n",
       "1 -0.5798185 2.7695  50  -1.386294 0   -1.38629 6       0     -0.43078\n",
       "2 -0.9942523 3.3196  58  -1.386294 0   -1.38629 6       0     -0.16252"
      ]
     },
     "metadata": {},
     "output_type": "display_data"
    }
   ],
   "source": [
    "head(prostate, 2)"
   ]
  },
  {
   "cell_type": "code",
   "execution_count": 227,
   "id": "virtual-resort",
   "metadata": {},
   "outputs": [],
   "source": [
    "model3.a = lm(lpsa~., data = prostate)"
   ]
  },
  {
   "cell_type": "code",
   "execution_count": 228,
   "id": "vertical-metadata",
   "metadata": {
    "scrolled": true
   },
   "outputs": [
    {
     "data": {
      "text/html": [
       "<table>\n",
       "<thead><tr><th></th><th scope=col>2.5 %</th><th scope=col>97.5 %</th></tr></thead>\n",
       "<tbody>\n",
       "\t<tr><th scope=row>age</th><td>-0.04184062</td><td>0.002566267</td></tr>\n",
       "</tbody>\n",
       "</table>\n"
      ],
      "text/latex": [
       "\\begin{tabular}{r|ll}\n",
       "  & 2.5 \\% & 97.5 \\%\\\\\n",
       "\\hline\n",
       "\tage & -0.04184062 & 0.002566267\\\\\n",
       "\\end{tabular}\n"
      ],
      "text/markdown": [
       "\n",
       "| <!--/--> | 2.5 % | 97.5 % |\n",
       "|---|---|---|\n",
       "| age | -0.04184062 | 0.002566267 |\n",
       "\n"
      ],
      "text/plain": [
       "    2.5 %       97.5 %     \n",
       "age -0.04184062 0.002566267"
      ]
     },
     "metadata": {},
     "output_type": "display_data"
    }
   ],
   "source": [
    "confint(model3.a, 'age', level=0.95)"
   ]
  },
  {
   "cell_type": "code",
   "execution_count": 229,
   "id": "unauthorized-nursing",
   "metadata": {},
   "outputs": [
    {
     "data": {
      "text/html": [
       "<table>\n",
       "<thead><tr><th></th><th scope=col>5 %</th><th scope=col>95 %</th></tr></thead>\n",
       "<tbody>\n",
       "\t<tr><th scope=row>age</th><td>-0.0382102  </td><td>-0.001064151</td></tr>\n",
       "</tbody>\n",
       "</table>\n"
      ],
      "text/latex": [
       "\\begin{tabular}{r|ll}\n",
       "  & 5 \\% & 95 \\%\\\\\n",
       "\\hline\n",
       "\tage & -0.0382102   & -0.001064151\\\\\n",
       "\\end{tabular}\n"
      ],
      "text/markdown": [
       "\n",
       "| <!--/--> | 5 % | 95 % |\n",
       "|---|---|---|\n",
       "| age | -0.0382102   | -0.001064151 |\n",
       "\n"
      ],
      "text/plain": [
       "    5 %        95 %        \n",
       "age -0.0382102 -0.001064151"
      ]
     },
     "metadata": {},
     "output_type": "display_data"
    }
   ],
   "source": [
    "confint(model3.a, 'age', level=0.90)"
   ]
  },
  {
   "cell_type": "markdown",
   "id": "written-stevens",
   "metadata": {},
   "source": [
    "The beta parameter associated with age is very close to zero. We need to do hypothesis testing in order to check the signficance of age variable in the regression model of prostate data."
   ]
  },
  {
   "cell_type": "markdown",
   "id": "continental-nylon",
   "metadata": {},
   "source": [
    "<b>(b) Remove all predictors that are not significant at the 5% level. Test this model against the original model. Which model is preferred?"
   ]
  },
  {
   "cell_type": "code",
   "execution_count": 230,
   "id": "final-wheat",
   "metadata": {
    "scrolled": false
   },
   "outputs": [
    {
     "data": {
      "text/plain": [
       "\n",
       "Call:\n",
       "lm(formula = lpsa ~ ., data = prostate)\n",
       "\n",
       "Residuals:\n",
       "    Min      1Q  Median      3Q     Max \n",
       "-1.7331 -0.3713 -0.0170  0.4141  1.6381 \n",
       "\n",
       "Coefficients:\n",
       "             Estimate Std. Error t value Pr(>|t|)    \n",
       "(Intercept)  0.669337   1.296387   0.516  0.60693    \n",
       "lcavol       0.587022   0.087920   6.677 2.11e-09 ***\n",
       "lweight      0.454467   0.170012   2.673  0.00896 ** \n",
       "age         -0.019637   0.011173  -1.758  0.08229 .  \n",
       "lbph         0.107054   0.058449   1.832  0.07040 .  \n",
       "svi          0.766157   0.244309   3.136  0.00233 ** \n",
       "lcp         -0.105474   0.091013  -1.159  0.24964    \n",
       "gleason      0.045142   0.157465   0.287  0.77503    \n",
       "pgg45        0.004525   0.004421   1.024  0.30886    \n",
       "---\n",
       "Signif. codes:  0 '***' 0.001 '**' 0.01 '*' 0.05 '.' 0.1 ' ' 1\n",
       "\n",
       "Residual standard error: 0.7084 on 88 degrees of freedom\n",
       "Multiple R-squared:  0.6548,\tAdjusted R-squared:  0.6234 \n",
       "F-statistic: 20.86 on 8 and 88 DF,  p-value: < 2.2e-16\n"
      ]
     },
     "metadata": {},
     "output_type": "display_data"
    }
   ],
   "source": [
    "summary(model3.a)"
   ]
  },
  {
   "cell_type": "markdown",
   "id": "killing-technique",
   "metadata": {},
   "source": [
    "* By looking at the summary, at 5% significance level, we can eliminate age, lbph, lcp, gleason, pgg45. So only lcavol, lweight, svi will remain"
   ]
  },
  {
   "cell_type": "code",
   "execution_count": 231,
   "id": "instrumental-chambers",
   "metadata": {
    "scrolled": true
   },
   "outputs": [
    {
     "data": {
      "text/plain": [
       "\n",
       "Call:\n",
       "lm(formula = lpsa ~ lcavol + lweight + svi, data = prostate)\n",
       "\n",
       "Residuals:\n",
       "     Min       1Q   Median       3Q      Max \n",
       "-1.72964 -0.45764  0.02812  0.46403  1.57013 \n",
       "\n",
       "Coefficients:\n",
       "            Estimate Std. Error t value Pr(>|t|)    \n",
       "(Intercept) -0.26809    0.54350  -0.493  0.62298    \n",
       "lcavol       0.55164    0.07467   7.388  6.3e-11 ***\n",
       "lweight      0.50854    0.15017   3.386  0.00104 ** \n",
       "svi          0.66616    0.20978   3.176  0.00203 ** \n",
       "---\n",
       "Signif. codes:  0 '***' 0.001 '**' 0.01 '*' 0.05 '.' 0.1 ' ' 1\n",
       "\n",
       "Residual standard error: 0.7168 on 93 degrees of freedom\n",
       "Multiple R-squared:  0.6264,\tAdjusted R-squared:  0.6144 \n",
       "F-statistic: 51.99 on 3 and 93 DF,  p-value: < 2.2e-16\n"
      ]
     },
     "metadata": {},
     "output_type": "display_data"
    }
   ],
   "source": [
    "model3.b = lm(lpsa ~ lcavol+lweight+svi, data=prostate)\n",
    "summary(model3.b)"
   ]
  },
  {
   "cell_type": "code",
   "execution_count": 232,
   "id": "approved-individual",
   "metadata": {
    "scrolled": true
   },
   "outputs": [
    {
     "data": {
      "text/html": [
       "<table>\n",
       "<thead><tr><th scope=col>Res.Df</th><th scope=col>RSS</th><th scope=col>Df</th><th scope=col>Sum of Sq</th><th scope=col>F</th><th scope=col>Pr(&gt;F)</th></tr></thead>\n",
       "<tbody>\n",
       "\t<tr><td>93       </td><td>47.78486 </td><td>NA       </td><td>      NA </td><td>      NA </td><td>       NA</td></tr>\n",
       "\t<tr><td>88       </td><td>44.16302 </td><td> 5       </td><td>3.621837 </td><td>1.443387 </td><td>0.2167334</td></tr>\n",
       "</tbody>\n",
       "</table>\n"
      ],
      "text/latex": [
       "\\begin{tabular}{r|llllll}\n",
       " Res.Df & RSS & Df & Sum of Sq & F & Pr(>F)\\\\\n",
       "\\hline\n",
       "\t 93        & 47.78486  & NA        &       NA  &       NA  &        NA\\\\\n",
       "\t 88        & 44.16302  &  5        & 3.621837  & 1.443387  & 0.2167334\\\\\n",
       "\\end{tabular}\n"
      ],
      "text/markdown": [
       "\n",
       "| Res.Df | RSS | Df | Sum of Sq | F | Pr(>F) |\n",
       "|---|---|---|---|---|---|\n",
       "| 93        | 47.78486  | NA        |       NA  |       NA  |        NA |\n",
       "| 88        | 44.16302  |  5        | 3.621837  | 1.443387  | 0.2167334 |\n",
       "\n"
      ],
      "text/plain": [
       "  Res.Df RSS      Df Sum of Sq F        Pr(>F)   \n",
       "1 93     47.78486 NA       NA        NA        NA\n",
       "2 88     44.16302  5 3.621837  1.443387 0.2167334"
      ]
     },
     "metadata": {},
     "output_type": "display_data"
    }
   ],
   "source": [
    "anova(model3.b, model3.a)"
   ]
  },
  {
   "cell_type": "markdown",
   "id": "liquid-abuse",
   "metadata": {},
   "source": [
    "* Null hypothesis: there is not significant difference between full model i.e. model3.a and reduced model i.e. model3.b.\n",
    "* Alternate hypothesis: full model is better.\n",
    "* From anova results, we got p value of 0.2167334 which is greater than the 5% significance level. Hence we can reject null hypothesis and accept that full model is better and should be preffered."
   ]
  },
  {
   "cell_type": "markdown",
   "id": "operating-communist",
   "metadata": {},
   "source": [
    "<b>(c) Compute and display a 95% joint confidence region for the parameters associated with age and lbph. Plot the origin on this display. The location of the origin on the display tell us the outcome of a certain hypothesis test. State that test and its outcome."
   ]
  },
  {
   "cell_type": "code",
   "execution_count": 167,
   "id": "illegal-participant",
   "metadata": {},
   "outputs": [],
   "source": [
    "# install.packages(\"ellipse\")\n",
    "library(ellipse)"
   ]
  },
  {
   "cell_type": "code",
   "execution_count": 233,
   "id": "republican-victor",
   "metadata": {},
   "outputs": [
    {
     "data": {
      "text/html": [
       "<dl class=dl-horizontal>\n",
       "\t<dt>(Intercept)</dt>\n",
       "\t\t<dd>0.669336698093835</dd>\n",
       "\t<dt>lcavol</dt>\n",
       "\t\t<dd>0.587021826282692</dd>\n",
       "\t<dt>lweight</dt>\n",
       "\t\t<dd>0.454467424397499</dd>\n",
       "\t<dt>age</dt>\n",
       "\t\t<dd>-0.0196371755357715</dd>\n",
       "\t<dt>lbph</dt>\n",
       "\t\t<dd>0.107054030849947</dd>\n",
       "\t<dt>svi</dt>\n",
       "\t\t<dd>0.766157325842595</dd>\n",
       "\t<dt>lcp</dt>\n",
       "\t\t<dd>-0.105474263293061</dd>\n",
       "\t<dt>gleason</dt>\n",
       "\t\t<dd>0.045141597608444</dd>\n",
       "\t<dt>pgg45</dt>\n",
       "\t\t<dd>0.0045252313231994</dd>\n",
       "</dl>\n"
      ],
      "text/latex": [
       "\\begin{description*}\n",
       "\\item[(Intercept)] 0.669336698093835\n",
       "\\item[lcavol] 0.587021826282692\n",
       "\\item[lweight] 0.454467424397499\n",
       "\\item[age] -0.0196371755357715\n",
       "\\item[lbph] 0.107054030849947\n",
       "\\item[svi] 0.766157325842595\n",
       "\\item[lcp] -0.105474263293061\n",
       "\\item[gleason] 0.045141597608444\n",
       "\\item[pgg45] 0.0045252313231994\n",
       "\\end{description*}\n"
      ],
      "text/markdown": [
       "(Intercept)\n",
       ":   0.669336698093835lcavol\n",
       ":   0.587021826282692lweight\n",
       ":   0.454467424397499age\n",
       ":   -0.0196371755357715lbph\n",
       ":   0.107054030849947svi\n",
       ":   0.766157325842595lcp\n",
       ":   -0.105474263293061gleason\n",
       ":   0.045141597608444pgg45\n",
       ":   0.0045252313231994\n",
       "\n"
      ],
      "text/plain": [
       " (Intercept)       lcavol      lweight          age         lbph          svi \n",
       " 0.669336698  0.587021826  0.454467424 -0.019637176  0.107054031  0.766157326 \n",
       "         lcp      gleason        pgg45 \n",
       "-0.105474263  0.045141598  0.004525231 "
      ]
     },
     "metadata": {},
     "output_type": "display_data"
    }
   ],
   "source": [
    "model3.a$coef"
   ]
  },
  {
   "cell_type": "code",
   "execution_count": 237,
   "id": "manual-kruger",
   "metadata": {
    "scrolled": true
   },
   "outputs": [
    {
     "data": {
      "text/html": [
       "<table>\n",
       "<thead><tr><th scope=col>age</th><th scope=col>lbph</th></tr></thead>\n",
       "<tbody>\n",
       "\t<tr><td>-0.002508614</td><td>0.1966607   </td></tr>\n",
       "\t<tr><td>-0.003933479</td><td>0.2037540   </td></tr>\n",
       "\t<tr><td>-0.005421577</td><td>0.2104578   </td></tr>\n",
       "</tbody>\n",
       "</table>\n"
      ],
      "text/latex": [
       "\\begin{tabular}{ll}\n",
       " age & lbph\\\\\n",
       "\\hline\n",
       "\t -0.002508614 & 0.1966607   \\\\\n",
       "\t -0.003933479 & 0.2037540   \\\\\n",
       "\t -0.005421577 & 0.2104578   \\\\\n",
       "\\end{tabular}\n"
      ],
      "text/markdown": [
       "\n",
       "| age | lbph |\n",
       "|---|---|\n",
       "| -0.002508614 | 0.1966607    |\n",
       "| -0.003933479 | 0.2037540    |\n",
       "| -0.005421577 | 0.2104578    |\n",
       "\n"
      ],
      "text/plain": [
       "     age          lbph     \n",
       "[1,] -0.002508614 0.1966607\n",
       "[2,] -0.003933479 0.2037540\n",
       "[3,] -0.005421577 0.2104578"
      ]
     },
     "metadata": {},
     "output_type": "display_data"
    }
   ],
   "source": [
    "CR95 = ellipse(model3.a, c(4,5), level=0.95)\n",
    "head(CR95,3)"
   ]
  },
  {
   "cell_type": "code",
   "execution_count": 258,
   "id": "municipal-analyst",
   "metadata": {
    "scrolled": false
   },
   "outputs": [
    {
     "data": {
      "image/png": "[encoded data removed]",
      "text/plain": [
       "plot without title"
      ]
     },
     "metadata": {},
     "output_type": "display_data"
    }
   ],
   "source": [
    "myCR = data.frame(CR95)\n",
    "myCR[, 'level'] = as.factor(c(rep(0.95, dim(CR95)[1])))\n",
    "\n",
    "ggplot(data = myCR, aes(x=age, y=lbph, color=level))+\n",
    "    geom_path(size=1)+\n",
    "    geom_point(x=coef(model3.a)[4], y=coef(model3.a)[5], shape=3, size=3, colour='red')+\n",
    "    labs(title='Cofidence Region ellipsoid')"
   ]
  },
  {
   "cell_type": "markdown",
   "id": "detected-melbourne",
   "metadata": {},
   "source": [
    "* The center of the ellipse is the value of $\\beta $Age and $\\beta $lbph from full model\n",
    "* We have obtained combined confidence region of age and lbph with 0.95 significance level.\n",
    "* It displays F test outcome. The points lying inside this region will have 95% significance level and points lying outside this region will have 5% probability of occuring."
   ]
  },
  {
   "cell_type": "markdown",
   "id": "electric-patio",
   "metadata": {},
   "source": [
    "<b>(d) In a video class we discussed a permutation test corresponding to the F - test for the significance of a set of predictors. Execute the permutation test corresponding to the t-test for age in this model. (Hint: summary(g)$coef[4; 3] gets you the t-statistic you need if the model is called g.)"
   ]
  },
  {
   "cell_type": "markdown",
   "id": "approximate-voice",
   "metadata": {},
   "source": [
    "<ol>\n",
    "    <li>\n",
    "    Null Hypothesis: Age does not have any effect on lpsa\n",
    "    Alternate Hypothesis: Age is a significant factor while determining lpsa\n",
    "    </li>\n",
    "    <li>\n",
    "    Test Statistic: t-test\n",
    "    </li>\n",
    "    \n",
    "</ol>"
   ]
  },
  {
   "cell_type": "code",
   "execution_count": 225,
   "id": "animated-tutorial",
   "metadata": {
    "scrolled": false
   },
   "outputs": [
    {
     "data": {
      "text/html": [
       "<table>\n",
       "<thead><tr><th scope=col>lcavol</th><th scope=col>lweight</th><th scope=col>age</th><th scope=col>lbph</th><th scope=col>svi</th><th scope=col>lcp</th><th scope=col>gleason</th><th scope=col>pgg45</th><th scope=col>lpsa</th></tr></thead>\n",
       "<tbody>\n",
       "\t<tr><td>-0.5798185</td><td>2.7695    </td><td>50        </td><td>-1.386294 </td><td>0         </td><td>-1.38629  </td><td>6         </td><td>0         </td><td>-0.43078  </td></tr>\n",
       "\t<tr><td>-0.9942523</td><td>3.3196    </td><td>58        </td><td>-1.386294 </td><td>0         </td><td>-1.38629  </td><td>6         </td><td>0         </td><td>-0.16252  </td></tr>\n",
       "</tbody>\n",
       "</table>\n"
      ],
      "text/latex": [
       "\\begin{tabular}{r|lllllllll}\n",
       " lcavol & lweight & age & lbph & svi & lcp & gleason & pgg45 & lpsa\\\\\n",
       "\\hline\n",
       "\t -0.5798185 & 2.7695     & 50         & -1.386294  & 0          & -1.38629   & 6          & 0          & -0.43078  \\\\\n",
       "\t -0.9942523 & 3.3196     & 58         & -1.386294  & 0          & -1.38629   & 6          & 0          & -0.16252  \\\\\n",
       "\\end{tabular}\n"
      ],
      "text/markdown": [
       "\n",
       "| lcavol | lweight | age | lbph | svi | lcp | gleason | pgg45 | lpsa |\n",
       "|---|---|---|---|---|---|---|---|---|\n",
       "| -0.5798185 | 2.7695     | 50         | -1.386294  | 0          | -1.38629   | 6          | 0          | -0.43078   |\n",
       "| -0.9942523 | 3.3196     | 58         | -1.386294  | 0          | -1.38629   | 6          | 0          | -0.16252   |\n",
       "\n"
      ],
      "text/plain": [
       "  lcavol     lweight age lbph      svi lcp      gleason pgg45 lpsa    \n",
       "1 -0.5798185 2.7695  50  -1.386294 0   -1.38629 6       0     -0.43078\n",
       "2 -0.9942523 3.3196  58  -1.386294 0   -1.38629 6       0     -0.16252"
      ]
     },
     "metadata": {},
     "output_type": "display_data"
    }
   ],
   "source": [
    "head(prostate,2)"
   ]
  },
  {
   "cell_type": "code",
   "execution_count": 220,
   "id": "changed-timothy",
   "metadata": {},
   "outputs": [
    {
     "data": {
      "text/html": [
       "-1.75759948902312"
      ],
      "text/latex": [
       "-1.75759948902312"
      ],
      "text/markdown": [
       "-1.75759948902312"
      ],
      "text/plain": [
       "[1] -1.757599"
      ]
     },
     "metadata": {},
     "output_type": "display_data"
    }
   ],
   "source": [
    "full_model = lm(lpsa~., data= prostate)\n",
    "summary(full_model)$coef[4,3]"
   ]
  },
  {
   "cell_type": "code",
   "execution_count": 224,
   "id": "signed-vector",
   "metadata": {
    "scrolled": true
   },
   "outputs": [
    {
     "data": {
      "text/html": [
       "0.9553"
      ],
      "text/latex": [
       "0.9553"
      ],
      "text/markdown": [
       "0.9553"
      ],
      "text/plain": [
       "[1] 0.9553"
      ]
     },
     "metadata": {},
     "output_type": "display_data"
    }
   ],
   "source": [
    "set.seed(41)\n",
    "n.iter = 10000; \n",
    "ttest = numeric(n.iter);\n",
    "data_points = length(prostate$age)\n",
    "\n",
    "for (i in 1:n.iter) {\n",
    "    data_with_New_age = prostate;\n",
    "    data_with_New_age[ , 3] = prostate[sample(data_points), 3];\n",
    "    model = lm(lpsa~., data = data_with_New_age);\n",
    "    ttest[i] = summary(model)$coef[4,3]\n",
    "}\n",
    "\n",
    "estimated_p_value = length(ttest[ttest > summary(full_model)$coef[4,3]])/n.iter\n",
    "estimated_p_value"
   ]
  },
  {
   "cell_type": "markdown",
   "id": "toxic-perth",
   "metadata": {},
   "source": [
    "* We got the p-value of 0.9553 from this permutation test of t-statistic. Hence null hypothesis is accepted i.e. $\\beta$ age = 0."
   ]
  },
  {
   "cell_type": "markdown",
   "id": "external-probability",
   "metadata": {},
   "source": [
    "___________"
   ]
  },
  {
   "cell_type": "markdown",
   "id": "swedish-slope",
   "metadata": {},
   "source": [
    "<b> Problem 4: For the fat data set from the faraway library, fit a model with brozek as the\n",
    "response and variables age, weight, height, neck, chest, abdom, hip, thigh, knee,\n",
    "ankle, biceps, forearm, wrist as predictors.\n",
    "<ul>\n",
    "<li>(a) Relative to the full model, test whether the variables chest and abdom have the same\n",
    "effect on the response variable brozek. This is equivalent to test: H0 : Betachest = Betaabdom</li>\n",
    "<li>(b) Consider a smaller model using only age, weight, height and abdom. Is it justifiable to\n",
    "use this smaller model? Do an appropriate test to answer this question.</li>\n",
    "<li>(c) Compare a 95% prediction interval for the median values of the predictors and compare\n",
    "the results to the 95% prediction interval using the full model. Do the intervals differ\n",
    "by a practically important amount?</li>\n",
    "<li>(d) For the smaller model, examine all observations from case numbers 25 to 50. Which\n",
    "observations seem particularly anomalous?</li>\n",
    "<li>(e) Recompute the 95% prediction interval for median predictor values after two anomalous\n",
    "cases have been excluded from the data. Did this make much difference to the outcome?</li>\n",
    "</ul>\n",
    "    </b>"
   ]
  },
  {
   "cell_type": "markdown",
   "id": "pharmaceutical-shareware",
   "metadata": {},
   "source": [
    "<b>(a) Relative to the full model, test whether the variables chest and abdom have the same effect on the response variable brozek. This is equivalent to test: H0 : $\\beta$chest = $\\beta$abdom."
   ]
  },
  {
   "cell_type": "code",
   "execution_count": 1,
   "id": "motivated-fraction",
   "metadata": {},
   "outputs": [
    {
     "name": "stderr",
     "output_type": "stream",
     "text": [
      "Warning message:\n",
      "\"package 'faraway' was built under R version 3.6.3\""
     ]
    },
    {
     "data": {
      "text/html": [
       "<table>\n",
       "<thead><tr><th scope=col>brozek</th><th scope=col>siri</th><th scope=col>density</th><th scope=col>age</th><th scope=col>weight</th><th scope=col>height</th><th scope=col>adipos</th><th scope=col>free</th><th scope=col>neck</th><th scope=col>chest</th><th scope=col>abdom</th><th scope=col>hip</th><th scope=col>thigh</th><th scope=col>knee</th><th scope=col>ankle</th><th scope=col>biceps</th><th scope=col>forearm</th><th scope=col>wrist</th></tr></thead>\n",
       "<tbody>\n",
       "\t<tr><td>12.6  </td><td>12.3  </td><td>1.0708</td><td>23    </td><td>154.25</td><td>67.75 </td><td>23.7  </td><td>134.9 </td><td>36.2  </td><td>93.1  </td><td>85.2  </td><td>94.5  </td><td>59.0  </td><td>37.3  </td><td>21.9  </td><td>32.0  </td><td>27.4  </td><td>17.1  </td></tr>\n",
       "\t<tr><td> 6.9  </td><td> 6.1  </td><td>1.0853</td><td>22    </td><td>173.25</td><td>72.25 </td><td>23.4  </td><td>161.3 </td><td>38.5  </td><td>93.6  </td><td>83.0  </td><td>98.7  </td><td>58.7  </td><td>37.3  </td><td>23.4  </td><td>30.5  </td><td>28.9  </td><td>18.2  </td></tr>\n",
       "\t<tr><td>24.6  </td><td>25.3  </td><td>1.0414</td><td>22    </td><td>154.00</td><td>66.25 </td><td>24.7  </td><td>116.0 </td><td>34.0  </td><td>95.8  </td><td>87.9  </td><td>99.2  </td><td>59.6  </td><td>38.9  </td><td>24.0  </td><td>28.8  </td><td>25.2  </td><td>16.6  </td></tr>\n",
       "</tbody>\n",
       "</table>\n"
      ],
      "text/latex": [
       "\\begin{tabular}{r|llllllllllllllllll}\n",
       " brozek & siri & density & age & weight & height & adipos & free & neck & chest & abdom & hip & thigh & knee & ankle & biceps & forearm & wrist\\\\\n",
       "\\hline\n",
       "\t 12.6   & 12.3   & 1.0708 & 23     & 154.25 & 67.75  & 23.7   & 134.9  & 36.2   & 93.1   & 85.2   & 94.5   & 59.0   & 37.3   & 21.9   & 32.0   & 27.4   & 17.1  \\\\\n",
       "\t  6.9   &  6.1   & 1.0853 & 22     & 173.25 & 72.25  & 23.4   & 161.3  & 38.5   & 93.6   & 83.0   & 98.7   & 58.7   & 37.3   & 23.4   & 30.5   & 28.9   & 18.2  \\\\\n",
       "\t 24.6   & 25.3   & 1.0414 & 22     & 154.00 & 66.25  & 24.7   & 116.0  & 34.0   & 95.8   & 87.9   & 99.2   & 59.6   & 38.9   & 24.0   & 28.8   & 25.2   & 16.6  \\\\\n",
       "\\end{tabular}\n"
      ],
      "text/markdown": [
       "\n",
       "| brozek | siri | density | age | weight | height | adipos | free | neck | chest | abdom | hip | thigh | knee | ankle | biceps | forearm | wrist |\n",
       "|---|---|---|---|---|---|---|---|---|---|---|---|---|---|---|---|---|---|\n",
       "| 12.6   | 12.3   | 1.0708 | 23     | 154.25 | 67.75  | 23.7   | 134.9  | 36.2   | 93.1   | 85.2   | 94.5   | 59.0   | 37.3   | 21.9   | 32.0   | 27.4   | 17.1   |\n",
       "|  6.9   |  6.1   | 1.0853 | 22     | 173.25 | 72.25  | 23.4   | 161.3  | 38.5   | 93.6   | 83.0   | 98.7   | 58.7   | 37.3   | 23.4   | 30.5   | 28.9   | 18.2   |\n",
       "| 24.6   | 25.3   | 1.0414 | 22     | 154.00 | 66.25  | 24.7   | 116.0  | 34.0   | 95.8   | 87.9   | 99.2   | 59.6   | 38.9   | 24.0   | 28.8   | 25.2   | 16.6   |\n",
       "\n"
      ],
      "text/plain": [
       "  brozek siri density age weight height adipos free  neck chest abdom hip \n",
       "1 12.6   12.3 1.0708  23  154.25 67.75  23.7   134.9 36.2 93.1  85.2  94.5\n",
       "2  6.9    6.1 1.0853  22  173.25 72.25  23.4   161.3 38.5 93.6  83.0  98.7\n",
       "3 24.6   25.3 1.0414  22  154.00 66.25  24.7   116.0 34.0 95.8  87.9  99.2\n",
       "  thigh knee ankle biceps forearm wrist\n",
       "1 59.0  37.3 21.9  32.0   27.4    17.1 \n",
       "2 58.7  37.3 23.4  30.5   28.9    18.2 \n",
       "3 59.6  38.9 24.0  28.8   25.2    16.6 "
      ]
     },
     "metadata": {},
     "output_type": "display_data"
    }
   ],
   "source": [
    "library('faraway')\n",
    "data(fat)\n",
    "head(fat,3)"
   ]
  },
  {
   "cell_type": "code",
   "execution_count": 2,
   "id": "roman-elevation",
   "metadata": {},
   "outputs": [],
   "source": [
    "# fit the full model\n",
    "model4.a = lm(brozek ~ age + weight + height + neck + chest + abdom + hip + thigh + knee + ankle + biceps + forearm + wrist,\n",
    "              data = fat)"
   ]
  },
  {
   "cell_type": "markdown",
   "id": "considerable-boards",
   "metadata": {},
   "source": [
    "to test this hypothesis, following two models with chest removed and abdom removed are fit and these are compared with the full model."
   ]
  },
  {
   "cell_type": "markdown",
   "id": "experienced-apple",
   "metadata": {
    "scrolled": true
   },
   "source": [
    "fit the reduced model after removing $\\beta Chest$"
   ]
  },
  {
   "cell_type": "code",
   "execution_count": 11,
   "id": "noted-mainland",
   "metadata": {},
   "outputs": [],
   "source": [
    "model4.a_reduced_chest = lm(brozek ~ age + weight + height + neck + abdom + hip + thigh + knee + ankle + biceps + forearm + wrist,\n",
    "              data = fat)"
   ]
  },
  {
   "cell_type": "code",
   "execution_count": 12,
   "id": "attempted-vacation",
   "metadata": {
    "scrolled": false
   },
   "outputs": [
    {
     "data": {
      "text/html": [
       "<table>\n",
       "<thead><tr><th scope=col>Res.Df</th><th scope=col>RSS</th><th scope=col>Df</th><th scope=col>Sum of Sq</th><th scope=col>F</th><th scope=col>Pr(&gt;F)</th></tr></thead>\n",
       "<tbody>\n",
       "\t<tr><td>239      </td><td>3786.186 </td><td>NA       </td><td>      NA </td><td>       NA</td><td>       NA</td></tr>\n",
       "\t<tr><td>238      </td><td>3785.136 </td><td> 1       </td><td>1.050493 </td><td>0.0660524</td><td>0.7973957</td></tr>\n",
       "</tbody>\n",
       "</table>\n"
      ],
      "text/latex": [
       "\\begin{tabular}{r|llllll}\n",
       " Res.Df & RSS & Df & Sum of Sq & F & Pr(>F)\\\\\n",
       "\\hline\n",
       "\t 239       & 3786.186  & NA        &       NA  &        NA &        NA\\\\\n",
       "\t 238       & 3785.136  &  1        & 1.050493  & 0.0660524 & 0.7973957\\\\\n",
       "\\end{tabular}\n"
      ],
      "text/markdown": [
       "\n",
       "| Res.Df | RSS | Df | Sum of Sq | F | Pr(>F) |\n",
       "|---|---|---|---|---|---|\n",
       "| 239       | 3786.186  | NA        |       NA  |        NA |        NA |\n",
       "| 238       | 3785.136  |  1        | 1.050493  | 0.0660524 | 0.7973957 |\n",
       "\n"
      ],
      "text/plain": [
       "  Res.Df RSS      Df Sum of Sq F         Pr(>F)   \n",
       "1 239    3786.186 NA       NA         NA        NA\n",
       "2 238    3785.136  1 1.050493  0.0660524 0.7973957"
      ]
     },
     "metadata": {},
     "output_type": "display_data"
    }
   ],
   "source": [
    "anova(model4.a_reduced_chest, model4.a)"
   ]
  },
  {
   "cell_type": "markdown",
   "id": "toxic-edinburgh",
   "metadata": {},
   "source": [
    "fit the reduced model after removing $\\beta Abdom$"
   ]
  },
  {
   "cell_type": "code",
   "execution_count": 13,
   "id": "spatial-engineering",
   "metadata": {},
   "outputs": [],
   "source": [
    "model4.a_reduced_abdom = lm(brozek ~ age + weight + height + neck + chest + hip + thigh + knee + ankle + biceps + forearm + wrist,\n",
    "              data = fat)"
   ]
  },
  {
   "cell_type": "code",
   "execution_count": 14,
   "id": "democratic-regulation",
   "metadata": {
    "scrolled": true
   },
   "outputs": [
    {
     "data": {
      "text/html": [
       "<table>\n",
       "<thead><tr><th scope=col>Res.Df</th><th scope=col>RSS</th><th scope=col>Df</th><th scope=col>Sum of Sq</th><th scope=col>F</th><th scope=col>Pr(&gt;F)</th></tr></thead>\n",
       "<tbody>\n",
       "\t<tr><td>239        </td><td>5729.592   </td><td>NA         </td><td>      NA   </td><td>      NA   </td><td>         NA</td></tr>\n",
       "\t<tr><td>238        </td><td>3785.136   </td><td> 1         </td><td>1944.456   </td><td>122.2626   </td><td>3.30657e-23</td></tr>\n",
       "</tbody>\n",
       "</table>\n"
      ],
      "text/latex": [
       "\\begin{tabular}{r|llllll}\n",
       " Res.Df & RSS & Df & Sum of Sq & F & Pr(>F)\\\\\n",
       "\\hline\n",
       "\t 239         & 5729.592    & NA          &       NA    &       NA    &          NA\\\\\n",
       "\t 238         & 3785.136    &  1          & 1944.456    & 122.2626    & 3.30657e-23\\\\\n",
       "\\end{tabular}\n"
      ],
      "text/markdown": [
       "\n",
       "| Res.Df | RSS | Df | Sum of Sq | F | Pr(>F) |\n",
       "|---|---|---|---|---|---|\n",
       "| 239         | 5729.592    | NA          |       NA    |       NA    |          NA |\n",
       "| 238         | 3785.136    |  1          | 1944.456    | 122.2626    | 3.30657e-23 |\n",
       "\n"
      ],
      "text/plain": [
       "  Res.Df RSS      Df Sum of Sq F        Pr(>F)     \n",
       "1 239    5729.592 NA       NA        NA          NA\n",
       "2 238    3785.136  1 1944.456  122.2626 3.30657e-23"
      ]
     },
     "metadata": {},
     "output_type": "display_data"
    }
   ],
   "source": [
    "anova(model4.a_reduced_abdom, model4.a)"
   ]
  },
  {
   "cell_type": "markdown",
   "id": "civil-consumer",
   "metadata": {},
   "source": [
    "* As can be seen from above two anova tables, the F statistic value for both tables is very different, hence $\\beta$chest is not equal to $\\beta$abdom."
   ]
  },
  {
   "cell_type": "markdown",
   "id": "continued-trainer",
   "metadata": {},
   "source": [
    "<b>(b) Consider a smaller model using only age, weight, height and abdom. Is it justifiable to use this smaller model? Do an appropriate test to answer this question."
   ]
  },
  {
   "cell_type": "code",
   "execution_count": 15,
   "id": "happy-henry",
   "metadata": {},
   "outputs": [
    {
     "data": {
      "text/plain": [
       "\n",
       "Call:\n",
       "lm(formula = brozek ~ age + weight + height + abdom, data = fat)\n",
       "\n",
       "Residuals:\n",
       "     Min       1Q   Median       3Q      Max \n",
       "-11.5105  -2.9346   0.0087   2.8942   9.4179 \n",
       "\n",
       "Coefficients:\n",
       "              Estimate Std. Error t value Pr(>|t|)    \n",
       "(Intercept) -32.769636   6.541902  -5.009 1.04e-06 ***\n",
       "age          -0.007051   0.024342  -0.290    0.772    \n",
       "weight       -0.123722   0.025046  -4.940 1.44e-06 ***\n",
       "height       -0.116694   0.082727  -1.411    0.160    \n",
       "abdom         0.889704   0.067267  13.226  < 2e-16 ***\n",
       "---\n",
       "Signif. codes:  0 '***' 0.001 '**' 0.01 '*' 0.05 '.' 0.1 ' ' 1\n",
       "\n",
       "Residual standard error: 4.126 on 247 degrees of freedom\n",
       "Multiple R-squared:  0.7211,\tAdjusted R-squared:  0.7166 \n",
       "F-statistic: 159.7 on 4 and 247 DF,  p-value: < 2.2e-16\n"
      ]
     },
     "metadata": {},
     "output_type": "display_data"
    }
   ],
   "source": [
    "model4.b = lm(brozek ~ age + weight + height + abdom, data = fat)\n",
    "summary(model4.b)"
   ]
  },
  {
   "cell_type": "code",
   "execution_count": 16,
   "id": "mental-allergy",
   "metadata": {
    "scrolled": true
   },
   "outputs": [
    {
     "data": {
      "text/html": [
       "<table>\n",
       "<thead><tr><th scope=col>Res.Df</th><th scope=col>RSS</th><th scope=col>Df</th><th scope=col>Sum of Sq</th><th scope=col>F</th><th scope=col>Pr(&gt;F)</th></tr></thead>\n",
       "<tbody>\n",
       "\t<tr><td>247        </td><td>4205.038   </td><td>NA         </td><td>      NA   </td><td>      NA   </td><td>         NA</td></tr>\n",
       "\t<tr><td>238        </td><td>3785.136   </td><td> 9         </td><td>419.9019   </td><td>2.933599   </td><td>0.002557676</td></tr>\n",
       "</tbody>\n",
       "</table>\n"
      ],
      "text/latex": [
       "\\begin{tabular}{r|llllll}\n",
       " Res.Df & RSS & Df & Sum of Sq & F & Pr(>F)\\\\\n",
       "\\hline\n",
       "\t 247         & 4205.038    & NA          &       NA    &       NA    &          NA\\\\\n",
       "\t 238         & 3785.136    &  9          & 419.9019    & 2.933599    & 0.002557676\\\\\n",
       "\\end{tabular}\n"
      ],
      "text/markdown": [
       "\n",
       "| Res.Df | RSS | Df | Sum of Sq | F | Pr(>F) |\n",
       "|---|---|---|---|---|---|\n",
       "| 247         | 4205.038    | NA          |       NA    |       NA    |          NA |\n",
       "| 238         | 3785.136    |  9          | 419.9019    | 2.933599    | 0.002557676 |\n",
       "\n"
      ],
      "text/plain": [
       "  Res.Df RSS      Df Sum of Sq F        Pr(>F)     \n",
       "1 247    4205.038 NA       NA        NA          NA\n",
       "2 238    3785.136  9 419.9019  2.933599 0.002557676"
      ]
     },
     "metadata": {},
     "output_type": "display_data"
    }
   ],
   "source": [
    "anova(model4.b, model4.a)"
   ]
  },
  {
   "cell_type": "markdown",
   "id": "auburn-brazil",
   "metadata": {},
   "source": [
    "Here,\n",
    "\n",
    "null hypothesis: the reduced model i.e. model4.b and the full model i.e. model4.a do not differ significantly\n",
    "\n",
    "alternative hypothesis: full model is significantly better than reduced model\n",
    "\n",
    "We can see that P value associated with F test is lower than the 5% significance level, hence we reject the null hypothesis and accept the alternative hypothesis i.e. full model is significantly better."
   ]
  },
  {
   "cell_type": "markdown",
   "id": "compliant-territory",
   "metadata": {},
   "source": [
    "<b>(c) Compare a 95% prediction interval for the median values of the predictors and compare the results to the 95% prediction interval using the full model. Do the intervals differ by a practically important amount?"
   ]
  },
  {
   "cell_type": "code",
   "execution_count": 17,
   "id": "ignored-sphere",
   "metadata": {
    "scrolled": true
   },
   "outputs": [
    {
     "data": {
      "text/html": [
       "<table>\n",
       "<thead><tr><th scope=col>brozek</th><th scope=col>siri</th><th scope=col>density</th><th scope=col>age</th><th scope=col>weight</th><th scope=col>height</th><th scope=col>adipos</th><th scope=col>free</th><th scope=col>neck</th><th scope=col>chest</th><th scope=col>abdom</th><th scope=col>hip</th><th scope=col>thigh</th><th scope=col>knee</th><th scope=col>ankle</th><th scope=col>biceps</th><th scope=col>forearm</th><th scope=col>wrist</th></tr></thead>\n",
       "<tbody>\n",
       "\t<tr><td>19    </td><td>19.2  </td><td>1.0549</td><td>43    </td><td>176.5 </td><td>70    </td><td>25.05 </td><td>141.55</td><td>38    </td><td>99.65 </td><td>90.95 </td><td>99.3  </td><td>59    </td><td>38.5  </td><td>22.8  </td><td>32.05 </td><td>28.7  </td><td>18.3  </td></tr>\n",
       "</tbody>\n",
       "</table>\n"
      ],
      "text/latex": [
       "\\begin{tabular}{llllllllllllllllll}\n",
       " brozek & siri & density & age & weight & height & adipos & free & neck & chest & abdom & hip & thigh & knee & ankle & biceps & forearm & wrist\\\\\n",
       "\\hline\n",
       "\t 19     & 19.2   & 1.0549 & 43     & 176.5  & 70     & 25.05  & 141.55 & 38     & 99.65  & 90.95  & 99.3   & 59     & 38.5   & 22.8   & 32.05  & 28.7   & 18.3  \\\\\n",
       "\\end{tabular}\n"
      ],
      "text/markdown": [
       "\n",
       "| brozek | siri | density | age | weight | height | adipos | free | neck | chest | abdom | hip | thigh | knee | ankle | biceps | forearm | wrist |\n",
       "|---|---|---|---|---|---|---|---|---|---|---|---|---|---|---|---|---|---|\n",
       "| 19     | 19.2   | 1.0549 | 43     | 176.5  | 70     | 25.05  | 141.55 | 38     | 99.65  | 90.95  | 99.3   | 59     | 38.5   | 22.8   | 32.05  | 28.7   | 18.3   |\n",
       "\n"
      ],
      "text/plain": [
       "     brozek siri density age weight height adipos free   neck chest abdom hip \n",
       "[1,] 19     19.2 1.0549  43  176.5  70     25.05  141.55 38   99.65 90.95 99.3\n",
       "     thigh knee ankle biceps forearm wrist\n",
       "[1,] 59    38.5 22.8  32.05  28.7    18.3 "
      ]
     },
     "metadata": {},
     "output_type": "display_data"
    }
   ],
   "source": [
    "medians = t(apply(fat,2,median))\n",
    "head(medians,3)"
   ]
  },
  {
   "cell_type": "code",
   "execution_count": 18,
   "id": "varied-poetry",
   "metadata": {},
   "outputs": [],
   "source": [
    "medians = data.frame(medians)"
   ]
  },
  {
   "cell_type": "code",
   "execution_count": 19,
   "id": "mexican-occasions",
   "metadata": {
    "scrolled": false
   },
   "outputs": [
    {
     "data": {
      "text/html": [
       "<table>\n",
       "<thead><tr><th scope=col>fit</th><th scope=col>lwr</th><th scope=col>upr</th></tr></thead>\n",
       "<tbody>\n",
       "\t<tr><td>17.49322</td><td>9.61783 </td><td>25.36861</td></tr>\n",
       "</tbody>\n",
       "</table>\n"
      ],
      "text/latex": [
       "\\begin{tabular}{r|lll}\n",
       " fit & lwr & upr\\\\\n",
       "\\hline\n",
       "\t 17.49322 & 9.61783  & 25.36861\\\\\n",
       "\\end{tabular}\n"
      ],
      "text/markdown": [
       "\n",
       "| fit | lwr | upr |\n",
       "|---|---|---|\n",
       "| 17.49322 | 9.61783  | 25.36861 |\n",
       "\n"
      ],
      "text/plain": [
       "  fit      lwr     upr     \n",
       "1 17.49322 9.61783 25.36861"
      ]
     },
     "metadata": {},
     "output_type": "display_data"
    }
   ],
   "source": [
    "predict(model4.a, medians, interval = 'prediction')"
   ]
  },
  {
   "cell_type": "code",
   "execution_count": 20,
   "id": "clean-blanket",
   "metadata": {
    "scrolled": true
   },
   "outputs": [
    {
     "data": {
      "text/html": [
       "<table>\n",
       "<thead><tr><th scope=col>fit</th><th scope=col>lwr</th><th scope=col>upr</th></tr></thead>\n",
       "<tbody>\n",
       "\t<tr><td>17.84028</td><td>9.696631</td><td>25.98392</td></tr>\n",
       "</tbody>\n",
       "</table>\n"
      ],
      "text/latex": [
       "\\begin{tabular}{r|lll}\n",
       " fit & lwr & upr\\\\\n",
       "\\hline\n",
       "\t 17.84028 & 9.696631 & 25.98392\\\\\n",
       "\\end{tabular}\n"
      ],
      "text/markdown": [
       "\n",
       "| fit | lwr | upr |\n",
       "|---|---|---|\n",
       "| 17.84028 | 9.696631 | 25.98392 |\n",
       "\n"
      ],
      "text/plain": [
       "  fit      lwr      upr     \n",
       "1 17.84028 9.696631 25.98392"
      ]
     },
     "metadata": {},
     "output_type": "display_data"
    }
   ],
   "source": [
    "predict(model4.b, data.frame(weight = 176.5, abdom = 90.95, age = 43, height = 70), interval = 'prediction')"
   ]
  },
  {
   "cell_type": "markdown",
   "id": "dense-bulgaria",
   "metadata": {},
   "source": [
    "* The prediction interval for reduced model is slightly more than the full model\n",
    "* The fit value difference is 0.35."
   ]
  },
  {
   "cell_type": "markdown",
   "id": "closing-behalf",
   "metadata": {},
   "source": [
    "<b>(d) For the smaller model, examine all observations from case numbers 25 to 50. Which observations seem particularly anomalous?"
   ]
  },
  {
   "cell_type": "code",
   "execution_count": 21,
   "id": "excessive-corporation",
   "metadata": {},
   "outputs": [
    {
     "data": {
      "text/plain": [
       "\n",
       "Call:\n",
       "lm(formula = brozek ~ age + weight + height + abdom, data = fat)\n",
       "\n",
       "Coefficients:\n",
       "(Intercept)          age       weight       height        abdom  \n",
       " -32.769636    -0.007051    -0.123722    -0.116694     0.889704  \n"
      ]
     },
     "metadata": {},
     "output_type": "display_data"
    }
   ],
   "source": [
    "model4.b"
   ]
  },
  {
   "cell_type": "code",
   "execution_count": 22,
   "id": "manual-german",
   "metadata": {},
   "outputs": [
    {
     "data": {
      "image/png": "[encoded data removed]",
      "text/plain": [
       "plot without title"
      ]
     },
     "metadata": {},
     "output_type": "display_data"
    }
   ],
   "source": [
    "plot(fat[25:50, c('abdom', 'brozek')])"
   ]
  },
  {
   "cell_type": "code",
   "execution_count": 23,
   "id": "recognized-korea",
   "metadata": {},
   "outputs": [
    {
     "data": {
      "image/png": "[encoded data removed]",
      "text/plain": [
       "plot without title"
      ]
     },
     "metadata": {},
     "output_type": "display_data"
    }
   ],
   "source": [
    "plot(fat[25:50, c('chest', 'brozek')])"
   ]
  },
  {
   "cell_type": "markdown",
   "id": "partial-douglas",
   "metadata": {},
   "source": [
    "* We can clearly see that there are two datapoints (Chest > 120 and abdom > 120) which have high leverage"
   ]
  },
  {
   "cell_type": "code",
   "execution_count": 5,
   "id": "clean-vietnamese",
   "metadata": {},
   "outputs": [
    {
     "data": {
      "text/html": [
       "<table>\n",
       "<thead><tr><th></th><th scope=col>brozek</th><th scope=col>siri</th><th scope=col>density</th><th scope=col>age</th><th scope=col>weight</th><th scope=col>height</th><th scope=col>adipos</th><th scope=col>free</th><th scope=col>neck</th><th scope=col>chest</th><th scope=col>abdom</th><th scope=col>hip</th><th scope=col>thigh</th><th scope=col>knee</th><th scope=col>ankle</th><th scope=col>biceps</th><th scope=col>forearm</th><th scope=col>wrist</th></tr></thead>\n",
       "<tbody>\n",
       "\t<tr><th scope=row>39</th><td>33.8  </td><td>35.2  </td><td>1.0202</td><td>46    </td><td>363.15</td><td>72.25 </td><td>48.9  </td><td>240.5 </td><td>51.2  </td><td>136.2 </td><td>148.1 </td><td>147.7 </td><td>87.3  </td><td>49.1  </td><td>29.6  </td><td>45.0  </td><td>29.0  </td><td>21.4  </td></tr>\n",
       "\t<tr><th scope=row>41</th><td>33.1  </td><td>34.5  </td><td>1.0217</td><td>45    </td><td>262.75</td><td>68.75 </td><td>39.1  </td><td>175.8 </td><td>43.2  </td><td>128.3 </td><td>126.2 </td><td>125.6 </td><td>72.5  </td><td>39.6  </td><td>26.6  </td><td>36.4  </td><td>32.7  </td><td>21.4  </td></tr>\n",
       "</tbody>\n",
       "</table>\n"
      ],
      "text/latex": [
       "\\begin{tabular}{r|llllllllllllllllll}\n",
       "  & brozek & siri & density & age & weight & height & adipos & free & neck & chest & abdom & hip & thigh & knee & ankle & biceps & forearm & wrist\\\\\n",
       "\\hline\n",
       "\t39 & 33.8   & 35.2   & 1.0202 & 46     & 363.15 & 72.25  & 48.9   & 240.5  & 51.2   & 136.2  & 148.1  & 147.7  & 87.3   & 49.1   & 29.6   & 45.0   & 29.0   & 21.4  \\\\\n",
       "\t41 & 33.1   & 34.5   & 1.0217 & 45     & 262.75 & 68.75  & 39.1   & 175.8  & 43.2   & 128.3  & 126.2  & 125.6  & 72.5   & 39.6   & 26.6   & 36.4   & 32.7   & 21.4  \\\\\n",
       "\\end{tabular}\n"
      ],
      "text/markdown": [
       "\n",
       "| <!--/--> | brozek | siri | density | age | weight | height | adipos | free | neck | chest | abdom | hip | thigh | knee | ankle | biceps | forearm | wrist |\n",
       "|---|---|---|---|---|---|---|---|---|---|---|---|---|---|---|---|---|---|---|\n",
       "| 39 | 33.8   | 35.2   | 1.0202 | 46     | 363.15 | 72.25  | 48.9   | 240.5  | 51.2   | 136.2  | 148.1  | 147.7  | 87.3   | 49.1   | 29.6   | 45.0   | 29.0   | 21.4   |\n",
       "| 41 | 33.1   | 34.5   | 1.0217 | 45     | 262.75 | 68.75  | 39.1   | 175.8  | 43.2   | 128.3  | 126.2  | 125.6  | 72.5   | 39.6   | 26.6   | 36.4   | 32.7   | 21.4   |\n",
       "\n"
      ],
      "text/plain": [
       "   brozek siri density age weight height adipos free  neck chest abdom hip  \n",
       "39 33.8   35.2 1.0202  46  363.15 72.25  48.9   240.5 51.2 136.2 148.1 147.7\n",
       "41 33.1   34.5 1.0217  45  262.75 68.75  39.1   175.8 43.2 128.3 126.2 125.6\n",
       "   thigh knee ankle biceps forearm wrist\n",
       "39 87.3  49.1 29.6  45.0   29.0    21.4 \n",
       "41 72.5  39.6 26.6  36.4   32.7    21.4 "
      ]
     },
     "metadata": {},
     "output_type": "display_data"
    }
   ],
   "source": [
    "fat[fat$abdom > 125, ]"
   ]
  },
  {
   "cell_type": "markdown",
   "id": "controlling-great",
   "metadata": {},
   "source": [
    "* entry 39 and 41 have high leverage both for chest as well as abdom"
   ]
  },
  {
   "cell_type": "markdown",
   "id": "naval-timber",
   "metadata": {},
   "source": [
    "<b>(e) Recompute the 95% prediction interval for median predictor values after two anomalous cases have been excluded from the data. Did this make much difference to the outcome?"
   ]
  },
  {
   "cell_type": "code",
   "execution_count": 387,
   "id": "checked-portland",
   "metadata": {},
   "outputs": [],
   "source": [
    "# remove these two datapoints\n",
    "fat1 <- fat[-c(39, 41), ]"
   ]
  },
  {
   "cell_type": "code",
   "execution_count": 390,
   "id": "simple-eagle",
   "metadata": {},
   "outputs": [],
   "source": [
    "model4.b1 = lm(brozek ~ age + weight + height + abdom, data = fat1)"
   ]
  },
  {
   "cell_type": "code",
   "execution_count": 397,
   "id": "vulnerable-intention",
   "metadata": {},
   "outputs": [
    {
     "data": {
      "text/html": [
       "<table>\n",
       "<thead><tr><th scope=col>fit</th><th scope=col>lwr</th><th scope=col>upr</th></tr></thead>\n",
       "<tbody>\n",
       "\t<tr><td>17.90364</td><td>9.931719</td><td>25.87556</td></tr>\n",
       "</tbody>\n",
       "</table>\n"
      ],
      "text/latex": [
       "\\begin{tabular}{r|lll}\n",
       " fit & lwr & upr\\\\\n",
       "\\hline\n",
       "\t 17.90364 & 9.931719 & 25.87556\\\\\n",
       "\\end{tabular}\n"
      ],
      "text/markdown": [
       "\n",
       "| fit | lwr | upr |\n",
       "|---|---|---|\n",
       "| 17.90364 | 9.931719 | 25.87556 |\n",
       "\n"
      ],
      "text/plain": [
       "  fit      lwr      upr     \n",
       "1 17.90364 9.931719 25.87556"
      ]
     },
     "metadata": {},
     "output_type": "display_data"
    }
   ],
   "source": [
    "predict(model4.b1, data.frame(weight = 176.5, abdom = 90.95, age = 43, height = 70), interval = 'prediction')"
   ]
  },
  {
   "cell_type": "markdown",
   "id": "traditional-client",
   "metadata": {},
   "source": [
    "* After removing the two leverage points, following changes occure.\n",
    "\n",
    "<ol>\n",
    "<li>Fit changed from 17.84028 to 17.90364</li>\n",
    "<li>lwr changed from 9.696631 to 9.931719</li>\n",
    "<li>upr changed from 25.98392 to 25.87556</li>\n",
    "</ol>\n",
    "    \n",
    "* As it can be seen, there is not big change in the response and interval prediction. Hence from preliminary analysis, these two data points are not influential."
   ]
  },
  {
   "cell_type": "markdown",
   "id": "average-intensity",
   "metadata": {},
   "source": [
    "_____________"
   ]
  },
  {
   "cell_type": "markdown",
   "id": "enhanced-laser",
   "metadata": {},
   "source": [
    "<img src = \"prob5.png\" >"
   ]
  },
  {
   "cell_type": "markdown",
   "id": "ruled-polish",
   "metadata": {},
   "source": [
    "<img src = \"prob5_answer.jpg\" >"
   ]
  }
 ],
 "metadata": {
  "kernelspec": {
   "display_name": "R",
   "language": "R",
   "name": "ir"
  },
  "language_info": {
   "codemirror_mode": "r",
   "file_extension": ".r",
   "mimetype": "text/x-r-source",
   "name": "R",
   "pygments_lexer": "r",
   "version": "3.6.1"
  }
 },
 "nbformat": 4,
 "nbformat_minor": 5
}
