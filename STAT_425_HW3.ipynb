{
 "cells": [
  {
   "cell_type": "markdown",
   "id": "interim-bridges",
   "metadata": {},
   "source": [
    "<b> Problem 1: The salmonella data set from the faraway library was collected in a salmonella\n",
    "reverse mutagenicity assay where the numbers of revertant colonies of TA98 Salmonella observed on each of three replicate plates for different doses of quinoline\n",
    "<hr>\n",
    "(a) Fit a linear model with colonies as the response and log(dose + 1) as a predictor.\n",
    "\n",
    "(b) Make residual plots and comment on the results.\n",
    "\n",
    "(c) Check this model for lack of fit using an appropriate test.\n"
   ]
  },
  {
   "cell_type": "code",
   "execution_count": 2,
   "id": "silver-value",
   "metadata": {},
   "outputs": [],
   "source": [
    "library('faraway')\n",
    "library('ggplot2')\n",
    "options(repr.plot.width=6, repr.plot.height=4)\n",
    "data(salmonella)"
   ]
  },
  {
   "cell_type": "code",
   "execution_count": 3,
   "id": "infinite-supervisor",
   "metadata": {},
   "outputs": [
    {
     "data": {
      "text/html": [
       "<table>\n",
       "<thead><tr><th scope=col>colonies</th><th scope=col>dose</th></tr></thead>\n",
       "<tbody>\n",
       "\t<tr><td>15</td><td>0 </td></tr>\n",
       "\t<tr><td>21</td><td>0 </td></tr>\n",
       "</tbody>\n",
       "</table>\n"
      ],
      "text/latex": [
       "\\begin{tabular}{r|ll}\n",
       " colonies & dose\\\\\n",
       "\\hline\n",
       "\t 15 & 0 \\\\\n",
       "\t 21 & 0 \\\\\n",
       "\\end{tabular}\n"
      ],
      "text/markdown": [
       "\n",
       "| colonies | dose |\n",
       "|---|---|\n",
       "| 15 | 0  |\n",
       "| 21 | 0  |\n",
       "\n"
      ],
      "text/plain": [
       "  colonies dose\n",
       "1 15       0   \n",
       "2 21       0   "
      ]
     },
     "metadata": {},
     "output_type": "display_data"
    }
   ],
   "source": [
    "head(salmonella, 2)"
   ]
  },
  {
   "cell_type": "markdown",
   "id": "received-moldova",
   "metadata": {},
   "source": [
    "<b>(a) Fit a linear model with colonies as the response and log(dose + 1) as a predictor."
   ]
  },
  {
   "cell_type": "code",
   "execution_count": 4,
   "id": "artificial-feedback",
   "metadata": {},
   "outputs": [],
   "source": [
    "model = lm(colonies ~ log(dose + 1), data = salmonella)"
   ]
  },
  {
   "cell_type": "code",
   "execution_count": 5,
   "id": "virtual-creativity",
   "metadata": {
    "scrolled": false
   },
   "outputs": [
    {
     "data": {
      "text/plain": [
       "\n",
       "Call:\n",
       "lm(formula = colonies ~ log(dose + 1), data = salmonella)\n",
       "\n",
       "Residuals:\n",
       "    Min      1Q  Median      3Q     Max \n",
       "-16.376  -6.882  -1.509   5.400  29.119 \n",
       "\n",
       "Coefficients:\n",
       "              Estimate Std. Error t value Pr(>|t|)   \n",
       "(Intercept)     19.823      5.064   3.915  0.00123 **\n",
       "log(dose + 1)    2.396      1.128   2.125  0.04955 * \n",
       "---\n",
       "Signif. codes:  0 '***' 0.001 '**' 0.01 '*' 0.05 '.' 0.1 ' ' 1\n",
       "\n",
       "Residual standard error: 10.84 on 16 degrees of freedom\n",
       "Multiple R-squared:  0.2201,\tAdjusted R-squared:  0.1713 \n",
       "F-statistic: 4.514 on 1 and 16 DF,  p-value: 0.04955\n"
      ]
     },
     "metadata": {},
     "output_type": "display_data"
    }
   ],
   "source": [
    "summary(model)"
   ]
  },
  {
   "cell_type": "code",
   "execution_count": 8,
   "id": "touched-honor",
   "metadata": {},
   "outputs": [
    {
     "data": {
      "image/png": "[encoded data removed]",
      "text/plain": [
       "plot without title"
      ]
     },
     "metadata": {},
     "output_type": "display_data"
    }
   ],
   "source": [
    "ggplot(data = salmonella, aes(x = log(salmonella$dose+1), y = salmonella$colonies))+\n",
    "    geom_point()+\n",
    "    theme_update(plot.title = element_text(hjust = 0.5))+\n",
    "    theme_set(theme_bw())+\n",
    "    geom_point(color='red')+\n",
    "    labs(title='Colonies Vs Doses', x='Dose', y = 'Colonies')+\n",
    "    geom_smooth(method = lm)"
   ]
  },
  {
   "cell_type": "markdown",
   "id": "right-basin",
   "metadata": {},
   "source": [
    "<b>(b) Make residual plots and comment on the results."
   ]
  },
  {
   "cell_type": "code",
   "execution_count": 9,
   "id": "respective-toyota",
   "metadata": {},
   "outputs": [],
   "source": [
    "salmonella$residuals = model$res"
   ]
  },
  {
   "cell_type": "code",
   "execution_count": 10,
   "id": "dress-silicon",
   "metadata": {},
   "outputs": [
    {
     "data": {
      "text/html": [
       "<table>\n",
       "<thead><tr><th scope=col>colonies</th><th scope=col>dose</th><th scope=col>residuals</th></tr></thead>\n",
       "<tbody>\n",
       "\t<tr><td>15       </td><td> 0       </td><td>-4.823482</td></tr>\n",
       "\t<tr><td>21       </td><td> 0       </td><td> 1.176518</td></tr>\n",
       "\t<tr><td>29       </td><td> 0       </td><td> 9.176518</td></tr>\n",
       "\t<tr><td>16       </td><td>10       </td><td>-9.568484</td></tr>\n",
       "\t<tr><td>18       </td><td>10       </td><td>-7.568484</td></tr>\n",
       "\t<tr><td>21       </td><td>10       </td><td>-4.568484</td></tr>\n",
       "</tbody>\n",
       "</table>\n"
      ],
      "text/latex": [
       "\\begin{tabular}{r|lll}\n",
       " colonies & dose & residuals\\\\\n",
       "\\hline\n",
       "\t 15        &  0        & -4.823482\\\\\n",
       "\t 21        &  0        &  1.176518\\\\\n",
       "\t 29        &  0        &  9.176518\\\\\n",
       "\t 16        & 10        & -9.568484\\\\\n",
       "\t 18        & 10        & -7.568484\\\\\n",
       "\t 21        & 10        & -4.568484\\\\\n",
       "\\end{tabular}\n"
      ],
      "text/markdown": [
       "\n",
       "| colonies | dose | residuals |\n",
       "|---|---|---|\n",
       "| 15        |  0        | -4.823482 |\n",
       "| 21        |  0        |  1.176518 |\n",
       "| 29        |  0        |  9.176518 |\n",
       "| 16        | 10        | -9.568484 |\n",
       "| 18        | 10        | -7.568484 |\n",
       "| 21        | 10        | -4.568484 |\n",
       "\n"
      ],
      "text/plain": [
       "  colonies dose residuals\n",
       "1 15        0   -4.823482\n",
       "2 21        0    1.176518\n",
       "3 29        0    9.176518\n",
       "4 16       10   -9.568484\n",
       "5 18       10   -7.568484\n",
       "6 21       10   -4.568484"
      ]
     },
     "metadata": {},
     "output_type": "display_data"
    }
   ],
   "source": [
    "head(salmonella)"
   ]
  },
  {
   "cell_type": "code",
   "execution_count": 11,
   "id": "broken-sleep",
   "metadata": {
    "scrolled": false
   },
   "outputs": [
    {
     "data": {
      "image/png": "[encoded data removed]",
      "text/plain": [
       "plot without title"
      ]
     },
     "metadata": {},
     "output_type": "display_data"
    }
   ],
   "source": [
    "library('ggplot2')\n",
    "options(repr.plot.width=6, repr.plot.height=3)\n",
    "\n",
    "ggplot(data = salmonella, aes(x = log(salmonella$dose+1), y = residuals))+\n",
    "    geom_point()+\n",
    "    geom_hline(yintercept = 0, color = 'blue') +\n",
    "    theme_update(plot.title = element_text(hjust = 0.5))+\n",
    "    theme_set(theme_bw())+\n",
    "    geom_point(color='red')+\n",
    "    labs(title='Doses Vs Residuals', x='Doses', y = 'Residuals')+\n",
    "    geom_smooth(method = lm)+\n",
    "    geom_line()"
   ]
  },
  {
   "cell_type": "code",
   "execution_count": 12,
   "id": "composite-street",
   "metadata": {
    "scrolled": false
   },
   "outputs": [
    {
     "data": {
      "image/png": "[encoded data removed]",
      "text/plain": [
       "plot without title"
      ]
     },
     "metadata": {},
     "output_type": "display_data"
    }
   ],
   "source": [
    "ggplot(data = salmonella, aes(x = salmonella$colonies, y = residuals))+\n",
    "    geom_point()+\n",
    "    geom_hline(yintercept = 0, color = 'blue') +\n",
    "    geom_point(color='red')+\n",
    "    labs(title='Colonies Vs Residuals', x='Colonies', y = 'Residuals')+\n",
    "    geom_smooth(method = lm)+\n",
    "    geom_line()"
   ]
  },
  {
   "cell_type": "code",
   "execution_count": 13,
   "id": "unsigned-noise",
   "metadata": {},
   "outputs": [
    {
     "data": {
      "image/png": "[encoded data removed]",
      "text/plain": [
       "plot without title"
      ]
     },
     "metadata": {},
     "output_type": "display_data"
    }
   ],
   "source": [
    "ggplot(data = salmonella, aes(x = model$fitted, y = residuals))+\n",
    "    geom_point()+\n",
    "    geom_hline(yintercept = 0, color = 'blue') +\n",
    "    geom_point(color='red')+\n",
    "    labs(title='fitted Vs Residuals model', x='fitted', y = 'Residuals')+\n",
    "    geom_smooth(method = lm)+\n",
    "    geom_line()"
   ]
  },
  {
   "cell_type": "markdown",
   "id": "eligible-connecticut",
   "metadata": {},
   "source": [
    "* When we make residuals vs doses plot, we can see that there is no clear relationship that emerges.\n",
    "* When we make residuals vs colonies plot, linear relationship is seen.\n",
    "* When we make residuals vs fitted plot, no clear relationship emerges. To confirm, we can perform Durbin-Watson test."
   ]
  },
  {
   "cell_type": "code",
   "execution_count": 16,
   "id": "described-policy",
   "metadata": {
    "scrolled": false
   },
   "outputs": [
    {
     "data": {
      "text/plain": [
       "\n",
       "\tDurbin-Watson test\n",
       "\n",
       "data:  model\n",
       "DW = 1.6279, p-value = 0.1382\n",
       "alternative hypothesis: true autocorrelation is greater than 0\n"
      ]
     },
     "metadata": {},
     "output_type": "display_data"
    }
   ],
   "source": [
    "# install.packages('lmtest')\n",
    "library('lmtest')\n",
    "dwtest(model)"
   ]
  },
  {
   "cell_type": "markdown",
   "id": "defined-wellington",
   "metadata": {},
   "source": [
    "* The p value is greater than 5% significance level, hence we accept null hypothesis. i.e. residuals are not correlated."
   ]
  },
  {
   "cell_type": "markdown",
   "id": "continuing-coordinator",
   "metadata": {},
   "source": [
    "<b>(c) Check this model for lack of fit using an appropriate test."
   ]
  },
  {
   "cell_type": "markdown",
   "id": "balanced-dominican",
   "metadata": {},
   "source": [
    "* Since we do not know the sigma value of each $X_i$, hence we need to check lack of fit when sigma unknown"
   ]
  },
  {
   "cell_type": "code",
   "execution_count": 17,
   "id": "narrow-token",
   "metadata": {},
   "outputs": [
    {
     "data": {
      "text/html": [
       "<table>\n",
       "<thead><tr><th scope=col>colonies</th><th scope=col>dose</th><th scope=col>residuals</th></tr></thead>\n",
       "<tbody>\n",
       "\t<tr><td>15       </td><td>0        </td><td>-4.823482</td></tr>\n",
       "\t<tr><td>21       </td><td>0        </td><td> 1.176518</td></tr>\n",
       "</tbody>\n",
       "</table>\n"
      ],
      "text/latex": [
       "\\begin{tabular}{r|lll}\n",
       " colonies & dose & residuals\\\\\n",
       "\\hline\n",
       "\t 15        & 0         & -4.823482\\\\\n",
       "\t 21        & 0         &  1.176518\\\\\n",
       "\\end{tabular}\n"
      ],
      "text/markdown": [
       "\n",
       "| colonies | dose | residuals |\n",
       "|---|---|---|\n",
       "| 15        | 0         | -4.823482 |\n",
       "| 21        | 0         |  1.176518 |\n",
       "\n"
      ],
      "text/plain": [
       "  colonies dose residuals\n",
       "1 15       0    -4.823482\n",
       "2 21       0     1.176518"
      ]
     },
     "metadata": {},
     "output_type": "display_data"
    }
   ],
   "source": [
    "head(salmonella, 2)"
   ]
  },
  {
   "cell_type": "code",
   "execution_count": 18,
   "id": "invalid-prague",
   "metadata": {
    "scrolled": false
   },
   "outputs": [
    {
     "data": {
      "text/html": [
       "<table>\n",
       "<thead><tr><th></th><th scope=col>colonies</th><th scope=col>dose</th><th scope=col>residuals</th></tr></thead>\n",
       "<tbody>\n",
       "\t<tr><th scope=row>1</th><td>15         </td><td>   0       </td><td> -4.8234823</td></tr>\n",
       "\t<tr><th scope=row>4</th><td>16         </td><td>  10       </td><td> -9.5684844</td></tr>\n",
       "\t<tr><th scope=row>7</th><td>16         </td><td>  33       </td><td>-12.2721201</td></tr>\n",
       "\t<tr><th scope=row>5</th><td>18         </td><td>  10       </td><td> -7.5684844</td></tr>\n",
       "\t<tr><th scope=row>16</th><td>20         </td><td>1000       </td><td>-16.3758360</td></tr>\n",
       "\t<tr><th scope=row>2</th><td>21         </td><td>   0       </td><td>  1.1765177</td></tr>\n",
       "\t<tr><th scope=row>6</th><td>21         </td><td>  10       </td><td> -4.5684844</td></tr>\n",
       "\t<tr><th scope=row>8</th><td>26         </td><td>  33       </td><td> -2.2721201</td></tr>\n",
       "\t<tr><th scope=row>10</th><td>27         </td><td> 100       </td><td> -3.8806279</td></tr>\n",
       "\t<tr><th scope=row>17</th><td>27         </td><td>1000       </td><td> -9.3758360</td></tr>\n",
       "\t<tr><th scope=row>3</th><td>29         </td><td>   0       </td><td>  9.1765177</td></tr>\n",
       "\t<tr><th scope=row>9</th><td>33         </td><td>  33       </td><td>  4.7278799</td></tr>\n",
       "\t<tr><th scope=row>13</th><td>33         </td><td> 333       </td><td> -0.7461159</td></tr>\n",
       "\t<tr><th scope=row>14</th><td>38         </td><td> 333       </td><td>  4.2538841</td></tr>\n",
       "\t<tr><th scope=row>11</th><td>41         </td><td> 100       </td><td> 10.1193721</td></tr>\n",
       "\t<tr><th scope=row>15</th><td>41         </td><td> 333       </td><td>  7.2538841</td></tr>\n",
       "\t<tr><th scope=row>18</th><td>42         </td><td>1000       </td><td>  5.6241640</td></tr>\n",
       "\t<tr><th scope=row>12</th><td>60         </td><td> 100       </td><td> 29.1193721</td></tr>\n",
       "</tbody>\n",
       "</table>\n"
      ],
      "text/latex": [
       "\\begin{tabular}{r|lll}\n",
       "  & colonies & dose & residuals\\\\\n",
       "\\hline\n",
       "\t1 & 15          &    0        &  -4.8234823\\\\\n",
       "\t4 & 16          &   10        &  -9.5684844\\\\\n",
       "\t7 & 16          &   33        & -12.2721201\\\\\n",
       "\t5 & 18          &   10        &  -7.5684844\\\\\n",
       "\t16 & 20          & 1000        & -16.3758360\\\\\n",
       "\t2 & 21          &    0        &   1.1765177\\\\\n",
       "\t6 & 21          &   10        &  -4.5684844\\\\\n",
       "\t8 & 26          &   33        &  -2.2721201\\\\\n",
       "\t10 & 27          &  100        &  -3.8806279\\\\\n",
       "\t17 & 27          & 1000        &  -9.3758360\\\\\n",
       "\t3 & 29          &    0        &   9.1765177\\\\\n",
       "\t9 & 33          &   33        &   4.7278799\\\\\n",
       "\t13 & 33          &  333        &  -0.7461159\\\\\n",
       "\t14 & 38          &  333        &   4.2538841\\\\\n",
       "\t11 & 41          &  100        &  10.1193721\\\\\n",
       "\t15 & 41          &  333        &   7.2538841\\\\\n",
       "\t18 & 42          & 1000        &   5.6241640\\\\\n",
       "\t12 & 60          &  100        &  29.1193721\\\\\n",
       "\\end{tabular}\n"
      ],
      "text/markdown": [
       "\n",
       "| <!--/--> | colonies | dose | residuals |\n",
       "|---|---|---|---|\n",
       "| 1 | 15          |    0        |  -4.8234823 |\n",
       "| 4 | 16          |   10        |  -9.5684844 |\n",
       "| 7 | 16          |   33        | -12.2721201 |\n",
       "| 5 | 18          |   10        |  -7.5684844 |\n",
       "| 16 | 20          | 1000        | -16.3758360 |\n",
       "| 2 | 21          |    0        |   1.1765177 |\n",
       "| 6 | 21          |   10        |  -4.5684844 |\n",
       "| 8 | 26          |   33        |  -2.2721201 |\n",
       "| 10 | 27          |  100        |  -3.8806279 |\n",
       "| 17 | 27          | 1000        |  -9.3758360 |\n",
       "| 3 | 29          |    0        |   9.1765177 |\n",
       "| 9 | 33          |   33        |   4.7278799 |\n",
       "| 13 | 33          |  333        |  -0.7461159 |\n",
       "| 14 | 38          |  333        |   4.2538841 |\n",
       "| 11 | 41          |  100        |  10.1193721 |\n",
       "| 15 | 41          |  333        |   7.2538841 |\n",
       "| 18 | 42          | 1000        |   5.6241640 |\n",
       "| 12 | 60          |  100        |  29.1193721 |\n",
       "\n"
      ],
      "text/plain": [
       "   colonies dose residuals  \n",
       "1  15          0  -4.8234823\n",
       "4  16         10  -9.5684844\n",
       "7  16         33 -12.2721201\n",
       "5  18         10  -7.5684844\n",
       "16 20       1000 -16.3758360\n",
       "2  21          0   1.1765177\n",
       "6  21         10  -4.5684844\n",
       "8  26         33  -2.2721201\n",
       "10 27        100  -3.8806279\n",
       "17 27       1000  -9.3758360\n",
       "3  29          0   9.1765177\n",
       "9  33         33   4.7278799\n",
       "13 33        333  -0.7461159\n",
       "14 38        333   4.2538841\n",
       "11 41        100  10.1193721\n",
       "15 41        333   7.2538841\n",
       "18 42       1000   5.6241640\n",
       "12 60        100  29.1193721"
      ]
     },
     "metadata": {},
     "output_type": "display_data"
    }
   ],
   "source": [
    "salmonella[order(salmonella$colonies),]"
   ]
  },
  {
   "cell_type": "code",
   "execution_count": 19,
   "id": "interstate-format",
   "metadata": {},
   "outputs": [
    {
     "data": {
      "image/png": "[encoded data removed]",
      "text/plain": [
       "plot without title"
      ]
     },
     "metadata": {},
     "output_type": "display_data"
    }
   ],
   "source": [
    "model_a = lm(colonies ~ log(dose + 1), data = salmonella);\n",
    "plot(colonies ~ log(dose + 1), data=salmonella); abline(coef(model_a));"
   ]
  },
  {
   "cell_type": "code",
   "execution_count": 20,
   "id": "accredited-charleston",
   "metadata": {},
   "outputs": [
    {
     "data": {
      "text/html": [
       "<table>\n",
       "<thead><tr><th></th><th scope=col>colonies</th><th scope=col>dose</th><th scope=col>residuals</th><th scope=col>model_b$fitted</th></tr></thead>\n",
       "<tbody>\n",
       "\t<tr><th scope=row>1</th><td>15         </td><td>   0       </td><td> -4.8234823</td><td>21.66667   </td></tr>\n",
       "\t<tr><th scope=row>4</th><td>16         </td><td>  10       </td><td> -9.5684844</td><td>18.33333   </td></tr>\n",
       "\t<tr><th scope=row>7</th><td>16         </td><td>  33       </td><td>-12.2721201</td><td>25.00000   </td></tr>\n",
       "\t<tr><th scope=row>5</th><td>18         </td><td>  10       </td><td> -7.5684844</td><td>18.33333   </td></tr>\n",
       "\t<tr><th scope=row>16</th><td>20         </td><td>1000       </td><td>-16.3758360</td><td>29.66667   </td></tr>\n",
       "\t<tr><th scope=row>2</th><td>21         </td><td>   0       </td><td>  1.1765177</td><td>21.66667   </td></tr>\n",
       "\t<tr><th scope=row>6</th><td>21         </td><td>  10       </td><td> -4.5684844</td><td>18.33333   </td></tr>\n",
       "\t<tr><th scope=row>8</th><td>26         </td><td>  33       </td><td> -2.2721201</td><td>25.00000   </td></tr>\n",
       "\t<tr><th scope=row>10</th><td>27         </td><td> 100       </td><td> -3.8806279</td><td>42.66667   </td></tr>\n",
       "\t<tr><th scope=row>17</th><td>27         </td><td>1000       </td><td> -9.3758360</td><td>29.66667   </td></tr>\n",
       "\t<tr><th scope=row>3</th><td>29         </td><td>   0       </td><td>  9.1765177</td><td>21.66667   </td></tr>\n",
       "\t<tr><th scope=row>9</th><td>33         </td><td>  33       </td><td>  4.7278799</td><td>25.00000   </td></tr>\n",
       "\t<tr><th scope=row>13</th><td>33         </td><td> 333       </td><td> -0.7461159</td><td>37.33333   </td></tr>\n",
       "\t<tr><th scope=row>14</th><td>38         </td><td> 333       </td><td>  4.2538841</td><td>37.33333   </td></tr>\n",
       "\t<tr><th scope=row>11</th><td>41         </td><td> 100       </td><td> 10.1193721</td><td>42.66667   </td></tr>\n",
       "\t<tr><th scope=row>15</th><td>41         </td><td> 333       </td><td>  7.2538841</td><td>37.33333   </td></tr>\n",
       "\t<tr><th scope=row>18</th><td>42         </td><td>1000       </td><td>  5.6241640</td><td>29.66667   </td></tr>\n",
       "\t<tr><th scope=row>12</th><td>60         </td><td> 100       </td><td> 29.1193721</td><td>42.66667   </td></tr>\n",
       "</tbody>\n",
       "</table>\n"
      ],
      "text/latex": [
       "\\begin{tabular}{r|llll}\n",
       "  & colonies & dose & residuals & model\\_b\\$fitted\\\\\n",
       "\\hline\n",
       "\t1 & 15          &    0        &  -4.8234823 & 21.66667   \\\\\n",
       "\t4 & 16          &   10        &  -9.5684844 & 18.33333   \\\\\n",
       "\t7 & 16          &   33        & -12.2721201 & 25.00000   \\\\\n",
       "\t5 & 18          &   10        &  -7.5684844 & 18.33333   \\\\\n",
       "\t16 & 20          & 1000        & -16.3758360 & 29.66667   \\\\\n",
       "\t2 & 21          &    0        &   1.1765177 & 21.66667   \\\\\n",
       "\t6 & 21          &   10        &  -4.5684844 & 18.33333   \\\\\n",
       "\t8 & 26          &   33        &  -2.2721201 & 25.00000   \\\\\n",
       "\t10 & 27          &  100        &  -3.8806279 & 42.66667   \\\\\n",
       "\t17 & 27          & 1000        &  -9.3758360 & 29.66667   \\\\\n",
       "\t3 & 29          &    0        &   9.1765177 & 21.66667   \\\\\n",
       "\t9 & 33          &   33        &   4.7278799 & 25.00000   \\\\\n",
       "\t13 & 33          &  333        &  -0.7461159 & 37.33333   \\\\\n",
       "\t14 & 38          &  333        &   4.2538841 & 37.33333   \\\\\n",
       "\t11 & 41          &  100        &  10.1193721 & 42.66667   \\\\\n",
       "\t15 & 41          &  333        &   7.2538841 & 37.33333   \\\\\n",
       "\t18 & 42          & 1000        &   5.6241640 & 29.66667   \\\\\n",
       "\t12 & 60          &  100        &  29.1193721 & 42.66667   \\\\\n",
       "\\end{tabular}\n"
      ],
      "text/markdown": [
       "\n",
       "| <!--/--> | colonies | dose | residuals | model_b$fitted |\n",
       "|---|---|---|---|---|\n",
       "| 1 | 15          |    0        |  -4.8234823 | 21.66667    |\n",
       "| 4 | 16          |   10        |  -9.5684844 | 18.33333    |\n",
       "| 7 | 16          |   33        | -12.2721201 | 25.00000    |\n",
       "| 5 | 18          |   10        |  -7.5684844 | 18.33333    |\n",
       "| 16 | 20          | 1000        | -16.3758360 | 29.66667    |\n",
       "| 2 | 21          |    0        |   1.1765177 | 21.66667    |\n",
       "| 6 | 21          |   10        |  -4.5684844 | 18.33333    |\n",
       "| 8 | 26          |   33        |  -2.2721201 | 25.00000    |\n",
       "| 10 | 27          |  100        |  -3.8806279 | 42.66667    |\n",
       "| 17 | 27          | 1000        |  -9.3758360 | 29.66667    |\n",
       "| 3 | 29          |    0        |   9.1765177 | 21.66667    |\n",
       "| 9 | 33          |   33        |   4.7278799 | 25.00000    |\n",
       "| 13 | 33          |  333        |  -0.7461159 | 37.33333    |\n",
       "| 14 | 38          |  333        |   4.2538841 | 37.33333    |\n",
       "| 11 | 41          |  100        |  10.1193721 | 42.66667    |\n",
       "| 15 | 41          |  333        |   7.2538841 | 37.33333    |\n",
       "| 18 | 42          | 1000        |   5.6241640 | 29.66667    |\n",
       "| 12 | 60          |  100        |  29.1193721 | 42.66667    |\n",
       "\n"
      ],
      "text/plain": [
       "   colonies dose residuals   model_b$fitted\n",
       "1  15          0  -4.8234823 21.66667      \n",
       "4  16         10  -9.5684844 18.33333      \n",
       "7  16         33 -12.2721201 25.00000      \n",
       "5  18         10  -7.5684844 18.33333      \n",
       "16 20       1000 -16.3758360 29.66667      \n",
       "2  21          0   1.1765177 21.66667      \n",
       "6  21         10  -4.5684844 18.33333      \n",
       "8  26         33  -2.2721201 25.00000      \n",
       "10 27        100  -3.8806279 42.66667      \n",
       "17 27       1000  -9.3758360 29.66667      \n",
       "3  29          0   9.1765177 21.66667      \n",
       "9  33         33   4.7278799 25.00000      \n",
       "13 33        333  -0.7461159 37.33333      \n",
       "14 38        333   4.2538841 37.33333      \n",
       "11 41        100  10.1193721 42.66667      \n",
       "15 41        333   7.2538841 37.33333      \n",
       "18 42       1000   5.6241640 29.66667      \n",
       "12 60        100  29.1193721 42.66667      "
      ]
     },
     "metadata": {},
     "output_type": "display_data"
    }
   ],
   "source": [
    "model_b = lm(colonies ~ factor(log(dose + 1)), data = salmonella);\n",
    "\n",
    "cbind(salmonella, model_b$fitted)[order(salmonella$colonies),]"
   ]
  },
  {
   "cell_type": "code",
   "execution_count": 21,
   "id": "african-participant",
   "metadata": {},
   "outputs": [
    {
     "data": {
      "text/plain": [
       "\n",
       "Call:\n",
       "lm(formula = colonies ~ factor(log(dose + 1)), data = salmonella)\n",
       "\n",
       "Residuals:\n",
       "    Min      1Q  Median      3Q     Max \n",
       "-15.667  -3.917  -0.500   3.417  17.333 \n",
       "\n",
       "Coefficients:\n",
       "                                      Estimate Std. Error t value Pr(>|t|)   \n",
       "(Intercept)                             21.667      5.506   3.935  0.00198 **\n",
       "factor(log(dose + 1))2.39789527279837   -3.333      7.787  -0.428  0.67617   \n",
       "factor(log(dose + 1))3.52636052461616    3.333      7.787   0.428  0.67617   \n",
       "factor(log(dose + 1))4.61512051684126   21.000      7.787   2.697  0.01942 * \n",
       "factor(log(dose + 1))5.8111409929767    15.667      7.787   2.012  0.06722 . \n",
       "factor(log(dose + 1))6.90875477931522    8.000      7.787   1.027  0.32449   \n",
       "---\n",
       "Signif. codes:  0 '***' 0.001 '**' 0.01 '*' 0.05 '.' 0.1 ' ' 1\n",
       "\n",
       "Residual standard error: 9.536 on 12 degrees of freedom\n",
       "Multiple R-squared:  0.5475,\tAdjusted R-squared:  0.359 \n",
       "F-statistic: 2.904 on 5 and 12 DF,  p-value: 0.06047\n"
      ]
     },
     "metadata": {},
     "output_type": "display_data"
    }
   ],
   "source": [
    "summary(model_b)"
   ]
  },
  {
   "cell_type": "code",
   "execution_count": 22,
   "id": "christian-locking",
   "metadata": {},
   "outputs": [
    {
     "data": {
      "text/html": [
       "<table>\n",
       "<thead><tr><th scope=col>Res.Df</th><th scope=col>RSS</th><th scope=col>Df</th><th scope=col>Sum of Sq</th><th scope=col>F</th><th scope=col>Pr(&gt;F)</th></tr></thead>\n",
       "<tbody>\n",
       "\t<tr><td>16       </td><td>1881.063 </td><td>NA       </td><td>      NA </td><td>      NA </td><td>       NA</td></tr>\n",
       "\t<tr><td>12       </td><td>1091.333 </td><td> 4       </td><td>789.7299 </td><td>2.170913 </td><td>0.1341968</td></tr>\n",
       "</tbody>\n",
       "</table>\n"
      ],
      "text/latex": [
       "\\begin{tabular}{r|llllll}\n",
       " Res.Df & RSS & Df & Sum of Sq & F & Pr(>F)\\\\\n",
       "\\hline\n",
       "\t 16        & 1881.063  & NA        &       NA  &       NA  &        NA\\\\\n",
       "\t 12        & 1091.333  &  4        & 789.7299  & 2.170913  & 0.1341968\\\\\n",
       "\\end{tabular}\n"
      ],
      "text/markdown": [
       "\n",
       "| Res.Df | RSS | Df | Sum of Sq | F | Pr(>F) |\n",
       "|---|---|---|---|---|---|\n",
       "| 16        | 1881.063  | NA        |       NA  |       NA  |        NA |\n",
       "| 12        | 1091.333  |  4        | 789.7299  | 2.170913  | 0.1341968 |\n",
       "\n"
      ],
      "text/plain": [
       "  Res.Df RSS      Df Sum of Sq F        Pr(>F)   \n",
       "1 16     1881.063 NA       NA        NA        NA\n",
       "2 12     1091.333  4 789.7299  2.170913 0.1341968"
      ]
     },
     "metadata": {},
     "output_type": "display_data"
    }
   ],
   "source": [
    "anova(model_a, model_b)"
   ]
  },
  {
   "cell_type": "code",
   "execution_count": 23,
   "id": "current-candy",
   "metadata": {},
   "outputs": [
    {
     "data": {
      "text/html": [
       "0.134196803857386"
      ],
      "text/latex": [
       "0.134196803857386"
      ],
      "text/markdown": [
       "0.134196803857386"
      ],
      "text/plain": [
       "[1] 0.1341968"
      ]
     },
     "metadata": {},
     "output_type": "display_data"
    }
   ],
   "source": [
    "1-pf(2.170913,4,12)"
   ]
  },
  {
   "cell_type": "markdown",
   "id": "indoor-confidence",
   "metadata": {},
   "source": [
    "* Since p value is greater than 5% significance level, we accept null hypothesis. We can say that there is no lack of fit."
   ]
  },
  {
   "cell_type": "markdown",
   "id": "thorough-juice",
   "metadata": {},
   "source": [
    "<b>\n",
    "Problem 2: The gammaray data set from the faraway library includes X-ray decay light curve of Gamma ray burst 050525a obtained with the X-Ray Telescope (XRT) on board the Swift satellite. The data set has 63 brightness measurements in the 0.4-4.5 keV spectral band at times ranging from 2 minutes to 5 days after the burst. An appropriate model to predict flux as a function of time using appropriate weights is required.\n",
    " <hr>\n",
    "(a) Find an appropriate linearizing transformation for either the response, the predictor or both if necessary.\n",
    "    \n",
    "(b) Fit a regression model to predict flux as a function of time, using the proposed trans-formation in part a) and appropriate weights. Note that the measurement error of the flux is available in the data set.\n",
    "    \n",
    "(c) Inspect the resulting model residuals and comment on your results\n",
    "    \n",
    "(d) In case the residuals do not have an appropriate behavior propose a new model for this data set."
   ]
  },
  {
   "cell_type": "code",
   "execution_count": 24,
   "id": "confused-rescue",
   "metadata": {
    "scrolled": true
   },
   "outputs": [
    {
     "data": {
      "text/html": [
       "<table>\n",
       "<thead><tr><th scope=col>time</th><th scope=col>flux</th><th scope=col>error</th></tr></thead>\n",
       "<tbody>\n",
       "\t<tr><td>133  </td><td>122.7</td><td>5.7  </td></tr>\n",
       "\t<tr><td>143  </td><td>109.5</td><td>5.4  </td></tr>\n",
       "</tbody>\n",
       "</table>\n"
      ],
      "text/latex": [
       "\\begin{tabular}{r|lll}\n",
       " time & flux & error\\\\\n",
       "\\hline\n",
       "\t 133   & 122.7 & 5.7  \\\\\n",
       "\t 143   & 109.5 & 5.4  \\\\\n",
       "\\end{tabular}\n"
      ],
      "text/markdown": [
       "\n",
       "| time | flux | error |\n",
       "|---|---|---|\n",
       "| 133   | 122.7 | 5.7   |\n",
       "| 143   | 109.5 | 5.4   |\n",
       "\n"
      ],
      "text/plain": [
       "  time flux  error\n",
       "1 133  122.7 5.7  \n",
       "2 143  109.5 5.4  "
      ]
     },
     "metadata": {},
     "output_type": "display_data"
    }
   ],
   "source": [
    "data(gammaray)\n",
    "head(gammaray,2)"
   ]
  },
  {
   "cell_type": "markdown",
   "id": "innovative-contact",
   "metadata": {},
   "source": [
    "<b>(a) Find an appropriate linearizing transformation for either the response, the predictor or both if necessary."
   ]
  },
  {
   "cell_type": "code",
   "execution_count": 25,
   "id": "composite-mixture",
   "metadata": {},
   "outputs": [],
   "source": [
    "mod_a = lm(flux ~ time, data = gammaray)"
   ]
  },
  {
   "cell_type": "code",
   "execution_count": 26,
   "id": "absent-garbage",
   "metadata": {
    "scrolled": false
   },
   "outputs": [
    {
     "data": {
      "image/png": "[encoded data removed]",
      "text/plain": [
       "plot without title"
      ]
     },
     "metadata": {},
     "output_type": "display_data"
    }
   ],
   "source": [
    "ggplot(data = gammaray, aes(x = time, y = flux))+\n",
    "    geom_point()+\n",
    "    geom_point(color='red')+\n",
    "    labs(title='Flux Vs Time', x='time', y = 'flux')+\n",
    "    geom_abline(intercept = mod_a$coef[1], slope= mod_a$coef[2])"
   ]
  },
  {
   "cell_type": "code",
   "execution_count": 27,
   "id": "colored-slave",
   "metadata": {},
   "outputs": [
    {
     "data": {
      "image/png": "[encoded data removed]",
      "text/plain": [
       "plot without title"
      ]
     },
     "metadata": {},
     "output_type": "display_data"
    }
   ],
   "source": [
    "ggplot(data = gammaray, aes(x = time, y = mod_a$res))+\n",
    "    geom_point()+\n",
    "    geom_hline(yintercept = 0, color = 'blue') +\n",
    "    theme_update(plot.title = element_text(hjust = 0.5))+\n",
    "    theme_set(theme_bw())+\n",
    "    labs(title='Residuals Vs Time', x='time', y = 'residuals')+\n",
    "    geom_point(color='red')"
   ]
  },
  {
   "cell_type": "markdown",
   "id": "polished-payday",
   "metadata": {},
   "source": [
    "* Since the time is varying with exponentially, lets apply log to time"
   ]
  },
  {
   "cell_type": "code",
   "execution_count": 28,
   "id": "yellow-postage",
   "metadata": {},
   "outputs": [],
   "source": [
    "mod_b = lm(flux ~ log(time), data = gammaray)"
   ]
  },
  {
   "cell_type": "code",
   "execution_count": 29,
   "id": "mental-darkness",
   "metadata": {
    "scrolled": false
   },
   "outputs": [
    {
     "data": {
      "image/png": "[encoded data removed]",
      "text/plain": [
       "plot without title"
      ]
     },
     "metadata": {},
     "output_type": "display_data"
    }
   ],
   "source": [
    "ggplot(data = gammaray, aes(x = log(time), y = flux))+\n",
    "    geom_point()+\n",
    "    geom_point(color='red')+\n",
    "    labs(title='Flux Vs Time', x='log(time)', y = 'flux')+\n",
    "    geom_abline(intercept = mod_b$coef[1], slope= mod_b$coef[2])"
   ]
  },
  {
   "cell_type": "code",
   "execution_count": 30,
   "id": "swiss-president",
   "metadata": {},
   "outputs": [
    {
     "data": {
      "image/png": "[encoded data removed]",
      "text/plain": [
       "plot without title"
      ]
     },
     "metadata": {},
     "output_type": "display_data"
    }
   ],
   "source": [
    "ggplot(data = gammaray, aes(x = log(time), y = mod_b$res))+\n",
    "    geom_point()+\n",
    "    geom_hline(yintercept = 0, color = 'blue') +\n",
    "    theme_update(plot.title = element_text(hjust = 0.5))+\n",
    "    theme_set(theme_bw())+\n",
    "    labs(title='Residuals Vs log(Time) mod_b', x='log(time)', y = 'residuals')+\n",
    "    geom_point(color='red')"
   ]
  },
  {
   "cell_type": "code",
   "execution_count": 31,
   "id": "reported-glucose",
   "metadata": {},
   "outputs": [
    {
     "data": {
      "image/png": "[encoded data removed]",
      "text/plain": [
       "plot without title"
      ]
     },
     "metadata": {},
     "output_type": "display_data"
    }
   ],
   "source": [
    "ggplot(data = gammaray, aes(x = mod_b$fitted, y = mod_b$res))+\n",
    "    geom_point()+\n",
    "    geom_hline(yintercept = 0, color = 'blue') +\n",
    "    theme_update(plot.title = element_text(hjust = 0.5))+\n",
    "    theme_set(theme_bw())+\n",
    "    labs(title='Residuals Vs Fitted mod_b', x='fitted', y = 'residuals')+\n",
    "    geom_point(color='red')"
   ]
  },
  {
   "cell_type": "markdown",
   "id": "sitting-islam",
   "metadata": {},
   "source": [
    "* The lm model is still not fitting well on the data, there appears to be log linear relationship.\n",
    "* Lets also apply log transformation to response variable as well."
   ]
  },
  {
   "cell_type": "code",
   "execution_count": 32,
   "id": "retired-healthcare",
   "metadata": {},
   "outputs": [],
   "source": [
    "mod_c = lm(log(flux) ~ log(time), data = gammaray)"
   ]
  },
  {
   "cell_type": "code",
   "execution_count": 33,
   "id": "comparative-dining",
   "metadata": {},
   "outputs": [
    {
     "data": {
      "image/png": "[encoded data removed]",
      "text/plain": [
       "plot without title"
      ]
     },
     "metadata": {},
     "output_type": "display_data"
    }
   ],
   "source": [
    "ggplot(data = gammaray, aes(x = log(time), y = log(flux)))+\n",
    "    geom_point()+\n",
    "    geom_point(color='red')+\n",
    "    labs(title='Flux Vs Time', x='log(time)', y = 'log(flux)')+\n",
    "    geom_abline(intercept = mod_c$coef[1], slope= mod_c$coef[2])"
   ]
  },
  {
   "cell_type": "code",
   "execution_count": 34,
   "id": "particular-operator",
   "metadata": {},
   "outputs": [
    {
     "data": {
      "image/png": "[encoded data removed]",
      "text/plain": [
       "plot without title"
      ]
     },
     "metadata": {},
     "output_type": "display_data"
    }
   ],
   "source": [
    "ggplot(data = gammaray, aes(x = log(time), y = mod_c$res))+\n",
    "    geom_point()+\n",
    "    geom_hline(yintercept = 0, color = 'blue') +\n",
    "    theme_update(plot.title = element_text(hjust = 0.5))+\n",
    "    theme_set(theme_bw())+\n",
    "    labs(title='Residuals Vs log(Time) mod_c', x='log(time)', y = 'residuals')+\n",
    "    geom_point(color='red')"
   ]
  },
  {
   "cell_type": "code",
   "execution_count": 35,
   "id": "ranging-lucas",
   "metadata": {},
   "outputs": [
    {
     "data": {
      "image/png": "[encoded data removed]",
      "text/plain": [
       "plot without title"
      ]
     },
     "metadata": {},
     "output_type": "display_data"
    }
   ],
   "source": [
    "ggplot(data = gammaray, aes(x = mod_c$fitted, y = mod_c$res))+\n",
    "    geom_point()+\n",
    "    geom_hline(yintercept = 0, color = 'blue') +\n",
    "    theme_update(plot.title = element_text(hjust = 0.5))+\n",
    "    theme_set(theme_bw())+\n",
    "    labs(title='Residuals Vs Fitted mod_c', x='fitted', y = 'residuals')+\n",
    "    geom_point(color='red')"
   ]
  },
  {
   "cell_type": "markdown",
   "id": "introductory-miami",
   "metadata": {},
   "source": [
    "* We can see that transorming both response and predictor with log, the lm model is fitting better on the data.\n",
    "* The residuals look like auto correlated with time. The value of a residual at a particular point depend upon value of preceding residual."
   ]
  },
  {
   "cell_type": "code",
   "execution_count": 46,
   "id": "secondary-roots",
   "metadata": {},
   "outputs": [
    {
     "data": {
      "text/plain": [
       "\n",
       "\tDurbin-Watson test\n",
       "\n",
       "data:  mod_c\n",
       "DW = 0.2978, p-value < 2.2e-16\n",
       "alternative hypothesis: true autocorrelation is greater than 0\n"
      ]
     },
     "metadata": {},
     "output_type": "display_data"
    }
   ],
   "source": [
    "dwtest(mod_c)"
   ]
  },
  {
   "cell_type": "markdown",
   "id": "helpful-moore",
   "metadata": {},
   "source": [
    "* The low p value of Durbin-Watson test indicates that residuals are highly correlated and they depend upon value of preceding residual."
   ]
  },
  {
   "cell_type": "markdown",
   "id": "hazardous-andrew",
   "metadata": {},
   "source": [
    "<b>(b) Fit a regression model to predict flux as a function of time, using the proposed trans-formation in part a) and appropriate weights. Note that the measurement error of the flux is available in the data set."
   ]
  },
  {
   "cell_type": "code",
   "execution_count": 25,
   "id": "completed-potential",
   "metadata": {},
   "outputs": [],
   "source": [
    "mod_d = lm(log(flux) ~ log(time), data = gammaray, weights = 1/error^2)"
   ]
  },
  {
   "cell_type": "markdown",
   "id": "infrared-frequency",
   "metadata": {},
   "source": [
    "<b>(c) Inspect the resulting model residuals and comment on your results"
   ]
  },
  {
   "cell_type": "code",
   "execution_count": 26,
   "id": "written-status",
   "metadata": {
    "scrolled": false
   },
   "outputs": [
    {
     "data": {
      "image/png": "[encoded data removed]",
      "text/plain": [
       "plot without title"
      ]
     },
     "metadata": {},
     "output_type": "display_data"
    }
   ],
   "source": [
    "ggplot(data = gammaray, aes(x = log(time), y = log(flux)))+\n",
    "    geom_point()+\n",
    "    geom_point(color='red')+\n",
    "    labs(title='Flux Vs Time', x='log(time)', y = 'log(flux)')+\n",
    "    geom_abline(intercept = mod_d$coef[1], slope= mod_d$coef[2], color='red')+\n",
    "    geom_abline(intercept = mod_c$coef[1], slope= mod_c$coef[2], color='black')"
   ]
  },
  {
   "cell_type": "markdown",
   "id": "flexible-savannah",
   "metadata": {},
   "source": [
    "* Red color line is the fitted line after using $weights = \\frac{1}{sd^2}$."
   ]
  },
  {
   "cell_type": "code",
   "execution_count": 27,
   "id": "turned-video",
   "metadata": {},
   "outputs": [
    {
     "data": {
      "image/png": "[encoded data removed]",
      "text/plain": [
       "plot without title"
      ]
     },
     "metadata": {},
     "output_type": "display_data"
    }
   ],
   "source": [
    "ggplot(data = gammaray, aes(x = log(time), y = mod_d$res))+\n",
    "    geom_point()+\n",
    "    geom_hline(yintercept = 0, color = 'blue') +\n",
    "    theme_update(plot.title = element_text(hjust = 0.5))+\n",
    "    theme_set(theme_bw())+\n",
    "    labs(title='Residuals Vs log(Time) mod_d', x='log(time)', y = 'residuals')+\n",
    "    geom_point(color='red')"
   ]
  },
  {
   "attachments": {
    "image.png": {
     "image/png": "[encoded data removed]"
    }
   },
   "cell_type": "markdown",
   "id": "italian-liverpool",
   "metadata": {},
   "source": [
    "* When we use the weights (variance) of $X_i $, the lm model is fitted with below condition.\n",
    "![image.png](attachment:image.png)"
   ]
  },
  {
   "cell_type": "markdown",
   "id": "northern-collection",
   "metadata": {},
   "source": [
    "* Since we are using $weights = \\frac{1}{sd^2}$, More the variance at a particular $X_i$, lesser weightage will be given to that point while fitting the model.\n",
    "* We can see that the residuals are still highly correlated. The value of a residual at a particular point depend upon value of preceding residual."
   ]
  },
  {
   "cell_type": "markdown",
   "id": "fifth-gambling",
   "metadata": {},
   "source": [
    "<b>(d) In case the residuals do not have an appropriate behavior propose a new model for this data set."
   ]
  },
  {
   "cell_type": "markdown",
   "id": "timely-mention",
   "metadata": {},
   "source": [
    "* We can fit a regression model with autocorrelated errors."
   ]
  },
  {
   "cell_type": "code",
   "execution_count": 28,
   "id": "national-warning",
   "metadata": {},
   "outputs": [
    {
     "data": {
      "text/plain": [
       "Generalized least squares fit by REML\n",
       "  Model: log(flux) ~ log(time) \n",
       "  Data: gammaray \n",
       "        AIC       BIC   logLik\n",
       "  -56.17774 -47.73424 32.08887\n",
       "\n",
       "Correlation Structure: AR(1)\n",
       " Formula: ~1 \n",
       " Parameter estimate(s):\n",
       "      Phi \n",
       "0.9915039 \n",
       "\n",
       "Coefficients:\n",
       "                Value Std.Error   t-value p-value\n",
       "(Intercept) 12.735637 1.0804917  11.78689       0\n",
       "log(time)   -1.524327 0.0580027 -26.28027       0\n",
       "\n",
       " Correlation: \n",
       "          (Intr)\n",
       "log(time) -0.456\n",
       "\n",
       "Standardized residuals:\n",
       "       Min         Q1        Med         Q3        Max \n",
       "-0.4390054 -0.1295899  0.3330974  0.5231954  1.1090042 \n",
       "\n",
       "Residual standard error: 1.081339 \n",
       "Degrees of freedom: 63 total; 61 residual"
      ]
     },
     "metadata": {},
     "output_type": "display_data"
    }
   ],
   "source": [
    "library(nlme)\n",
    "mod_e = gls(log(flux) ~ log(time), correlation = corARMA(p=1), data = gammaray)\n",
    "summary(mod_e)"
   ]
  },
  {
   "cell_type": "code",
   "execution_count": 29,
   "id": "going-identity",
   "metadata": {
    "scrolled": true
   },
   "outputs": [
    {
     "data": {
      "text/plain": [
       "Approximate 95% confidence intervals\n",
       "\n",
       " Coefficients:\n",
       "                lower      est.     upper\n",
       "(Intercept) 10.575060 12.735637 14.896214\n",
       "log(time)   -1.640311 -1.524327 -1.408344\n",
       "attr(,\"label\")\n",
       "[1] \"Coefficients:\"\n",
       "\n",
       " Correlation structure:\n",
       "         lower      est.     upper\n",
       "Phi -0.9636544 0.9915039 0.9999993\n",
       "attr(,\"label\")\n",
       "[1] \"Correlation structure:\"\n",
       "\n",
       " Residual standard error:\n",
       "       lower         est.        upper \n",
       "9.793398e-03 1.081339e+00 1.193961e+02 "
      ]
     },
     "metadata": {},
     "output_type": "display_data"
    }
   ],
   "source": [
    "intervals(mod_e)"
   ]
  },
  {
   "cell_type": "code",
   "execution_count": 31,
   "id": "german-smith",
   "metadata": {},
   "outputs": [
    {
     "data": {
      "image/png": "[encoded data removed]",
      "text/plain": [
       "plot without title"
      ]
     },
     "metadata": {},
     "output_type": "display_data"
    }
   ],
   "source": [
    "ggplot(data = gammaray, aes(x = log(time), y = mod_e$res))+\n",
    "    geom_point()+\n",
    "    geom_hline(yintercept = 0, color = 'blue') +\n",
    "    theme_update(plot.title = element_text(hjust = 0.5))+\n",
    "    theme_set(theme_bw())+\n",
    "    labs(title='Residuals Vs log(Time) mod_e', x='log(time)', y = 'residuals')+\n",
    "    geom_point(color='red')"
   ]
  },
  {
   "cell_type": "markdown",
   "id": "thrown-white",
   "metadata": {},
   "source": [
    "<b>\n",
    "Problem 3: The divusa data set from the faraway library reports the divorce rate in the USA from 1920-1996. Fit a regression model with divorce as the response and unemployed, femlab, marriage, birth and military as predictors.\n",
    "    <hr>\n",
    "(a) Make a residual plot against year. Do you think the residuals are auto-correlated? Why?\n",
    "\n",
    "(b) Make a formal test for the autocorrelation of the residuals.\n",
    "\n",
    "(c) Assume the residuals behave as an autoregressive model of order 1 (AR(1))1. Use the function gls from the library nlme to fit a regression model to the variable divorce as a response and the unemployed, femlab, marriage, birth and military as predictors. Use the option correlation = corAR1( form = ~ year) and method = \"ML\". Make sure you do >help(gls) before fitting the model, in order to understand the meaning of the parameters correlation and method in the gls function call.\n",
    "\n",
    "(d) What is the estimated autocorrelation coeffcient? Is this coefficient significant? Hint: Use function intervals to get the CI.\n",
    "\n",
    "(e) Discuss whether the GLS model change which variables are found significant when compared to the LM model.\n",
    "\n",
    "(f) Comment on why there might be correlation in the errors."
   ]
  },
  {
   "cell_type": "code",
   "execution_count": 223,
   "id": "verified-income",
   "metadata": {},
   "outputs": [
    {
     "data": {
      "text/html": [
       "<table>\n",
       "<thead><tr><th scope=col>year</th><th scope=col>divorce</th><th scope=col>unemployed</th><th scope=col>femlab</th><th scope=col>marriage</th><th scope=col>birth</th><th scope=col>military</th></tr></thead>\n",
       "<tbody>\n",
       "\t<tr><td>1920  </td><td>8.0   </td><td> 5.2  </td><td>22.70 </td><td>92    </td><td>117.9 </td><td>3.2247</td></tr>\n",
       "\t<tr><td>1921  </td><td>7.2   </td><td>11.7  </td><td>22.79 </td><td>83    </td><td>119.8 </td><td>3.5614</td></tr>\n",
       "</tbody>\n",
       "</table>\n"
      ],
      "text/latex": [
       "\\begin{tabular}{r|lllllll}\n",
       " year & divorce & unemployed & femlab & marriage & birth & military\\\\\n",
       "\\hline\n",
       "\t 1920   & 8.0    &  5.2   & 22.70  & 92     & 117.9  & 3.2247\\\\\n",
       "\t 1921   & 7.2    & 11.7   & 22.79  & 83     & 119.8  & 3.5614\\\\\n",
       "\\end{tabular}\n"
      ],
      "text/markdown": [
       "\n",
       "| year | divorce | unemployed | femlab | marriage | birth | military |\n",
       "|---|---|---|---|---|---|---|\n",
       "| 1920   | 8.0    |  5.2   | 22.70  | 92     | 117.9  | 3.2247 |\n",
       "| 1921   | 7.2    | 11.7   | 22.79  | 83     | 119.8  | 3.5614 |\n",
       "\n"
      ],
      "text/plain": [
       "  year divorce unemployed femlab marriage birth military\n",
       "1 1920 8.0      5.2       22.70  92       117.9 3.2247  \n",
       "2 1921 7.2     11.7       22.79  83       119.8 3.5614  "
      ]
     },
     "metadata": {},
     "output_type": "display_data"
    }
   ],
   "source": [
    "data(divusa)\n",
    "head(divusa,2)"
   ]
  },
  {
   "cell_type": "code",
   "execution_count": 242,
   "id": "postal-slave",
   "metadata": {},
   "outputs": [
    {
     "data": {
      "text/plain": [
       "\n",
       "Call:\n",
       "lm(formula = divorce ~ unemployed + femlab + marriage + birth + \n",
       "    military, data = divusa)\n",
       "\n",
       "Residuals:\n",
       "    Min      1Q  Median      3Q     Max \n",
       "-3.8611 -0.8916 -0.0496  0.8650  3.8300 \n",
       "\n",
       "Coefficients:\n",
       "            Estimate Std. Error t value Pr(>|t|)    \n",
       "(Intercept)  2.48784    3.39378   0.733   0.4659    \n",
       "unemployed  -0.11125    0.05592  -1.989   0.0505 .  \n",
       "femlab       0.38365    0.03059  12.543  < 2e-16 ***\n",
       "marriage     0.11867    0.02441   4.861 6.77e-06 ***\n",
       "birth       -0.12996    0.01560  -8.333 4.03e-12 ***\n",
       "military    -0.02673    0.01425  -1.876   0.0647 .  \n",
       "---\n",
       "Signif. codes:  0 '***' 0.001 '**' 0.01 '*' 0.05 '.' 0.1 ' ' 1\n",
       "\n",
       "Residual standard error: 1.65 on 71 degrees of freedom\n",
       "Multiple R-squared:  0.9208,\tAdjusted R-squared:  0.9152 \n",
       "F-statistic: 165.1 on 5 and 71 DF,  p-value: < 2.2e-16\n"
      ]
     },
     "metadata": {},
     "output_type": "display_data"
    }
   ],
   "source": [
    "mod_a = lm(divorce ~ unemployed + femlab + marriage + birth + military, data = divusa)\n",
    "summary(mod_a)"
   ]
  },
  {
   "cell_type": "markdown",
   "id": "distinguished-salad",
   "metadata": {},
   "source": [
    "<b>(a) Make a residual plot against year. Do you think the residuals are auto-correlated? Why?"
   ]
  },
  {
   "cell_type": "code",
   "execution_count": 231,
   "id": "critical-difficulty",
   "metadata": {},
   "outputs": [
    {
     "data": {
      "image/png": "[encoded data removed]",
      "text/plain": [
       "plot without title"
      ]
     },
     "metadata": {},
     "output_type": "display_data"
    }
   ],
   "source": [
    "ggplot(data = divusa, aes(x = divusa$year, y = mod_a$res))+\n",
    "    geom_point()+\n",
    "    geom_hline(yintercept = 0, color = 'blue') +\n",
    "    theme_update(plot.title = element_text(hjust = 0.5))+\n",
    "    theme_set(theme_bw())+\n",
    "    labs(title='Residuals Vs year', x='year', y = 'residuals')+\n",
    "    geom_point(color='red')+\n",
    "    geom_line()"
   ]
  },
  {
   "cell_type": "code",
   "execution_count": 225,
   "id": "joint-gregory",
   "metadata": {
    "scrolled": false
   },
   "outputs": [
    {
     "data": {
      "image/png": "[encoded data removed]",
      "text/plain": [
       "plot without title"
      ]
     },
     "metadata": {},
     "output_type": "display_data"
    }
   ],
   "source": [
    "ggplot(data = divusa, aes(x = mod_a$fitted, y = mod_a$res))+\n",
    "    geom_point()+\n",
    "    geom_hline(yintercept = 0, color = 'blue') +\n",
    "    theme_update(plot.title = element_text(hjust = 0.5))+\n",
    "    theme_set(theme_bw())+\n",
    "    labs(title='Residuals Vs fitted mod_a', x='fitted', y = 'residuals')+\n",
    "    geom_point(color='red')+\n",
    "    geom_line()"
   ]
  },
  {
   "cell_type": "markdown",
   "id": "mexican-knock",
   "metadata": {},
   "source": [
    "* We can see that the residuals are still highly correlated. They follow a trend. The value of a residual at a particular point depends upon value of preceding residual."
   ]
  },
  {
   "cell_type": "markdown",
   "id": "knowing-vitamin",
   "metadata": {},
   "source": [
    "<b>(b) Make a formal test for the autocorrelation of the residuals."
   ]
  },
  {
   "cell_type": "code",
   "execution_count": 226,
   "id": "athletic-penalty",
   "metadata": {},
   "outputs": [
    {
     "data": {
      "text/plain": [
       "\n",
       "\tDurbin-Watson test\n",
       "\n",
       "data:  mod_a\n",
       "DW = 0.29988, p-value < 2.2e-16\n",
       "alternative hypothesis: true autocorrelation is greater than 0\n"
      ]
     },
     "metadata": {},
     "output_type": "display_data"
    }
   ],
   "source": [
    "dwtest(mod_a)"
   ]
  },
  {
   "cell_type": "markdown",
   "id": "pointed-bargain",
   "metadata": {},
   "source": [
    "* Here, the null hypothesis is that the errors are not correlated, and alternative hypothesis is that the errors are correlated.\n",
    "* By performing Durbin-Watson test, we got a very low p value. Hence we reject the null hypothesis and accept that the errors are highly correlated."
   ]
  },
  {
   "cell_type": "markdown",
   "id": "loaded-classic",
   "metadata": {},
   "source": [
    "<b>(c) Assume the residuals behave as an autoregressive model of order 1 (AR(1))1. Use the function gls from the library nlme to fit a regression model to the variable divorce as a response and the unemployed, femlab, marriage, birth and military as predictors. Use the option correlation = corAR1( form = ~ year) and method = \"ML\". Make sure you do >help(gls) before fitting the model, in order to understand the meaning of the parameters correlation and method in the gls function call."
   ]
  },
  {
   "cell_type": "code",
   "execution_count": 233,
   "id": "ultimate-maria",
   "metadata": {
    "scrolled": false
   },
   "outputs": [
    {
     "data": {
      "text/plain": [
       "Generalized least squares fit by maximum likelihood\n",
       "  Model: divorce ~ unemployed + femlab + marriage + birth + military \n",
       "  Data: divusa \n",
       "       AIC      BIC    logLik\n",
       "  179.9523 198.7027 -81.97613\n",
       "\n",
       "Correlation Structure: AR(1)\n",
       " Formula: ~year \n",
       " Parameter estimate(s):\n",
       "      Phi \n",
       "0.9715486 \n",
       "\n",
       "Coefficients:\n",
       "                Value Std.Error   t-value p-value\n",
       "(Intercept) -7.059682  5.547193 -1.272658  0.2073\n",
       "unemployed   0.107643  0.045915  2.344395  0.0219\n",
       "femlab       0.312085  0.095151  3.279878  0.0016\n",
       "marriage     0.164326  0.022897  7.176766  0.0000\n",
       "birth       -0.049909  0.022012 -2.267345  0.0264\n",
       "military     0.017946  0.014271  1.257544  0.2127\n",
       "\n",
       " Correlation: \n",
       "           (Intr) unmply femlab marrig birth \n",
       "unemployed -0.420                            \n",
       "femlab     -0.802  0.240                     \n",
       "marriage   -0.516  0.607  0.307              \n",
       "birth      -0.379  0.041  0.066 -0.094       \n",
       "military   -0.036  0.436 -0.311  0.530  0.128\n",
       "\n",
       "Standardized residuals:\n",
       "       Min         Q1        Med         Q3        Max \n",
       "-1.4509327 -0.9760939 -0.6164694  1.1375377  2.1593261 \n",
       "\n",
       "Residual standard error: 2.907664 \n",
       "Degrees of freedom: 77 total; 71 residual"
      ]
     },
     "metadata": {},
     "output_type": "display_data"
    }
   ],
   "source": [
    "mod_b = gls(divorce ~  unemployed + femlab + marriage + birth + military, correlation = corAR1(form= ~ year), \n",
    "            method = \"ML\", data = divusa)\n",
    "summary(mod_b)"
   ]
  },
  {
   "cell_type": "markdown",
   "id": "variable-receptor",
   "metadata": {},
   "source": [
    "<b>(d) What is the estimated autocorrelation coefficient? Is this coeffcient significant? Hint: Use function intervals to get the CI."
   ]
  },
  {
   "cell_type": "markdown",
   "id": "substantial-simple",
   "metadata": {},
   "source": [
    "* We know that residuals follow a model of the form: $e_{t + 1} = \\phi e_t + \\gamma_t$. Here, $\\phi$ is the autocorrelation coefficient.\n",
    "* By fitting generalized least squares model with correlation, we got $\\phi$ value as 0.9715486.\n",
    "* To check its significance, we can check confidence interval of $\\phi$."
   ]
  },
  {
   "cell_type": "code",
   "execution_count": 234,
   "id": "breathing-inspiration",
   "metadata": {
    "scrolled": false
   },
   "outputs": [
    {
     "data": {
      "text/plain": [
       "Approximate 95% confidence intervals\n",
       "\n",
       " Coefficients:\n",
       "                   lower        est.        upper\n",
       "(Intercept) -18.12047043 -7.05968166  4.001107109\n",
       "unemployed    0.01609101  0.10764313  0.199195251\n",
       "femlab        0.12235846  0.31208493  0.501811412\n",
       "marriage      0.11867101  0.16432630  0.209981587\n",
       "birth        -0.09380023 -0.04990919 -0.006018159\n",
       "military     -0.01050915  0.01794640  0.046401944\n",
       "attr(,\"label\")\n",
       "[1] \"Coefficients:\"\n",
       "\n",
       " Correlation structure:\n",
       "        lower      est.     upper\n",
       "Phi 0.6529393 0.9715486 0.9980183\n",
       "attr(,\"label\")\n",
       "[1] \"Correlation structure:\"\n",
       "\n",
       " Residual standard error:\n",
       "     lower       est.      upper \n",
       " 0.7976096  2.9076645 10.5998135 "
      ]
     },
     "metadata": {},
     "output_type": "display_data"
    }
   ],
   "source": [
    "intervals(mod_b)"
   ]
  },
  {
   "cell_type": "markdown",
   "id": "geological-agent",
   "metadata": {},
   "source": [
    "* We can see that the 95% CI of $\\phi$ is greater than 0. Hence this coefficient is significant."
   ]
  },
  {
   "cell_type": "markdown",
   "id": "substantial-absolute",
   "metadata": {},
   "source": [
    "<b>(e) Discuss whether the GLS model change which variables are found significant when compared to the LM model."
   ]
  },
  {
   "cell_type": "code",
   "execution_count": 240,
   "id": "conditional-breathing",
   "metadata": {},
   "outputs": [
    {
     "data": {
      "text/plain": [
       "\n",
       "Call:\n",
       "lm(formula = divorce ~ unemployed + femlab + marriage + birth + \n",
       "    military, data = divusa)\n",
       "\n",
       "Residuals:\n",
       "    Min      1Q  Median      3Q     Max \n",
       "-3.8611 -0.8916 -0.0496  0.8650  3.8300 \n",
       "\n",
       "Coefficients:\n",
       "            Estimate Std. Error t value Pr(>|t|)    \n",
       "(Intercept)  2.48784    3.39378   0.733   0.4659    \n",
       "unemployed  -0.11125    0.05592  -1.989   0.0505 .  \n",
       "femlab       0.38365    0.03059  12.543  < 2e-16 ***\n",
       "marriage     0.11867    0.02441   4.861 6.77e-06 ***\n",
       "birth       -0.12996    0.01560  -8.333 4.03e-12 ***\n",
       "military    -0.02673    0.01425  -1.876   0.0647 .  \n",
       "---\n",
       "Signif. codes:  0 '***' 0.001 '**' 0.01 '*' 0.05 '.' 0.1 ' ' 1\n",
       "\n",
       "Residual standard error: 1.65 on 71 degrees of freedom\n",
       "Multiple R-squared:  0.9208,\tAdjusted R-squared:  0.9152 \n",
       "F-statistic: 165.1 on 5 and 71 DF,  p-value: < 2.2e-16\n"
      ]
     },
     "metadata": {},
     "output_type": "display_data"
    }
   ],
   "source": [
    "summary(mod_a)"
   ]
  },
  {
   "cell_type": "markdown",
   "id": "single-barrier",
   "metadata": {},
   "source": [
    "* In lm model, femlab, marriage, and birth are found to be significant at 5% significance level."
   ]
  },
  {
   "cell_type": "code",
   "execution_count": 243,
   "id": "sacred-lease",
   "metadata": {},
   "outputs": [
    {
     "data": {
      "text/plain": [
       "Generalized least squares fit by maximum likelihood\n",
       "  Model: divorce ~ unemployed + femlab + marriage + birth + military \n",
       "  Data: divusa \n",
       "       AIC      BIC    logLik\n",
       "  179.9523 198.7027 -81.97613\n",
       "\n",
       "Correlation Structure: AR(1)\n",
       " Formula: ~year \n",
       " Parameter estimate(s):\n",
       "      Phi \n",
       "0.9715486 \n",
       "\n",
       "Coefficients:\n",
       "                Value Std.Error   t-value p-value\n",
       "(Intercept) -7.059682  5.547193 -1.272658  0.2073\n",
       "unemployed   0.107643  0.045915  2.344395  0.0219\n",
       "femlab       0.312085  0.095151  3.279878  0.0016\n",
       "marriage     0.164326  0.022897  7.176766  0.0000\n",
       "birth       -0.049909  0.022012 -2.267345  0.0264\n",
       "military     0.017946  0.014271  1.257544  0.2127\n",
       "\n",
       " Correlation: \n",
       "           (Intr) unmply femlab marrig birth \n",
       "unemployed -0.420                            \n",
       "femlab     -0.802  0.240                     \n",
       "marriage   -0.516  0.607  0.307              \n",
       "birth      -0.379  0.041  0.066 -0.094       \n",
       "military   -0.036  0.436 -0.311  0.530  0.128\n",
       "\n",
       "Standardized residuals:\n",
       "       Min         Q1        Med         Q3        Max \n",
       "-1.4509327 -0.9760939 -0.6164694  1.1375377  2.1593261 \n",
       "\n",
       "Residual standard error: 2.907664 \n",
       "Degrees of freedom: 77 total; 71 residual"
      ]
     },
     "metadata": {},
     "output_type": "display_data"
    }
   ],
   "source": [
    "summary(mod_b)"
   ]
  },
  {
   "cell_type": "markdown",
   "id": "simplified-kansas",
   "metadata": {},
   "source": [
    "* With GLS model, unemployed, femlab, marriage and birth are found to be significant at 5% significance level.\n",
    "* Compared to linear model, unemployed is also found to be significant in generalized linear sqaures model."
   ]
  },
  {
   "cell_type": "markdown",
   "id": "expected-restoration",
   "metadata": {},
   "source": [
    "<b>(f) Comment on why there might be correlation in the errors."
   ]
  },
  {
   "cell_type": "markdown",
   "id": "thorough-ethiopia",
   "metadata": {},
   "source": [
    "* There might be correlation in the errors due to following reason:\n",
    "<ol><li>The correlation between errors occurs mostly in time series data. The observation at a particular time $t$ is affected by observation taken at time $t-1$ or $t-2$. This observations affects the residuals and hence they become correlated.</li></ol>"
   ]
  },
  {
   "cell_type": "markdown",
   "id": "atlantic-tomorrow",
   "metadata": {},
   "source": [
    "<hr>"
   ]
  }
 ],
 "metadata": {
  "kernelspec": {
   "display_name": "R",
   "language": "R",
   "name": "ir"
  },
  "language_info": {
   "codemirror_mode": "r",
   "file_extension": ".r",
   "mimetype": "text/x-r-source",
   "name": "R",
   "pygments_lexer": "r",
   "version": "3.6.1"
  }
 },
 "nbformat": 4,
 "nbformat_minor": 5
}
