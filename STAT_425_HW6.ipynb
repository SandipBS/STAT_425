{
 "cells": [
  {
   "cell_type": "markdown",
   "id": "conservative-visit",
   "metadata": {},
   "source": [
    "<b> Problem 1 Data on the butterfat content of milk from Canadian cows of five different\n",
    "breeds and two different ages can be found in the butterfat data set.\n",
    "    \n",
    "(a) Make appropriate plots of the data.\n",
    "    \n",
    "(b) Fit a two-way ANOVA model. Determine whether there is an interaction between breed\n",
    "and age. Present model diagnostics and make changes if necessary.\n",
    "    \n",
    "(c) Determine whether there is a statistically significant difference between breeds and age.\n",
    "    \n",
    "(d) Present regression diagnostics for the chosen model and comment whether the assump-\n",
    "tions have been met.\n",
    "    \n",
    "(e) Compare the best breed in terms of butterfat content with the second best breed. Is the\n",
    "best breed clearly superior?"
   ]
  },
  {
   "cell_type": "markdown",
   "id": "internal-leeds",
   "metadata": {},
   "source": [
    "<b>Description of Data:</b> Average butterfat content (percentages) of milk for random samples of twenty cows (ten two-year old and ten mature (greater than four years old)) from each of five breeds. The data are from Canadian records of pure-bred dairy cattle\n",
    "\n",
    "A data frame with 100 observations on the following 3 variables.\n",
    "\n",
    "* Butterfat\n",
    "    * butter fat content by percentage\n",
    "\n",
    "* Breed\n",
    "    * a factor with levels Ayrshire Canadian Guernsey Holstein-Fresian Jersey\n",
    "\n",
    "* Age\n",
    "    * a factor with levels 2year Mature"
   ]
  },
  {
   "cell_type": "code",
   "execution_count": 3,
   "id": "informed-supplement",
   "metadata": {},
   "outputs": [
    {
     "data": {
      "text/html": [
       "<table>\n",
       "<thead><tr><th scope=col>Butterfat</th><th scope=col>Breed</th><th scope=col>Age</th></tr></thead>\n",
       "<tbody>\n",
       "\t<tr><td>3.74    </td><td>Ayrshire</td><td>Mature  </td></tr>\n",
       "\t<tr><td>4.01    </td><td>Ayrshire</td><td>2year   </td></tr>\n",
       "\t<tr><td>3.77    </td><td>Ayrshire</td><td>Mature  </td></tr>\n",
       "\t<tr><td>3.78    </td><td>Ayrshire</td><td>2year   </td></tr>\n",
       "</tbody>\n",
       "</table>\n"
      ],
      "text/latex": [
       "\\begin{tabular}{r|lll}\n",
       " Butterfat & Breed & Age\\\\\n",
       "\\hline\n",
       "\t 3.74     & Ayrshire & Mature  \\\\\n",
       "\t 4.01     & Ayrshire & 2year   \\\\\n",
       "\t 3.77     & Ayrshire & Mature  \\\\\n",
       "\t 3.78     & Ayrshire & 2year   \\\\\n",
       "\\end{tabular}\n"
      ],
      "text/markdown": [
       "\n",
       "| Butterfat | Breed | Age |\n",
       "|---|---|---|\n",
       "| 3.74     | Ayrshire | Mature   |\n",
       "| 4.01     | Ayrshire | 2year    |\n",
       "| 3.77     | Ayrshire | Mature   |\n",
       "| 3.78     | Ayrshire | 2year    |\n",
       "\n"
      ],
      "text/plain": [
       "  Butterfat Breed    Age   \n",
       "1 3.74      Ayrshire Mature\n",
       "2 4.01      Ayrshire 2year \n",
       "3 3.77      Ayrshire Mature\n",
       "4 3.78      Ayrshire 2year "
      ]
     },
     "metadata": {},
     "output_type": "display_data"
    }
   ],
   "source": [
    "library('faraway')\n",
    "library('ggplot2')\n",
    "data(butterfat)\n",
    "head(butterfat, 4)"
   ]
  },
  {
   "cell_type": "code",
   "execution_count": 4,
   "id": "developed-allah",
   "metadata": {},
   "outputs": [
    {
     "data": {
      "text/plain": [
       "   Butterfat                  Breed        Age    \n",
       " Min.   :3.300   Ayrshire        :20   2year :50  \n",
       " 1st Qu.:3.938   Canadian        :20   Mature:50  \n",
       " Median :4.405   Guernsey        :20              \n",
       " Mean   :4.482   Holstein-Fresian:20              \n",
       " 3rd Qu.:4.987   Jersey          :20              \n",
       " Max.   :6.550                                    "
      ]
     },
     "metadata": {},
     "output_type": "display_data"
    }
   ],
   "source": [
    "summary(butterfat)"
   ]
  },
  {
   "cell_type": "markdown",
   "id": "forced-juvenile",
   "metadata": {},
   "source": [
    "<b>(a) Make appropriate plots of the data."
   ]
  },
  {
   "cell_type": "code",
   "execution_count": 29,
   "id": "regulation-correspondence",
   "metadata": {},
   "outputs": [
    {
     "name": "stderr",
     "output_type": "stream",
     "text": [
      "Warning message:\n",
      "\"Ignoring unknown parameters: fun\"Warning message:\n",
      "\"Ignoring unknown parameters: fun\"No summary function supplied, defaulting to `mean_se()\n",
      "No summary function supplied, defaulting to `mean_se()\n"
     ]
    },
    {
     "data": {
      "image/png": "[encoded data removed]",
      "text/plain": [
       "plot without title"
      ]
     },
     "metadata": {},
     "output_type": "display_data"
    }
   ],
   "source": [
    "library(gridExtra)\n",
    "options(repr.plot.width=10, repr.plot.height=6)\n",
    "\n",
    "p1 = ggplot(aes(x=Breed, y=Butterfat, fill = Breed), data=butterfat) +\n",
    "  theme_set(theme_bw())+\n",
    "  geom_boxplot() +\n",
    "  theme(axis.text.x = element_text(angle=45)) + \n",
    "  ylab(\"Butterfat\")\n",
    "\n",
    "p3 = ggplot(aes(x=Age, y=Butterfat, fill = Age), data=butterfat) + \n",
    "  geom_boxplot() +\n",
    "  theme(axis.text.x = element_text(angle=45)) + \n",
    "  ylab(\"Survival Time\")\n",
    "\n",
    "p2 = ggplot(butterfat, aes(x=Age, y=Butterfat, color = Breed)) + \n",
    "  geom_point() + \n",
    "  stat_summary(fun=\"mean\", geom=\"line\", aes(group=Breed, linetype=Breed))+\n",
    "  theme(axis.text.x = element_text(angle=45)) + \n",
    "  theme(legend.position = \"top\", legend.direction = \"horizontal\")\n",
    "\n",
    "p4 = ggplot(butterfat, aes(x=Breed, y=Butterfat, color = Age)) + \n",
    "  geom_point() + \n",
    "  stat_summary(fun=\"mean\", geom=\"line\", aes(group=Age, linetype=Age))+\n",
    "  theme(axis.text.x = element_text(angle=45)) + \n",
    "  theme(legend.position = \"top\", legend.direction = \"horizontal\")\n",
    "\n",
    "grid.arrange(p1, p2, p3, p4, nrow = 2)"
   ]
  },
  {
   "cell_type": "markdown",
   "id": "structured-wallace",
   "metadata": {},
   "source": [
    "<b>(b) Fit a two-way ANOVA model. Determine whether there is an interaction between breed and age. Present model diagnostics and make changes if necessary."
   ]
  },
  {
   "cell_type": "code",
   "execution_count": 8,
   "id": "competent-metro",
   "metadata": {},
   "outputs": [
    {
     "data": {
      "text/html": [
       "<table>\n",
       "<thead><tr><th></th><th scope=col>Df</th><th scope=col>Sum Sq</th><th scope=col>Mean Sq</th><th scope=col>F value</th><th scope=col>Pr(&gt;F)</th></tr></thead>\n",
       "<tbody>\n",
       "\t<tr><th scope=row>Age</th><td> 1     </td><td> 0.2735</td><td>0.2735 </td><td> 1.5801</td><td>0.2120 </td></tr>\n",
       "\t<tr><th scope=row>Breed</th><td> 4     </td><td>34.3213</td><td>8.5803 </td><td>49.5651</td><td>0.0000 </td></tr>\n",
       "\t<tr><th scope=row>Age:Breed</th><td> 4     </td><td> 0.5139</td><td>0.1285 </td><td> 0.7421</td><td>0.5658 </td></tr>\n",
       "\t<tr><th scope=row>Residuals</th><td>90     </td><td>15.5801</td><td>0.1731 </td><td>     NA</td><td>    NA </td></tr>\n",
       "</tbody>\n",
       "</table>\n"
      ],
      "text/latex": [
       "\\begin{tabular}{r|lllll}\n",
       "  & Df & Sum Sq & Mean Sq & F value & Pr(>F)\\\\\n",
       "\\hline\n",
       "\tAge &  1      &  0.2735 & 0.2735  &  1.5801 & 0.2120 \\\\\n",
       "\tBreed &  4      & 34.3213 & 8.5803  & 49.5651 & 0.0000 \\\\\n",
       "\tAge:Breed &  4      &  0.5139 & 0.1285  &  0.7421 & 0.5658 \\\\\n",
       "\tResiduals & 90      & 15.5801 & 0.1731  &      NA &     NA \\\\\n",
       "\\end{tabular}\n"
      ],
      "text/markdown": [
       "\n",
       "| <!--/--> | Df | Sum Sq | Mean Sq | F value | Pr(>F) |\n",
       "|---|---|---|---|---|---|\n",
       "| Age |  1      |  0.2735 | 0.2735  |  1.5801 | 0.2120  |\n",
       "| Breed |  4      | 34.3213 | 8.5803  | 49.5651 | 0.0000  |\n",
       "| Age:Breed |  4      |  0.5139 | 0.1285  |  0.7421 | 0.5658  |\n",
       "| Residuals | 90      | 15.5801 | 0.1731  |      NA |     NA  |\n",
       "\n"
      ],
      "text/plain": [
       "          Df Sum Sq  Mean Sq F value Pr(>F)\n",
       "Age        1  0.2735 0.2735   1.5801 0.2120\n",
       "Breed      4 34.3213 8.5803  49.5651 0.0000\n",
       "Age:Breed  4  0.5139 0.1285   0.7421 0.5658\n",
       "Residuals 90 15.5801 0.1731       NA     NA"
      ]
     },
     "metadata": {},
     "output_type": "display_data"
    }
   ],
   "source": [
    "mod_two_way_anova = lm(Butterfat ~ Age*Breed, butterfat)\n",
    "round(anova(mod_two_way_anova),4)"
   ]
  },
  {
   "cell_type": "code",
   "execution_count": 9,
   "id": "enormous-pitch",
   "metadata": {
    "scrolled": false
   },
   "outputs": [
    {
     "data": {
      "image/png": "[encoded data removed]",
      "text/plain": [
       "Plot with title \"\""
      ]
     },
     "metadata": {},
     "output_type": "display_data"
    },
    {
     "data": {
      "image/png": "[encoded data removed]",
      "text/plain": [
       "Plot with title \"\""
      ]
     },
     "metadata": {},
     "output_type": "display_data"
    },
    {
     "data": {
      "image/png": "[encoded data removed]",
      "text/plain": [
       "Plot with title \"\""
      ]
     },
     "metadata": {},
     "output_type": "display_data"
    },
    {
     "data": {
      "image/png": "[encoded data removed]",
      "text/plain": [
       "Plot with title \"\""
      ]
     },
     "metadata": {},
     "output_type": "display_data"
    }
   ],
   "source": [
    "options(repr.plot.width=4, repr.plot.height=3)\n",
    "p1 = plot(mod_two_way_anova)"
   ]
  },
  {
   "cell_type": "markdown",
   "id": "alone-comedy",
   "metadata": {},
   "source": [
    "* From diognostic plots, the data seems to follow normality. Residuals are also centered at zero."
   ]
  },
  {
   "cell_type": "markdown",
   "id": "massive-treat",
   "metadata": {},
   "source": [
    "<b>(c) Determine whether there is a statistically significant difference between breeds and age."
   ]
  },
  {
   "cell_type": "code",
   "execution_count": 18,
   "id": "obvious-associate",
   "metadata": {
    "scrolled": false
   },
   "outputs": [
    {
     "data": {
      "text/plain": [
       "  Tukey multiple comparisons of means\n",
       "    95% family-wise confidence level\n",
       "\n",
       "Fit: aov(formula = Butterfat ~ Age * Breed, data = butterfat)\n",
       "\n",
       "$Breed\n",
       "                             diff         lwr         upr     p adj\n",
       "Canadian-Ayrshire          0.3785  0.01222214  0.74477786 0.0392321\n",
       "Guernsey-Ayrshire          0.8900  0.52372214  1.25627786 0.0000000\n",
       "Holstein-Fresian-Ayrshire -0.3905 -0.75677786 -0.02422214 0.0306852\n",
       "Jersey-Ayrshire            1.2325  0.86622214  1.59877786 0.0000000\n",
       "Guernsey-Canadian          0.5115  0.14522214  0.87777786 0.0017719\n",
       "Holstein-Fresian-Canadian -0.7690 -1.13527786 -0.40272214 0.0000008\n",
       "Jersey-Canadian            0.8540  0.48772214  1.22027786 0.0000000\n",
       "Holstein-Fresian-Guernsey -1.2805 -1.64677786 -0.91422214 0.0000000\n",
       "Jersey-Guernsey            0.3425 -0.02377786  0.70877786 0.0783045\n",
       "Jersey-Holstein-Fresian    1.6230  1.25672214  1.98927786 0.0000000\n"
      ]
     },
     "metadata": {},
     "output_type": "display_data"
    },
    {
     "data": {
      "image/png": "[encoded data removed]",
      "text/plain": [
       "Plot with title \"95% family-wise confidence level\n",
       "\""
      ]
     },
     "metadata": {},
     "output_type": "display_data"
    }
   ],
   "source": [
    "confidence_intervals = TukeyHSD(aov(Butterfat ~ Age*Breed, data = butterfat), 'Breed')\n",
    "confidence_intervals\n",
    "options(repr.plot.width=5, repr.plot.height=4)\n",
    "plot(confidence_intervals, las=1, cex.axis = 0.5, col = 'blue')"
   ]
  },
  {
   "cell_type": "code",
   "execution_count": 11,
   "id": "decreased-production",
   "metadata": {
    "scrolled": true
   },
   "outputs": [
    {
     "data": {
      "text/plain": [
       "  Tukey multiple comparisons of means\n",
       "    95% family-wise confidence level\n",
       "\n",
       "Fit: aov(formula = Butterfat ~ Breed * Age, data = butterfat)\n",
       "\n",
       "$Age\n",
       "               diff         lwr       upr     p adj\n",
       "Mature-2year 0.1046 -0.06071833 0.2699183 0.2120038\n"
      ]
     },
     "metadata": {},
     "output_type": "display_data"
    }
   ],
   "source": [
    "confidence_intervals = TukeyHSD(aov(Butterfat ~ Breed*Age, data = butterfat), 'Age')\n",
    "confidence_intervals"
   ]
  },
  {
   "cell_type": "code",
   "execution_count": 12,
   "id": "duplicate-depression",
   "metadata": {},
   "outputs": [
    {
     "data": {
      "text/html": [
       "<table>\n",
       "<thead><tr><th></th><th scope=col>diff</th><th scope=col>lwr</th><th scope=col>upr</th><th scope=col>p adj</th></tr></thead>\n",
       "<tbody>\n",
       "\t<tr><th scope=row>Canadian:2year-Ayrshire:2year</th><td> 0.522</td><td>-0.082</td><td> 1.126</td><td>0.150 </td></tr>\n",
       "\t<tr><th scope=row>Guernsey:2year-Ayrshire:2year</th><td> 0.933</td><td> 0.329</td><td> 1.537</td><td>0.000 </td></tr>\n",
       "\t<tr><th scope=row>Holstein-Fresian:2year-Ayrshire:2year</th><td>-0.303</td><td>-0.907</td><td> 0.301</td><td>0.831 </td></tr>\n",
       "\t<tr><th scope=row>Jersey:2year-Ayrshire:2year</th><td> 1.167</td><td> 0.563</td><td> 1.771</td><td>0.000 </td></tr>\n",
       "\t<tr><th scope=row>Ayrshire:Mature-Ayrshire:2year</th><td> 0.188</td><td>-0.416</td><td> 0.792</td><td>0.991 </td></tr>\n",
       "\t<tr><th scope=row>Canadian:Mature-Ayrshire:2year</th><td> 0.423</td><td>-0.181</td><td> 1.027</td><td>0.416 </td></tr>\n",
       "\t<tr><th scope=row>Guernsey:Mature-Ayrshire:2year</th><td> 1.035</td><td> 0.431</td><td> 1.639</td><td>0.000 </td></tr>\n",
       "\t<tr><th scope=row>Holstein-Fresian:Mature-Ayrshire:2year</th><td>-0.290</td><td>-0.894</td><td> 0.314</td><td>0.864 </td></tr>\n",
       "\t<tr><th scope=row>Jersey:Mature-Ayrshire:2year</th><td> 1.486</td><td> 0.882</td><td> 2.090</td><td>0.000 </td></tr>\n",
       "\t<tr><th scope=row>Guernsey:2year-Canadian:2year</th><td> 0.411</td><td>-0.193</td><td> 1.015</td><td>0.459 </td></tr>\n",
       "\t<tr><th scope=row>Holstein-Fresian:2year-Canadian:2year</th><td>-0.825</td><td>-1.429</td><td>-0.221</td><td>0.001 </td></tr>\n",
       "\t<tr><th scope=row>Jersey:2year-Canadian:2year</th><td> 0.645</td><td> 0.041</td><td> 1.249</td><td>0.027 </td></tr>\n",
       "\t<tr><th scope=row>Ayrshire:Mature-Canadian:2year</th><td>-0.334</td><td>-0.938</td><td> 0.270</td><td>0.737 </td></tr>\n",
       "\t<tr><th scope=row>Canadian:Mature-Canadian:2year</th><td>-0.099</td><td>-0.703</td><td> 0.505</td><td>1.000 </td></tr>\n",
       "\t<tr><th scope=row>Guernsey:Mature-Canadian:2year</th><td> 0.513</td><td>-0.091</td><td> 1.117</td><td>0.168 </td></tr>\n",
       "\t<tr><th scope=row>Holstein-Fresian:Mature-Canadian:2year</th><td>-0.812</td><td>-1.416</td><td>-0.208</td><td>0.001 </td></tr>\n",
       "\t<tr><th scope=row>Jersey:Mature-Canadian:2year</th><td> 0.964</td><td> 0.360</td><td> 1.568</td><td>0.000 </td></tr>\n",
       "\t<tr><th scope=row>Holstein-Fresian:2year-Guernsey:2year</th><td>-1.236</td><td>-1.840</td><td>-0.632</td><td>0.000 </td></tr>\n",
       "\t<tr><th scope=row>Jersey:2year-Guernsey:2year</th><td> 0.234</td><td>-0.370</td><td> 0.838</td><td>0.960 </td></tr>\n",
       "\t<tr><th scope=row>Ayrshire:Mature-Guernsey:2year</th><td>-0.745</td><td>-1.349</td><td>-0.141</td><td>0.005 </td></tr>\n",
       "\t<tr><th scope=row>Canadian:Mature-Guernsey:2year</th><td>-0.510</td><td>-1.114</td><td> 0.094</td><td>0.174 </td></tr>\n",
       "\t<tr><th scope=row>Guernsey:Mature-Guernsey:2year</th><td> 0.102</td><td>-0.502</td><td> 0.706</td><td>1.000 </td></tr>\n",
       "\t<tr><th scope=row>Holstein-Fresian:Mature-Guernsey:2year</th><td>-1.223</td><td>-1.827</td><td>-0.619</td><td>0.000 </td></tr>\n",
       "\t<tr><th scope=row>Jersey:Mature-Guernsey:2year</th><td> 0.553</td><td>-0.051</td><td> 1.157</td><td>0.102 </td></tr>\n",
       "\t<tr><th scope=row>Jersey:2year-Holstein-Fresian:2year</th><td> 1.470</td><td> 0.866</td><td> 2.074</td><td>0.000 </td></tr>\n",
       "\t<tr><th scope=row>Ayrshire:Mature-Holstein-Fresian:2year</th><td> 0.491</td><td>-0.113</td><td> 1.095</td><td>0.215 </td></tr>\n",
       "\t<tr><th scope=row>Canadian:Mature-Holstein-Fresian:2year</th><td> 0.726</td><td> 0.122</td><td> 1.330</td><td>0.007 </td></tr>\n",
       "\t<tr><th scope=row>Guernsey:Mature-Holstein-Fresian:2year</th><td> 1.338</td><td> 0.734</td><td> 1.942</td><td>0.000 </td></tr>\n",
       "\t<tr><th scope=row>Holstein-Fresian:Mature-Holstein-Fresian:2year</th><td> 0.013</td><td>-0.591</td><td> 0.617</td><td>1.000 </td></tr>\n",
       "\t<tr><th scope=row>Jersey:Mature-Holstein-Fresian:2year</th><td> 1.789</td><td> 1.185</td><td> 2.393</td><td>0.000 </td></tr>\n",
       "\t<tr><th scope=row>Ayrshire:Mature-Jersey:2year</th><td>-0.979</td><td>-1.583</td><td>-0.375</td><td>0.000 </td></tr>\n",
       "\t<tr><th scope=row>Canadian:Mature-Jersey:2year</th><td>-0.744</td><td>-1.348</td><td>-0.140</td><td>0.005 </td></tr>\n",
       "\t<tr><th scope=row>Guernsey:Mature-Jersey:2year</th><td>-0.132</td><td>-0.736</td><td> 0.472</td><td>0.999 </td></tr>\n",
       "\t<tr><th scope=row>Holstein-Fresian:Mature-Jersey:2year</th><td>-1.457</td><td>-2.061</td><td>-0.853</td><td>0.000 </td></tr>\n",
       "\t<tr><th scope=row>Jersey:Mature-Jersey:2year</th><td> 0.319</td><td>-0.285</td><td> 0.923</td><td>0.784 </td></tr>\n",
       "\t<tr><th scope=row>Canadian:Mature-Ayrshire:Mature</th><td> 0.235</td><td>-0.369</td><td> 0.839</td><td>0.959 </td></tr>\n",
       "\t<tr><th scope=row>Guernsey:Mature-Ayrshire:Mature</th><td> 0.847</td><td> 0.243</td><td> 1.451</td><td>0.001 </td></tr>\n",
       "\t<tr><th scope=row>Holstein-Fresian:Mature-Ayrshire:Mature</th><td>-0.478</td><td>-1.082</td><td> 0.126</td><td>0.248 </td></tr>\n",
       "\t<tr><th scope=row>Jersey:Mature-Ayrshire:Mature</th><td> 1.298</td><td> 0.694</td><td> 1.902</td><td>0.000 </td></tr>\n",
       "\t<tr><th scope=row>Guernsey:Mature-Canadian:Mature</th><td> 0.612</td><td> 0.008</td><td> 1.216</td><td>0.044 </td></tr>\n",
       "\t<tr><th scope=row>Holstein-Fresian:Mature-Canadian:Mature</th><td>-0.713</td><td>-1.317</td><td>-0.109</td><td>0.008 </td></tr>\n",
       "\t<tr><th scope=row>Jersey:Mature-Canadian:Mature</th><td> 1.063</td><td> 0.459</td><td> 1.667</td><td>0.000 </td></tr>\n",
       "\t<tr><th scope=row>Holstein-Fresian:Mature-Guernsey:Mature</th><td>-1.325</td><td>-1.929</td><td>-0.721</td><td>0.000 </td></tr>\n",
       "\t<tr><th scope=row>Jersey:Mature-Guernsey:Mature</th><td> 0.451</td><td>-0.153</td><td> 1.055</td><td>0.325 </td></tr>\n",
       "\t<tr><th scope=row>Jersey:Mature-Holstein-Fresian:Mature</th><td> 1.776</td><td> 1.172</td><td> 2.380</td><td>0.000 </td></tr>\n",
       "</tbody>\n",
       "</table>\n"
      ],
      "text/latex": [
       "\\begin{tabular}{r|llll}\n",
       "  & diff & lwr & upr & p adj\\\\\n",
       "\\hline\n",
       "\tCanadian:2year-Ayrshire:2year &  0.522 & -0.082 &  1.126 & 0.150 \\\\\n",
       "\tGuernsey:2year-Ayrshire:2year &  0.933 &  0.329 &  1.537 & 0.000 \\\\\n",
       "\tHolstein-Fresian:2year-Ayrshire:2year & -0.303 & -0.907 &  0.301 & 0.831 \\\\\n",
       "\tJersey:2year-Ayrshire:2year &  1.167 &  0.563 &  1.771 & 0.000 \\\\\n",
       "\tAyrshire:Mature-Ayrshire:2year &  0.188 & -0.416 &  0.792 & 0.991 \\\\\n",
       "\tCanadian:Mature-Ayrshire:2year &  0.423 & -0.181 &  1.027 & 0.416 \\\\\n",
       "\tGuernsey:Mature-Ayrshire:2year &  1.035 &  0.431 &  1.639 & 0.000 \\\\\n",
       "\tHolstein-Fresian:Mature-Ayrshire:2year & -0.290 & -0.894 &  0.314 & 0.864 \\\\\n",
       "\tJersey:Mature-Ayrshire:2year &  1.486 &  0.882 &  2.090 & 0.000 \\\\\n",
       "\tGuernsey:2year-Canadian:2year &  0.411 & -0.193 &  1.015 & 0.459 \\\\\n",
       "\tHolstein-Fresian:2year-Canadian:2year & -0.825 & -1.429 & -0.221 & 0.001 \\\\\n",
       "\tJersey:2year-Canadian:2year &  0.645 &  0.041 &  1.249 & 0.027 \\\\\n",
       "\tAyrshire:Mature-Canadian:2year & -0.334 & -0.938 &  0.270 & 0.737 \\\\\n",
       "\tCanadian:Mature-Canadian:2year & -0.099 & -0.703 &  0.505 & 1.000 \\\\\n",
       "\tGuernsey:Mature-Canadian:2year &  0.513 & -0.091 &  1.117 & 0.168 \\\\\n",
       "\tHolstein-Fresian:Mature-Canadian:2year & -0.812 & -1.416 & -0.208 & 0.001 \\\\\n",
       "\tJersey:Mature-Canadian:2year &  0.964 &  0.360 &  1.568 & 0.000 \\\\\n",
       "\tHolstein-Fresian:2year-Guernsey:2year & -1.236 & -1.840 & -0.632 & 0.000 \\\\\n",
       "\tJersey:2year-Guernsey:2year &  0.234 & -0.370 &  0.838 & 0.960 \\\\\n",
       "\tAyrshire:Mature-Guernsey:2year & -0.745 & -1.349 & -0.141 & 0.005 \\\\\n",
       "\tCanadian:Mature-Guernsey:2year & -0.510 & -1.114 &  0.094 & 0.174 \\\\\n",
       "\tGuernsey:Mature-Guernsey:2year &  0.102 & -0.502 &  0.706 & 1.000 \\\\\n",
       "\tHolstein-Fresian:Mature-Guernsey:2year & -1.223 & -1.827 & -0.619 & 0.000 \\\\\n",
       "\tJersey:Mature-Guernsey:2year &  0.553 & -0.051 &  1.157 & 0.102 \\\\\n",
       "\tJersey:2year-Holstein-Fresian:2year &  1.470 &  0.866 &  2.074 & 0.000 \\\\\n",
       "\tAyrshire:Mature-Holstein-Fresian:2year &  0.491 & -0.113 &  1.095 & 0.215 \\\\\n",
       "\tCanadian:Mature-Holstein-Fresian:2year &  0.726 &  0.122 &  1.330 & 0.007 \\\\\n",
       "\tGuernsey:Mature-Holstein-Fresian:2year &  1.338 &  0.734 &  1.942 & 0.000 \\\\\n",
       "\tHolstein-Fresian:Mature-Holstein-Fresian:2year &  0.013 & -0.591 &  0.617 & 1.000 \\\\\n",
       "\tJersey:Mature-Holstein-Fresian:2year &  1.789 &  1.185 &  2.393 & 0.000 \\\\\n",
       "\tAyrshire:Mature-Jersey:2year & -0.979 & -1.583 & -0.375 & 0.000 \\\\\n",
       "\tCanadian:Mature-Jersey:2year & -0.744 & -1.348 & -0.140 & 0.005 \\\\\n",
       "\tGuernsey:Mature-Jersey:2year & -0.132 & -0.736 &  0.472 & 0.999 \\\\\n",
       "\tHolstein-Fresian:Mature-Jersey:2year & -1.457 & -2.061 & -0.853 & 0.000 \\\\\n",
       "\tJersey:Mature-Jersey:2year &  0.319 & -0.285 &  0.923 & 0.784 \\\\\n",
       "\tCanadian:Mature-Ayrshire:Mature &  0.235 & -0.369 &  0.839 & 0.959 \\\\\n",
       "\tGuernsey:Mature-Ayrshire:Mature &  0.847 &  0.243 &  1.451 & 0.001 \\\\\n",
       "\tHolstein-Fresian:Mature-Ayrshire:Mature & -0.478 & -1.082 &  0.126 & 0.248 \\\\\n",
       "\tJersey:Mature-Ayrshire:Mature &  1.298 &  0.694 &  1.902 & 0.000 \\\\\n",
       "\tGuernsey:Mature-Canadian:Mature &  0.612 &  0.008 &  1.216 & 0.044 \\\\\n",
       "\tHolstein-Fresian:Mature-Canadian:Mature & -0.713 & -1.317 & -0.109 & 0.008 \\\\\n",
       "\tJersey:Mature-Canadian:Mature &  1.063 &  0.459 &  1.667 & 0.000 \\\\\n",
       "\tHolstein-Fresian:Mature-Guernsey:Mature & -1.325 & -1.929 & -0.721 & 0.000 \\\\\n",
       "\tJersey:Mature-Guernsey:Mature &  0.451 & -0.153 &  1.055 & 0.325 \\\\\n",
       "\tJersey:Mature-Holstein-Fresian:Mature &  1.776 &  1.172 &  2.380 & 0.000 \\\\\n",
       "\\end{tabular}\n"
      ],
      "text/markdown": [
       "\n",
       "| <!--/--> | diff | lwr | upr | p adj |\n",
       "|---|---|---|---|---|\n",
       "| Canadian:2year-Ayrshire:2year |  0.522 | -0.082 |  1.126 | 0.150  |\n",
       "| Guernsey:2year-Ayrshire:2year |  0.933 |  0.329 |  1.537 | 0.000  |\n",
       "| Holstein-Fresian:2year-Ayrshire:2year | -0.303 | -0.907 |  0.301 | 0.831  |\n",
       "| Jersey:2year-Ayrshire:2year |  1.167 |  0.563 |  1.771 | 0.000  |\n",
       "| Ayrshire:Mature-Ayrshire:2year |  0.188 | -0.416 |  0.792 | 0.991  |\n",
       "| Canadian:Mature-Ayrshire:2year |  0.423 | -0.181 |  1.027 | 0.416  |\n",
       "| Guernsey:Mature-Ayrshire:2year |  1.035 |  0.431 |  1.639 | 0.000  |\n",
       "| Holstein-Fresian:Mature-Ayrshire:2year | -0.290 | -0.894 |  0.314 | 0.864  |\n",
       "| Jersey:Mature-Ayrshire:2year |  1.486 |  0.882 |  2.090 | 0.000  |\n",
       "| Guernsey:2year-Canadian:2year |  0.411 | -0.193 |  1.015 | 0.459  |\n",
       "| Holstein-Fresian:2year-Canadian:2year | -0.825 | -1.429 | -0.221 | 0.001  |\n",
       "| Jersey:2year-Canadian:2year |  0.645 |  0.041 |  1.249 | 0.027  |\n",
       "| Ayrshire:Mature-Canadian:2year | -0.334 | -0.938 |  0.270 | 0.737  |\n",
       "| Canadian:Mature-Canadian:2year | -0.099 | -0.703 |  0.505 | 1.000  |\n",
       "| Guernsey:Mature-Canadian:2year |  0.513 | -0.091 |  1.117 | 0.168  |\n",
       "| Holstein-Fresian:Mature-Canadian:2year | -0.812 | -1.416 | -0.208 | 0.001  |\n",
       "| Jersey:Mature-Canadian:2year |  0.964 |  0.360 |  1.568 | 0.000  |\n",
       "| Holstein-Fresian:2year-Guernsey:2year | -1.236 | -1.840 | -0.632 | 0.000  |\n",
       "| Jersey:2year-Guernsey:2year |  0.234 | -0.370 |  0.838 | 0.960  |\n",
       "| Ayrshire:Mature-Guernsey:2year | -0.745 | -1.349 | -0.141 | 0.005  |\n",
       "| Canadian:Mature-Guernsey:2year | -0.510 | -1.114 |  0.094 | 0.174  |\n",
       "| Guernsey:Mature-Guernsey:2year |  0.102 | -0.502 |  0.706 | 1.000  |\n",
       "| Holstein-Fresian:Mature-Guernsey:2year | -1.223 | -1.827 | -0.619 | 0.000  |\n",
       "| Jersey:Mature-Guernsey:2year |  0.553 | -0.051 |  1.157 | 0.102  |\n",
       "| Jersey:2year-Holstein-Fresian:2year |  1.470 |  0.866 |  2.074 | 0.000  |\n",
       "| Ayrshire:Mature-Holstein-Fresian:2year |  0.491 | -0.113 |  1.095 | 0.215  |\n",
       "| Canadian:Mature-Holstein-Fresian:2year |  0.726 |  0.122 |  1.330 | 0.007  |\n",
       "| Guernsey:Mature-Holstein-Fresian:2year |  1.338 |  0.734 |  1.942 | 0.000  |\n",
       "| Holstein-Fresian:Mature-Holstein-Fresian:2year |  0.013 | -0.591 |  0.617 | 1.000  |\n",
       "| Jersey:Mature-Holstein-Fresian:2year |  1.789 |  1.185 |  2.393 | 0.000  |\n",
       "| Ayrshire:Mature-Jersey:2year | -0.979 | -1.583 | -0.375 | 0.000  |\n",
       "| Canadian:Mature-Jersey:2year | -0.744 | -1.348 | -0.140 | 0.005  |\n",
       "| Guernsey:Mature-Jersey:2year | -0.132 | -0.736 |  0.472 | 0.999  |\n",
       "| Holstein-Fresian:Mature-Jersey:2year | -1.457 | -2.061 | -0.853 | 0.000  |\n",
       "| Jersey:Mature-Jersey:2year |  0.319 | -0.285 |  0.923 | 0.784  |\n",
       "| Canadian:Mature-Ayrshire:Mature |  0.235 | -0.369 |  0.839 | 0.959  |\n",
       "| Guernsey:Mature-Ayrshire:Mature |  0.847 |  0.243 |  1.451 | 0.001  |\n",
       "| Holstein-Fresian:Mature-Ayrshire:Mature | -0.478 | -1.082 |  0.126 | 0.248  |\n",
       "| Jersey:Mature-Ayrshire:Mature |  1.298 |  0.694 |  1.902 | 0.000  |\n",
       "| Guernsey:Mature-Canadian:Mature |  0.612 |  0.008 |  1.216 | 0.044  |\n",
       "| Holstein-Fresian:Mature-Canadian:Mature | -0.713 | -1.317 | -0.109 | 0.008  |\n",
       "| Jersey:Mature-Canadian:Mature |  1.063 |  0.459 |  1.667 | 0.000  |\n",
       "| Holstein-Fresian:Mature-Guernsey:Mature | -1.325 | -1.929 | -0.721 | 0.000  |\n",
       "| Jersey:Mature-Guernsey:Mature |  0.451 | -0.153 |  1.055 | 0.325  |\n",
       "| Jersey:Mature-Holstein-Fresian:Mature |  1.776 |  1.172 |  2.380 | 0.000  |\n",
       "\n"
      ],
      "text/plain": [
       "                                               diff   lwr    upr    p adj\n",
       "Canadian:2year-Ayrshire:2year                   0.522 -0.082  1.126 0.150\n",
       "Guernsey:2year-Ayrshire:2year                   0.933  0.329  1.537 0.000\n",
       "Holstein-Fresian:2year-Ayrshire:2year          -0.303 -0.907  0.301 0.831\n",
       "Jersey:2year-Ayrshire:2year                     1.167  0.563  1.771 0.000\n",
       "Ayrshire:Mature-Ayrshire:2year                  0.188 -0.416  0.792 0.991\n",
       "Canadian:Mature-Ayrshire:2year                  0.423 -0.181  1.027 0.416\n",
       "Guernsey:Mature-Ayrshire:2year                  1.035  0.431  1.639 0.000\n",
       "Holstein-Fresian:Mature-Ayrshire:2year         -0.290 -0.894  0.314 0.864\n",
       "Jersey:Mature-Ayrshire:2year                    1.486  0.882  2.090 0.000\n",
       "Guernsey:2year-Canadian:2year                   0.411 -0.193  1.015 0.459\n",
       "Holstein-Fresian:2year-Canadian:2year          -0.825 -1.429 -0.221 0.001\n",
       "Jersey:2year-Canadian:2year                     0.645  0.041  1.249 0.027\n",
       "Ayrshire:Mature-Canadian:2year                 -0.334 -0.938  0.270 0.737\n",
       "Canadian:Mature-Canadian:2year                 -0.099 -0.703  0.505 1.000\n",
       "Guernsey:Mature-Canadian:2year                  0.513 -0.091  1.117 0.168\n",
       "Holstein-Fresian:Mature-Canadian:2year         -0.812 -1.416 -0.208 0.001\n",
       "Jersey:Mature-Canadian:2year                    0.964  0.360  1.568 0.000\n",
       "Holstein-Fresian:2year-Guernsey:2year          -1.236 -1.840 -0.632 0.000\n",
       "Jersey:2year-Guernsey:2year                     0.234 -0.370  0.838 0.960\n",
       "Ayrshire:Mature-Guernsey:2year                 -0.745 -1.349 -0.141 0.005\n",
       "Canadian:Mature-Guernsey:2year                 -0.510 -1.114  0.094 0.174\n",
       "Guernsey:Mature-Guernsey:2year                  0.102 -0.502  0.706 1.000\n",
       "Holstein-Fresian:Mature-Guernsey:2year         -1.223 -1.827 -0.619 0.000\n",
       "Jersey:Mature-Guernsey:2year                    0.553 -0.051  1.157 0.102\n",
       "Jersey:2year-Holstein-Fresian:2year             1.470  0.866  2.074 0.000\n",
       "Ayrshire:Mature-Holstein-Fresian:2year          0.491 -0.113  1.095 0.215\n",
       "Canadian:Mature-Holstein-Fresian:2year          0.726  0.122  1.330 0.007\n",
       "Guernsey:Mature-Holstein-Fresian:2year          1.338  0.734  1.942 0.000\n",
       "Holstein-Fresian:Mature-Holstein-Fresian:2year  0.013 -0.591  0.617 1.000\n",
       "Jersey:Mature-Holstein-Fresian:2year            1.789  1.185  2.393 0.000\n",
       "Ayrshire:Mature-Jersey:2year                   -0.979 -1.583 -0.375 0.000\n",
       "Canadian:Mature-Jersey:2year                   -0.744 -1.348 -0.140 0.005\n",
       "Guernsey:Mature-Jersey:2year                   -0.132 -0.736  0.472 0.999\n",
       "Holstein-Fresian:Mature-Jersey:2year           -1.457 -2.061 -0.853 0.000\n",
       "Jersey:Mature-Jersey:2year                      0.319 -0.285  0.923 0.784\n",
       "Canadian:Mature-Ayrshire:Mature                 0.235 -0.369  0.839 0.959\n",
       "Guernsey:Mature-Ayrshire:Mature                 0.847  0.243  1.451 0.001\n",
       "Holstein-Fresian:Mature-Ayrshire:Mature        -0.478 -1.082  0.126 0.248\n",
       "Jersey:Mature-Ayrshire:Mature                   1.298  0.694  1.902 0.000\n",
       "Guernsey:Mature-Canadian:Mature                 0.612  0.008  1.216 0.044\n",
       "Holstein-Fresian:Mature-Canadian:Mature        -0.713 -1.317 -0.109 0.008\n",
       "Jersey:Mature-Canadian:Mature                   1.063  0.459  1.667 0.000\n",
       "Holstein-Fresian:Mature-Guernsey:Mature        -1.325 -1.929 -0.721 0.000\n",
       "Jersey:Mature-Guernsey:Mature                   0.451 -0.153  1.055 0.325\n",
       "Jersey:Mature-Holstein-Fresian:Mature           1.776  1.172  2.380 0.000"
      ]
     },
     "metadata": {},
     "output_type": "display_data"
    }
   ],
   "source": [
    "confidence_intervals = TukeyHSD(aov(Butterfat ~ Breed*Age, data = butterfat))\n",
    "round(confidence_intervals$`Breed:Age`,3)"
   ]
  },
  {
   "cell_type": "code",
   "execution_count": 16,
   "id": "orange-israeli",
   "metadata": {},
   "outputs": [],
   "source": [
    "# options(repr.plot.width=5, repr.plot.height=4)\n",
    "# plot(confidence_intervals, las=1, cex.axis = 0.5, col = 'blue')"
   ]
  },
  {
   "cell_type": "markdown",
   "id": "persistent-circulation",
   "metadata": {},
   "source": [
    "* As can be seen from the above analysis, there are significant differences among breeds and butterfat.\n",
    "* However, there are not significant differences between age.\n",
    "* There are signficant differences among age*breed interactions."
   ]
  },
  {
   "cell_type": "markdown",
   "id": "strong-polish",
   "metadata": {},
   "source": [
    "<b>(d) Present regression diagnostics for the chosen model and comment whether the assump- tions have been met."
   ]
  },
  {
   "cell_type": "markdown",
   "id": "thick-african",
   "metadata": {},
   "source": [
    "d.1 Testing the normality assumption"
   ]
  },
  {
   "cell_type": "code",
   "execution_count": 81,
   "id": "intermediate-receiver",
   "metadata": {},
   "outputs": [
    {
     "data": {
      "text/plain": [
       "\n",
       "\tShapiro-Wilk normality test\n",
       "\n",
       "data:  mod_two_way_anova$residuals\n",
       "W = 0.96828, p-value = 0.01635\n"
      ]
     },
     "metadata": {},
     "output_type": "display_data"
    }
   ],
   "source": [
    "shapiro.test(mod_two_way_anova$residuals)"
   ]
  },
  {
   "cell_type": "code",
   "execution_count": 19,
   "id": "latest-facing",
   "metadata": {},
   "outputs": [
    {
     "data": {
      "image/png": "[encoded data removed]",
      "text/plain": [
       "Plot with title \"\""
      ]
     },
     "metadata": {},
     "output_type": "display_data"
    }
   ],
   "source": [
    "options(repr.plot.width=4, repr.plot.height=3)\n",
    "plot(mod_two_way_anova,2)"
   ]
  },
  {
   "cell_type": "markdown",
   "id": "weird-barrel",
   "metadata": {},
   "source": [
    "* We can see that From Shapiro-Wilk normality test, we reject the null hypothesis that errors are normally distributed.\n",
    "* Let's try to apply transformations to see if the normality asssumption can be achieved."
   ]
  },
  {
   "cell_type": "code",
   "execution_count": 20,
   "id": "unlikely-footage",
   "metadata": {},
   "outputs": [
    {
     "data": {
      "text/html": [
       "<table>\n",
       "<thead><tr><th></th><th scope=col>Df</th><th scope=col>Sum Sq</th><th scope=col>Mean Sq</th><th scope=col>F value</th><th scope=col>Pr(&gt;F)</th></tr></thead>\n",
       "<tbody>\n",
       "\t<tr><th scope=row>Age</th><td> 1     </td><td> 0.2735</td><td>0.2735 </td><td> 1.5801</td><td>0.2120 </td></tr>\n",
       "\t<tr><th scope=row>Breed</th><td> 4     </td><td>34.3213</td><td>8.5803 </td><td>49.5651</td><td>0.0000 </td></tr>\n",
       "\t<tr><th scope=row>Age:Breed</th><td> 4     </td><td> 0.5139</td><td>0.1285 </td><td> 0.7421</td><td>0.5658 </td></tr>\n",
       "\t<tr><th scope=row>Residuals</th><td>90     </td><td>15.5801</td><td>0.1731 </td><td>     NA</td><td>    NA </td></tr>\n",
       "</tbody>\n",
       "</table>\n"
      ],
      "text/latex": [
       "\\begin{tabular}{r|lllll}\n",
       "  & Df & Sum Sq & Mean Sq & F value & Pr(>F)\\\\\n",
       "\\hline\n",
       "\tAge &  1      &  0.2735 & 0.2735  &  1.5801 & 0.2120 \\\\\n",
       "\tBreed &  4      & 34.3213 & 8.5803  & 49.5651 & 0.0000 \\\\\n",
       "\tAge:Breed &  4      &  0.5139 & 0.1285  &  0.7421 & 0.5658 \\\\\n",
       "\tResiduals & 90      & 15.5801 & 0.1731  &      NA &     NA \\\\\n",
       "\\end{tabular}\n"
      ],
      "text/markdown": [
       "\n",
       "| <!--/--> | Df | Sum Sq | Mean Sq | F value | Pr(>F) |\n",
       "|---|---|---|---|---|---|\n",
       "| Age |  1      |  0.2735 | 0.2735  |  1.5801 | 0.2120  |\n",
       "| Breed |  4      | 34.3213 | 8.5803  | 49.5651 | 0.0000  |\n",
       "| Age:Breed |  4      |  0.5139 | 0.1285  |  0.7421 | 0.5658  |\n",
       "| Residuals | 90      | 15.5801 | 0.1731  |      NA |     NA  |\n",
       "\n"
      ],
      "text/plain": [
       "          Df Sum Sq  Mean Sq F value Pr(>F)\n",
       "Age        1  0.2735 0.2735   1.5801 0.2120\n",
       "Breed      4 34.3213 8.5803  49.5651 0.0000\n",
       "Age:Breed  4  0.5139 0.1285   0.7421 0.5658\n",
       "Residuals 90 15.5801 0.1731       NA     NA"
      ]
     },
     "metadata": {},
     "output_type": "display_data"
    }
   ],
   "source": [
    "mod_two_way_anova1 = lm(log(Butterfat) ~ Age*Breed, butterfat)\n",
    "round(anova(mod_two_way_anova),4)"
   ]
  },
  {
   "cell_type": "code",
   "execution_count": 21,
   "id": "agreed-boost",
   "metadata": {},
   "outputs": [
    {
     "data": {
      "text/plain": [
       "\n",
       "\tShapiro-Wilk normality test\n",
       "\n",
       "data:  mod_two_way_anova1$residuals\n",
       "W = 0.98638, p-value = 0.3975\n"
      ]
     },
     "metadata": {},
     "output_type": "display_data"
    },
    {
     "data": {
      "image/png": "[encoded data removed]",
      "text/plain": [
       "Plot with title \"\""
      ]
     },
     "metadata": {},
     "output_type": "display_data"
    }
   ],
   "source": [
    "shapiro.test(mod_two_way_anova1$residuals)\n",
    "plot(mod_two_way_anova1, 2)"
   ]
  },
  {
   "cell_type": "markdown",
   "id": "plastic-choir",
   "metadata": {},
   "source": [
    "* After applying log transformation to response variable, the errors are now normally distributed. We can confirm this from Shapiro-Wilk normality test."
   ]
  },
  {
   "cell_type": "markdown",
   "id": "distant-peripheral",
   "metadata": {},
   "source": [
    "b.2 Test for equal variances"
   ]
  },
  {
   "cell_type": "code",
   "execution_count": 25,
   "id": "tender-arnold",
   "metadata": {},
   "outputs": [
    {
     "data": {
      "text/html": [
       "<table>\n",
       "<thead><tr><th></th><th scope=col>Df</th><th scope=col>F value</th><th scope=col>Pr(&gt;F)</th></tr></thead>\n",
       "<tbody>\n",
       "\t<tr><th scope=row>group</th><td> 9       </td><td>1.219051 </td><td>0.2934263</td></tr>\n",
       "\t<tr><th scope=row> </th><td>90       </td><td>      NA </td><td>       NA</td></tr>\n",
       "</tbody>\n",
       "</table>\n"
      ],
      "text/latex": [
       "\\begin{tabular}{r|lll}\n",
       "  & Df & F value & Pr(>F)\\\\\n",
       "\\hline\n",
       "\tgroup &  9        & 1.219051  & 0.2934263\\\\\n",
       "\t  & 90        &       NA  &        NA\\\\\n",
       "\\end{tabular}\n"
      ],
      "text/markdown": [
       "\n",
       "| <!--/--> | Df | F value | Pr(>F) |\n",
       "|---|---|---|---|\n",
       "| group |  9        | 1.219051  | 0.2934263 |\n",
       "|   | 90        |       NA  |        NA |\n",
       "\n"
      ],
      "text/plain": [
       "      Df F value  Pr(>F)   \n",
       "group  9 1.219051 0.2934263\n",
       "      90       NA        NA"
      ]
     },
     "metadata": {},
     "output_type": "display_data"
    }
   ],
   "source": [
    "library(car)\n",
    "leveneTest(mod_two_way_anova1)"
   ]
  },
  {
   "cell_type": "code",
   "execution_count": 26,
   "id": "confused-projector",
   "metadata": {},
   "outputs": [
    {
     "data": {
      "image/png": "[encoded data removed]",
      "text/plain": [
       "Plot with title \"\""
      ]
     },
     "metadata": {},
     "output_type": "display_data"
    }
   ],
   "source": [
    "plot(mod_two_way_anova1, 1)"
   ]
  },
  {
   "cell_type": "markdown",
   "id": "compatible-produce",
   "metadata": {},
   "source": [
    "* From the Levene test for equal variances as well from residual plot, we accept the null hypothesis. Residuals are having constant variances."
   ]
  },
  {
   "cell_type": "markdown",
   "id": "laughing-juvenile",
   "metadata": {},
   "source": [
    "<b>(e) Compare the best breed in terms of butterfat content with the second best breed. Is the best breed clearly superior?"
   ]
  },
  {
   "cell_type": "code",
   "execution_count": 30,
   "id": "incredible-signal",
   "metadata": {
    "scrolled": false
   },
   "outputs": [
    {
     "name": "stderr",
     "output_type": "stream",
     "text": [
      "No summary function supplied, defaulting to `mean_se()\n",
      "No summary function supplied, defaulting to `mean_se()\n"
     ]
    },
    {
     "data": {
      "image/png": "[encoded data removed]",
      "text/plain": [
       "plot without title"
      ]
     },
     "metadata": {},
     "output_type": "display_data"
    }
   ],
   "source": [
    "grid.arrange(p1, p2, p3, p4, nrow = 2)"
   ]
  },
  {
   "cell_type": "markdown",
   "id": "primary-klein",
   "metadata": {},
   "source": [
    "* From the above plot, we can see that Jersey and Guernsey are the two best breeds that produced highest butterfat among the five breeds."
   ]
  },
  {
   "cell_type": "code",
   "execution_count": 31,
   "id": "japanese-companion",
   "metadata": {},
   "outputs": [
    {
     "data": {
      "text/plain": [
       "  Tukey multiple comparisons of means\n",
       "    95% family-wise confidence level\n",
       "\n",
       "Fit: aov(formula = log(Butterfat) ~ Age * Breed, data = butterfat)\n",
       "\n",
       "$Breed\n",
       "                                 diff         lwr         upr     p adj\n",
       "Canadian-Ayrshire          0.08798426  0.01156995  0.16439858 0.0156494\n",
       "Guernsey-Ayrshire          0.19564150  0.11922719  0.27205582 0.0000000\n",
       "Holstein-Fresian-Ayrshire -0.10139038 -0.17780469 -0.02497607 0.0034036\n",
       "Jersey-Ayrshire            0.26111862  0.18470431  0.33753293 0.0000000\n",
       "Guernsey-Canadian          0.10765724  0.03124293  0.18407155 0.0015736\n",
       "Holstein-Fresian-Canadian -0.18937464 -0.26578895 -0.11296033 0.0000000\n",
       "Jersey-Canadian            0.17313436  0.09672005  0.24954867 0.0000001\n",
       "Holstein-Fresian-Guernsey -0.29703188 -0.37344619 -0.22061757 0.0000000\n",
       "Jersey-Guernsey            0.06547712 -0.01093719  0.14189143 0.1287849\n",
       "Jersey-Holstein-Fresian    0.36250900  0.28609469  0.43892331 0.0000000\n"
      ]
     },
     "metadata": {},
     "output_type": "display_data"
    },
    {
     "data": {
      "image/png": "[encoded data removed]",
      "text/plain": [
       "Plot with title \"95% family-wise confidence level\n",
       "\""
      ]
     },
     "metadata": {},
     "output_type": "display_data"
    }
   ],
   "source": [
    "confidence_intervals = TukeyHSD(aov(log(Butterfat) ~ Age*Breed, data = butterfat), 'Breed')\n",
    "confidence_intervals\n",
    "options(repr.plot.width=5, repr.plot.height=4)\n",
    "plot(confidence_intervals, las=1, cex.axis = 0.5, col = 'blue')"
   ]
  },
  {
   "cell_type": "markdown",
   "id": "found-cross",
   "metadata": {},
   "source": [
    "* As can be seen from the above confidence interval plot for Jersey-Guernsey, the confidence interval includes zero. Hence, the butterfat content of Jersey is not statistically significant than Guernsey."
   ]
  },
  {
   "cell_type": "markdown",
   "id": "smart-woman",
   "metadata": {},
   "source": [
    "<b>Problem 2: The morley data can be viewed as a randomized block experiment with Run as\n",
    "the treatment factor and Expt as the blocking factor.\n",
    "    \n",
    "(a) Is there a difference between runs?\n",
    "    \n",
    "(b) What efficiency is gained by blocking?"
   ]
  },
  {
   "cell_type": "code",
   "execution_count": 61,
   "id": "behavioral-allah",
   "metadata": {},
   "outputs": [
    {
     "data": {
      "text/html": [
       "<table>\n",
       "<thead><tr><th></th><th scope=col>Expt</th><th scope=col>Run</th><th scope=col>Speed</th></tr></thead>\n",
       "<tbody>\n",
       "\t<tr><th scope=row>001</th><td>1   </td><td>1   </td><td> 850</td></tr>\n",
       "\t<tr><th scope=row>002</th><td>1   </td><td>2   </td><td> 740</td></tr>\n",
       "\t<tr><th scope=row>003</th><td>1   </td><td>3   </td><td> 900</td></tr>\n",
       "\t<tr><th scope=row>004</th><td>1   </td><td>4   </td><td>1070</td></tr>\n",
       "\t<tr><th scope=row>005</th><td>1   </td><td>5   </td><td> 930</td></tr>\n",
       "\t<tr><th scope=row>006</th><td>1   </td><td>6   </td><td> 850</td></tr>\n",
       "</tbody>\n",
       "</table>\n"
      ],
      "text/latex": [
       "\\begin{tabular}{r|lll}\n",
       "  & Expt & Run & Speed\\\\\n",
       "\\hline\n",
       "\t001 & 1    & 1    &  850\\\\\n",
       "\t002 & 1    & 2    &  740\\\\\n",
       "\t003 & 1    & 3    &  900\\\\\n",
       "\t004 & 1    & 4    & 1070\\\\\n",
       "\t005 & 1    & 5    &  930\\\\\n",
       "\t006 & 1    & 6    &  850\\\\\n",
       "\\end{tabular}\n"
      ],
      "text/markdown": [
       "\n",
       "| <!--/--> | Expt | Run | Speed |\n",
       "|---|---|---|---|\n",
       "| 001 | 1    | 1    |  850 |\n",
       "| 002 | 1    | 2    |  740 |\n",
       "| 003 | 1    | 3    |  900 |\n",
       "| 004 | 1    | 4    | 1070 |\n",
       "| 005 | 1    | 5    |  930 |\n",
       "| 006 | 1    | 6    |  850 |\n",
       "\n"
      ],
      "text/plain": [
       "    Expt Run Speed\n",
       "001 1    1    850 \n",
       "002 1    2    740 \n",
       "003 1    3    900 \n",
       "004 1    4   1070 \n",
       "005 1    5    930 \n",
       "006 1    6    850 "
      ]
     },
     "metadata": {},
     "output_type": "display_data"
    },
    {
     "data": {
      "text/plain": [
       " Expt        Run         Speed       \n",
       " 1:20   1      : 5   Min.   : 620.0  \n",
       " 2:20   2      : 5   1st Qu.: 807.5  \n",
       " 3:20   3      : 5   Median : 850.0  \n",
       " 4:20   4      : 5   Mean   : 852.4  \n",
       " 5:20   5      : 5   3rd Qu.: 892.5  \n",
       "        6      : 5   Max.   :1070.0  \n",
       "        (Other):70                   "
      ]
     },
     "metadata": {},
     "output_type": "display_data"
    }
   ],
   "source": [
    "data(morley)\n",
    "head(morley)\n",
    "morley$Expt = factor(morley$Expt)\n",
    "morley$Run = factor(morley$Run)\n",
    "summary(morley)"
   ]
  },
  {
   "cell_type": "markdown",
   "id": "b557fb52",
   "metadata": {},
   "source": [
    "<b>(a) Is there a difference between runs?"
   ]
  },
  {
   "cell_type": "code",
   "execution_count": 62,
   "id": "6f1f7592",
   "metadata": {},
   "outputs": [
    {
     "data": {
      "image/png": "[encoded data removed]",
      "text/plain": [
       "plot without title"
      ]
     },
     "metadata": {},
     "output_type": "display_data"
    }
   ],
   "source": [
    "options(repr.plot.width=6, repr.plot.height=3)\n",
    "\n",
    "p1 = ggplot(aes(x=Run, y=Speed, fill = Run), data=morley) +\n",
    "  theme_set(theme_bw())+\n",
    "  geom_boxplot() +\n",
    "  theme(axis.text.x = element_text(angle=45)) + \n",
    "  ylab(\"Speed\")\n",
    "p1"
   ]
  },
  {
   "cell_type": "code",
   "execution_count": 98,
   "id": "b02d2b75",
   "metadata": {},
   "outputs": [
    {
     "data": {
      "text/plain": [
       "            Df Sum Sq Mean Sq F value  Pr(>F)   \n",
       "Run         19 113344    5965   1.105 0.36321   \n",
       "Expt         4  94514   23629   4.378 0.00307 **\n",
       "Residuals   76 410166    5397                   \n",
       "---\n",
       "Signif. codes:  0 '***' 0.001 '**' 0.01 '*' 0.05 '.' 0.1 ' ' 1"
      ]
     },
     "metadata": {},
     "output_type": "display_data"
    }
   ],
   "source": [
    "mod = aov(Speed ~ Run + Expt, data = morley)                 \n",
    "summary(mod)"
   ]
  },
  {
   "cell_type": "markdown",
   "id": "378d3194",
   "metadata": {},
   "source": [
    "* Since P value for Run is greater than the significance level of 5%, we conclude that there is no difference between runs."
   ]
  },
  {
   "cell_type": "markdown",
   "id": "757f54fd",
   "metadata": {},
   "source": [
    "<b>(b) What efficiency is gained by blocking?"
   ]
  },
  {
   "cell_type": "markdown",
   "id": "6cd401f5",
   "metadata": {},
   "source": [
    "* When we introduce blocking, we can see, it has p value 0.00307. This p value is much lower than our significance level. Hence blocking is useful.\n",
    "* Mean squared error is reduced from 5965 to 5397 by blocking."
   ]
  },
  {
   "cell_type": "code",
   "execution_count": 65,
   "id": "a44d7b5b",
   "metadata": {},
   "outputs": [
    {
     "data": {
      "image/png": "[encoded data removed]",
      "text/plain": [
       "plot without title"
      ]
     },
     "metadata": {},
     "output_type": "display_data"
    }
   ],
   "source": [
    "options(repr.plot.width=6, repr.plot.height=3)\n",
    "\n",
    "p1 = ggplot(aes(x=Expt, y=Speed, fill = Expt), data=morley) +\n",
    "  theme_set(theme_bw())+\n",
    "  geom_boxplot() +\n",
    "  theme(axis.text.x = element_text(angle=45)) + \n",
    "  ylab(\"Speed\")\n",
    "p1"
   ]
  },
  {
   "cell_type": "markdown",
   "id": "0dc47e2a",
   "metadata": {},
   "source": [
    "<b>Problem 3: The alfalfa data arise from a Latin aquare design where the treatment factor is\n",
    "inoculum and the blocking factors are shade and irrigation.\n",
    "\n",
    "(a) Test the significance of the effects.\n",
    "    \n",
    "(b) Determine which levels of the treatment factor are significantly different."
   ]
  },
  {
   "cell_type": "code",
   "execution_count": 67,
   "id": "27147ae2",
   "metadata": {},
   "outputs": [
    {
     "data": {
      "text/html": [
       "<table>\n",
       "<thead><tr><th scope=col>shade</th><th scope=col>irrigation</th><th scope=col>inoculum</th><th scope=col>yield</th></tr></thead>\n",
       "<tbody>\n",
       "\t<tr><td>1   </td><td>1   </td><td>A   </td><td>33.8</td></tr>\n",
       "\t<tr><td>1   </td><td>2   </td><td>B   </td><td>33.7</td></tr>\n",
       "\t<tr><td>1   </td><td>3   </td><td>D   </td><td>30.4</td></tr>\n",
       "\t<tr><td>1   </td><td>4   </td><td>C   </td><td>32.7</td></tr>\n",
       "\t<tr><td>1   </td><td>5   </td><td>E   </td><td>24.4</td></tr>\n",
       "\t<tr><td>2   </td><td>1   </td><td>D   </td><td>37.0</td></tr>\n",
       "</tbody>\n",
       "</table>\n"
      ],
      "text/latex": [
       "\\begin{tabular}{r|llll}\n",
       " shade & irrigation & inoculum & yield\\\\\n",
       "\\hline\n",
       "\t 1    & 1    & A    & 33.8\\\\\n",
       "\t 1    & 2    & B    & 33.7\\\\\n",
       "\t 1    & 3    & D    & 30.4\\\\\n",
       "\t 1    & 4    & C    & 32.7\\\\\n",
       "\t 1    & 5    & E    & 24.4\\\\\n",
       "\t 2    & 1    & D    & 37.0\\\\\n",
       "\\end{tabular}\n"
      ],
      "text/markdown": [
       "\n",
       "| shade | irrigation | inoculum | yield |\n",
       "|---|---|---|---|\n",
       "| 1    | 1    | A    | 33.8 |\n",
       "| 1    | 2    | B    | 33.7 |\n",
       "| 1    | 3    | D    | 30.4 |\n",
       "| 1    | 4    | C    | 32.7 |\n",
       "| 1    | 5    | E    | 24.4 |\n",
       "| 2    | 1    | D    | 37.0 |\n",
       "\n"
      ],
      "text/plain": [
       "  shade irrigation inoculum yield\n",
       "1 1     1          A        33.8 \n",
       "2 1     2          B        33.7 \n",
       "3 1     3          D        30.4 \n",
       "4 1     4          C        32.7 \n",
       "5 1     5          E        24.4 \n",
       "6 2     1          D        37.0 "
      ]
     },
     "metadata": {},
     "output_type": "display_data"
    }
   ],
   "source": [
    "data(alfalfa)\n",
    "head(alfalfa)"
   ]
  },
  {
   "cell_type": "markdown",
   "id": "da400b88",
   "metadata": {},
   "source": [
    "<b>Description of Data:</b>\n",
    "\n",
    "This data frame contains the following columns:\n",
    "\n",
    "* shade\n",
    "    * Distance of location from tree line divided into 5 shade areas\n",
    "\n",
    "* irrigation\n",
    "    * Irrigation effect divided into 5 levels\n",
    "\n",
    "* inoculum\n",
    " * Four types of seed incolum, A-D with E as control.\n",
    "\n",
    "* yield\n",
    "    * Dry matter yield of alfalfa"
   ]
  },
  {
   "cell_type": "code",
   "execution_count": 69,
   "id": "86511ad5",
   "metadata": {},
   "outputs": [
    {
     "data": {
      "text/plain": [
       " shade irrigation inoculum     yield      \n",
       " 1:5   1:5        A:5      Min.   :24.40  \n",
       " 2:5   2:5        B:5      1st Qu.:33.20  \n",
       " 3:5   3:5        C:5      Median :34.60  \n",
       " 4:5   4:5        D:5      Mean   :34.11  \n",
       " 5:5   5:5        E:5      3rd Qu.:36.90  \n",
       "                           Max.   :39.10  "
      ]
     },
     "metadata": {},
     "output_type": "display_data"
    },
    {
     "data": {
      "text/html": [
       "25"
      ],
      "text/latex": [
       "25"
      ],
      "text/markdown": [
       "25"
      ],
      "text/plain": [
       "[1] 25"
      ]
     },
     "metadata": {},
     "output_type": "display_data"
    }
   ],
   "source": [
    "summary(alfalfa)\n",
    "nrow(alfalfa)"
   ]
  },
  {
   "cell_type": "markdown",
   "id": "9ebf5568",
   "metadata": {},
   "source": [
    "<b>(a) Test the significance of the effects."
   ]
  },
  {
   "cell_type": "code",
   "execution_count": 95,
   "id": "927a37dd",
   "metadata": {},
   "outputs": [
    {
     "data": {
      "image/png": "[encoded data removed]",
      "text/plain": [
       "plot without title"
      ]
     },
     "metadata": {},
     "output_type": "display_data"
    }
   ],
   "source": [
    "options(repr.plot.width=8, repr.plot.height=4)\n",
    "\n",
    "p1 = ggplot(aes(x=irrigation, y=yield, fill = irrigation ), data=alfalfa) +\n",
    "  theme_set(theme_bw())+\n",
    "  geom_boxplot() +\n",
    "  theme(axis.text.x = element_text(angle=45)) + \n",
    "  ylab(\"Yield\")\n",
    "\n",
    "p2 = ggplot(aes(x=shade , y=yield, fill = shade  ), data=alfalfa) +\n",
    "  theme_set(theme_bw())+\n",
    "  geom_boxplot() +\n",
    "  theme(axis.text.x = element_text(angle=45)) + \n",
    "  ylab(\"Yield\")\n",
    "\n",
    "p3 = ggplot(aes(x=inoculum, y=yield, fill = inoculum), data=alfalfa) +\n",
    "  theme_set(theme_bw())+\n",
    "  geom_boxplot() +\n",
    "  theme(axis.text.x = element_text(angle=45)) + \n",
    "  ylab(\"Yield\")\n",
    "\n",
    "p4 = ggplot(alfalfa, aes(x= alfalfa$yield, fill = 'red')) +\n",
    "  theme_set(theme_bw())+\n",
    "   geom_density()+\n",
    "  theme(axis.text.x = element_text(angle=45)) + \n",
    "  ylab(\"Density\")+\n",
    "  xlab('Yield')\n",
    "\n",
    "grid.arrange(p1, p2, p3, p4, nrow = 2)"
   ]
  },
  {
   "cell_type": "code",
   "execution_count": 102,
   "id": "federal-bobby",
   "metadata": {},
   "outputs": [
    {
     "data": {
      "text/html": [
       "<table>\n",
       "<thead><tr><th></th><th scope=col>Df</th><th scope=col>Sum Sq</th><th scope=col>Mean Sq</th><th scope=col>F value</th><th scope=col>Pr(&gt;F)</th></tr></thead>\n",
       "<tbody>\n",
       "\t<tr><th scope=row>inoculum</th><td> 4          </td><td>155.8944    </td><td>38.9736     </td><td>12.709059   </td><td>0.0002839824</td></tr>\n",
       "\t<tr><th scope=row>irrigation</th><td> 4          </td><td> 16.5624    </td><td> 4.1406     </td><td> 1.350225   </td><td>0.3078717042</td></tr>\n",
       "\t<tr><th scope=row>shade</th><td> 4          </td><td> 87.4024    </td><td>21.8506     </td><td> 7.125351   </td><td>0.0035328694</td></tr>\n",
       "\t<tr><th scope=row>Residuals</th><td>12          </td><td> 36.7992    </td><td> 3.0666     </td><td>       NA   </td><td>          NA</td></tr>\n",
       "</tbody>\n",
       "</table>\n"
      ],
      "text/latex": [
       "\\begin{tabular}{r|lllll}\n",
       "  & Df & Sum Sq & Mean Sq & F value & Pr(>F)\\\\\n",
       "\\hline\n",
       "\tinoculum &  4           & 155.8944     & 38.9736      & 12.709059    & 0.0002839824\\\\\n",
       "\tirrigation &  4           &  16.5624     &  4.1406      &  1.350225    & 0.3078717042\\\\\n",
       "\tshade &  4           &  87.4024     & 21.8506      &  7.125351    & 0.0035328694\\\\\n",
       "\tResiduals & 12           &  36.7992     &  3.0666      &        NA    &           NA\\\\\n",
       "\\end{tabular}\n"
      ],
      "text/markdown": [
       "\n",
       "| <!--/--> | Df | Sum Sq | Mean Sq | F value | Pr(>F) |\n",
       "|---|---|---|---|---|---|\n",
       "| inoculum |  4           | 155.8944     | 38.9736      | 12.709059    | 0.0002839824 |\n",
       "| irrigation |  4           |  16.5624     |  4.1406      |  1.350225    | 0.3078717042 |\n",
       "| shade |  4           |  87.4024     | 21.8506      |  7.125351    | 0.0035328694 |\n",
       "| Residuals | 12           |  36.7992     |  3.0666      |        NA    |           NA |\n",
       "\n"
      ],
      "text/plain": [
       "           Df Sum Sq   Mean Sq F value   Pr(>F)      \n",
       "inoculum    4 155.8944 38.9736 12.709059 0.0002839824\n",
       "irrigation  4  16.5624  4.1406  1.350225 0.3078717042\n",
       "shade       4  87.4024 21.8506  7.125351 0.0035328694\n",
       "Residuals  12  36.7992  3.0666        NA           NA"
      ]
     },
     "metadata": {},
     "output_type": "display_data"
    }
   ],
   "source": [
    "mod = anova(lm(yield ~ inoculum + irrigation + shade, data = alfalfa))\n",
    "mod"
   ]
  },
  {
   "cell_type": "markdown",
   "id": "50da7e1e",
   "metadata": {},
   "source": [
    "* Irrigation is not significant at 5% $\\alpha$ level."
   ]
  },
  {
   "cell_type": "code",
   "execution_count": 107,
   "id": "deadly-satin",
   "metadata": {},
   "outputs": [
    {
     "data": {
      "text/html": [
       "<table>\n",
       "<thead><tr><th></th><th scope=col>Df</th><th scope=col>Sum Sq</th><th scope=col>Mean Sq</th><th scope=col>F value</th><th scope=col>Pr(&gt;F)</th></tr></thead>\n",
       "<tbody>\n",
       "\t<tr><th scope=row>inoculum</th><td> 4          </td><td>155.8944    </td><td>38.9736     </td><td>11.685886   </td><td>0.0001244553</td></tr>\n",
       "\t<tr><th scope=row>shade</th><td> 4          </td><td> 87.4024    </td><td>21.8506     </td><td> 6.551708   </td><td>0.0025449365</td></tr>\n",
       "\t<tr><th scope=row>Residuals</th><td>16          </td><td> 53.3616    </td><td> 3.3351     </td><td>       NA   </td><td>          NA</td></tr>\n",
       "</tbody>\n",
       "</table>\n"
      ],
      "text/latex": [
       "\\begin{tabular}{r|lllll}\n",
       "  & Df & Sum Sq & Mean Sq & F value & Pr(>F)\\\\\n",
       "\\hline\n",
       "\tinoculum &  4           & 155.8944     & 38.9736      & 11.685886    & 0.0001244553\\\\\n",
       "\tshade &  4           &  87.4024     & 21.8506      &  6.551708    & 0.0025449365\\\\\n",
       "\tResiduals & 16           &  53.3616     &  3.3351      &        NA    &           NA\\\\\n",
       "\\end{tabular}\n"
      ],
      "text/markdown": [
       "\n",
       "| <!--/--> | Df | Sum Sq | Mean Sq | F value | Pr(>F) |\n",
       "|---|---|---|---|---|---|\n",
       "| inoculum |  4           | 155.8944     | 38.9736      | 11.685886    | 0.0001244553 |\n",
       "| shade |  4           |  87.4024     | 21.8506      |  6.551708    | 0.0025449365 |\n",
       "| Residuals | 16           |  53.3616     |  3.3351      |        NA    |           NA |\n",
       "\n"
      ],
      "text/plain": [
       "          Df Sum Sq   Mean Sq F value   Pr(>F)      \n",
       "inoculum   4 155.8944 38.9736 11.685886 0.0001244553\n",
       "shade      4  87.4024 21.8506  6.551708 0.0025449365\n",
       "Residuals 16  53.3616  3.3351        NA           NA"
      ]
     },
     "metadata": {},
     "output_type": "display_data"
    }
   ],
   "source": [
    "mod = anova(lm(yield ~ inoculum + shade, data = alfalfa))\n",
    "mod"
   ]
  },
  {
   "cell_type": "markdown",
   "id": "30257772",
   "metadata": {},
   "source": [
    "<b>(b) Determine which levels of the treatment factor are significantly different."
   ]
  },
  {
   "cell_type": "code",
   "execution_count": 113,
   "id": "medical-custom",
   "metadata": {
    "scrolled": false
   },
   "outputs": [
    {
     "data": {
      "text/plain": [
       "  Tukey multiple comparisons of means\n",
       "    95% family-wise confidence level\n",
       "\n",
       "Fit: aov(formula = yield ~ inoculum + shade + irrigation, data = alfalfa)\n",
       "\n",
       "$inoculum\n",
       "     diff        lwr       upr     p adj\n",
       "B-A -0.72  -4.250202  2.810202 0.9633433\n",
       "C-A -0.08  -3.610202  3.450202 0.9999928\n",
       "D-A -0.86  -4.390202  2.670202 0.9326392\n",
       "E-A -6.60 -10.130202 -3.069798 0.0005166\n",
       "C-B  0.64  -2.890202  4.170202 0.9759059\n",
       "D-B -0.14  -3.670202  3.390202 0.9999332\n",
       "E-B -5.88  -9.410202 -2.349798 0.0014163\n",
       "D-C -0.78  -4.310202  2.750202 0.9515868\n",
       "E-C -6.52 -10.050202 -2.989798 0.0005764\n",
       "E-D -5.74  -9.270202 -2.209798 0.0017334\n"
      ]
     },
     "metadata": {},
     "output_type": "display_data"
    },
    {
     "data": {
      "image/png": "[encoded data removed]",
      "text/plain": [
       "Plot with title \"95% family-wise confidence level\n",
       "\""
      ]
     },
     "metadata": {},
     "output_type": "display_data"
    }
   ],
   "source": [
    "confidence_intervals = TukeyHSD(aov(yield ~ inoculum + shade +irrigation, data = alfalfa), 'inoculum')\n",
    "confidence_intervals\n",
    "options(repr.plot.width=5, repr.plot.height=4)\n",
    "plot(confidence_intervals, las=1, cex.axis = 0.5, col = 'blue')"
   ]
  },
  {
   "cell_type": "markdown",
   "id": "9dc2f4bc",
   "metadata": {},
   "source": [
    "* Levels E-A, E-B, E-C, and E-D are significantly different."
   ]
  },
  {
   "cell_type": "code",
   "execution_count": null,
   "id": "1b72b45b",
   "metadata": {},
   "outputs": [],
   "source": []
  }
 ],
 "metadata": {
  "kernelspec": {
   "display_name": "R",
   "language": "R",
   "name": "ir"
  },
  "language_info": {
   "codemirror_mode": "r",
   "file_extension": ".r",
   "mimetype": "text/x-r-source",
   "name": "R",
   "pygments_lexer": "r",
   "version": "3.6.1"
  }
 },
 "nbformat": 4,
 "nbformat_minor": 5
}
