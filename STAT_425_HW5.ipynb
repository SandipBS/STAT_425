{
 "cells": [
  {
   "cell_type": "markdown",
   "id": "major-tablet",
   "metadata": {},
   "source": [
    "<b> Problem 1: Take the fat data and use the percentage of body fat, siri, as the response, and\n",
    "the other variables except brozek and density as potential predictors. Remove every tenth\n",
    "observation from the data for use as a test sample. Use the remaining data as a training\n",
    "sample building the following models:\n",
    "\n",
    "(a) Linear Regression with all predictors\n",
    "\n",
    "(b) Linear regression with variables selected using BIC by using stepwise elimination.\n",
    "\n",
    "(c) Principal Components Regression by selecting the number of PC's using Cross-Validation.\n",
    "\n",
    "(d) Lasso regression\n",
    "\n",
    "(e) Use the previous models you fitted in (a) to (d) to predict the response in the test\n",
    "sample. Make a report on the models' performance by using the Root Mean Square\n",
    "Error (RMSE). Which model performed best?"
   ]
  },
  {
   "cell_type": "code",
   "execution_count": 2,
   "id": "assigned-distinction",
   "metadata": {},
   "outputs": [],
   "source": [
    "library('faraway')"
   ]
  },
  {
   "cell_type": "code",
   "execution_count": 6,
   "id": "advanced-opera",
   "metadata": {},
   "outputs": [
    {
     "data": {
      "text/html": [
       "<table>\n",
       "<thead><tr><th scope=col>brozek</th><th scope=col>siri</th><th scope=col>density</th><th scope=col>age</th><th scope=col>weight</th><th scope=col>height</th><th scope=col>adipos</th><th scope=col>free</th><th scope=col>neck</th><th scope=col>chest</th><th scope=col>abdom</th><th scope=col>hip</th><th scope=col>thigh</th><th scope=col>knee</th><th scope=col>ankle</th><th scope=col>biceps</th><th scope=col>forearm</th><th scope=col>wrist</th></tr></thead>\n",
       "<tbody>\n",
       "\t<tr><td>12.6  </td><td>12.3  </td><td>1.0708</td><td>23    </td><td>154.25</td><td>67.75 </td><td>23.7  </td><td>134.9 </td><td>36.2  </td><td>93.1  </td><td>85.2  </td><td>94.5  </td><td>59.0  </td><td>37.3  </td><td>21.9  </td><td>32.0  </td><td>27.4  </td><td>17.1  </td></tr>\n",
       "\t<tr><td> 6.9  </td><td> 6.1  </td><td>1.0853</td><td>22    </td><td>173.25</td><td>72.25 </td><td>23.4  </td><td>161.3 </td><td>38.5  </td><td>93.6  </td><td>83.0  </td><td>98.7  </td><td>58.7  </td><td>37.3  </td><td>23.4  </td><td>30.5  </td><td>28.9  </td><td>18.2  </td></tr>\n",
       "</tbody>\n",
       "</table>\n"
      ],
      "text/latex": [
       "\\begin{tabular}{r|llllllllllllllllll}\n",
       " brozek & siri & density & age & weight & height & adipos & free & neck & chest & abdom & hip & thigh & knee & ankle & biceps & forearm & wrist\\\\\n",
       "\\hline\n",
       "\t 12.6   & 12.3   & 1.0708 & 23     & 154.25 & 67.75  & 23.7   & 134.9  & 36.2   & 93.1   & 85.2   & 94.5   & 59.0   & 37.3   & 21.9   & 32.0   & 27.4   & 17.1  \\\\\n",
       "\t  6.9   &  6.1   & 1.0853 & 22     & 173.25 & 72.25  & 23.4   & 161.3  & 38.5   & 93.6   & 83.0   & 98.7   & 58.7   & 37.3   & 23.4   & 30.5   & 28.9   & 18.2  \\\\\n",
       "\\end{tabular}\n"
      ],
      "text/markdown": [
       "\n",
       "| brozek | siri | density | age | weight | height | adipos | free | neck | chest | abdom | hip | thigh | knee | ankle | biceps | forearm | wrist |\n",
       "|---|---|---|---|---|---|---|---|---|---|---|---|---|---|---|---|---|---|\n",
       "| 12.6   | 12.3   | 1.0708 | 23     | 154.25 | 67.75  | 23.7   | 134.9  | 36.2   | 93.1   | 85.2   | 94.5   | 59.0   | 37.3   | 21.9   | 32.0   | 27.4   | 17.1   |\n",
       "|  6.9   |  6.1   | 1.0853 | 22     | 173.25 | 72.25  | 23.4   | 161.3  | 38.5   | 93.6   | 83.0   | 98.7   | 58.7   | 37.3   | 23.4   | 30.5   | 28.9   | 18.2   |\n",
       "\n"
      ],
      "text/plain": [
       "  brozek siri density age weight height adipos free  neck chest abdom hip \n",
       "1 12.6   12.3 1.0708  23  154.25 67.75  23.7   134.9 36.2 93.1  85.2  94.5\n",
       "2  6.9    6.1 1.0853  22  173.25 72.25  23.4   161.3 38.5 93.6  83.0  98.7\n",
       "  thigh knee ankle biceps forearm wrist\n",
       "1 59.0  37.3 21.9  32.0   27.4    17.1 \n",
       "2 58.7  37.3 23.4  30.5   28.9    18.2 "
      ]
     },
     "metadata": {},
     "output_type": "display_data"
    }
   ],
   "source": [
    "data(fat)\n",
    "head(fat,2)"
   ]
  },
  {
   "cell_type": "code",
   "execution_count": 12,
   "id": "working-struggle",
   "metadata": {},
   "outputs": [],
   "source": [
    "test_data_idx = seq(from = 10, to = nrow(fat), by = 10)\n",
    "fat_trn = fat[-test_data_idx,]\n",
    "fat_tst = fat[test_data_idx,]"
   ]
  },
  {
   "cell_type": "markdown",
   "id": "indian-conditioning",
   "metadata": {},
   "source": [
    "<b>(a) Build Linear Regression with all predictors"
   ]
  },
  {
   "cell_type": "code",
   "execution_count": 15,
   "id": "abandoned-league",
   "metadata": {},
   "outputs": [],
   "source": [
    "mod_lin = lm(siri ~ .-brozek-density, fat_trn)"
   ]
  },
  {
   "cell_type": "code",
   "execution_count": 16,
   "id": "senior-miniature",
   "metadata": {},
   "outputs": [
    {
     "data": {
      "text/plain": [
       "\n",
       "Call:\n",
       "lm(formula = siri ~ . - brozek - density, data = fat_trn)\n",
       "\n",
       "Residuals:\n",
       "    Min      1Q  Median      3Q     Max \n",
       "-5.8314 -0.6722  0.1828  0.9150  6.6619 \n",
       "\n",
       "Coefficients:\n",
       "              Estimate Std. Error t value Pr(>|t|)    \n",
       "(Intercept) -12.591885   6.448868  -1.953 0.052193 .  \n",
       "age           0.007978   0.012320   0.648 0.517983    \n",
       "weight        0.362999   0.023314  15.570  < 2e-16 ***\n",
       "height        0.049026   0.040315   1.216 0.225315    \n",
       "adipos       -0.514032   0.114074  -4.506 1.09e-05 ***\n",
       "free         -0.564773   0.014889 -37.933  < 2e-16 ***\n",
       "neck          0.016525   0.089863   0.184 0.854272    \n",
       "chest         0.120219   0.039590   3.037 0.002694 ** \n",
       "abdom         0.140108   0.042186   3.321 0.001056 ** \n",
       "hip           0.006197   0.056101   0.110 0.912148    \n",
       "thigh         0.195057   0.054460   3.582 0.000424 ***\n",
       "knee          0.106637   0.093534   1.140 0.255542    \n",
       "ankle         0.125118   0.081303   1.539 0.125325    \n",
       "biceps        0.096199   0.064656   1.488 0.138278    \n",
       "forearm       0.230775   0.073332   3.147 0.001888 ** \n",
       "wrist         0.139279   0.206804   0.673 0.501378    \n",
       "---\n",
       "Signif. codes:  0 '***' 0.001 '**' 0.01 '*' 0.05 '.' 0.1 ' ' 1\n",
       "\n",
       "Residual standard error: 1.55 on 211 degrees of freedom\n",
       "Multiple R-squared:  0.9692,\tAdjusted R-squared:  0.967 \n",
       "F-statistic: 442.5 on 15 and 211 DF,  p-value: < 2.2e-16\n"
      ]
     },
     "metadata": {},
     "output_type": "display_data"
    }
   ],
   "source": [
    "summary(mod_lin)"
   ]
  },
  {
   "cell_type": "markdown",
   "id": "optimum-sacrifice",
   "metadata": {},
   "source": [
    "<b>(b) Build Linear regression with variables selected using BIC by using stepwise elimination."
   ]
  },
  {
   "cell_type": "code",
   "execution_count": 26,
   "id": "hybrid-battle",
   "metadata": {},
   "outputs": [
    {
     "data": {
      "text/html": [
       "<table>\n",
       "<thead><tr><th scope=col>(Intercept)</th><th scope=col>age</th><th scope=col>weight</th><th scope=col>height</th><th scope=col>adipos</th><th scope=col>free</th><th scope=col>neck</th><th scope=col>chest</th><th scope=col>abdom</th><th scope=col>hip</th><th scope=col>thigh</th><th scope=col>knee</th><th scope=col>ankle</th><th scope=col>biceps</th><th scope=col>forearm</th><th scope=col>wrist</th></tr></thead>\n",
       "<tbody>\n",
       "\t<tr><td>TRUE </td><td>FALSE</td><td>FALSE</td><td>FALSE</td><td>FALSE</td><td>FALSE</td><td>FALSE</td><td>FALSE</td><td> TRUE</td><td>FALSE</td><td>FALSE</td><td>FALSE</td><td>FALSE</td><td>FALSE</td><td>FALSE</td><td>FALSE</td></tr>\n",
       "\t<tr><td>TRUE </td><td>FALSE</td><td> TRUE</td><td>FALSE</td><td>FALSE</td><td> TRUE</td><td>FALSE</td><td>FALSE</td><td>FALSE</td><td>FALSE</td><td>FALSE</td><td>FALSE</td><td>FALSE</td><td>FALSE</td><td>FALSE</td><td>FALSE</td></tr>\n",
       "\t<tr><td>TRUE </td><td>FALSE</td><td> TRUE</td><td>FALSE</td><td>FALSE</td><td> TRUE</td><td>FALSE</td><td>FALSE</td><td>FALSE</td><td>FALSE</td><td>FALSE</td><td>FALSE</td><td>FALSE</td><td>FALSE</td><td> TRUE</td><td>FALSE</td></tr>\n",
       "\t<tr><td>TRUE </td><td>FALSE</td><td> TRUE</td><td>FALSE</td><td>FALSE</td><td> TRUE</td><td>FALSE</td><td>FALSE</td><td>FALSE</td><td>FALSE</td><td>FALSE</td><td> TRUE</td><td>FALSE</td><td>FALSE</td><td> TRUE</td><td>FALSE</td></tr>\n",
       "\t<tr><td>TRUE </td><td>FALSE</td><td> TRUE</td><td>FALSE</td><td> TRUE</td><td> TRUE</td><td>FALSE</td><td>FALSE</td><td> TRUE</td><td>FALSE</td><td>FALSE</td><td>FALSE</td><td>FALSE</td><td>FALSE</td><td> TRUE</td><td>FALSE</td></tr>\n",
       "\t<tr><td>TRUE </td><td>FALSE</td><td> TRUE</td><td>FALSE</td><td> TRUE</td><td> TRUE</td><td>FALSE</td><td>FALSE</td><td> TRUE</td><td>FALSE</td><td> TRUE</td><td>FALSE</td><td>FALSE</td><td>FALSE</td><td> TRUE</td><td>FALSE</td></tr>\n",
       "\t<tr><td>TRUE </td><td>FALSE</td><td> TRUE</td><td>FALSE</td><td> TRUE</td><td> TRUE</td><td>FALSE</td><td> TRUE</td><td> TRUE</td><td>FALSE</td><td> TRUE</td><td>FALSE</td><td>FALSE</td><td>FALSE</td><td> TRUE</td><td>FALSE</td></tr>\n",
       "\t<tr><td>TRUE </td><td>FALSE</td><td> TRUE</td><td>FALSE</td><td> TRUE</td><td> TRUE</td><td>FALSE</td><td> TRUE</td><td> TRUE</td><td>FALSE</td><td> TRUE</td><td>FALSE</td><td> TRUE</td><td>FALSE</td><td> TRUE</td><td>FALSE</td></tr>\n",
       "</tbody>\n",
       "</table>\n"
      ],
      "text/latex": [
       "\\begin{tabular}{r|llllllllllllllll}\n",
       " (Intercept) & age & weight & height & adipos & free & neck & chest & abdom & hip & thigh & knee & ankle & biceps & forearm & wrist\\\\\n",
       "\\hline\n",
       "\t TRUE  & FALSE & FALSE & FALSE & FALSE & FALSE & FALSE & FALSE &  TRUE & FALSE & FALSE & FALSE & FALSE & FALSE & FALSE & FALSE\\\\\n",
       "\t TRUE  & FALSE &  TRUE & FALSE & FALSE &  TRUE & FALSE & FALSE & FALSE & FALSE & FALSE & FALSE & FALSE & FALSE & FALSE & FALSE\\\\\n",
       "\t TRUE  & FALSE &  TRUE & FALSE & FALSE &  TRUE & FALSE & FALSE & FALSE & FALSE & FALSE & FALSE & FALSE & FALSE &  TRUE & FALSE\\\\\n",
       "\t TRUE  & FALSE &  TRUE & FALSE & FALSE &  TRUE & FALSE & FALSE & FALSE & FALSE & FALSE &  TRUE & FALSE & FALSE &  TRUE & FALSE\\\\\n",
       "\t TRUE  & FALSE &  TRUE & FALSE &  TRUE &  TRUE & FALSE & FALSE &  TRUE & FALSE & FALSE & FALSE & FALSE & FALSE &  TRUE & FALSE\\\\\n",
       "\t TRUE  & FALSE &  TRUE & FALSE &  TRUE &  TRUE & FALSE & FALSE &  TRUE & FALSE &  TRUE & FALSE & FALSE & FALSE &  TRUE & FALSE\\\\\n",
       "\t TRUE  & FALSE &  TRUE & FALSE &  TRUE &  TRUE & FALSE &  TRUE &  TRUE & FALSE &  TRUE & FALSE & FALSE & FALSE &  TRUE & FALSE\\\\\n",
       "\t TRUE  & FALSE &  TRUE & FALSE &  TRUE &  TRUE & FALSE &  TRUE &  TRUE & FALSE &  TRUE & FALSE &  TRUE & FALSE &  TRUE & FALSE\\\\\n",
       "\\end{tabular}\n"
      ],
      "text/markdown": [
       "\n",
       "| (Intercept) | age | weight | height | adipos | free | neck | chest | abdom | hip | thigh | knee | ankle | biceps | forearm | wrist |\n",
       "|---|---|---|---|---|---|---|---|---|---|---|---|---|---|---|---|\n",
       "| TRUE  | FALSE | FALSE | FALSE | FALSE | FALSE | FALSE | FALSE |  TRUE | FALSE | FALSE | FALSE | FALSE | FALSE | FALSE | FALSE |\n",
       "| TRUE  | FALSE |  TRUE | FALSE | FALSE |  TRUE | FALSE | FALSE | FALSE | FALSE | FALSE | FALSE | FALSE | FALSE | FALSE | FALSE |\n",
       "| TRUE  | FALSE |  TRUE | FALSE | FALSE |  TRUE | FALSE | FALSE | FALSE | FALSE | FALSE | FALSE | FALSE | FALSE |  TRUE | FALSE |\n",
       "| TRUE  | FALSE |  TRUE | FALSE | FALSE |  TRUE | FALSE | FALSE | FALSE | FALSE | FALSE |  TRUE | FALSE | FALSE |  TRUE | FALSE |\n",
       "| TRUE  | FALSE |  TRUE | FALSE |  TRUE |  TRUE | FALSE | FALSE |  TRUE | FALSE | FALSE | FALSE | FALSE | FALSE |  TRUE | FALSE |\n",
       "| TRUE  | FALSE |  TRUE | FALSE |  TRUE |  TRUE | FALSE | FALSE |  TRUE | FALSE |  TRUE | FALSE | FALSE | FALSE |  TRUE | FALSE |\n",
       "| TRUE  | FALSE |  TRUE | FALSE |  TRUE |  TRUE | FALSE |  TRUE |  TRUE | FALSE |  TRUE | FALSE | FALSE | FALSE |  TRUE | FALSE |\n",
       "| TRUE  | FALSE |  TRUE | FALSE |  TRUE |  TRUE | FALSE |  TRUE |  TRUE | FALSE |  TRUE | FALSE |  TRUE | FALSE |  TRUE | FALSE |\n",
       "\n"
      ],
      "text/plain": [
       "  (Intercept) age   weight height adipos free  neck  chest abdom hip   thigh\n",
       "1 TRUE        FALSE FALSE  FALSE  FALSE  FALSE FALSE FALSE  TRUE FALSE FALSE\n",
       "2 TRUE        FALSE  TRUE  FALSE  FALSE   TRUE FALSE FALSE FALSE FALSE FALSE\n",
       "3 TRUE        FALSE  TRUE  FALSE  FALSE   TRUE FALSE FALSE FALSE FALSE FALSE\n",
       "4 TRUE        FALSE  TRUE  FALSE  FALSE   TRUE FALSE FALSE FALSE FALSE FALSE\n",
       "5 TRUE        FALSE  TRUE  FALSE   TRUE   TRUE FALSE FALSE  TRUE FALSE FALSE\n",
       "6 TRUE        FALSE  TRUE  FALSE   TRUE   TRUE FALSE FALSE  TRUE FALSE  TRUE\n",
       "7 TRUE        FALSE  TRUE  FALSE   TRUE   TRUE FALSE  TRUE  TRUE FALSE  TRUE\n",
       "8 TRUE        FALSE  TRUE  FALSE   TRUE   TRUE FALSE  TRUE  TRUE FALSE  TRUE\n",
       "  knee  ankle biceps forearm wrist\n",
       "1 FALSE FALSE FALSE  FALSE   FALSE\n",
       "2 FALSE FALSE FALSE  FALSE   FALSE\n",
       "3 FALSE FALSE FALSE   TRUE   FALSE\n",
       "4  TRUE FALSE FALSE   TRUE   FALSE\n",
       "5 FALSE FALSE FALSE   TRUE   FALSE\n",
       "6 FALSE FALSE FALSE   TRUE   FALSE\n",
       "7 FALSE FALSE FALSE   TRUE   FALSE\n",
       "8 FALSE  TRUE FALSE   TRUE   FALSE"
      ]
     },
     "metadata": {},
     "output_type": "display_data"
    }
   ],
   "source": [
    "# install.packages('leaps')\n",
    "library(leaps)\n",
    "mod_lin_vs = regsubsets(siri ~ .-brozek-density, fat_trn)\n",
    "mod_lin_vs_summary = summary(mod_lin_vs)\n",
    "mod_lin_vs_summary$which"
   ]
  },
  {
   "cell_type": "code",
   "execution_count": 57,
   "id": "considerable-travel",
   "metadata": {},
   "outputs": [
    {
     "data": {
      "text/html": [
       "<ol class=list-inline>\n",
       "\t<li>734.955027999442</li>\n",
       "\t<li>272.966016385392</li>\n",
       "\t<li>264.5296194184</li>\n",
       "\t<li>261.250401883378</li>\n",
       "\t<li>249.641209684591</li>\n",
       "\t<li>243.26369250278</li>\n",
       "\t<li>238.714817402774</li>\n",
       "\t<li>240.045098659401</li>\n",
       "</ol>\n"
      ],
      "text/latex": [
       "\\begin{enumerate*}\n",
       "\\item 734.955027999442\n",
       "\\item 272.966016385392\n",
       "\\item 264.5296194184\n",
       "\\item 261.250401883378\n",
       "\\item 249.641209684591\n",
       "\\item 243.26369250278\n",
       "\\item 238.714817402774\n",
       "\\item 240.045098659401\n",
       "\\end{enumerate*}\n"
      ],
      "text/markdown": [
       "1. 734.955027999442\n",
       "2. 272.966016385392\n",
       "3. 264.5296194184\n",
       "4. 261.250401883378\n",
       "5. 249.641209684591\n",
       "6. 243.26369250278\n",
       "7. 238.714817402774\n",
       "8. 240.045098659401\n",
       "\n",
       "\n"
      ],
      "text/plain": [
       "[1] 734.9550 272.9660 264.5296 261.2504 249.6412 243.2637 238.7148 240.0451"
      ]
     },
     "metadata": {},
     "output_type": "display_data"
    },
    {
     "data": {
      "text/html": [
       "7"
      ],
      "text/latex": [
       "7"
      ],
      "text/markdown": [
       "7"
      ],
      "text/plain": [
       "[1] 7"
      ]
     },
     "metadata": {},
     "output_type": "display_data"
    }
   ],
   "source": [
    "n = nrow(fat_trn)\n",
    "msize = 2:9\n",
    "BICs = n*log(mod_lin_vs_summary$rss/n) + msize*log(n)\n",
    "BICs\n",
    "which.min(BICs)"
   ]
  },
  {
   "cell_type": "code",
   "execution_count": 135,
   "id": "usual-contribution",
   "metadata": {},
   "outputs": [
    {
     "data": {
      "image/png": "[encoded data removed]",
      "text/plain": [
       "plot without title"
      ]
     },
     "metadata": {},
     "output_type": "display_data"
    }
   ],
   "source": [
    "library('ggplot2')\n",
    "options(repr.plot.width=6, repr.plot.height=3)\n",
    "\n",
    "plot1 <- ggplot(data = data.frame(msize, BICs), aes(x = msize-1, y = BICs, size = BICs))+\n",
    "    geom_point()+\n",
    "    theme_update(plot.title = element_text(hjust = 0.5))+\n",
    "    theme_set(theme_bw())+\n",
    "    geom_point(color = 'dodgerblue')+\n",
    "    labs(title='Variable Selection by BIC', x='No. of parameters', y = 'BIC')\n",
    "plot1"
   ]
  },
  {
   "cell_type": "code",
   "execution_count": 37,
   "id": "primary-cartridge",
   "metadata": {},
   "outputs": [],
   "source": [
    "mod_final_cv = lm(siri ~ weight+adipos+free+chest+abdom+thigh+forearm, fat_trn)"
   ]
  },
  {
   "cell_type": "code",
   "execution_count": 41,
   "id": "split-cycling",
   "metadata": {},
   "outputs": [
    {
     "data": {
      "text/plain": [
       "\n",
       "Call:\n",
       "lm(formula = siri ~ weight + adipos + free + chest + abdom + \n",
       "    thigh + forearm, data = fat_trn)\n",
       "\n",
       "Residuals:\n",
       "    Min      1Q  Median      3Q     Max \n",
       "-6.0226 -0.5667  0.2136  0.8846  7.3072 \n",
       "\n",
       "Coefficients:\n",
       "            Estimate Std. Error t value Pr(>|t|)    \n",
       "(Intercept) -1.10003    3.27933  -0.335 0.737612    \n",
       "weight       0.38940    0.01904  20.449  < 2e-16 ***\n",
       "adipos      -0.56961    0.09277  -6.140 3.84e-09 ***\n",
       "free        -0.55874    0.01418 -39.410  < 2e-16 ***\n",
       "chest        0.12036    0.03837   3.136 0.001945 ** \n",
       "abdom        0.14634    0.03872   3.779 0.000203 ***\n",
       "thigh        0.19170    0.04358   4.399 1.69e-05 ***\n",
       "forearm      0.28758    0.06689   4.299 2.58e-05 ***\n",
       "---\n",
       "Signif. codes:  0 '***' 0.001 '**' 0.01 '*' 0.05 '.' 0.1 ' ' 1\n",
       "\n",
       "Residual standard error: 1.565 on 219 degrees of freedom\n",
       "Multiple R-squared:  0.9674,\tAdjusted R-squared:  0.9663 \n",
       "F-statistic: 927.8 on 7 and 219 DF,  p-value: < 2.2e-16\n"
      ]
     },
     "metadata": {},
     "output_type": "display_data"
    }
   ],
   "source": [
    "summary(mod_final_cv)"
   ]
  },
  {
   "cell_type": "markdown",
   "id": "retained-convergence",
   "metadata": {},
   "source": [
    "<b>(c) Principal Components Regression by selecting the number of PC's using Cross-Validation."
   ]
  },
  {
   "cell_type": "code",
   "execution_count": 405,
   "id": "religious-wayne",
   "metadata": {},
   "outputs": [
    {
     "name": "stdout",
     "output_type": "stream",
     "text": [
      "Data: \tX dimension: 227 15 \n",
      "\tY dimension: 227 1\n",
      "Fit method: svdpc\n",
      "Number of components considered: 15\n",
      "TRAINING: % variance explained\n",
      "      1 comps  2 comps  3 comps  4 comps  5 comps  6 comps  7 comps  8 comps\n",
      "X       62.90    73.17    80.41    84.99    88.98    91.43    93.60    95.42\n",
      "siri    36.65    62.19    63.67    63.71    65.59    82.69    84.05    84.06\n",
      "      9 comps  10 comps  11 comps  12 comps  13 comps  14 comps  15 comps\n",
      "X       96.74     97.95     98.80     99.31     99.62     99.88    100.00\n",
      "siri    91.02     91.86     92.52     92.77     93.76     93.81     96.92\n"
     ]
    }
   ],
   "source": [
    "# install.packages('pls')\n",
    "library(pls)\n",
    "mod_pcr = pcr(siri ~ .-brozek-density, data = fat_trn, ncomp=15, scale = TRUE)\n",
    "summary(mod_pcr)"
   ]
  },
  {
   "cell_type": "markdown",
   "id": "small-oxford",
   "metadata": {},
   "source": [
    "Select optimum number of components"
   ]
  },
  {
   "cell_type": "code",
   "execution_count": 407,
   "id": "strange-forest",
   "metadata": {},
   "outputs": [
    {
     "data": {
      "image/png": "[encoded data removed]",
      "text/plain": [
       "plot without title"
      ]
     },
     "metadata": {},
     "output_type": "display_data"
    }
   ],
   "source": [
    "fat_pca <- prcomp(fat_trn[, -3:-1], scale = TRUE)\n",
    "\n",
    "options(repr.plot.width=6, repr.plot.height=3)\n",
    "\n",
    "plot1 <- ggplot(data = data.frame(1:15, fat_pca$sdev[1:15]), aes(x = 1:15, y = fat_pca$sdev[1:15]))+\n",
    "    geom_line()+\n",
    "    theme_update(plot.title = element_text(hjust = 0.5))+\n",
    "    theme_set(theme_bw())+\n",
    "    geom_point(color = 'dodgerblue')+\n",
    "    labs(title='# of PC vs PCAs std dev', x='PCA number', y = 'PCAs Std Dev')\n",
    "plot1"
   ]
  },
  {
   "cell_type": "markdown",
   "id": "suitable-inquiry",
   "metadata": {},
   "source": [
    "* From the above plot, we can see that after 4 number of PCAs, there is significant decrease in cumulative % variation explained."
   ]
  },
  {
   "cell_type": "markdown",
   "id": "rotary-cliff",
   "metadata": {},
   "source": [
    "#### Selection PCA which minimizes RMSE"
   ]
  },
  {
   "cell_type": "code",
   "execution_count": 469,
   "id": "adolescent-malawi",
   "metadata": {
    "scrolled": false
   },
   "outputs": [
    {
     "data": {
      "image/png": "[encoded data removed]",
      "text/plain": [
       "Plot with title \"siri\""
      ]
     },
     "metadata": {},
     "output_type": "display_data"
    },
    {
     "data": {
      "image/png": "[encoded data removed]",
      "text/plain": [
       "Plot with title \"siri\""
      ]
     },
     "metadata": {},
     "output_type": "display_data"
    }
   ],
   "source": [
    "#Use 10-fold Cross-Validation\n",
    "set.seed(123)\n",
    "mod_pcr_cv = pcr(siri ~ .-brozek-density, data=fat_trn, validation=\"CV\",ncomp=15, scale = TRUE)\n",
    "\n",
    "pcrCV = RMSEP(mod_pcr_cv, estimate=\"CV\")\n",
    "\n",
    "options(repr.plot.width=6, repr.plot.height=4)\n",
    "\n",
    "plot(pcrCV)\n",
    "validationplot(mod_pcr_cv, val.type = \"R2\")\n",
    "axis(side=1, at=seq(0, 15, by=1))"
   ]
  },
  {
   "cell_type": "code",
   "execution_count": 442,
   "id": "other-block",
   "metadata": {},
   "outputs": [
    {
     "data": {
      "text/html": [
       "14"
      ],
      "text/latex": [
       "14"
      ],
      "text/markdown": [
       "14"
      ],
      "text/plain": [
       "[1] 14"
      ]
     },
     "metadata": {},
     "output_type": "display_data"
    },
    {
     "data": {
      "text/html": [
       "<ol class=list-inline>\n",
       "\t<li>8.5508878521787</li>\n",
       "\t<li>6.86395311956274</li>\n",
       "\t<li>5.34194412745452</li>\n",
       "\t<li>5.34797228210977</li>\n",
       "\t<li>5.38801861903322</li>\n",
       "\t<li>5.51830445765396</li>\n",
       "\t<li>4.29674505329343</li>\n",
       "\t<li>3.76131767286886</li>\n",
       "\t<li>3.51903670424762</li>\n",
       "\t<li>3.47616501717872</li>\n",
       "\t<li>3.40451896668907</li>\n",
       "\t<li>3.28359862327293</li>\n",
       "\t<li>3.27474528240373</li>\n",
       "\t<li>3.24783052900413</li>\n",
       "\t<li>4.07177003151727</li>\n",
       "\t<li>3.59971517373094</li>\n",
       "</ol>\n"
      ],
      "text/latex": [
       "\\begin{enumerate*}\n",
       "\\item 8.5508878521787\n",
       "\\item 6.86395311956274\n",
       "\\item 5.34194412745452\n",
       "\\item 5.34797228210977\n",
       "\\item 5.38801861903322\n",
       "\\item 5.51830445765396\n",
       "\\item 4.29674505329343\n",
       "\\item 3.76131767286886\n",
       "\\item 3.51903670424762\n",
       "\\item 3.47616501717872\n",
       "\\item 3.40451896668907\n",
       "\\item 3.28359862327293\n",
       "\\item 3.27474528240373\n",
       "\\item 3.24783052900413\n",
       "\\item 4.07177003151727\n",
       "\\item 3.59971517373094\n",
       "\\end{enumerate*}\n"
      ],
      "text/markdown": [
       "1. 8.5508878521787\n",
       "2. 6.86395311956274\n",
       "3. 5.34194412745452\n",
       "4. 5.34797228210977\n",
       "5. 5.38801861903322\n",
       "6. 5.51830445765396\n",
       "7. 4.29674505329343\n",
       "8. 3.76131767286886\n",
       "9. 3.51903670424762\n",
       "10. 3.47616501717872\n",
       "11. 3.40451896668907\n",
       "12. 3.28359862327293\n",
       "13. 3.27474528240373\n",
       "14. 3.24783052900413\n",
       "15. 4.07177003151727\n",
       "16. 3.59971517373094\n",
       "\n",
       "\n"
      ],
      "text/plain": [
       ", , model = (Intercept)\n",
       "\n",
       "        response\n",
       "estimate     siri\n",
       "      CV 8.550888\n",
       "\n",
       ", , model = 1 comps\n",
       "\n",
       "        response\n",
       "estimate     siri\n",
       "      CV 6.863953\n",
       "\n",
       ", , model = 2 comps\n",
       "\n",
       "        response\n",
       "estimate     siri\n",
       "      CV 5.341944\n",
       "\n",
       ", , model = 3 comps\n",
       "\n",
       "        response\n",
       "estimate     siri\n",
       "      CV 5.347972\n",
       "\n",
       ", , model = 4 comps\n",
       "\n",
       "        response\n",
       "estimate     siri\n",
       "      CV 5.388019\n",
       "\n",
       ", , model = 5 comps\n",
       "\n",
       "        response\n",
       "estimate     siri\n",
       "      CV 5.518304\n",
       "\n",
       ", , model = 6 comps\n",
       "\n",
       "        response\n",
       "estimate     siri\n",
       "      CV 4.296745\n",
       "\n",
       ", , model = 7 comps\n",
       "\n",
       "        response\n",
       "estimate     siri\n",
       "      CV 3.761318\n",
       "\n",
       ", , model = 8 comps\n",
       "\n",
       "        response\n",
       "estimate     siri\n",
       "      CV 3.519037\n",
       "\n",
       ", , model = 9 comps\n",
       "\n",
       "        response\n",
       "estimate     siri\n",
       "      CV 3.476165\n",
       "\n",
       ", , model = 10 comps\n",
       "\n",
       "        response\n",
       "estimate     siri\n",
       "      CV 3.404519\n",
       "\n",
       ", , model = 11 comps\n",
       "\n",
       "        response\n",
       "estimate     siri\n",
       "      CV 3.283599\n",
       "\n",
       ", , model = 12 comps\n",
       "\n",
       "        response\n",
       "estimate     siri\n",
       "      CV 3.274745\n",
       "\n",
       ", , model = 13 comps\n",
       "\n",
       "        response\n",
       "estimate     siri\n",
       "      CV 3.247831\n",
       "\n",
       ", , model = 14 comps\n",
       "\n",
       "        response\n",
       "estimate    siri\n",
       "      CV 4.07177\n",
       "\n",
       ", , model = 15 comps\n",
       "\n",
       "        response\n",
       "estimate     siri\n",
       "      CV 3.599715\n"
      ]
     },
     "metadata": {},
     "output_type": "display_data"
    }
   ],
   "source": [
    "which.min(pcrCV$val)\n",
    "pcrCV$val"
   ]
  },
  {
   "cell_type": "markdown",
   "id": "related-advance",
   "metadata": {},
   "source": [
    "* With 14 principle components, we get min RMSE.\n",
    "* But, 10 principle components explain more than 80% variation."
   ]
  },
  {
   "cell_type": "markdown",
   "id": "wrapped-driving",
   "metadata": {},
   "source": [
    "<b> (d) Build Lasso regression"
   ]
  },
  {
   "cell_type": "code",
   "execution_count": 176,
   "id": "pursuant-official",
   "metadata": {},
   "outputs": [],
   "source": [
    "fat_trn_x = as.matrix(fat_trn[, -3:-1])\n",
    "fat_tst_x = as.matrix(fat_tst[, -3:-1])"
   ]
  },
  {
   "cell_type": "markdown",
   "id": "protected-premises",
   "metadata": {},
   "source": [
    "* Build cross validated lasso regression model"
   ]
  },
  {
   "cell_type": "code",
   "execution_count": 187,
   "id": "similar-factory",
   "metadata": {},
   "outputs": [
    {
     "data": {
      "text/plain": [
       "16 x 1 sparse Matrix of class \"dgCMatrix\"\n",
       "                       1\n",
       "(Intercept) -12.77985378\n",
       "age           .         \n",
       "weight        0.29716332\n",
       "height        0.09248681\n",
       "adipos        .         \n",
       "free         -0.50465875\n",
       "neck          .         \n",
       "chest         0.04253080\n",
       "abdom         0.18228390\n",
       "hip           .         \n",
       "thigh         0.10130032\n",
       "knee          0.20691171\n",
       "ankle         0.04657393\n",
       "biceps        0.07585771\n",
       "forearm       0.21277081\n",
       "wrist         .         "
      ]
     },
     "metadata": {},
     "output_type": "display_data"
    }
   ],
   "source": [
    "library('glmnet')\n",
    "mod_cv_lasso = cv.glmnet(x=fat_trn_x , y=fat_trn$siri, alpha = 1)\n",
    "coef(mod_cv_lasso, s=mod_cv_lasso$lambda.min)"
   ]
  },
  {
   "cell_type": "code",
   "execution_count": 196,
   "id": "successful-ordinary",
   "metadata": {},
   "outputs": [
    {
     "data": {
      "image/png": "[encoded data removed]",
      "text/plain": [
       "plot without title"
      ]
     },
     "metadata": {},
     "output_type": "display_data"
    }
   ],
   "source": [
    "options(repr.plot.width=7, repr.plot.height=5)\n",
    "\n",
    "plot(mod_cv_lasso)"
   ]
  },
  {
   "cell_type": "code",
   "execution_count": 202,
   "id": "radio-techno",
   "metadata": {},
   "outputs": [
    {
     "data": {
      "text/html": [
       "0.0875960720583751"
      ],
      "text/latex": [
       "0.0875960720583751"
      ],
      "text/markdown": [
       "0.0875960720583751"
      ],
      "text/plain": [
       "[1] 0.08759607"
      ]
     },
     "metadata": {},
     "output_type": "display_data"
    },
    {
     "data": {
      "text/html": [
       "-2.43501912156138"
      ],
      "text/latex": [
       "-2.43501912156138"
      ],
      "text/markdown": [
       "-2.43501912156138"
      ],
      "text/plain": [
       "[1] -2.435019"
      ]
     },
     "metadata": {},
     "output_type": "display_data"
    }
   ],
   "source": [
    "mod_cv_lasso$lambda.min\n",
    "log(mod_cv_lasso$lambda.min)"
   ]
  },
  {
   "cell_type": "markdown",
   "id": "recovered-bahrain",
   "metadata": {},
   "source": [
    "* Here value of lambda that achieves min. mean sqaured error is 0.0875960720583751."
   ]
  },
  {
   "cell_type": "markdown",
   "id": "average-april",
   "metadata": {},
   "source": [
    "<b> (e) Use the previous models you fitted in (a) to (d) to predict the response in the test sample. Make a report on the models' performance by using the Root Mean Square Error (RMSE). Which model performed best?"
   ]
  },
  {
   "cell_type": "markdown",
   "id": "identical-indian",
   "metadata": {},
   "source": [
    "* Write function to calculate RMSE"
   ]
  },
  {
   "cell_type": "code",
   "execution_count": 144,
   "id": "dramatic-disaster",
   "metadata": {},
   "outputs": [],
   "source": [
    "calc_RMSE = function(pred, actual){\n",
    "    sqrt(mean((pred - actual)**2))\n",
    "}"
   ]
  },
  {
   "cell_type": "markdown",
   "id": "touched-contrary",
   "metadata": {},
   "source": [
    "RMSE (a)"
   ]
  },
  {
   "cell_type": "code",
   "execution_count": 150,
   "id": "considerable-black",
   "metadata": {},
   "outputs": [
    {
     "data": {
      "text/html": [
       "1.13152878296094"
      ],
      "text/latex": [
       "1.13152878296094"
      ],
      "text/markdown": [
       "1.13152878296094"
      ],
      "text/plain": [
       "[1] 1.131529"
      ]
     },
     "metadata": {},
     "output_type": "display_data"
    }
   ],
   "source": [
    "pred = predict(mod_lin, fat_tst)\n",
    "calc_RMSE(pred, fat_tst$siri)"
   ]
  },
  {
   "cell_type": "markdown",
   "id": "horizontal-irish",
   "metadata": {},
   "source": [
    "RMSE (b)"
   ]
  },
  {
   "cell_type": "code",
   "execution_count": 151,
   "id": "similar-singer",
   "metadata": {
    "scrolled": true
   },
   "outputs": [
    {
     "data": {
      "text/html": [
       "1.23391847665925"
      ],
      "text/latex": [
       "1.23391847665925"
      ],
      "text/markdown": [
       "1.23391847665925"
      ],
      "text/plain": [
       "[1] 1.233918"
      ]
     },
     "metadata": {},
     "output_type": "display_data"
    }
   ],
   "source": [
    "pred = predict(mod_final_cv, fat_tst)\n",
    "calc_RMSE(pred, fat_tst$siri)"
   ]
  },
  {
   "cell_type": "markdown",
   "id": "becoming-chaos",
   "metadata": {},
   "source": [
    "RMSE (c)"
   ]
  },
  {
   "cell_type": "code",
   "execution_count": 479,
   "id": "stretch-forwarding",
   "metadata": {},
   "outputs": [
    {
     "data": {
      "text/html": [
       "1.77337949292342"
      ],
      "text/latex": [
       "1.77337949292342"
      ],
      "text/markdown": [
       "1.77337949292342"
      ],
      "text/plain": [
       "[1] 1.773379"
      ]
     },
     "metadata": {},
     "output_type": "display_data"
    }
   ],
   "source": [
    "pred = predict(mod_pcr_cv, fat_tst, ncomp=10)\n",
    "calc_RMSE(pred, fat_tst$siri)"
   ]
  },
  {
   "cell_type": "markdown",
   "id": "recognized-funds",
   "metadata": {},
   "source": [
    "RMSE (d)"
   ]
  },
  {
   "cell_type": "code",
   "execution_count": 203,
   "id": "vietnamese-martin",
   "metadata": {},
   "outputs": [
    {
     "data": {
      "text/html": [
       "1.0991337382338"
      ],
      "text/latex": [
       "1.0991337382338"
      ],
      "text/markdown": [
       "1.0991337382338"
      ],
      "text/plain": [
       "[1] 1.099134"
      ]
     },
     "metadata": {},
     "output_type": "display_data"
    }
   ],
   "source": [
    "pred = predict(mod_cv_lasso, fat_tst_x, s=mod_cv_lasso$lambda.min)\n",
    "calc_RMSE(pred, fat_tst$siri)"
   ]
  },
  {
   "cell_type": "markdown",
   "id": "wrapped-minutes",
   "metadata": {},
   "source": [
    "* As we can see, model with cross validated PCA performed best giving RMSE of 1.0488508. The cross validated lasso regression also performed better than linear models."
   ]
  },
  {
   "cell_type": "markdown",
   "id": "closed-estonia",
   "metadata": {},
   "source": [
    "<b>Problem 2: Use the chickwts data to fit a one-way ANOVA with weights as the response\n",
    "and feed as the predictor.\n",
    "    \n",
    "(a) Determine whether there are any differences in the weights of chickens according to their\n",
    "feed.\n",
    "    \n",
    "(b) Perform all necessary model diagnostics."
   ]
  },
  {
   "cell_type": "code",
   "execution_count": 216,
   "id": "accessory-contract",
   "metadata": {
    "scrolled": true
   },
   "outputs": [
    {
     "data": {
      "text/html": [
       "<table>\n",
       "<thead><tr><th scope=col>weight</th><th scope=col>feed</th></tr></thead>\n",
       "<tbody>\n",
       "\t<tr><td>179      </td><td>horsebean</td></tr>\n",
       "\t<tr><td>160      </td><td>horsebean</td></tr>\n",
       "\t<tr><td>136      </td><td>horsebean</td></tr>\n",
       "</tbody>\n",
       "</table>\n"
      ],
      "text/latex": [
       "\\begin{tabular}{r|ll}\n",
       " weight & feed\\\\\n",
       "\\hline\n",
       "\t 179       & horsebean\\\\\n",
       "\t 160       & horsebean\\\\\n",
       "\t 136       & horsebean\\\\\n",
       "\\end{tabular}\n"
      ],
      "text/markdown": [
       "\n",
       "| weight | feed |\n",
       "|---|---|\n",
       "| 179       | horsebean |\n",
       "| 160       | horsebean |\n",
       "| 136       | horsebean |\n",
       "\n"
      ],
      "text/plain": [
       "  weight feed     \n",
       "1 179    horsebean\n",
       "2 160    horsebean\n",
       "3 136    horsebean"
      ]
     },
     "metadata": {},
     "output_type": "display_data"
    },
    {
     "data": {
      "text/html": [
       "<ol class=list-inline>\n",
       "\t<li>'casein'</li>\n",
       "\t<li>'horsebean'</li>\n",
       "\t<li>'linseed'</li>\n",
       "\t<li>'meatmeal'</li>\n",
       "\t<li>'soybean'</li>\n",
       "\t<li>'sunflower'</li>\n",
       "</ol>\n"
      ],
      "text/latex": [
       "\\begin{enumerate*}\n",
       "\\item 'casein'\n",
       "\\item 'horsebean'\n",
       "\\item 'linseed'\n",
       "\\item 'meatmeal'\n",
       "\\item 'soybean'\n",
       "\\item 'sunflower'\n",
       "\\end{enumerate*}\n"
      ],
      "text/markdown": [
       "1. 'casein'\n",
       "2. 'horsebean'\n",
       "3. 'linseed'\n",
       "4. 'meatmeal'\n",
       "5. 'soybean'\n",
       "6. 'sunflower'\n",
       "\n",
       "\n"
      ],
      "text/plain": [
       "[1] \"casein\"    \"horsebean\" \"linseed\"   \"meatmeal\"  \"soybean\"   \"sunflower\""
      ]
     },
     "metadata": {},
     "output_type": "display_data"
    }
   ],
   "source": [
    "data(chickwts)\n",
    "head(chickwts, 3)\n",
    "levels(chickwts$feed)"
   ]
  },
  {
   "cell_type": "markdown",
   "id": "naughty-visiting",
   "metadata": {},
   "source": [
    "<b>(a) Determine whether there are any differences in the weights of chickens according to their feed."
   ]
  },
  {
   "cell_type": "code",
   "execution_count": 217,
   "id": "appreciated-transportation",
   "metadata": {},
   "outputs": [
    {
     "data": {
      "image/png": "[encoded data removed]",
      "text/plain": [
       "plot without title"
      ]
     },
     "metadata": {},
     "output_type": "display_data"
    }
   ],
   "source": [
    "options(repr.plot.width=6, repr.plot.height=3)\n",
    "ggplot(chickwts, aes(x = feed, y = weight, fill=feed)) + \n",
    "  geom_boxplot()"
   ]
  },
  {
   "cell_type": "code",
   "execution_count": 220,
   "id": "multiple-amendment",
   "metadata": {},
   "outputs": [
    {
     "data": {
      "text/plain": [
       "     weight             feed   \n",
       " Min.   :108.0   casein   :12  \n",
       " 1st Qu.:204.5   horsebean:10  \n",
       " Median :258.0   linseed  :12  \n",
       " Mean   :261.3   meatmeal :11  \n",
       " 3rd Qu.:323.5   soybean  :14  \n",
       " Max.   :423.0   sunflower:12  "
      ]
     },
     "metadata": {},
     "output_type": "display_data"
    }
   ],
   "source": [
    "summary(chickwts)"
   ]
  },
  {
   "cell_type": "code",
   "execution_count": 465,
   "id": "personalized-lesson",
   "metadata": {},
   "outputs": [
    {
     "data": {
      "text/html": [
       "<dl class=dl-horizontal>\n",
       "\t<dt>casein</dt>\n",
       "\t\t<dd>323.583333333333</dd>\n",
       "\t<dt>horsebean</dt>\n",
       "\t\t<dd>160.2</dd>\n",
       "\t<dt>linseed</dt>\n",
       "\t\t<dd>218.75</dd>\n",
       "\t<dt>meatmeal</dt>\n",
       "\t\t<dd>276.909090909091</dd>\n",
       "\t<dt>soybean</dt>\n",
       "\t\t<dd>246.428571428571</dd>\n",
       "\t<dt>sunflower</dt>\n",
       "\t\t<dd>328.916666666667</dd>\n",
       "</dl>\n"
      ],
      "text/latex": [
       "\\begin{description*}\n",
       "\\item[casein] 323.583333333333\n",
       "\\item[horsebean] 160.2\n",
       "\\item[linseed] 218.75\n",
       "\\item[meatmeal] 276.909090909091\n",
       "\\item[soybean] 246.428571428571\n",
       "\\item[sunflower] 328.916666666667\n",
       "\\end{description*}\n"
      ],
      "text/markdown": [
       "casein\n",
       ":   323.583333333333horsebean\n",
       ":   160.2linseed\n",
       ":   218.75meatmeal\n",
       ":   276.909090909091soybean\n",
       ":   246.428571428571sunflower\n",
       ":   328.916666666667\n",
       "\n"
      ],
      "text/plain": [
       "   casein horsebean   linseed  meatmeal   soybean sunflower \n",
       " 323.5833  160.2000  218.7500  276.9091  246.4286  328.9167 "
      ]
     },
     "metadata": {},
     "output_type": "display_data"
    }
   ],
   "source": [
    "feeds = levels(chickwts$feed)\n",
    "calc_mean = function(feed){\n",
    "    mean(chickwts$weight[chickwts$feed==feed])\n",
    "}\n",
    "\n",
    "means = sapply(feeds, calc_mean)\n",
    "means"
   ]
  },
  {
   "cell_type": "code",
   "execution_count": 481,
   "id": "compressed-weekend",
   "metadata": {},
   "outputs": [
    {
     "data": {
      "text/plain": [
       "\n",
       "Call:\n",
       "lm(formula = weight ~ feed - 1, data = chickwts)\n",
       "\n",
       "Residuals:\n",
       "     Min       1Q   Median       3Q      Max \n",
       "-123.909  -34.413    1.571   38.170  103.091 \n",
       "\n",
       "Coefficients:\n",
       "              Estimate Std. Error t value Pr(>|t|)    \n",
       "feedcasein      323.58      15.83  20.436  < 2e-16 ***\n",
       "feedhorsebean   160.20      17.35   9.236 1.91e-13 ***\n",
       "feedlinseed     218.75      15.83  13.815  < 2e-16 ***\n",
       "feedmeatmeal    276.91      16.54  16.744  < 2e-16 ***\n",
       "feedsoybean     246.43      14.66  16.810  < 2e-16 ***\n",
       "feedsunflower   328.92      15.83  20.773  < 2e-16 ***\n",
       "---\n",
       "Signif. codes:  0 '***' 0.001 '**' 0.01 '*' 0.05 '.' 0.1 ' ' 1\n",
       "\n",
       "Residual standard error: 54.85 on 65 degrees of freedom\n",
       "Multiple R-squared:  0.9629,\tAdjusted R-squared:  0.9595 \n",
       "F-statistic: 281.4 on 6 and 65 DF,  p-value: < 2.2e-16\n"
      ]
     },
     "metadata": {},
     "output_type": "display_data"
    },
    {
     "data": {
      "text/html": [
       "<table>\n",
       "<thead><tr><th></th><th scope=col>Df</th><th scope=col>Sum Sq</th><th scope=col>Mean Sq</th><th scope=col>F value</th><th scope=col>Pr(&gt;F)</th></tr></thead>\n",
       "<tbody>\n",
       "\t<tr><th scope=row>feed</th><td> 6          </td><td>5079211     </td><td>846535.163  </td><td>281.3761    </td><td>1.677742e-44</td></tr>\n",
       "\t<tr><th scope=row>Residuals</th><td>65          </td><td> 195556     </td><td>  3008.554  </td><td>      NA    </td><td>          NA</td></tr>\n",
       "</tbody>\n",
       "</table>\n"
      ],
      "text/latex": [
       "\\begin{tabular}{r|lllll}\n",
       "  & Df & Sum Sq & Mean Sq & F value & Pr(>F)\\\\\n",
       "\\hline\n",
       "\tfeed &  6           & 5079211      & 846535.163   & 281.3761     & 1.677742e-44\\\\\n",
       "\tResiduals & 65           &  195556      &   3008.554   &       NA     &           NA\\\\\n",
       "\\end{tabular}\n"
      ],
      "text/markdown": [
       "\n",
       "| <!--/--> | Df | Sum Sq | Mean Sq | F value | Pr(>F) |\n",
       "|---|---|---|---|---|---|\n",
       "| feed |  6           | 5079211      | 846535.163   | 281.3761     | 1.677742e-44 |\n",
       "| Residuals | 65           |  195556      |   3008.554   |       NA     |           NA |\n",
       "\n"
      ],
      "text/plain": [
       "          Df Sum Sq  Mean Sq    F value  Pr(>F)      \n",
       "feed       6 5079211 846535.163 281.3761 1.677742e-44\n",
       "Residuals 65  195556   3008.554       NA           NA"
      ]
     },
     "metadata": {},
     "output_type": "display_data"
    }
   ],
   "source": [
    "mod = lm(weight ~ feed-1, data = chickwts)\n",
    "summary(mod)\n",
    "anova(mod)"
   ]
  },
  {
   "cell_type": "markdown",
   "id": "worthy-position",
   "metadata": {},
   "source": [
    "* Since the p value is lower than 0.05, we conclude that weights are different for different feeds."
   ]
  },
  {
   "cell_type": "code",
   "execution_count": 235,
   "id": "behind-triple",
   "metadata": {},
   "outputs": [
    {
     "data": {
      "text/html": [
       "0.541685465673916"
      ],
      "text/latex": [
       "0.541685465673916"
      ],
      "text/markdown": [
       "0.541685465673916"
      ],
      "text/plain": [
       "[1] 0.5416855"
      ]
     },
     "metadata": {},
     "output_type": "display_data"
    }
   ],
   "source": [
    "R_squared = var(mod$fitted.values)/var(chickwts$weight)\n",
    "R_squared"
   ]
  },
  {
   "cell_type": "code",
   "execution_count": 236,
   "id": "spanish-endorsement",
   "metadata": {},
   "outputs": [
    {
     "data": {
      "text/html": [
       "<table>\n",
       "<thead><tr><th></th><th scope=col>2.5 %</th><th scope=col>97.5 %</th></tr></thead>\n",
       "<tbody>\n",
       "\t<tr><th scope=row>feedcasein</th><td>291.9608</td><td>355.2058</td></tr>\n",
       "\t<tr><th scope=row>feedhorsebean</th><td>125.5593</td><td>194.8407</td></tr>\n",
       "\t<tr><th scope=row>feedlinseed</th><td>187.1275</td><td>250.3725</td></tr>\n",
       "\t<tr><th scope=row>feedmeatmeal</th><td>243.8805</td><td>309.9377</td></tr>\n",
       "\t<tr><th scope=row>feedsoybean</th><td>217.1518</td><td>275.7053</td></tr>\n",
       "\t<tr><th scope=row>feedsunflower</th><td>297.2942</td><td>360.5392</td></tr>\n",
       "</tbody>\n",
       "</table>\n"
      ],
      "text/latex": [
       "\\begin{tabular}{r|ll}\n",
       "  & 2.5 \\% & 97.5 \\%\\\\\n",
       "\\hline\n",
       "\tfeedcasein & 291.9608 & 355.2058\\\\\n",
       "\tfeedhorsebean & 125.5593 & 194.8407\\\\\n",
       "\tfeedlinseed & 187.1275 & 250.3725\\\\\n",
       "\tfeedmeatmeal & 243.8805 & 309.9377\\\\\n",
       "\tfeedsoybean & 217.1518 & 275.7053\\\\\n",
       "\tfeedsunflower & 297.2942 & 360.5392\\\\\n",
       "\\end{tabular}\n"
      ],
      "text/markdown": [
       "\n",
       "| <!--/--> | 2.5 % | 97.5 % |\n",
       "|---|---|---|\n",
       "| feedcasein | 291.9608 | 355.2058 |\n",
       "| feedhorsebean | 125.5593 | 194.8407 |\n",
       "| feedlinseed | 187.1275 | 250.3725 |\n",
       "| feedmeatmeal | 243.8805 | 309.9377 |\n",
       "| feedsoybean | 217.1518 | 275.7053 |\n",
       "| feedsunflower | 297.2942 | 360.5392 |\n",
       "\n"
      ],
      "text/plain": [
       "              2.5 %    97.5 %  \n",
       "feedcasein    291.9608 355.2058\n",
       "feedhorsebean 125.5593 194.8407\n",
       "feedlinseed   187.1275 250.3725\n",
       "feedmeatmeal  243.8805 309.9377\n",
       "feedsoybean   217.1518 275.7053\n",
       "feedsunflower 297.2942 360.5392"
      ]
     },
     "metadata": {},
     "output_type": "display_data"
    }
   ],
   "source": [
    "confint(mod)"
   ]
  },
  {
   "cell_type": "code",
   "execution_count": 237,
   "id": "infinite-pregnancy",
   "metadata": {},
   "outputs": [
    {
     "data": {
      "text/plain": [
       "\n",
       "\tPairwise comparisons using t tests with pooled SD \n",
       "\n",
       "data:  chickwts$weight and chickwts$feed \n",
       "\n",
       "          casein  horsebean linseed meatmeal soybean\n",
       "horsebean 3.1e-08 -         -       -        -      \n",
       "linseed   0.00022 0.22833   -       -        -      \n",
       "meatmeal  0.68350 0.00011   0.20218 -        -      \n",
       "soybean   0.00998 0.00487   1.00000 1.00000  -      \n",
       "sunflower 1.00000 1.2e-08   9.3e-05 0.39653  0.00447\n",
       "\n",
       "P value adjustment method: bonferroni "
      ]
     },
     "metadata": {},
     "output_type": "display_data"
    }
   ],
   "source": [
    "# Paiwise t-test with Bonferroni Correction\n",
    "pairwise.t.test(chickwts$weight,chickwts$feed,p.adjust.method = \"bonferroni\")"
   ]
  },
  {
   "cell_type": "markdown",
   "id": "piano-address",
   "metadata": {},
   "source": [
    "* Here, we can see that except linseed-horsebean, meatmean-casein, linseed-meatmeal, linsee-soybean, meatmeal-soybean, casein-sunflower, meatmeal-sunflower, rest all differ significantly."
   ]
  },
  {
   "cell_type": "markdown",
   "id": "connected-williams",
   "metadata": {},
   "source": [
    "* We can also verify the same using Tukey comparisons"
   ]
  },
  {
   "cell_type": "code",
   "execution_count": 233,
   "id": "disturbed-visit",
   "metadata": {},
   "outputs": [
    {
     "data": {
      "text/plain": [
       "          Df  Sum Sq Mean Sq F value Pr(>F)    \n",
       "feed       6 5079211  846535   281.4 <2e-16 ***\n",
       "Residuals 65  195556    3009                   \n",
       "---\n",
       "Signif. codes:  0 '***' 0.001 '**' 0.01 '*' 0.05 '.' 0.1 ' ' 1"
      ]
     },
     "metadata": {},
     "output_type": "display_data"
    },
    {
     "data": {
      "text/plain": [
       "  Tukey multiple comparisons of means\n",
       "    95% family-wise confidence level\n",
       "\n",
       "Fit: aov(formula = weight ~ feed - 1, data = chickwts)\n",
       "\n",
       "$feed\n",
       "                           diff         lwr       upr     p adj\n",
       "horsebean-casein    -163.383333 -232.346876 -94.41979 0.0000000\n",
       "linseed-casein      -104.833333 -170.587491 -39.07918 0.0002100\n",
       "meatmeal-casein      -46.674242 -113.906207  20.55772 0.3324584\n",
       "soybean-casein       -77.154762 -140.517054 -13.79247 0.0083653\n",
       "sunflower-casein       5.333333  -60.420825  71.08749 0.9998902\n",
       "linseed-horsebean     58.550000  -10.413543 127.51354 0.1413329\n",
       "meatmeal-horsebean   116.709091   46.335105 187.08308 0.0001062\n",
       "soybean-horsebean     86.228571   19.541684 152.91546 0.0042167\n",
       "sunflower-horsebean  168.716667   99.753124 237.68021 0.0000000\n",
       "meatmeal-linseed      58.159091   -9.072873 125.39106 0.1276965\n",
       "soybean-linseed       27.678571  -35.683721  91.04086 0.7932853\n",
       "sunflower-linseed    110.166667   44.412509 175.92082 0.0000884\n",
       "soybean-meatmeal     -30.480519  -95.375109  34.41407 0.7391356\n",
       "sunflower-meatmeal    52.007576  -15.224388 119.23954 0.2206962\n",
       "sunflower-soybean     82.488095   19.125803 145.85039 0.0038845\n"
      ]
     },
     "metadata": {},
     "output_type": "display_data"
    }
   ],
   "source": [
    "# Compute the analysis of variance\n",
    "res.aov <- aov(weight ~ feed-1, data = chickwts)\n",
    "# Summary of the analysis\n",
    "summary(res.aov)\n",
    "TukeyHSD(res.aov)"
   ]
  },
  {
   "cell_type": "code",
   "execution_count": 279,
   "id": "liquid-alloy",
   "metadata": {
    "scrolled": false
   },
   "outputs": [
    {
     "data": {
      "image/png": "[encoded data removed]",
      "text/plain": [
       "Plot with title \"95% family-wise confidence level\n",
       "\""
      ]
     },
     "metadata": {},
     "output_type": "display_data"
    }
   ],
   "source": [
    "options(repr.plot.width=6, repr.plot.height=5)\n",
    "plot(TukeyHSD(res.aov), las=1, cex.axis = 0.5, col = 'blue')"
   ]
  },
  {
   "cell_type": "markdown",
   "id": "monetary-terrace",
   "metadata": {},
   "source": [
    "<b>(b) Perform all necessary model diagnostics."
   ]
  },
  {
   "cell_type": "code",
   "execution_count": 282,
   "id": "hybrid-mainland",
   "metadata": {
    "scrolled": false
   },
   "outputs": [
    {
     "data": {
      "image/png": "[encoded data removed]",
      "text/plain": [
       "Plot with title \"\""
      ]
     },
     "metadata": {},
     "output_type": "display_data"
    }
   ],
   "source": [
    "options(repr.plot.width=4, repr.plot.height=4)\n",
    "\n",
    "plot(mod, 1)"
   ]
  },
  {
   "cell_type": "code",
   "execution_count": 269,
   "id": "german-medline",
   "metadata": {},
   "outputs": [
    {
     "data": {
      "text/html": [
       "<table>\n",
       "<thead><tr><th></th><th scope=col>Df</th><th scope=col>F value</th><th scope=col>Pr(&gt;F)</th></tr></thead>\n",
       "<tbody>\n",
       "\t<tr><th scope=row>group</th><td> 5       </td><td>0.987329 </td><td>0.4324101</td></tr>\n",
       "\t<tr><th scope=row> </th><td>65       </td><td>      NA </td><td>       NA</td></tr>\n",
       "</tbody>\n",
       "</table>\n"
      ],
      "text/latex": [
       "\\begin{tabular}{r|lll}\n",
       "  & Df & F value & Pr(>F)\\\\\n",
       "\\hline\n",
       "\tgroup &  5        & 0.987329  & 0.4324101\\\\\n",
       "\t  & 65        &       NA  &        NA\\\\\n",
       "\\end{tabular}\n"
      ],
      "text/markdown": [
       "\n",
       "| <!--/--> | Df | F value | Pr(>F) |\n",
       "|---|---|---|---|\n",
       "| group |  5        | 0.987329  | 0.4324101 |\n",
       "|   | 65        |       NA  |        NA |\n",
       "\n"
      ],
      "text/plain": [
       "      Df F value  Pr(>F)   \n",
       "group  5 0.987329 0.4324101\n",
       "      65       NA        NA"
      ]
     },
     "metadata": {},
     "output_type": "display_data"
    }
   ],
   "source": [
    "# install.packages('car')\n",
    "library(car)\n",
    "leveneTest(weight ~ feed - 1, data = chickwts, center=mean)"
   ]
  },
  {
   "cell_type": "markdown",
   "id": "bibliographic-spread",
   "metadata": {},
   "source": [
    "* In the residuals vs fitted plot, the erros seem to have zero mean and constant variances. Also, from leveneTest, the p value is greater than 5% $\\alpha$ level, hence we can accept null hypothesis."
   ]
  },
  {
   "cell_type": "code",
   "execution_count": 257,
   "id": "fewer-stranger",
   "metadata": {},
   "outputs": [
    {
     "data": {
      "image/png": "[encoded data removed]",
      "text/plain": [
       "Plot with title \"\""
      ]
     },
     "metadata": {},
     "output_type": "display_data"
    }
   ],
   "source": [
    "plot(mod, 2)"
   ]
  },
  {
   "cell_type": "code",
   "execution_count": 264,
   "id": "recent-oracle",
   "metadata": {},
   "outputs": [
    {
     "data": {
      "text/plain": [
       "\n",
       "\tShapiro-Wilk normality test\n",
       "\n",
       "data:  mod$residuals\n",
       "W = 0.98616, p-value = 0.6272\n"
      ]
     },
     "metadata": {},
     "output_type": "display_data"
    }
   ],
   "source": [
    "# Shapiro-Wilk test\n",
    "shapiro.test(x = mod$residuals)"
   ]
  },
  {
   "cell_type": "markdown",
   "id": "civic-financing",
   "metadata": {},
   "source": [
    "* From the plot, as well as Shapiro-Wilk test, we can assume normality of the residuals."
   ]
  },
  {
   "cell_type": "code",
   "execution_count": 283,
   "id": "sublime-patrol",
   "metadata": {},
   "outputs": [
    {
     "data": {
      "image/png": "[encoded data removed]",
      "text/plain": [
       "Plot with title \"\""
      ]
     },
     "metadata": {},
     "output_type": "display_data"
    }
   ],
   "source": [
    "plot(mod,3)"
   ]
  },
  {
   "cell_type": "code",
   "execution_count": 284,
   "id": "secondary-logan",
   "metadata": {},
   "outputs": [
    {
     "data": {
      "image/png": "[encoded data removed]",
      "text/plain": [
       "Plot with title \"\""
      ]
     },
     "metadata": {},
     "output_type": "display_data"
    }
   ],
   "source": [
    "plot(mod, 4)"
   ]
  },
  {
   "cell_type": "markdown",
   "id": "noble-messaging",
   "metadata": {},
   "source": [
    "* The maximum cook's distance is ~0.09 which is within limits. Hence, we conclude that there are no outliers."
   ]
  },
  {
   "cell_type": "markdown",
   "id": "south-republic",
   "metadata": {},
   "source": [
    "<b>Problem 3: Use the infmort data to fit a one-way ANOVA with income as the response and\n",
    "region as the predictor.\n",
    "\n",
    "(a) Determine whether income varies with region. Perform all necessary model diagnostics.\n",
    "\n",
    "(b) In case income varies with region, determine which pairs of regions are different.\n",
    "\n",
    "(c) In case you need a transformation for the response, re-fit the model and make a comparison with the previous results."
   ]
  },
  {
   "cell_type": "code",
   "execution_count": 291,
   "id": "twenty-arthur",
   "metadata": {
    "scrolled": true
   },
   "outputs": [
    {
     "data": {
      "text/html": [
       "<table>\n",
       "<thead><tr><th></th><th scope=col>region</th><th scope=col>income</th><th scope=col>mortality</th><th scope=col>oil</th></tr></thead>\n",
       "<tbody>\n",
       "\t<tr><th scope=row>Australia          </th><td>Asia          </td><td>3426          </td><td>26.7          </td><td>no oil exports</td></tr>\n",
       "\t<tr><th scope=row>Austria            </th><td>Europe        </td><td>3350          </td><td>23.7          </td><td>no oil exports</td></tr>\n",
       "</tbody>\n",
       "</table>\n"
      ],
      "text/latex": [
       "\\begin{tabular}{r|llll}\n",
       "  & region & income & mortality & oil\\\\\n",
       "\\hline\n",
       "\tAustralia           & Asia           & 3426           & 26.7           & no oil exports\\\\\n",
       "\tAustria             & Europe         & 3350           & 23.7           & no oil exports\\\\\n",
       "\\end{tabular}\n"
      ],
      "text/markdown": [
       "\n",
       "| <!--/--> | region | income | mortality | oil |\n",
       "|---|---|---|---|---|\n",
       "| Australia           | Asia           | 3426           | 26.7           | no oil exports |\n",
       "| Austria             | Europe         | 3350           | 23.7           | no oil exports |\n",
       "\n"
      ],
      "text/plain": [
       "                    region income mortality oil           \n",
       "Australia           Asia   3426   26.7      no oil exports\n",
       "Austria             Europe 3350   23.7      no oil exports"
      ]
     },
     "metadata": {},
     "output_type": "display_data"
    },
    {
     "data": {
      "text/html": [
       "<ol class=list-inline>\n",
       "\t<li>'Africa'</li>\n",
       "\t<li>'Europe'</li>\n",
       "\t<li>'Asia'</li>\n",
       "\t<li>'Americas'</li>\n",
       "</ol>\n"
      ],
      "text/latex": [
       "\\begin{enumerate*}\n",
       "\\item 'Africa'\n",
       "\\item 'Europe'\n",
       "\\item 'Asia'\n",
       "\\item 'Americas'\n",
       "\\end{enumerate*}\n"
      ],
      "text/markdown": [
       "1. 'Africa'\n",
       "2. 'Europe'\n",
       "3. 'Asia'\n",
       "4. 'Americas'\n",
       "\n",
       "\n"
      ],
      "text/plain": [
       "[1] \"Africa\"   \"Europe\"   \"Asia\"     \"Americas\""
      ]
     },
     "metadata": {},
     "output_type": "display_data"
    }
   ],
   "source": [
    "data(infmort)\n",
    "head(infmort,2)\n",
    "levels(infmort$region)"
   ]
  },
  {
   "cell_type": "markdown",
   "id": "indonesian-consistency",
   "metadata": {},
   "source": [
    "<b>(a) Determine whether income varies with region. Perform all necessary model diagnostics."
   ]
  },
  {
   "cell_type": "code",
   "execution_count": 293,
   "id": "protected-council",
   "metadata": {},
   "outputs": [
    {
     "data": {
      "image/png": "[encoded data removed]",
      "text/plain": [
       "plot without title"
      ]
     },
     "metadata": {},
     "output_type": "display_data"
    }
   ],
   "source": [
    "options(repr.plot.width=6, repr.plot.height=3)\n",
    "ggplot(infmort, aes(x = region, y = income, fill=region)) + \n",
    "  geom_boxplot()"
   ]
  },
  {
   "cell_type": "code",
   "execution_count": 496,
   "id": "continent-complex",
   "metadata": {},
   "outputs": [
    {
     "data": {
      "text/plain": [
       "\n",
       "Call:\n",
       "lm(formula = income ~ region - 1, data = infmort)\n",
       "\n",
       "Residuals:\n",
       "    Min      1Q  Median      3Q     Max \n",
       "-2634.2  -515.9  -192.2     7.8  4583.1 \n",
       "\n",
       "Coefficients:\n",
       "               Estimate Std. Error t value Pr(>|t|)    \n",
       "regionAfrica      273.2      180.5   1.514  0.13317    \n",
       "regionEurope     3040.2      248.0  12.257  < 2e-16 ***\n",
       "regionAsia        638.9      192.1   3.325  0.00123 ** \n",
       "regionAmericas    939.9      219.4   4.283 4.21e-05 ***\n",
       "---\n",
       "Signif. codes:  0 '***' 0.001 '**' 0.01 '*' 0.05 '.' 0.1 ' ' 1\n",
       "\n",
       "Residual standard error: 1052 on 101 degrees of freedom\n",
       "Multiple R-squared:  0.643,\tAdjusted R-squared:  0.6289 \n",
       "F-statistic: 45.48 on 4 and 101 DF,  p-value: < 2.2e-16\n"
      ]
     },
     "metadata": {},
     "output_type": "display_data"
    },
    {
     "data": {
      "text/html": [
       "<table>\n",
       "<thead><tr><th></th><th scope=col>Df</th><th scope=col>Sum Sq</th><th scope=col>Mean Sq</th><th scope=col>F value</th><th scope=col>Pr(&gt;F)</th></tr></thead>\n",
       "<tbody>\n",
       "\t<tr><th scope=row>region</th><td>  4         </td><td>201473156   </td><td>50368289    </td><td>45.47927    </td><td>8.592504e-22</td></tr>\n",
       "\t<tr><th scope=row>Residuals</th><td>101         </td><td>111857493   </td><td> 1107500    </td><td>      NA    </td><td>          NA</td></tr>\n",
       "</tbody>\n",
       "</table>\n"
      ],
      "text/latex": [
       "\\begin{tabular}{r|lllll}\n",
       "  & Df & Sum Sq & Mean Sq & F value & Pr(>F)\\\\\n",
       "\\hline\n",
       "\tregion &   4          & 201473156    & 50368289     & 45.47927     & 8.592504e-22\\\\\n",
       "\tResiduals & 101          & 111857493    &  1107500     &       NA     &           NA\\\\\n",
       "\\end{tabular}\n"
      ],
      "text/markdown": [
       "\n",
       "| <!--/--> | Df | Sum Sq | Mean Sq | F value | Pr(>F) |\n",
       "|---|---|---|---|---|---|\n",
       "| region |   4          | 201473156    | 50368289     | 45.47927     | 8.592504e-22 |\n",
       "| Residuals | 101          | 111857493    |  1107500     |       NA     |           NA |\n",
       "\n"
      ],
      "text/plain": [
       "          Df  Sum Sq    Mean Sq  F value  Pr(>F)      \n",
       "region      4 201473156 50368289 45.47927 8.592504e-22\n",
       "Residuals 101 111857493  1107500       NA           NA"
      ]
     },
     "metadata": {},
     "output_type": "display_data"
    }
   ],
   "source": [
    "mod = lm(income ~ region-1, data = infmort)\n",
    "summary(mod)\n",
    "anova(mod)"
   ]
  },
  {
   "cell_type": "code",
   "execution_count": 497,
   "id": "close-regard",
   "metadata": {
    "scrolled": true
   },
   "outputs": [
    {
     "data": {
      "text/html": [
       "0.464120440014417"
      ],
      "text/latex": [
       "0.464120440014417"
      ],
      "text/markdown": [
       "0.464120440014417"
      ],
      "text/plain": [
       "[1] 0.4641204"
      ]
     },
     "metadata": {},
     "output_type": "display_data"
    }
   ],
   "source": [
    "R_squared = var(mod$fitted.values)/var(infmort$income)\n",
    "R_squared"
   ]
  },
  {
   "cell_type": "code",
   "execution_count": 498,
   "id": "casual-psychiatry",
   "metadata": {
    "scrolled": false
   },
   "outputs": [
    {
     "data": {
      "text/html": [
       "<table>\n",
       "<thead><tr><th></th><th scope=col>2.5 %</th><th scope=col>97.5 %</th></tr></thead>\n",
       "<tbody>\n",
       "\t<tr><th scope=row>regionAfrica</th><td> -84.79121</td><td> 631.2618 </td></tr>\n",
       "\t<tr><th scope=row>regionEurope</th><td>2548.16186</td><td>3532.2826 </td></tr>\n",
       "\t<tr><th scope=row>regionAsia</th><td> 257.71835</td><td>1020.0150 </td></tr>\n",
       "\t<tr><th scope=row>regionAmericas</th><td> 504.56751</td><td>1375.1716 </td></tr>\n",
       "</tbody>\n",
       "</table>\n"
      ],
      "text/latex": [
       "\\begin{tabular}{r|ll}\n",
       "  & 2.5 \\% & 97.5 \\%\\\\\n",
       "\\hline\n",
       "\tregionAfrica &  -84.79121 &  631.2618 \\\\\n",
       "\tregionEurope & 2548.16186 & 3532.2826 \\\\\n",
       "\tregionAsia &  257.71835 & 1020.0150 \\\\\n",
       "\tregionAmericas &  504.56751 & 1375.1716 \\\\\n",
       "\\end{tabular}\n"
      ],
      "text/markdown": [
       "\n",
       "| <!--/--> | 2.5 % | 97.5 % |\n",
       "|---|---|---|\n",
       "| regionAfrica |  -84.79121 |  631.2618  |\n",
       "| regionEurope | 2548.16186 | 3532.2826  |\n",
       "| regionAsia |  257.71835 | 1020.0150  |\n",
       "| regionAmericas |  504.56751 | 1375.1716  |\n",
       "\n"
      ],
      "text/plain": [
       "               2.5 %      97.5 %   \n",
       "regionAfrica    -84.79121  631.2618\n",
       "regionEurope   2548.16186 3532.2826\n",
       "regionAsia      257.71835 1020.0150\n",
       "regionAmericas  504.56751 1375.1716"
      ]
     },
     "metadata": {},
     "output_type": "display_data"
    }
   ],
   "source": [
    "confint(mod)"
   ]
  },
  {
   "cell_type": "code",
   "execution_count": 488,
   "id": "compatible-jungle",
   "metadata": {},
   "outputs": [
    {
     "data": {
      "text/plain": [
       "\n",
       "\tPairwise comparisons using t tests with pooled SD \n",
       "\n",
       "data:  infmort$income and infmort$region \n",
       "\n",
       "         Africa  Europe  Asia\n",
       "Europe   7.7e-14 -       -   \n",
       "Asia     1.00    7.2e-11 -   \n",
       "Americas 0.13    3.9e-08 1.00\n",
       "\n",
       "P value adjustment method: bonferroni "
      ]
     },
     "metadata": {},
     "output_type": "display_data"
    }
   ],
   "source": [
    "# Paiwise t-test with Bonferroni Correction\n",
    "pairwise.t.test(infmort$income,infmort$region,p.adjust.method = \"bonferroni\")"
   ]
  },
  {
   "cell_type": "code",
   "execution_count": 494,
   "id": "healthy-satin",
   "metadata": {},
   "outputs": [
    {
     "data": {
      "text/plain": [
       "           Df    Sum Sq  Mean Sq F value Pr(>F)    \n",
       "region      4 201473156 50368289   45.48 <2e-16 ***\n",
       "Residuals 101 111857493  1107500                   \n",
       "---\n",
       "Signif. codes:  0 '***' 0.001 '**' 0.01 '*' 0.05 '.' 0.1 ' ' 1"
      ]
     },
     "metadata": {},
     "output_type": "display_data"
    },
    {
     "data": {
      "text/plain": [
       "  Tukey multiple comparisons of means\n",
       "    95% family-wise confidence level\n",
       "\n",
       "Fit: aov(formula = income ~ region - 1, data = infmort)\n",
       "\n",
       "$region\n",
       "                      diff         lwr       upr     p adj\n",
       "Europe-Africa    2766.9869  1965.63247  3568.341 0.0000000\n",
       "Asia-Africa       365.6314  -323.00285  1054.266 0.5103789\n",
       "Americas-Africa   666.6343   -75.58589  1408.854 0.0945000\n",
       "Asia-Europe     -2401.3556 -3220.99422 -1581.717 0.0000000\n",
       "Americas-Europe -2100.3527 -2965.50075 -1235.205 0.0000000\n",
       "Americas-Asia     301.0029  -460.92186  1062.928 0.7311095\n"
      ]
     },
     "metadata": {},
     "output_type": "display_data"
    }
   ],
   "source": [
    "# Compute the analysis of variance\n",
    "res.aov <- aov(income ~ region-1, data = infmort)\n",
    "# Summary of the analysis\n",
    "summary(res.aov)\n",
    "TukeyHSD(res.aov)"
   ]
  },
  {
   "cell_type": "code",
   "execution_count": 493,
   "id": "developed-stable",
   "metadata": {
    "scrolled": false
   },
   "outputs": [
    {
     "data": {
      "image/png": "[encoded data removed]",
      "text/plain": [
       "Plot with title \"95% family-wise confidence level\n",
       "\""
      ]
     },
     "metadata": {},
     "output_type": "display_data"
    }
   ],
   "source": [
    "options(repr.plot.width=6, repr.plot.height=3)\n",
    "plot(TukeyHSD(res.aov), las=1, cex.axis = 0.5, col = 'blue')"
   ]
  },
  {
   "cell_type": "markdown",
   "id": "hazardous-holocaust",
   "metadata": {},
   "source": [
    "Here, we can see that Africa-Europe, Europe-Asia, Europe-Americas differ significantly."
   ]
  },
  {
   "cell_type": "code",
   "execution_count": 302,
   "id": "stuffed-garage",
   "metadata": {},
   "outputs": [
    {
     "data": {
      "image/png": "[encoded data removed]",
      "text/plain": [
       "Plot with title \"\""
      ]
     },
     "metadata": {},
     "output_type": "display_data"
    }
   ],
   "source": [
    "options(repr.plot.width=4, repr.plot.height=4)\n",
    "\n",
    "plot(mod, 1)"
   ]
  },
  {
   "cell_type": "code",
   "execution_count": 303,
   "id": "institutional-modification",
   "metadata": {},
   "outputs": [
    {
     "data": {
      "text/html": [
       "<table>\n",
       "<thead><tr><th></th><th scope=col>Df</th><th scope=col>F value</th><th scope=col>Pr(&gt;F)</th></tr></thead>\n",
       "<tbody>\n",
       "\t<tr><th scope=row>group</th><td>  3         </td><td>5.869245    </td><td>0.0009796424</td></tr>\n",
       "\t<tr><th scope=row> </th><td>101         </td><td>      NA    </td><td>          NA</td></tr>\n",
       "</tbody>\n",
       "</table>\n"
      ],
      "text/latex": [
       "\\begin{tabular}{r|lll}\n",
       "  & Df & F value & Pr(>F)\\\\\n",
       "\\hline\n",
       "\tgroup &   3          & 5.869245     & 0.0009796424\\\\\n",
       "\t  & 101          &       NA     &           NA\\\\\n",
       "\\end{tabular}\n"
      ],
      "text/markdown": [
       "\n",
       "| <!--/--> | Df | F value | Pr(>F) |\n",
       "|---|---|---|---|\n",
       "| group |   3          | 5.869245     | 0.0009796424 |\n",
       "|   | 101          |       NA     |           NA |\n",
       "\n"
      ],
      "text/plain": [
       "      Df  F value  Pr(>F)      \n",
       "group   3 5.869245 0.0009796424\n",
       "      101       NA           NA"
      ]
     },
     "metadata": {},
     "output_type": "display_data"
    }
   ],
   "source": [
    "leveneTest(income ~ region - 1, data = infmort, center=mean)"
   ]
  },
  {
   "cell_type": "markdown",
   "id": "paperback-japanese",
   "metadata": {},
   "source": [
    "* In the residuals vs fitted plot, the erros seem to have different than zero mean and non-constant variances. Also, from leveneTest, the p value is less than 5%  𝛼  level, hence we reject the null hypothesis."
   ]
  },
  {
   "cell_type": "code",
   "execution_count": 305,
   "id": "authentic-compact",
   "metadata": {},
   "outputs": [
    {
     "data": {
      "image/png": "[encoded data removed]",
      "text/plain": [
       "Plot with title \"\""
      ]
     },
     "metadata": {},
     "output_type": "display_data"
    }
   ],
   "source": [
    "plot(mod, 2)"
   ]
  },
  {
   "cell_type": "code",
   "execution_count": 304,
   "id": "responsible-nomination",
   "metadata": {},
   "outputs": [
    {
     "data": {
      "text/plain": [
       "\n",
       "\tShapiro-Wilk normality test\n",
       "\n",
       "data:  mod$residuals\n",
       "W = 0.75507, p-value = 6.061e-12\n"
      ]
     },
     "metadata": {},
     "output_type": "display_data"
    }
   ],
   "source": [
    "# Shapiro-Wilk test\n",
    "shapiro.test(x = mod$residuals)"
   ]
  },
  {
   "cell_type": "markdown",
   "id": "wound-peripheral",
   "metadata": {},
   "source": [
    "* Since p value for Shapro-Wilk test is less than 5% $\\alpha$ level, normality assumption is not met. It is clear from the normal Q-Q plot."
   ]
  },
  {
   "cell_type": "code",
   "execution_count": 306,
   "id": "restricted-arthritis",
   "metadata": {},
   "outputs": [
    {
     "data": {
      "image/png": "[encoded data removed]",
      "text/plain": [
       "Plot with title \"\""
      ]
     },
     "metadata": {},
     "output_type": "display_data"
    }
   ],
   "source": [
    "plot(mod, 3)"
   ]
  },
  {
   "cell_type": "markdown",
   "id": "reliable-karaoke",
   "metadata": {},
   "source": [
    "* From the above plot, we can see there are few data points that are far away from residuals mean."
   ]
  },
  {
   "cell_type": "code",
   "execution_count": 307,
   "id": "precious-impact",
   "metadata": {},
   "outputs": [
    {
     "data": {
      "image/png": "[encoded data removed]",
      "text/plain": [
       "Plot with title \"\""
      ]
     },
     "metadata": {},
     "output_type": "display_data"
    }
   ],
   "source": [
    "plot(mod, 4)"
   ]
  },
  {
   "cell_type": "code",
   "execution_count": 309,
   "id": "greenhouse-information",
   "metadata": {
    "scrolled": true
   },
   "outputs": [
    {
     "data": {
      "text/html": [
       "0.225321798365331"
      ],
      "text/latex": [
       "0.225321798365331"
      ],
      "text/markdown": [
       "0.225321798365331"
      ],
      "text/plain": [
       "[1] 0.2253218"
      ]
     },
     "metadata": {},
     "output_type": "display_data"
    }
   ],
   "source": [
    "max(cooks.distance(mod))"
   ]
  },
  {
   "cell_type": "markdown",
   "id": "going-royal",
   "metadata": {},
   "source": [
    "* Maximum Cook's distance is ~0.22. Hence, we conclude there are no outliers."
   ]
  },
  {
   "cell_type": "markdown",
   "id": "transsexual-tampa",
   "metadata": {},
   "source": [
    "<b>(b) In case income varies with region, determine which pairs of regions are different."
   ]
  },
  {
   "cell_type": "code",
   "execution_count": 310,
   "id": "radio-corruption",
   "metadata": {},
   "outputs": [
    {
     "data": {
      "text/html": [
       "<table>\n",
       "<thead><tr><th></th><th scope=col>2.5 %</th><th scope=col>97.5 %</th></tr></thead>\n",
       "<tbody>\n",
       "\t<tr><th scope=row>regionAfrica</th><td> -84.79121</td><td> 631.2618 </td></tr>\n",
       "\t<tr><th scope=row>regionEurope</th><td>2548.16186</td><td>3532.2826 </td></tr>\n",
       "\t<tr><th scope=row>regionAsia</th><td> 257.71835</td><td>1020.0150 </td></tr>\n",
       "\t<tr><th scope=row>regionAmericas</th><td> 504.56751</td><td>1375.1716 </td></tr>\n",
       "</tbody>\n",
       "</table>\n"
      ],
      "text/latex": [
       "\\begin{tabular}{r|ll}\n",
       "  & 2.5 \\% & 97.5 \\%\\\\\n",
       "\\hline\n",
       "\tregionAfrica &  -84.79121 &  631.2618 \\\\\n",
       "\tregionEurope & 2548.16186 & 3532.2826 \\\\\n",
       "\tregionAsia &  257.71835 & 1020.0150 \\\\\n",
       "\tregionAmericas &  504.56751 & 1375.1716 \\\\\n",
       "\\end{tabular}\n"
      ],
      "text/markdown": [
       "\n",
       "| <!--/--> | 2.5 % | 97.5 % |\n",
       "|---|---|---|\n",
       "| regionAfrica |  -84.79121 |  631.2618  |\n",
       "| regionEurope | 2548.16186 | 3532.2826  |\n",
       "| regionAsia |  257.71835 | 1020.0150  |\n",
       "| regionAmericas |  504.56751 | 1375.1716  |\n",
       "\n"
      ],
      "text/plain": [
       "               2.5 %      97.5 %   \n",
       "regionAfrica    -84.79121  631.2618\n",
       "regionEurope   2548.16186 3532.2826\n",
       "regionAsia      257.71835 1020.0150\n",
       "regionAmericas  504.56751 1375.1716"
      ]
     },
     "metadata": {},
     "output_type": "display_data"
    }
   ],
   "source": [
    "confint(mod)"
   ]
  },
  {
   "cell_type": "code",
   "execution_count": 311,
   "id": "dutch-croatia",
   "metadata": {},
   "outputs": [
    {
     "data": {
      "text/plain": [
       "\n",
       "\tPairwise comparisons using t tests with pooled SD \n",
       "\n",
       "data:  infmort$income and infmort$region \n",
       "\n",
       "         Africa  Europe  Asia\n",
       "Europe   7.7e-14 -       -   \n",
       "Asia     1.00    7.2e-11 -   \n",
       "Americas 0.13    3.9e-08 1.00\n",
       "\n",
       "P value adjustment method: bonferroni "
      ]
     },
     "metadata": {},
     "output_type": "display_data"
    }
   ],
   "source": [
    "# Paiwise t-test with Bonferroni Correction\n",
    "pairwise.t.test(infmort$income,infmort$region,p.adjust.method = \"bonferroni\")"
   ]
  },
  {
   "cell_type": "code",
   "execution_count": 312,
   "id": "satellite-staff",
   "metadata": {},
   "outputs": [
    {
     "data": {
      "text/plain": [
       "           Df    Sum Sq  Mean Sq F value Pr(>F)    \n",
       "region      4 201473156 50368289   45.48 <2e-16 ***\n",
       "Residuals 101 111857493  1107500                   \n",
       "---\n",
       "Signif. codes:  0 '***' 0.001 '**' 0.01 '*' 0.05 '.' 0.1 ' ' 1"
      ]
     },
     "metadata": {},
     "output_type": "display_data"
    },
    {
     "data": {
      "text/plain": [
       "  Tukey multiple comparisons of means\n",
       "    95% family-wise confidence level\n",
       "\n",
       "Fit: aov(formula = income ~ region - 1, data = infmort)\n",
       "\n",
       "$region\n",
       "                      diff         lwr       upr     p adj\n",
       "Europe-Africa    2766.9869  1965.63247  3568.341 0.0000000\n",
       "Asia-Africa       365.6314  -323.00285  1054.266 0.5103789\n",
       "Americas-Africa   666.6343   -75.58589  1408.854 0.0945000\n",
       "Asia-Europe     -2401.3556 -3220.99422 -1581.717 0.0000000\n",
       "Americas-Europe -2100.3527 -2965.50075 -1235.205 0.0000000\n",
       "Americas-Asia     301.0029  -460.92186  1062.928 0.7311095\n"
      ]
     },
     "metadata": {},
     "output_type": "display_data"
    }
   ],
   "source": [
    "# Compute the analysis of variance\n",
    "res.aov <- aov(income ~ region-1, data = infmort)\n",
    "# Summary of the analysis\n",
    "summary(res.aov)\n",
    "TukeyHSD(res.aov)"
   ]
  },
  {
   "cell_type": "code",
   "execution_count": 313,
   "id": "asian-karaoke",
   "metadata": {
    "scrolled": false
   },
   "outputs": [
    {
     "data": {
      "image/png": "[encoded data removed]",
      "text/plain": [
       "Plot with title \"95% family-wise confidence level\n",
       "\""
      ]
     },
     "metadata": {},
     "output_type": "display_data"
    }
   ],
   "source": [
    "options(repr.plot.width=6, repr.plot.height=3)\n",
    "plot(TukeyHSD(res.aov), las=1, cex.axis = 0.5, col = 'blue')"
   ]
  },
  {
   "cell_type": "markdown",
   "id": "intimate-deployment",
   "metadata": {},
   "source": [
    "Here, we can see that Africa-Europe, Europe-Asia, Europe-Americas differ significantly."
   ]
  },
  {
   "cell_type": "markdown",
   "id": "black-slide",
   "metadata": {},
   "source": [
    "<b>(c) In case you need a transformation for the response, re-fit the model and make a comparison with the previous results."
   ]
  },
  {
   "cell_type": "markdown",
   "id": "executive-sharp",
   "metadata": {},
   "source": [
    "* We can try log transformation"
   ]
  },
  {
   "cell_type": "code",
   "execution_count": 385,
   "id": "seeing-forwarding",
   "metadata": {},
   "outputs": [
    {
     "data": {
      "image/png": "[encoded data removed]",
      "text/plain": [
       "plot without title"
      ]
     },
     "metadata": {},
     "output_type": "display_data"
    }
   ],
   "source": [
    "options(repr.plot.width=6, repr.plot.height=3)\n",
    "ggplot(infmort, aes(x = region, y = log(income), fill=region)) + \n",
    "  geom_boxplot()"
   ]
  },
  {
   "cell_type": "code",
   "execution_count": 386,
   "id": "compact-irish",
   "metadata": {
    "scrolled": false
   },
   "outputs": [
    {
     "data": {
      "text/plain": [
       "\n",
       "Call:\n",
       "lm(formula = log(income) ~ region - 1, data = infmort)\n",
       "\n",
       "Residuals:\n",
       "     Min       1Q   Median       3Q      Max \n",
       "-1.85632 -0.68738 -0.08462  0.41350  2.92786 \n",
       "\n",
       "Coefficients:\n",
       "               Estimate Std. Error t value Pr(>|t|)    \n",
       "regionAfrica     5.0818     0.1630   31.18   <2e-16 ***\n",
       "regionEurope     7.8627     0.2240   35.10   <2e-16 ***\n",
       "regionAsia       5.6619     0.1735   32.63   <2e-16 ***\n",
       "regionAmericas   6.3404     0.1982   32.00   <2e-16 ***\n",
       "---\n",
       "Signif. codes:  0 '***' 0.001 '**' 0.01 '*' 0.05 '.' 0.1 ' ' 1\n",
       "\n",
       "Residual standard error: 0.9503 on 101 degrees of freedom\n",
       "Multiple R-squared:  0.977,\tAdjusted R-squared:  0.9761 \n",
       "F-statistic:  1073 on 4 and 101 DF,  p-value: < 2.2e-16\n"
      ]
     },
     "metadata": {},
     "output_type": "display_data"
    },
    {
     "data": {
      "text/html": [
       "<table>\n",
       "<thead><tr><th></th><th scope=col>Df</th><th scope=col>Sum Sq</th><th scope=col>Mean Sq</th><th scope=col>F value</th><th scope=col>Pr(&gt;F)</th></tr></thead>\n",
       "<tbody>\n",
       "\t<tr><th scope=row>region</th><td>  4         </td><td>3877.16635  </td><td>969.2915882 </td><td>1073.336    </td><td>8.994771e-82</td></tr>\n",
       "\t<tr><th scope=row>Residuals</th><td>101         </td><td>  91.20952  </td><td>  0.9030646 </td><td>      NA    </td><td>          NA</td></tr>\n",
       "</tbody>\n",
       "</table>\n"
      ],
      "text/latex": [
       "\\begin{tabular}{r|lllll}\n",
       "  & Df & Sum Sq & Mean Sq & F value & Pr(>F)\\\\\n",
       "\\hline\n",
       "\tregion &   4          & 3877.16635   & 969.2915882  & 1073.336     & 8.994771e-82\\\\\n",
       "\tResiduals & 101          &   91.20952   &   0.9030646  &       NA     &           NA\\\\\n",
       "\\end{tabular}\n"
      ],
      "text/markdown": [
       "\n",
       "| <!--/--> | Df | Sum Sq | Mean Sq | F value | Pr(>F) |\n",
       "|---|---|---|---|---|---|\n",
       "| region |   4          | 3877.16635   | 969.2915882  | 1073.336     | 8.994771e-82 |\n",
       "| Residuals | 101          |   91.20952   |   0.9030646  |       NA     |           NA |\n",
       "\n"
      ],
      "text/plain": [
       "          Df  Sum Sq     Mean Sq     F value  Pr(>F)      \n",
       "region      4 3877.16635 969.2915882 1073.336 8.994771e-82\n",
       "Residuals 101   91.20952   0.9030646       NA           NA"
      ]
     },
     "metadata": {},
     "output_type": "display_data"
    }
   ],
   "source": [
    "mod = lm(log(income) ~ region-1, data = infmort)\n",
    "summary(mod)\n",
    "anova(mod)"
   ]
  },
  {
   "cell_type": "code",
   "execution_count": 387,
   "id": "wooden-injury",
   "metadata": {
    "scrolled": true
   },
   "outputs": [
    {
     "data": {
      "text/html": [
       "0.515925905112566"
      ],
      "text/latex": [
       "0.515925905112566"
      ],
      "text/markdown": [
       "0.515925905112566"
      ],
      "text/plain": [
       "[1] 0.5159259"
      ]
     },
     "metadata": {},
     "output_type": "display_data"
    }
   ],
   "source": [
    "R_squared = var(mod$fitted.values)/var(log(infmort$income))\n",
    "R_squared"
   ]
  },
  {
   "cell_type": "code",
   "execution_count": 388,
   "id": "registered-chuck",
   "metadata": {
    "scrolled": false
   },
   "outputs": [
    {
     "data": {
      "text/html": [
       "<table>\n",
       "<thead><tr><th></th><th scope=col>2.5 %</th><th scope=col>97.5 %</th></tr></thead>\n",
       "<tbody>\n",
       "\t<tr><th scope=row>regionAfrica</th><td>4.758536</td><td>5.405132</td></tr>\n",
       "\t<tr><th scope=row>regionEurope</th><td>7.418343</td><td>8.307003</td></tr>\n",
       "\t<tr><th scope=row>regionAsia</th><td>5.317673</td><td>6.006027</td></tr>\n",
       "\t<tr><th scope=row>regionAmericas</th><td>5.947370</td><td>6.733526</td></tr>\n",
       "</tbody>\n",
       "</table>\n"
      ],
      "text/latex": [
       "\\begin{tabular}{r|ll}\n",
       "  & 2.5 \\% & 97.5 \\%\\\\\n",
       "\\hline\n",
       "\tregionAfrica & 4.758536 & 5.405132\\\\\n",
       "\tregionEurope & 7.418343 & 8.307003\\\\\n",
       "\tregionAsia & 5.317673 & 6.006027\\\\\n",
       "\tregionAmericas & 5.947370 & 6.733526\\\\\n",
       "\\end{tabular}\n"
      ],
      "text/markdown": [
       "\n",
       "| <!--/--> | 2.5 % | 97.5 % |\n",
       "|---|---|---|\n",
       "| regionAfrica | 4.758536 | 5.405132 |\n",
       "| regionEurope | 7.418343 | 8.307003 |\n",
       "| regionAsia | 5.317673 | 6.006027 |\n",
       "| regionAmericas | 5.947370 | 6.733526 |\n",
       "\n"
      ],
      "text/plain": [
       "               2.5 %    97.5 %  \n",
       "regionAfrica   4.758536 5.405132\n",
       "regionEurope   7.418343 8.307003\n",
       "regionAsia     5.317673 6.006027\n",
       "regionAmericas 5.947370 6.733526"
      ]
     },
     "metadata": {},
     "output_type": "display_data"
    }
   ],
   "source": [
    "confint(mod)"
   ]
  },
  {
   "cell_type": "code",
   "execution_count": 389,
   "id": "supported-bradford",
   "metadata": {},
   "outputs": [
    {
     "data": {
      "text/plain": [
       "\n",
       "\tPairwise comparisons using t tests with pooled SD \n",
       "\n",
       "data:  log(infmort$income) and infmort$region \n",
       "\n",
       "         Africa  Europe  Asia \n",
       "Europe   4.4e-16 -       -    \n",
       "Asia     0.099   4.1e-11 -    \n",
       "Americas 2.1e-05 1.0e-05 0.069\n",
       "\n",
       "P value adjustment method: bonferroni "
      ]
     },
     "metadata": {},
     "output_type": "display_data"
    }
   ],
   "source": [
    "# Paiwise t-test with Bonferroni Correction\n",
    "pairwise.t.test(log(infmort$income),infmort$region,p.adjust.method = \"bonferroni\")"
   ]
  },
  {
   "cell_type": "code",
   "execution_count": 390,
   "id": "parental-michael",
   "metadata": {},
   "outputs": [
    {
     "data": {
      "text/plain": [
       "           Df Sum Sq Mean Sq F value Pr(>F)    \n",
       "region      4   3877   969.3    1073 <2e-16 ***\n",
       "Residuals 101     91     0.9                   \n",
       "---\n",
       "Signif. codes:  0 '***' 0.001 '**' 0.01 '*' 0.05 '.' 0.1 ' ' 1"
      ]
     },
     "metadata": {},
     "output_type": "display_data"
    },
    {
     "data": {
      "text/plain": [
       "  Tukey multiple comparisons of means\n",
       "    95% family-wise confidence level\n",
       "\n",
       "Fit: aov(formula = log(income) ~ region - 1, data = infmort)\n",
       "\n",
       "$region\n",
       "                      diff          lwr        upr     p adj\n",
       "Europe-Africa    2.7808389  2.057216174  3.5044617 0.0000000\n",
       "Asia-Africa      0.5800160 -0.041820426  1.2018524 0.0767083\n",
       "Americas-Africa  1.2586139  0.588389434  1.9288384 0.0000210\n",
       "Asia-Europe     -2.2008229 -2.940956307 -1.4606896 0.0000000\n",
       "Americas-Europe -1.5222250 -2.303453357 -0.7409966 0.0000098\n",
       "Americas-Asia    0.6785979 -0.009419797  1.3666157 0.0546802\n"
      ]
     },
     "metadata": {},
     "output_type": "display_data"
    }
   ],
   "source": [
    "# Compute the analysis of variance\n",
    "res.aov <- aov(log(income) ~ region-1, data = infmort)\n",
    "# Summary of the analysis\n",
    "summary(res.aov)\n",
    "TukeyHSD(res.aov)"
   ]
  },
  {
   "cell_type": "code",
   "execution_count": 391,
   "id": "simplified-static",
   "metadata": {
    "scrolled": false
   },
   "outputs": [
    {
     "data": {
      "image/png": "[encoded data removed]",
      "text/plain": [
       "Plot with title \"95% family-wise confidence level\n",
       "\""
      ]
     },
     "metadata": {},
     "output_type": "display_data"
    }
   ],
   "source": [
    "options(repr.plot.width=6, repr.plot.height=3)\n",
    "plot(TukeyHSD(res.aov), las=1, cex.axis = 0.5, col = 'blue')"
   ]
  },
  {
   "cell_type": "markdown",
   "id": "later-adams",
   "metadata": {},
   "source": [
    "Here, we can see that Africa-Europe, Europe-Asia, Europe-Americas, and Americas-Africa differ significantly. Asia-Africa and Americas-Asia have p-value close to 5% $\\alpha$ level."
   ]
  },
  {
   "cell_type": "code",
   "execution_count": 392,
   "id": "photographic-resident",
   "metadata": {},
   "outputs": [
    {
     "data": {
      "image/png": "[encoded data removed]",
      "text/plain": [
       "Plot with title \"\""
      ]
     },
     "metadata": {},
     "output_type": "display_data"
    }
   ],
   "source": [
    "options(repr.plot.width=4, repr.plot.height=4)\n",
    "\n",
    "plot(mod, 1)"
   ]
  },
  {
   "cell_type": "code",
   "execution_count": 393,
   "id": "included-honey",
   "metadata": {},
   "outputs": [
    {
     "data": {
      "text/html": [
       "<table>\n",
       "<thead><tr><th></th><th scope=col>Df</th><th scope=col>F value</th><th scope=col>Pr(&gt;F)</th></tr></thead>\n",
       "<tbody>\n",
       "\t<tr><th scope=row>group</th><td>  3       </td><td>3.32169   </td><td>0.02280456</td></tr>\n",
       "\t<tr><th scope=row> </th><td>101       </td><td>     NA   </td><td>        NA</td></tr>\n",
       "</tbody>\n",
       "</table>\n"
      ],
      "text/latex": [
       "\\begin{tabular}{r|lll}\n",
       "  & Df & F value & Pr(>F)\\\\\n",
       "\\hline\n",
       "\tgroup &   3        & 3.32169    & 0.02280456\\\\\n",
       "\t  & 101        &      NA    &         NA\\\\\n",
       "\\end{tabular}\n"
      ],
      "text/markdown": [
       "\n",
       "| <!--/--> | Df | F value | Pr(>F) |\n",
       "|---|---|---|---|\n",
       "| group |   3        | 3.32169    | 0.02280456 |\n",
       "|   | 101        |      NA    |         NA |\n",
       "\n"
      ],
      "text/plain": [
       "      Df  F value Pr(>F)    \n",
       "group   3 3.32169 0.02280456\n",
       "      101      NA         NA"
      ]
     },
     "metadata": {},
     "output_type": "display_data"
    }
   ],
   "source": [
    "leveneTest(log(income) ~ region - 1, data = infmort, center=mean)"
   ]
  },
  {
   "cell_type": "markdown",
   "id": "delayed-binding",
   "metadata": {},
   "source": [
    "* In the residuals vs fitted plot, the erros seem to have different than zero mean and non-constant variances. Also, from leveneTest, the p value is less than 5%  𝛼  level, hence we reject the null hypothesis."
   ]
  },
  {
   "cell_type": "code",
   "execution_count": 394,
   "id": "abroad-medicare",
   "metadata": {},
   "outputs": [
    {
     "data": {
      "image/png": "[encoded data removed]",
      "text/plain": [
       "Plot with title \"\""
      ]
     },
     "metadata": {},
     "output_type": "display_data"
    }
   ],
   "source": [
    "plot(mod, 2)"
   ]
  },
  {
   "cell_type": "code",
   "execution_count": 395,
   "id": "printable-virgin",
   "metadata": {},
   "outputs": [
    {
     "data": {
      "text/plain": [
       "\n",
       "\tShapiro-Wilk normality test\n",
       "\n",
       "data:  mod$residuals\n",
       "W = 0.94863, p-value = 0.0004753\n"
      ]
     },
     "metadata": {},
     "output_type": "display_data"
    }
   ],
   "source": [
    "# Shapiro-Wilk test\n",
    "shapiro.test(x = mod$residuals)"
   ]
  },
  {
   "cell_type": "markdown",
   "id": "statewide-involvement",
   "metadata": {},
   "source": [
    "* Since p value for Shapro-Wilk test is less than 5% $\\alpha$ level, normality assumption is not met. It is clear from the normal Q-Q plot."
   ]
  },
  {
   "cell_type": "code",
   "execution_count": 396,
   "id": "strange-confusion",
   "metadata": {},
   "outputs": [
    {
     "data": {
      "image/png": "[encoded data removed]",
      "text/plain": [
       "Plot with title \"\""
      ]
     },
     "metadata": {},
     "output_type": "display_data"
    }
   ],
   "source": [
    "plot(mod, 3)"
   ]
  },
  {
   "cell_type": "markdown",
   "id": "located-result",
   "metadata": {},
   "source": [
    "* From the above plot, we can see there are few data points that are far away from residuals mean."
   ]
  },
  {
   "cell_type": "code",
   "execution_count": 397,
   "id": "integral-spoke",
   "metadata": {},
   "outputs": [
    {
     "data": {
      "image/png": "[encoded data removed]",
      "text/plain": [
       "Plot with title \"\""
      ]
     },
     "metadata": {},
     "output_type": "display_data"
    }
   ],
   "source": [
    "plot(mod, 4)"
   ]
  },
  {
   "cell_type": "code",
   "execution_count": 398,
   "id": "accessible-eating",
   "metadata": {
    "scrolled": true
   },
   "outputs": [
    {
     "data": {
      "text/html": [
       "0.074092327884585"
      ],
      "text/latex": [
       "0.074092327884585"
      ],
      "text/markdown": [
       "0.074092327884585"
      ],
      "text/plain": [
       "[1] 0.07409233"
      ]
     },
     "metadata": {},
     "output_type": "display_data"
    }
   ],
   "source": [
    "max(cooks.distance(mod))"
   ]
  },
  {
   "cell_type": "markdown",
   "id": "continental-facing",
   "metadata": {},
   "source": [
    "* Maximum Cook's distance is ~0.07. Hence, we conclude there are no outliers."
   ]
  },
  {
   "cell_type": "markdown",
   "id": "endangered-acquisition",
   "metadata": {},
   "source": [
    "* After transforming income with log, we can see distinction between few more region was more clear."
   ]
  },
  {
   "cell_type": "code",
   "execution_count": null,
   "id": "accepting-locking",
   "metadata": {},
   "outputs": [],
   "source": []
  }
 ],
 "metadata": {
  "kernelspec": {
   "display_name": "R",
   "language": "R",
   "name": "ir"
  },
  "language_info": {
   "codemirror_mode": "r",
   "file_extension": ".r",
   "mimetype": "text/x-r-source",
   "name": "R",
   "pygments_lexer": "r",
   "version": "3.6.1"
  }
 },
 "nbformat": 4,
 "nbformat_minor": 5
}
